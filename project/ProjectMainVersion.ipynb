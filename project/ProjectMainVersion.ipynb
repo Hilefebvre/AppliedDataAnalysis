{
 "cells": [
  {
   "cell_type": "markdown",
   "metadata": {},
   "source": [
    "**Pre-processing goals:**<br>\n",
    "In the second part of the project we aimed to familiarize with our dataset and explore its possibilities in order to decide what trends we want to extract out of it. As mentioned before, we first take into account the archives of both the Gazette de Lausanne (GDL) and the Journal de Genève (JDG) during the XXth century. It restricts our dataset to a 100 years for both our journals. Now, we want to study the evolution of environnemental causes interests in the public space. Therefore, we are in a first part going to estimate this evolution and the eventual rises in society awareness on the topics related to these causes. "
   ]
  },
  {
   "cell_type": "markdown",
   "metadata": {},
   "source": [
    "**Pre-processing pipeline (Part 1):**<br>\n",
    "We wanted to set up a basic pipeline in order to get a better view of what our dataset can offer and decide afterwards in which directions we could go on with our work. The below detailed pipeline is exectued for each journal separately.\n",
    "- First, we extract all the archives from the XXth century of both our journals. Theses archives are xml files. We are therefore going to use the Beautiful Soup html parser to get a sense of what it contains. \n",
    "- From our own exploration of the dataset, we saw that all the articles had the following tags coming along: \"name\" to charaterize the name of the article and \"issue_date\" to indicate the date when the article was released in the journal. Thus, we are again going to use Beautiful Soup methods. Here, \"find_all\" will help us retrieve all the content of the previously mentioned tags that matter to our analysis. \n",
    "- Once that their content is retrieved we use the text attribute to put the names and issue dates of all articles in two separate lists. Each list is the size of the number of articles archived during the XXth century.\n",
    "- After that we can verify that the articles and issue dates lists are of same length and it is indeed the case for both journals."
   ]
  },
  {
   "cell_type": "markdown",
   "metadata": {},
   "source": [
    "Paths to the data of both journals"
   ]
  },
  {
   "cell_type": "code",
   "execution_count": 1,
   "metadata": {},
   "outputs": [],
   "source": [
    "ADA_DIR = \"/Users/mathildeguillaumot/Documents/EPFL/ADA/myproject1v2\"\n",
    "DATA_FOLDER = ADA_DIR + \"/data\"\n",
    "DATA_FOLDER_GDL = DATA_FOLDER + \"/GDL/\"\n",
    "DATA_FOLDER_JDG = DATA_FOLDER + \"/JDG/\"\n",
    "PICKLE_DATA_FOLDER = ADA_DIR + \"/pickle_data/\"\n",
    "ARTICLES_FOLDER = PICKLE_DATA_FOLDER + \"articles/\""
   ]
  },
  {
   "cell_type": "code",
   "execution_count": 2,
   "metadata": {},
   "outputs": [],
   "source": [
    "# imports\n",
    "import pandas as pd\n",
    "import numpy as np\n",
    "import os\n",
    "from collections import defaultdict\n",
    "import requests\n",
    "from bs4 import BeautifulSoup\n",
    "import matplotlib.pyplot as plt\n",
    "import pylab\n",
    "%matplotlib inline\n",
    "\n",
    "import pickle"
   ]
  },
  {
   "cell_type": "markdown",
   "metadata": {},
   "source": [
    "Retrieving of all folders of both journals"
   ]
  },
  {
   "cell_type": "code",
   "execution_count": 3,
   "metadata": {},
   "outputs": [],
   "source": [
    "listing_gdl = os.listdir(DATA_FOLDER_GDL)\n",
    "\n",
    "listing_jdg = os.listdir(DATA_FOLDER_JDG)"
   ]
  },
  {
   "cell_type": "markdown",
   "metadata": {},
   "source": [
    "Here, we get rid of the 17th and 18th centuries folders as well as of hidden folders"
   ]
  },
  {
   "cell_type": "code",
   "execution_count": 4,
   "metadata": {},
   "outputs": [],
   "source": [
    "prefixes = ('17', '18','.')\n",
    "for dir_ in listing_gdl[:]:\n",
    "    if dir_.startswith(prefixes):\n",
    "        listing_gdl.remove(dir_)\n",
    "        \n",
    "for dir_ in listing_jdg[:]:\n",
    "    if dir_.startswith(prefixes):\n",
    "        listing_jdg.remove(dir_)"
   ]
  },
  {
   "cell_type": "markdown",
   "metadata": {},
   "source": [
    "Retrieve articles' titles and issue dates from pickle"
   ]
  },
  {
   "cell_type": "code",
   "execution_count": 5,
   "metadata": {},
   "outputs": [],
   "source": [
    "gdl_articles_titles_filename = PICKLE_DATA_FOLDER+\"gdl_articles_titles\"\n",
    "obj = open(gdl_articles_titles_filename, 'rb')\n",
    "articles_names_gdl = pickle.load(obj)"
   ]
  },
  {
   "cell_type": "code",
   "execution_count": 6,
   "metadata": {},
   "outputs": [],
   "source": [
    "jdg_articles_titles_filename = PICKLE_DATA_FOLDER+\"jdg_articles_titles\"\n",
    "obj = open(jdg_articles_titles_filename, 'rb')\n",
    "articles_names_jdg = pickle.load(obj)"
   ]
  },
  {
   "cell_type": "code",
   "execution_count": 7,
   "metadata": {},
   "outputs": [],
   "source": [
    "gdl_issue_dates_filename = PICKLE_DATA_FOLDER+\"gdl_issue_dates\"\n",
    "obj = open(gdl_issue_dates_filename, 'rb')\n",
    "dates_gdl = pickle.load(obj)"
   ]
  },
  {
   "cell_type": "code",
   "execution_count": 8,
   "metadata": {},
   "outputs": [],
   "source": [
    "jdg_issue_dates_filename = PICKLE_DATA_FOLDER+\"jdg_issue_dates\"\n",
    "obj = open(jdg_issue_dates_filename, 'rb')\n",
    "dates_jdg = pickle.load(obj)"
   ]
  },
  {
   "cell_type": "markdown",
   "metadata": {},
   "source": [
    "Here is the code used to retrieve the articles' titles list and relative issue dates from the GDL before dumping them into pickle files: \n",
    "\n",
    "    articles_names_gdl = []\n",
    "    dates_gdl = []\n",
    "\n",
    "    for infile_gdl in listing_gdl : \n",
    "        sublisting_gdl = os.listdir(DATA_FOLDER_GDL+infile_gdl)\n",
    "        for insubfile_gdl in sublisting_gdl:\n",
    "            display(infile_gdl+'/'+insubfile_gdl);\n",
    "            file = open(DATA_FOLDER_GDL+infile_gdl+'/'+insubfile_gdl)\n",
    "            page = file.read()\n",
    "\n",
    "            soup = BeautifulSoup(page, 'html.parser')\n",
    "            all_articles_name_gdl = soup.find_all('name')\n",
    "            all_articles_date_gdl = soup.find_all('issue_date')\n",
    "            for i in range(len(all_articles_date_gdl)):\n",
    "                articles_names_gdl.append(all_articles_name_gdl[i].text)\n",
    "                dates_gdl.append(all_articles_date_gdl[i].text)\n",
    "                \n",
    "Same code was used to retrieve issue dates and articles' titles from the JDG."
   ]
  },
  {
   "cell_type": "code",
   "execution_count": 9,
   "metadata": {
    "scrolled": false
   },
   "outputs": [
    {
     "name": "stdout",
     "output_type": "stream",
     "text": [
      "nb of articles (GDL):  2184812 \n",
      " nb of articles (JDG):  2912098\n"
     ]
    }
   ],
   "source": [
    "print('nb of articles (GDL): ', len(articles_names_gdl), '\\n', 'nb of articles (JDG): ', len(articles_names_jdg))"
   ]
  },
  {
   "cell_type": "code",
   "execution_count": 10,
   "metadata": {},
   "outputs": [
    {
     "name": "stdout",
     "output_type": "stream",
     "text": [
      "nb of dates (GDL):  2184812 \n",
      " nb of dates (JDG):  2912098\n"
     ]
    }
   ],
   "source": [
    "print('nb of dates (GDL): ', len(dates_gdl), '\\n', 'nb of dates (JDG): ', len(dates_jdg))"
   ]
  },
  {
   "cell_type": "markdown",
   "metadata": {},
   "source": [
    "**Pre-processing pipeline (Part 2):**<br>\n",
    "Now that the first part of our analysis is done we want to learn information about the extracted data. \n",
    "- To begin, we are putting each list into a pandas series.\n",
    "- After that, we want to relate issue dates and the title of their related article. So we create 2 dataframes (one for each journal) with two columns: Issue dates and articles names.\n",
    "- The format of the issue dates is propice to convert the related column into the datetime format.\n",
    "\n",
    "And now we are going to proceed with our analysis."
   ]
  },
  {
   "cell_type": "markdown",
   "metadata": {},
   "source": [
    "Retrieving dataframes with issue dates and articles names columns from pickle"
   ]
  },
  {
   "cell_type": "code",
   "execution_count": 11,
   "metadata": {},
   "outputs": [],
   "source": [
    "df_jdg = pd.read_pickle(PICKLE_DATA_FOLDER+'df_jdg')\n",
    "df_gdl = pd.read_pickle(PICKLE_DATA_FOLDER+'df_gdl')"
   ]
  },
  {
   "cell_type": "markdown",
   "metadata": {},
   "source": [
    "Here is the code used to create these dataframes before dumping them into pickle files:\n",
    "\n",
    "    s_articles_gdl = pd.Series( (v for v in articles_names_gdl) )\n",
    "    s_dates_gdl = pd.Series( (v for v in dates_gdl) )\n",
    "\n",
    "    s_articles_jdg = pd.Series( (v for v in articles_names_jdg) )\n",
    "    s_dates_jdg = pd.Series( (v for v in dates_jdg) )\n",
    "\n",
    "    df_gdl = pd.DataFrame(s_dates_gdl, columns=['Issue Dates (GDL)'])\n",
    "    df_gdl['Articles Names (GDL)'] = s_articles_gdl\n",
    "\n",
    "    df_jdg = pd.DataFrame(s_dates_jdg, columns=['Issue Dates (JDG)'])\n",
    "    df_jdg['Articles Names (JDG)'] = s_articles_jdg"
   ]
  },
  {
   "cell_type": "code",
   "execution_count": 12,
   "metadata": {},
   "outputs": [
    {
     "data": {
      "text/html": [
       "<div>\n",
       "<style>\n",
       "    .dataframe thead tr:only-child th {\n",
       "        text-align: right;\n",
       "    }\n",
       "\n",
       "    .dataframe thead th {\n",
       "        text-align: left;\n",
       "    }\n",
       "\n",
       "    .dataframe tbody tr th {\n",
       "        vertical-align: top;\n",
       "    }\n",
       "</style>\n",
       "<table border=\"1\" class=\"dataframe\">\n",
       "  <thead>\n",
       "    <tr style=\"text-align: right;\">\n",
       "      <th></th>\n",
       "      <th>Issue Dates (JDG)</th>\n",
       "      <th>Articles Names (JDG)</th>\n",
       "    </tr>\n",
       "  </thead>\n",
       "  <tbody>\n",
       "    <tr>\n",
       "      <th>0</th>\n",
       "      <td>1900-01-01</td>\n",
       "      <td>1&amp;99</td>\n",
       "    </tr>\n",
       "    <tr>\n",
       "      <th>1</th>\n",
       "      <td>1900-01-01</td>\n",
       "      <td>1&amp;99</td>\n",
       "    </tr>\n",
       "    <tr>\n",
       "      <th>2</th>\n",
       "      <td>1900-01-01</td>\n",
       "      <td>Untitled Article</td>\n",
       "    </tr>\n",
       "    <tr>\n",
       "      <th>3</th>\n",
       "      <td>1900-01-01</td>\n",
       "      <td>une fois le cercueil de l'ancien président ren...</td>\n",
       "    </tr>\n",
       "    <tr>\n",
       "      <th>4</th>\n",
       "      <td>1900-01-01</td>\n",
       "      <td>Untitled Article</td>\n",
       "    </tr>\n",
       "  </tbody>\n",
       "</table>\n",
       "</div>"
      ],
      "text/plain": [
       "  Issue Dates (JDG)                               Articles Names (JDG)\n",
       "0        1900-01-01                                               1&99\n",
       "1        1900-01-01                                               1&99\n",
       "2        1900-01-01                                   Untitled Article\n",
       "3        1900-01-01  une fois le cercueil de l'ancien président ren...\n",
       "4        1900-01-01                                   Untitled Article"
      ]
     },
     "execution_count": 12,
     "metadata": {},
     "output_type": "execute_result"
    }
   ],
   "source": [
    "df_jdg.head()"
   ]
  },
  {
   "cell_type": "code",
   "execution_count": 13,
   "metadata": {},
   "outputs": [
    {
     "data": {
      "text/html": [
       "<div>\n",
       "<style>\n",
       "    .dataframe thead tr:only-child th {\n",
       "        text-align: right;\n",
       "    }\n",
       "\n",
       "    .dataframe thead th {\n",
       "        text-align: left;\n",
       "    }\n",
       "\n",
       "    .dataframe tbody tr th {\n",
       "        vertical-align: top;\n",
       "    }\n",
       "</style>\n",
       "<table border=\"1\" class=\"dataframe\">\n",
       "  <thead>\n",
       "    <tr style=\"text-align: right;\">\n",
       "      <th></th>\n",
       "      <th>Issue Dates (GDL)</th>\n",
       "      <th>Articles Names (GDL)</th>\n",
       "    </tr>\n",
       "  </thead>\n",
       "  <tbody>\n",
       "    <tr>\n",
       "      <th>0</th>\n",
       "      <td>1900-01-02</td>\n",
       "      <td>Lausanne,2janvier1900. Regards en arrière</td>\n",
       "    </tr>\n",
       "    <tr>\n",
       "      <th>1</th>\n",
       "      <td>1900-01-02</td>\n",
       "      <td>LES JUSTES</td>\n",
       "    </tr>\n",
       "    <tr>\n",
       "      <th>2</th>\n",
       "      <td>1900-01-02</td>\n",
       "      <td>A propos du colonel Lecomte.</td>\n",
       "    </tr>\n",
       "    <tr>\n",
       "      <th>3</th>\n",
       "      <td>1900-01-02</td>\n",
       "      <td>LETTRE DE PARIS</td>\n",
       "    </tr>\n",
       "    <tr>\n",
       "      <th>4</th>\n",
       "      <td>1900-01-02</td>\n",
       "      <td>Untitled Article</td>\n",
       "    </tr>\n",
       "  </tbody>\n",
       "</table>\n",
       "</div>"
      ],
      "text/plain": [
       "  Issue Dates (GDL)                       Articles Names (GDL)\n",
       "0        1900-01-02  Lausanne,2janvier1900. Regards en arrière\n",
       "1        1900-01-02                                 LES JUSTES\n",
       "2        1900-01-02               A propos du colonel Lecomte.\n",
       "3        1900-01-02                            LETTRE DE PARIS\n",
       "4        1900-01-02                           Untitled Article"
      ]
     },
     "execution_count": 13,
     "metadata": {},
     "output_type": "execute_result"
    }
   ],
   "source": [
    "df_gdl.head()"
   ]
  },
  {
   "cell_type": "markdown",
   "metadata": {},
   "source": [
    "**Handling of untitled articles**\n",
    "- How many untitled articles over total per issue year date are there over time?"
   ]
  },
  {
   "cell_type": "code",
   "execution_count": 14,
   "metadata": {},
   "outputs": [],
   "source": [
    "#jdg \n",
    "df_jdg_untitled_articles = df_jdg[df_jdg['Articles Names (JDG)'].str.contains(\"Untitled Article\")]"
   ]
  },
  {
   "cell_type": "code",
   "execution_count": 15,
   "metadata": {},
   "outputs": [
    {
     "data": {
      "text/plain": [
       "947051"
      ]
     },
     "execution_count": 15,
     "metadata": {},
     "output_type": "execute_result"
    }
   ],
   "source": [
    "len(df_jdg_untitled_articles)"
   ]
  },
  {
   "cell_type": "markdown",
   "metadata": {},
   "source": [
    "Count # of untitled articles per year"
   ]
  },
  {
   "cell_type": "code",
   "execution_count": 16,
   "metadata": {},
   "outputs": [],
   "source": [
    "df_jdg_untitled_articles_counts = df_jdg_untitled_articles['Issue Dates (JDG)'].dt.year.value_counts().sort_index()"
   ]
  },
  {
   "cell_type": "code",
   "execution_count": 17,
   "metadata": {},
   "outputs": [
    {
     "data": {
      "text/plain": [
       "1900    11542\n",
       "1901     9839\n",
       "1902     9724\n",
       "1903     9064\n",
       "1904     9373\n",
       "Name: Issue Dates (JDG), dtype: int64"
      ]
     },
     "execution_count": 17,
     "metadata": {},
     "output_type": "execute_result"
    }
   ],
   "source": [
    "df_jdg_untitled_articles_counts.head()"
   ]
  },
  {
   "cell_type": "markdown",
   "metadata": {},
   "source": [
    "Calculate rate of untitled articles over total per issuing year date "
   ]
  },
  {
   "cell_type": "code",
   "execution_count": 18,
   "metadata": {},
   "outputs": [],
   "source": [
    "df_jdg_untitled_articles_rates = df_jdg_untitled_articles_counts / df_jdg['Issue Dates (JDG)'].dt.year.value_counts()"
   ]
  },
  {
   "cell_type": "code",
   "execution_count": 19,
   "metadata": {},
   "outputs": [
    {
     "data": {
      "image/png": "[encoded data removed]",
      "text/plain": [
       "<matplotlib.figure.Figure at 0x15a354438>"
      ]
     },
     "metadata": {},
     "output_type": "display_data"
    }
   ],
   "source": [
    "fig = plt.figure(figsize=(10, 10))\n",
    "df_jdg_untitled_articles_rates.plot()\n",
    "plt.title('Rate of untitled articles in the JDG in regard of issuing year date')\n",
    "plt.xlabel('Issue year date of the untitled articles')\n",
    "plt.ylabel('Rate of untitled articles')\n",
    "pylab.savefig('UA_overTotal_jdg.png')"
   ]
  },
  {
   "cell_type": "markdown",
   "metadata": {},
   "source": [
    "For the JDG, most of the untitled articles go back to the first decades of the 20th century from 1900 to 1920. The rates decrease consideratly afterwards. "
   ]
  },
  {
   "cell_type": "code",
   "execution_count": 20,
   "metadata": {},
   "outputs": [],
   "source": [
    "#gdl\n",
    "df_gdl_untitled_articles = df_gdl[df_gdl['Articles Names (GDL)'].str.contains(\"Untitled Article\")]"
   ]
  },
  {
   "cell_type": "code",
   "execution_count": 21,
   "metadata": {
    "scrolled": true
   },
   "outputs": [
    {
     "data": {
      "text/plain": [
       "636655"
      ]
     },
     "execution_count": 21,
     "metadata": {},
     "output_type": "execute_result"
    }
   ],
   "source": [
    "len(df_gdl_untitled_articles)"
   ]
  },
  {
   "cell_type": "code",
   "execution_count": 22,
   "metadata": {},
   "outputs": [
    {
     "data": {
      "text/html": [
       "<div>\n",
       "<style>\n",
       "    .dataframe thead tr:only-child th {\n",
       "        text-align: right;\n",
       "    }\n",
       "\n",
       "    .dataframe thead th {\n",
       "        text-align: left;\n",
       "    }\n",
       "\n",
       "    .dataframe tbody tr th {\n",
       "        vertical-align: top;\n",
       "    }\n",
       "</style>\n",
       "<table border=\"1\" class=\"dataframe\">\n",
       "  <thead>\n",
       "    <tr style=\"text-align: right;\">\n",
       "      <th></th>\n",
       "      <th>Issue Dates (GDL)</th>\n",
       "      <th>Articles Names (GDL)</th>\n",
       "    </tr>\n",
       "  </thead>\n",
       "  <tbody>\n",
       "    <tr>\n",
       "      <th>4</th>\n",
       "      <td>1900-01-02</td>\n",
       "      <td>Untitled Article</td>\n",
       "    </tr>\n",
       "    <tr>\n",
       "      <th>5</th>\n",
       "      <td>1900-01-02</td>\n",
       "      <td>Untitled Article</td>\n",
       "    </tr>\n",
       "    <tr>\n",
       "      <th>6</th>\n",
       "      <td>1900-01-02</td>\n",
       "      <td>Untitled Article</td>\n",
       "    </tr>\n",
       "    <tr>\n",
       "      <th>7</th>\n",
       "      <td>1900-01-02</td>\n",
       "      <td>Untitled Article</td>\n",
       "    </tr>\n",
       "    <tr>\n",
       "      <th>8</th>\n",
       "      <td>1900-01-02</td>\n",
       "      <td>Untitled Article</td>\n",
       "    </tr>\n",
       "  </tbody>\n",
       "</table>\n",
       "</div>"
      ],
      "text/plain": [
       "  Issue Dates (GDL) Articles Names (GDL)\n",
       "4        1900-01-02     Untitled Article\n",
       "5        1900-01-02     Untitled Article\n",
       "6        1900-01-02     Untitled Article\n",
       "7        1900-01-02     Untitled Article\n",
       "8        1900-01-02     Untitled Article"
      ]
     },
     "execution_count": 22,
     "metadata": {},
     "output_type": "execute_result"
    }
   ],
   "source": [
    "df_gdl_untitled_articles.head()"
   ]
  },
  {
   "cell_type": "markdown",
   "metadata": {},
   "source": [
    "Count # of untitled articles per issue year"
   ]
  },
  {
   "cell_type": "code",
   "execution_count": 23,
   "metadata": {},
   "outputs": [],
   "source": [
    "df_gdl_untitled_articles_counts = df_gdl_untitled_articles['Issue Dates (GDL)'].dt.year.value_counts().sort_index()"
   ]
  },
  {
   "cell_type": "code",
   "execution_count": 24,
   "metadata": {},
   "outputs": [
    {
     "data": {
      "text/plain": [
       "1994    18396\n",
       "1995    16215\n",
       "1996    24441\n",
       "1997    14596\n",
       "1998     2170\n",
       "Name: Issue Dates (GDL), dtype: int64"
      ]
     },
     "execution_count": 24,
     "metadata": {},
     "output_type": "execute_result"
    }
   ],
   "source": [
    "df_gdl_untitled_articles_counts.tail()"
   ]
  },
  {
   "cell_type": "markdown",
   "metadata": {},
   "source": [
    "Calculate rate of untitled articles over total per issuing year date"
   ]
  },
  {
   "cell_type": "code",
   "execution_count": 25,
   "metadata": {},
   "outputs": [],
   "source": [
    "df_gdl_untitled_articles_rates = df_gdl_untitled_articles_counts / df_gdl['Issue Dates (GDL)'].dt.year.value_counts()"
   ]
  },
  {
   "cell_type": "code",
   "execution_count": 26,
   "metadata": {},
   "outputs": [
    {
     "data": {
      "image/png": "[encoded data removed]",
      "text/plain": [
       "<matplotlib.figure.Figure at 0x1549b8da0>"
      ]
     },
     "metadata": {},
     "output_type": "display_data"
    }
   ],
   "source": [
    "fig = plt.figure(figsize=(10, 10))\n",
    "df_gdl_untitled_articles_rates.plot()\n",
    "plt.title('Rate of untitled articles in the GDL in regard of issuing year date')\n",
    "plt.xlabel('Issue year date of the articles')\n",
    "plt.ylabel('Rate of untitled articles')\n",
    "pylab.savefig('UA_overTotal_gdl.png')"
   ]
  },
  {
   "cell_type": "markdown",
   "metadata": {},
   "source": [
    "For the GDL, there is no clear pattern as the rates decrease around 1930 before raising back to an approximative 40% rate as it was for the beginning of the century. "
   ]
  },
  {
   "cell_type": "markdown",
   "metadata": {},
   "source": [
    "**Retrieving of untitled articles' content to rescue environmentally talking articles**"
   ]
  },
  {
   "cell_type": "code",
   "execution_count": 27,
   "metadata": {},
   "outputs": [],
   "source": [
    "import re\n",
    "\n",
    "# function to match \"green\" words in articles' titles or first words of untitled articles' content\n",
    "def findWholeWord(w):\n",
    "    return re.compile(r'\\b({0})\\b'.format(w), flags=re.IGNORECASE).search"
   ]
  },
  {
   "cell_type": "markdown",
   "metadata": {},
   "source": [
    "Below is the code used to retrieve the content of untitled articles talking about environmental topics:\n",
    "    # list of \"green\" words\n",
    "    vocab=list(pd.read_csv(DATA_FOLDER+\"/Mylist.csv\",header=None, squeeze = True))\n",
    "\n",
    "    # get all the dates with untitled articles to look into the xml corresponding files\n",
    "    dates = list(df_gdl_untitled_articles['Issue Dates (GDL)'].dt.to_period('M').drop_duplicates())\n",
    "\n",
    "    In this section, we look into the first words of the untitled articles of the GDL in order to see if it mentions \"green\" words. If so, we store the article content in a list. Same is applied to the JDG.\n",
    "\n",
    "    count = 0\n",
    "    articles_fullText = []\n",
    "    df = pd.DataFrame(columns = ['Issue Date', 'Article Name', 'Word found'])\n",
    "    for i in range(len(dates)):\n",
    "        year = str(dates[i].year)\n",
    "        month = str(dates[i].month)\n",
    "        if len(month) == 1:\n",
    "            month = '0'+month\n",
    "        print(year+'/'+month)\n",
    "        file = open(DATA_FOLDER_GDL+year+'/'+month+'.xml')\n",
    "        page = file.read()\n",
    "        soup = BeautifulSoup(page, 'html.parser')\n",
    "        UA_extracts = soup.find_all(text = \"Untitled Article\")\n",
    "        for ite_ in range(len(UA_extracts)):\n",
    "            article_extract = UA_extracts[ite_].parent.parent.full_text.text[:100]\n",
    "            for word in list(vocab):\n",
    "                if findWholeWord(word)(article_extract):\n",
    "                    count += 1\n",
    "                    new_row = {'Issue Date':UA_extracts[ite_].parent.parent.issue_date.text,\n",
    "                          'Article Name':article_extract[:50],\n",
    "                          'Word found':word}\n",
    "                    df = df.append(new_row, ignore_index = True)\n",
    "                    articles_fullText.append(UA_extracts[ite_].parent.parent.full_text.text)\n",
    "                    print(article_extract)        \n",
    "                    \n",
    "    filename = 'UA_fullText_gdl'\n",
    "    fileobj = open(filename, 'wb')\n",
    "    pickle.dump(articles_fullText, fileobj)\n",
    "    fileobj.close()\n",
    "\n",
    "    df.to_pickle('df_UA_gdl')"
   ]
  },
  {
   "cell_type": "markdown",
   "metadata": {},
   "source": [
    "In the above code we have renamed the untitled articles with the first 50 characters of the untitled article full text, we now load the dataframe which contains the issue date of the renamed articles and the \"green\" word they contain. We also load, the list containing the full content of these articles. Same is done for the JDG below."
   ]
  },
  {
   "cell_type": "code",
   "execution_count": 214,
   "metadata": {},
   "outputs": [],
   "source": [
    "fileobj = open(PICKLE_DATA_FOLDER+'/df_UA_gdl', 'rb')\n",
    "df_UA_gdl = pickle.load(fileobj)"
   ]
  },
  {
   "cell_type": "code",
   "execution_count": 29,
   "metadata": {},
   "outputs": [
    {
     "data": {
      "text/html": [
       "<div>\n",
       "<style>\n",
       "    .dataframe thead tr:only-child th {\n",
       "        text-align: right;\n",
       "    }\n",
       "\n",
       "    .dataframe thead th {\n",
       "        text-align: left;\n",
       "    }\n",
       "\n",
       "    .dataframe tbody tr th {\n",
       "        vertical-align: top;\n",
       "    }\n",
       "</style>\n",
       "<table border=\"1\" class=\"dataframe\">\n",
       "  <thead>\n",
       "    <tr style=\"text-align: right;\">\n",
       "      <th></th>\n",
       "      <th>Issue Date</th>\n",
       "      <th>Article Name</th>\n",
       "      <th>Word found</th>\n",
       "    </tr>\n",
       "  </thead>\n",
       "  <tbody>\n",
       "    <tr>\n",
       "      <th>0</th>\n",
       "      <td>04/12/1943</td>\n",
       "      <td>Reboisement de l'Ecosse Deux ministres du gouv...</td>\n",
       "      <td>reboisement</td>\n",
       "    </tr>\n",
       "    <tr>\n",
       "      <th>1</th>\n",
       "      <td>18/08/1947</td>\n",
       "      <td>REBOISEMENT DES ILES BRITANNIQUES Les délégués...</td>\n",
       "      <td>reboisement</td>\n",
       "    </tr>\n",
       "    <tr>\n",
       "      <th>2</th>\n",
       "      <td>01/02/1962</td>\n",
       "      <td>&lt;• Le Conseil fédéral a alloué une subvention ...</td>\n",
       "      <td>reboisement</td>\n",
       "    </tr>\n",
       "    <tr>\n",
       "      <th>3</th>\n",
       "      <td>28/06/1968</td>\n",
       "      <td>FR. 1 200 000. — POUR LE REBOISEMENT VERRAUX-J...</td>\n",
       "      <td>reboisement</td>\n",
       "    </tr>\n",
       "    <tr>\n",
       "      <th>4</th>\n",
       "      <td>20/01/1970</td>\n",
       "      <td>« ENVIRONNEMENT CONVENABLE. » — Un nouvel amen...</td>\n",
       "      <td>environnement</td>\n",
       "    </tr>\n",
       "  </tbody>\n",
       "</table>\n",
       "</div>"
      ],
      "text/plain": [
       "   Issue Date                                       Article Name  \\\n",
       "0  04/12/1943  Reboisement de l'Ecosse Deux ministres du gouv...   \n",
       "1  18/08/1947  REBOISEMENT DES ILES BRITANNIQUES Les délégués...   \n",
       "2  01/02/1962  <• Le Conseil fédéral a alloué une subvention ...   \n",
       "3  28/06/1968  FR. 1 200 000. — POUR LE REBOISEMENT VERRAUX-J...   \n",
       "4  20/01/1970  « ENVIRONNEMENT CONVENABLE. » — Un nouvel amen...   \n",
       "\n",
       "      Word found  \n",
       "0    reboisement  \n",
       "1    reboisement  \n",
       "2    reboisement  \n",
       "3    reboisement  \n",
       "4  environnement  "
      ]
     },
     "execution_count": 29,
     "metadata": {},
     "output_type": "execute_result"
    }
   ],
   "source": [
    "df_UA_gdl.head()"
   ]
  },
  {
   "cell_type": "code",
   "execution_count": 30,
   "metadata": {},
   "outputs": [],
   "source": [
    "fileobj = open(ARTICLES_FOLDER+'/UA_fullText_gdl', 'rb')\n",
    "UA_fullText_gdl = pickle.load(fileobj)"
   ]
  },
  {
   "cell_type": "code",
   "execution_count": 31,
   "metadata": {},
   "outputs": [],
   "source": [
    "fileobj = open(PICKLE_DATA_FOLDER+'/df_UA_jdg', 'rb')\n",
    "df_UA_jdg = pickle.load(fileobj)"
   ]
  },
  {
   "cell_type": "code",
   "execution_count": 32,
   "metadata": {},
   "outputs": [
    {
     "data": {
      "text/html": [
       "<div>\n",
       "<style>\n",
       "    .dataframe thead tr:only-child th {\n",
       "        text-align: right;\n",
       "    }\n",
       "\n",
       "    .dataframe thead th {\n",
       "        text-align: left;\n",
       "    }\n",
       "\n",
       "    .dataframe tbody tr th {\n",
       "        vertical-align: top;\n",
       "    }\n",
       "</style>\n",
       "<table border=\"1\" class=\"dataframe\">\n",
       "  <thead>\n",
       "    <tr style=\"text-align: right;\">\n",
       "      <th></th>\n",
       "      <th>Issue Date</th>\n",
       "      <th>Article Name</th>\n",
       "      <th>Word found</th>\n",
       "    </tr>\n",
       "  </thead>\n",
       "  <tbody>\n",
       "    <tr>\n",
       "      <th>0</th>\n",
       "      <td>04/10/1906</td>\n",
       "      <td>à réunir les fonds nécessaires pour assurer la...</td>\n",
       "      <td>reboisement</td>\n",
       "    </tr>\n",
       "    <tr>\n",
       "      <th>1</th>\n",
       "      <td>07/07/1908</td>\n",
       "      <td>Les forestiers suisses, cl le reboisement. — L...</td>\n",
       "      <td>reboisement</td>\n",
       "    </tr>\n",
       "    <tr>\n",
       "      <th>2</th>\n",
       "      <td>22/07/1911</td>\n",
       "      <td>un total de r 3,6 r 5 francs pour divers trava...</td>\n",
       "      <td>reboisement</td>\n",
       "    </tr>\n",
       "    <tr>\n",
       "      <th>3</th>\n",
       "      <td>23/06/1923</td>\n",
       "      <td>les-ci ne mettent pas en péril les forêts vois...</td>\n",
       "      <td>reboisement</td>\n",
       "    </tr>\n",
       "    <tr>\n",
       "      <th>4</th>\n",
       "      <td>14/01/1929</td>\n",
       "      <td>l'irrigation, le reboisement de certaines régi...</td>\n",
       "      <td>reboisement</td>\n",
       "    </tr>\n",
       "  </tbody>\n",
       "</table>\n",
       "</div>"
      ],
      "text/plain": [
       "   Issue Date                                       Article Name   Word found\n",
       "0  04/10/1906  à réunir les fonds nécessaires pour assurer la...  reboisement\n",
       "1  07/07/1908  Les forestiers suisses, cl le reboisement. — L...  reboisement\n",
       "2  22/07/1911  un total de r 3,6 r 5 francs pour divers trava...  reboisement\n",
       "3  23/06/1923  les-ci ne mettent pas en péril les forêts vois...  reboisement\n",
       "4  14/01/1929  l'irrigation, le reboisement de certaines régi...  reboisement"
      ]
     },
     "execution_count": 32,
     "metadata": {},
     "output_type": "execute_result"
    }
   ],
   "source": [
    "df_UA_jdg.head()"
   ]
  },
  {
   "cell_type": "code",
   "execution_count": 33,
   "metadata": {},
   "outputs": [],
   "source": [
    "fileobj = open(ARTICLES_FOLDER+'/UA_fullText_jdg', 'rb')\n",
    "UA_fullText_jdg = pickle.load(fileobj)"
   ]
  },
  {
   "cell_type": "markdown",
   "metadata": {},
   "source": [
    "Now we need to get a similar dataframe as the one above with articles that have a title. We have proceeded in a similar manner that is:\n",
    "- First, we get rid of the rows containing untitled article in the original dataframes loaded for both journals.\n",
    "- Then we go over all the articles' titles in the df and if it matches one of the \"green\" word, we create a row with issue date, article title and matched word in the above looking dataframe. \n",
    "\n",
    "The code used is the following:\n",
    "\n",
    "    df_gdl = df_gdl[~df_gdl['Articles Names (GDL)'].str.contains(\"Untitled Article\")]\n",
    "\n",
    "    df_jdg = df_jdg[~df_jdg['Articles Names (JDG)'].str.contains(\"Untitled Article\")]\n",
    "\n",
    "    df_gdl.reset_index(inplace = True, drop = True)\n",
    "\n",
    "    df_jdg.reset_index(inplace = True, drop = True)\n",
    "    \n",
    "    vocab=pd.read_csv(\"Mylist.csv\",header=None, squeeze = True)\n",
    "\n",
    "    vocab = list(vocab)\n",
    "\n",
    "    df = pd.DataFrame(columns = ['Issue Date', 'Article Name', 'Word found'])\n",
    "\n",
    "    df_gdl.head()\n",
    "\n",
    "    count = 0\n",
    "    for i in range(len(df_gdl['Issue Dates (GDL)'])):\n",
    "        display(i)\n",
    "        for word in vocab:\n",
    "            current_article = df_gdl['Articles Names (GDL)'].values[i]\n",
    "            if findWholeWord(word)(current_article):\n",
    "                count + = 1\n",
    "                new_row = {'Issue Date':df_gdl['Issue Dates (GDL)'].values[i],\n",
    "                          'Article Name':df_gdl['Articles Names (GDL)'].values[i],\n",
    "                          'Word found':word}\n",
    "                df = df.append(new_row, ignore_index = True)"
   ]
  },
  {
   "cell_type": "markdown",
   "metadata": {},
   "source": [
    "The dataframes created in the above step are loaded via pickle"
   ]
  },
  {
   "cell_type": "code",
   "execution_count": 34,
   "metadata": {},
   "outputs": [],
   "source": [
    "matched_words_gdl = pd.read_pickle(PICKLE_DATA_FOLDER+'/matched_words_gdl')\n",
    "\n",
    "matched_words_jdg = pd.read_pickle(PICKLE_DATA_FOLDER+'/matched_words_jdg')"
   ]
  },
  {
   "cell_type": "code",
   "execution_count": 35,
   "metadata": {},
   "outputs": [
    {
     "data": {
      "text/html": [
       "<div>\n",
       "<style>\n",
       "    .dataframe thead tr:only-child th {\n",
       "        text-align: right;\n",
       "    }\n",
       "\n",
       "    .dataframe thead th {\n",
       "        text-align: left;\n",
       "    }\n",
       "\n",
       "    .dataframe tbody tr th {\n",
       "        vertical-align: top;\n",
       "    }\n",
       "</style>\n",
       "<table border=\"1\" class=\"dataframe\">\n",
       "  <thead>\n",
       "    <tr style=\"text-align: right;\">\n",
       "      <th></th>\n",
       "      <th>Issue Date</th>\n",
       "      <th>Article Name</th>\n",
       "      <th>Word found</th>\n",
       "    </tr>\n",
       "  </thead>\n",
       "  <tbody>\n",
       "    <tr>\n",
       "      <th>0</th>\n",
       "      <td>1902-12-20</td>\n",
       "      <td>L'iotace du climat sur l'homme.</td>\n",
       "      <td>climat</td>\n",
       "    </tr>\n",
       "    <tr>\n",
       "      <th>1</th>\n",
       "      <td>1910-03-20</td>\n",
       "      <td>LE CLIMAT DE LA SUISSE</td>\n",
       "      <td>climat</td>\n",
       "    </tr>\n",
       "    <tr>\n",
       "      <th>2</th>\n",
       "      <td>1912-06-14</td>\n",
       "      <td>An milieu de son peuple</td>\n",
       "      <td>milieu</td>\n",
       "    </tr>\n",
       "    <tr>\n",
       "      <th>3</th>\n",
       "      <td>1914-02-08</td>\n",
       "      <td>Le climat de Lausanne</td>\n",
       "      <td>climat</td>\n",
       "    </tr>\n",
       "    <tr>\n",
       "      <th>4</th>\n",
       "      <td>1918-12-04</td>\n",
       "      <td>Brumeux, doux au milieu du jour.</td>\n",
       "      <td>milieu</td>\n",
       "    </tr>\n",
       "  </tbody>\n",
       "</table>\n",
       "</div>"
      ],
      "text/plain": [
       "  Issue Date                      Article Name Word found\n",
       "0 1902-12-20   L'iotace du climat sur l'homme.     climat\n",
       "1 1910-03-20            LE CLIMAT DE LA SUISSE     climat\n",
       "2 1912-06-14           An milieu de son peuple     milieu\n",
       "3 1914-02-08             Le climat de Lausanne     climat\n",
       "4 1918-12-04  Brumeux, doux au milieu du jour.     milieu"
      ]
     },
     "execution_count": 35,
     "metadata": {},
     "output_type": "execute_result"
    }
   ],
   "source": [
    "matched_words_gdl.head()"
   ]
  },
  {
   "cell_type": "code",
   "execution_count": 36,
   "metadata": {},
   "outputs": [
    {
     "data": {
      "text/html": [
       "<div>\n",
       "<style>\n",
       "    .dataframe thead tr:only-child th {\n",
       "        text-align: right;\n",
       "    }\n",
       "\n",
       "    .dataframe thead th {\n",
       "        text-align: left;\n",
       "    }\n",
       "\n",
       "    .dataframe tbody tr th {\n",
       "        vertical-align: top;\n",
       "    }\n",
       "</style>\n",
       "<table border=\"1\" class=\"dataframe\">\n",
       "  <thead>\n",
       "    <tr style=\"text-align: right;\">\n",
       "      <th></th>\n",
       "      <th>Issue Date</th>\n",
       "      <th>Article Name</th>\n",
       "      <th>Word found</th>\n",
       "    </tr>\n",
       "  </thead>\n",
       "  <tbody>\n",
       "    <tr>\n",
       "      <th>0</th>\n",
       "      <td>1900-03-26</td>\n",
       "      <td>(1) La première et la troisième ligne se com p...</td>\n",
       "      <td>milieu</td>\n",
       "    </tr>\n",
       "    <tr>\n",
       "      <th>1</th>\n",
       "      <td>1900-07-28</td>\n",
       "      <td>Juillet Insolation Temptr. moyen. Maïïim . A f...</td>\n",
       "      <td>milieu</td>\n",
       "    </tr>\n",
       "    <tr>\n",
       "      <th>2</th>\n",
       "      <td>1900-08-08</td>\n",
       "      <td>Août Insolation Tempér. moyen. Maxim. à l'ombr...</td>\n",
       "      <td>milieu</td>\n",
       "    </tr>\n",
       "    <tr>\n",
       "      <th>3</th>\n",
       "      <td>1902-05-06</td>\n",
       "      <td>Avril Insolation Temptr, moyen. Maxim. a l'omb...</td>\n",
       "      <td>milieu</td>\n",
       "    </tr>\n",
       "    <tr>\n",
       "      <th>4</th>\n",
       "      <td>1906-02-14</td>\n",
       "      <td>Néanmoins, il convient rlo rester ca'me au mil...</td>\n",
       "      <td>milieu</td>\n",
       "    </tr>\n",
       "  </tbody>\n",
       "</table>\n",
       "</div>"
      ],
      "text/plain": [
       "  Issue Date                                       Article Name Word found\n",
       "0 1900-03-26  (1) La première et la troisième ligne se com p...     milieu\n",
       "1 1900-07-28  Juillet Insolation Temptr. moyen. Maïïim . A f...     milieu\n",
       "2 1900-08-08  Août Insolation Tempér. moyen. Maxim. à l'ombr...     milieu\n",
       "3 1902-05-06  Avril Insolation Temptr, moyen. Maxim. a l'omb...     milieu\n",
       "4 1906-02-14  Néanmoins, il convient rlo rester ca'me au mil...     milieu"
      ]
     },
     "execution_count": 36,
     "metadata": {},
     "output_type": "execute_result"
    }
   ],
   "source": [
    "matched_words_jdg.head()"
   ]
  },
  {
   "cell_type": "markdown",
   "metadata": {},
   "source": [
    "Next step is to, like we did for the untitled articles, retrieve the full content of these articles.\n",
    "Following is the code used to do so for the GDL (same for JDG):\n",
    "\n",
    "    for word in list(matched_words_gdl['Word found'].unique()):\n",
    "        print(word)\n",
    "        articles_gdl = []\n",
    "        df = matched_words_gdl[matched_words_gdl['Word found'] == word].reset_index(drop=True)\n",
    "        titles_list = list(df['Article Name'])\n",
    "        for i in range(len(titles_list)):\n",
    "            print(str(i+1)+'/'+str(len(titles_list)))\n",
    "            year = str(list(df['Issue Date'].dt.year)[i])\n",
    "            month = list(df['Issue Date'].dt.month)[i]\n",
    "            if len(str(month)) == 1:\n",
    "                month = '0'+str(month)\n",
    "            else:\n",
    "                month = str(month)\n",
    "            file = open(DATA_FOLDER_GDL+year+'/'+month+'.xml')\n",
    "            page = file.read()\n",
    "            soup = BeautifulSoup(page, 'html.parser')\n",
    "            articles_gdl.append(soup.find(text=titles_list[i]).parent.parent.full_text.text)\n",
    "        filename = word+'_gdl'\n",
    "        fileObj = open(filename, 'wb')\n",
    "        pickle.dump(articles_gdl, fileObj)\n",
    "        fileObj.close()"
   ]
  },
  {
   "cell_type": "markdown",
   "metadata": {},
   "source": [
    "The above code has produced pickle files, for each \"green\" word retrieved in a journal, containing the full text of the articles which titles contains this word."
   ]
  },
  {
   "cell_type": "markdown",
   "metadata": {},
   "source": [
    "We first included the words 'milieu' and 'climat' in our list of \"green\" words but the fact that they can be used in so many contexts other than the environmentally talking one will bring to much bias so we have decided to exclude them from the list and thus exclude the related articles retrieved."
   ]
  },
  {
   "cell_type": "code",
   "execution_count": 37,
   "metadata": {},
   "outputs": [],
   "source": [
    "matched_words_gdl = matched_words_gdl[matched_words_gdl['Word found'] != 'milieu']\n",
    "matched_words_gdl = matched_words_gdl[matched_words_gdl['Word found'] != 'climat'].reset_index(drop=True)\n",
    "\n",
    "matched_words_jdg = matched_words_jdg[matched_words_jdg['Word found'] != 'milieu']\n",
    "matched_words_jdg = matched_words_jdg[matched_words_jdg['Word found'] != 'climat'].reset_index(drop=True)"
   ]
  },
  {
   "cell_type": "code",
   "execution_count": 38,
   "metadata": {},
   "outputs": [
    {
     "data": {
      "text/html": [
       "<div>\n",
       "<style>\n",
       "    .dataframe thead tr:only-child th {\n",
       "        text-align: right;\n",
       "    }\n",
       "\n",
       "    .dataframe thead th {\n",
       "        text-align: left;\n",
       "    }\n",
       "\n",
       "    .dataframe tbody tr th {\n",
       "        vertical-align: top;\n",
       "    }\n",
       "</style>\n",
       "<table border=\"1\" class=\"dataframe\">\n",
       "  <thead>\n",
       "    <tr style=\"text-align: right;\">\n",
       "      <th></th>\n",
       "      <th>Issue Date</th>\n",
       "      <th>Article Name</th>\n",
       "      <th>Word found</th>\n",
       "    </tr>\n",
       "  </thead>\n",
       "  <tbody>\n",
       "    <tr>\n",
       "      <th>0</th>\n",
       "      <td>1929-10-24</td>\n",
       "      <td>Le reboisement de la Palestine</td>\n",
       "      <td>reboisement</td>\n",
       "    </tr>\n",
       "    <tr>\n",
       "      <th>1</th>\n",
       "      <td>1935-05-27</td>\n",
       "      <td>Reboisement de la Galilée</td>\n",
       "      <td>reboisement</td>\n",
       "    </tr>\n",
       "    <tr>\n",
       "      <th>2</th>\n",
       "      <td>1947-06-18</td>\n",
       "      <td>Le reboisement des forêts ravagées par l'ouragan</td>\n",
       "      <td>reboisement</td>\n",
       "    </tr>\n",
       "    <tr>\n",
       "      <th>3</th>\n",
       "      <td>1948-08-24</td>\n",
       "      <td>I&amp; REBOISEMENT DE LA CHINE</td>\n",
       "      <td>reboisement</td>\n",
       "    </tr>\n",
       "    <tr>\n",
       "      <th>4</th>\n",
       "      <td>1953-12-14</td>\n",
       "      <td>Les travaux de la Société des sciences naturel...</td>\n",
       "      <td>reboisement</td>\n",
       "    </tr>\n",
       "  </tbody>\n",
       "</table>\n",
       "</div>"
      ],
      "text/plain": [
       "  Issue Date                                       Article Name   Word found\n",
       "0 1929-10-24                     Le reboisement de la Palestine  reboisement\n",
       "1 1935-05-27                          Reboisement de la Galilée  reboisement\n",
       "2 1947-06-18   Le reboisement des forêts ravagées par l'ouragan  reboisement\n",
       "3 1948-08-24                         I& REBOISEMENT DE LA CHINE  reboisement\n",
       "4 1953-12-14  Les travaux de la Société des sciences naturel...  reboisement"
      ]
     },
     "execution_count": 38,
     "metadata": {},
     "output_type": "execute_result"
    }
   ],
   "source": [
    "matched_words_gdl.head()"
   ]
  },
  {
   "cell_type": "code",
   "execution_count": 39,
   "metadata": {},
   "outputs": [
    {
     "data": {
      "text/html": [
       "<div>\n",
       "<style>\n",
       "    .dataframe thead tr:only-child th {\n",
       "        text-align: right;\n",
       "    }\n",
       "\n",
       "    .dataframe thead th {\n",
       "        text-align: left;\n",
       "    }\n",
       "\n",
       "    .dataframe tbody tr th {\n",
       "        vertical-align: top;\n",
       "    }\n",
       "</style>\n",
       "<table border=\"1\" class=\"dataframe\">\n",
       "  <thead>\n",
       "    <tr style=\"text-align: right;\">\n",
       "      <th></th>\n",
       "      <th>Issue Date</th>\n",
       "      <th>Article Name</th>\n",
       "      <th>Word found</th>\n",
       "    </tr>\n",
       "  </thead>\n",
       "  <tbody>\n",
       "    <tr>\n",
       "      <th>0</th>\n",
       "      <td>1907-11-19</td>\n",
       "      <td>A la Chambre française Le budget. — La pêche d...</td>\n",
       "      <td>reboisement</td>\n",
       "    </tr>\n",
       "    <tr>\n",
       "      <th>1</th>\n",
       "      <td>1908-01-08</td>\n",
       "      <td>Le reboisement et l'initiative privée en France</td>\n",
       "      <td>reboisement</td>\n",
       "    </tr>\n",
       "    <tr>\n",
       "      <th>2</th>\n",
       "      <td>1908-09-30</td>\n",
       "      <td>Ls reboisement du Salive</td>\n",
       "      <td>reboisement</td>\n",
       "    </tr>\n",
       "    <tr>\n",
       "      <th>3</th>\n",
       "      <td>1908-09-30</td>\n",
       "      <td>Ls reboisement du Salive</td>\n",
       "      <td>reboisement</td>\n",
       "    </tr>\n",
       "    <tr>\n",
       "      <th>4</th>\n",
       "      <td>1949-06-10</td>\n",
       "      <td>Utt IMPORTANT REBOISEMENT M cïiiiie mille arbr...</td>\n",
       "      <td>reboisement</td>\n",
       "    </tr>\n",
       "  </tbody>\n",
       "</table>\n",
       "</div>"
      ],
      "text/plain": [
       "  Issue Date                                       Article Name   Word found\n",
       "0 1907-11-19  A la Chambre française Le budget. — La pêche d...  reboisement\n",
       "1 1908-01-08    Le reboisement et l'initiative privée en France  reboisement\n",
       "2 1908-09-30                           Ls reboisement du Salive  reboisement\n",
       "3 1908-09-30                           Ls reboisement du Salive  reboisement\n",
       "4 1949-06-10  Utt IMPORTANT REBOISEMENT M cïiiiie mille arbr...  reboisement"
      ]
     },
     "execution_count": 39,
     "metadata": {},
     "output_type": "execute_result"
    }
   ],
   "source": [
    "matched_words_jdg.head()"
   ]
  },
  {
   "cell_type": "code",
   "execution_count": 40,
   "metadata": {},
   "outputs": [
    {
     "data": {
      "text/plain": [
       "array(['reboisement', 'climax', 'écologie', 'environnement', 'biotope',\n",
       "       'biomasse', 'compostage', 'espace vert', 'changement climatique',\n",
       "       'biodégradable', 'déforestation', 'agriculture durable',\n",
       "       'biodiversité', 'diversité biologique', 'écotaxe',\n",
       "       'réchauffement global', 'environnemental',\n",
       "       'réchauffement climatique', 'biozone', 'gaz à effet de serre'], dtype=object)"
      ]
     },
     "execution_count": 40,
     "metadata": {},
     "output_type": "execute_result"
    }
   ],
   "source": [
    "matched_words_gdl['Word found'].unique()"
   ]
  },
  {
   "cell_type": "code",
   "execution_count": 41,
   "metadata": {},
   "outputs": [
    {
     "data": {
      "text/plain": [
       "array(['reboisement', 'climax', 'écologie', 'environnement', 'biotope',\n",
       "       'biomasse', 'espace vert', 'biodégradable', 'compostage',\n",
       "       'déforestation', 'réchauffement global', 'agriculture durable',\n",
       "       'biodiversité', 'diversité biologique', 'écotaxe',\n",
       "       'environnemental', 'réchauffement climatique', 'biozone',\n",
       "       'gaz à effet de serre'], dtype=object)"
      ]
     },
     "execution_count": 41,
     "metadata": {},
     "output_type": "execute_result"
    }
   ],
   "source": [
    "matched_words_jdg['Word found'].unique()"
   ]
  },
  {
   "cell_type": "code",
   "execution_count": 42,
   "metadata": {},
   "outputs": [
    {
     "data": {
      "text/plain": [
       "array(['reboisement', 'environnement', 'écologie', 'biomasse', 'biotope',\n",
       "       'compostage'], dtype=object)"
      ]
     },
     "execution_count": 42,
     "metadata": {},
     "output_type": "execute_result"
    }
   ],
   "source": [
    "df_UA_gdl['Word found'].unique()"
   ]
  },
  {
   "cell_type": "code",
   "execution_count": 43,
   "metadata": {},
   "outputs": [
    {
     "data": {
      "text/plain": [
       "array(['reboisement', 'micro-climat', 'compostage', 'environnement',\n",
       "       'climax', 'écologie', 'espace vert', 'biodiversité'], dtype=object)"
      ]
     },
     "execution_count": 43,
     "metadata": {},
     "output_type": "execute_result"
    }
   ],
   "source": [
    "df_UA_jdg['Word found'].unique()"
   ]
  },
  {
   "cell_type": "code",
   "execution_count": 44,
   "metadata": {},
   "outputs": [],
   "source": [
    "green_words_gdl = matched_words_gdl['Word found'].value_counts().add(df_UA_gdl['Word found'].value_counts(), fill_value='0')"
   ]
  },
  {
   "cell_type": "code",
   "execution_count": 45,
   "metadata": {},
   "outputs": [],
   "source": [
    "green_words_jdg = matched_words_jdg['Word found'].value_counts().add(df_UA_jdg['Word found'].value_counts(), fill_value='0')"
   ]
  },
  {
   "cell_type": "markdown",
   "metadata": {},
   "source": [
    "Following are all the \"green\" words from our original list retrieved in either one of the journals"
   ]
  },
  {
   "cell_type": "code",
   "execution_count": 46,
   "metadata": {},
   "outputs": [
    {
     "data": {
      "text/plain": [
       "['agriculture durable',\n",
       " 'biodiversité',\n",
       " 'biodégradable',\n",
       " 'biomasse',\n",
       " 'biotope',\n",
       " 'biozone',\n",
       " 'changement climatique',\n",
       " 'climax',\n",
       " 'compostage',\n",
       " 'diversité biologique',\n",
       " 'déforestation',\n",
       " 'environnement',\n",
       " 'environnemental',\n",
       " 'espace vert',\n",
       " 'gaz à effet de serre',\n",
       " 'micro-climat',\n",
       " 'reboisement',\n",
       " 'réchauffement climatique',\n",
       " 'réchauffement global',\n",
       " 'écologie',\n",
       " 'écotaxe']"
      ]
     },
     "execution_count": 46,
     "metadata": {},
     "output_type": "execute_result"
    }
   ],
   "source": [
    "green_words_jdg.add(green_words_gdl, fill_value = '0').index.tolist()"
   ]
  },
  {
   "cell_type": "markdown",
   "metadata": {},
   "source": [
    "Now, we plot the number of occurences of each \"green\" word over the century for each journal first and then for both journals combined."
   ]
  },
  {
   "cell_type": "code",
   "execution_count": 47,
   "metadata": {},
   "outputs": [
    {
     "data": {
      "text/plain": [
       "<matplotlib.axes._subplots.AxesSubplot at 0x154ad5cf8>"
      ]
     },
     "execution_count": 47,
     "metadata": {},
     "output_type": "execute_result"
    },
    {
     "data": {
      "image/png": "[encoded data removed]",
      "text/plain": [
       "<matplotlib.figure.Figure at 0x154ad50b8>"
      ]
     },
     "metadata": {},
     "output_type": "display_data"
    }
   ],
   "source": [
    "matched_words_gdl['Word found'].value_counts().add(df_UA_gdl['Word found'].value_counts(), fill_value='0').plot('bar')"
   ]
  },
  {
   "cell_type": "code",
   "execution_count": 48,
   "metadata": {},
   "outputs": [
    {
     "data": {
      "text/plain": [
       "<matplotlib.axes._subplots.AxesSubplot at 0x15ab8a518>"
      ]
     },
     "execution_count": 48,
     "metadata": {},
     "output_type": "execute_result"
    },
    {
     "data": {
      "image/png": "[encoded data removed]",
      "text/plain": [
       "<matplotlib.figure.Figure at 0x15aa91c18>"
      ]
     },
     "metadata": {},
     "output_type": "display_data"
    }
   ],
   "source": [
    "matched_words_jdg['Word found'].value_counts().add(df_UA_jdg['Word found'].value_counts(), fill_value='0').plot('bar')"
   ]
  },
  {
   "cell_type": "code",
   "execution_count": 49,
   "metadata": {},
   "outputs": [],
   "source": [
    "occurences_ofWords_gdl = matched_words_gdl['Word found'].value_counts().add(df_UA_gdl['Word found'].value_counts(), fill_value='0')\n",
    "occurences_ofWords_jdg = matched_words_jdg['Word found'].value_counts().add(df_UA_jdg['Word found'].value_counts(), fill_value='0')"
   ]
  },
  {
   "cell_type": "code",
   "execution_count": 50,
   "metadata": {},
   "outputs": [
    {
     "data": {
      "image/png": "[encoded data removed]",
      "text/plain": [
       "<matplotlib.figure.Figure at 0x15ac3e278>"
      ]
     },
     "metadata": {},
     "output_type": "display_data"
    }
   ],
   "source": [
    "fig = plt.figure(figsize=(10, 10))\n",
    "occurences_ofWords_gdl.add(occurences_ofWords_jdg, fill_value = '0').sort_index().plot('bar')\n",
    "plt.title('# of occurences of each \"green\" word in both journals over the 20th century')\n",
    "plt.xlabel('\"green\" word')\n",
    "plt.ylabel('# of occurences of the word over the 20th century')\n",
    "pylab.savefig('occurences_greenWordsOverCentury_bothJournals.png')"
   ]
  },
  {
   "cell_type": "markdown",
   "metadata": {},
   "source": [
    "We are now going to look into the evolution of environmentally talking articles over time and this display the the number of occurences of all green words combined in regard of the issuing year dates of related articles. We plot this for each journal first and for both journals combined afterwards."
   ]
  },
  {
   "cell_type": "code",
   "execution_count": 51,
   "metadata": {},
   "outputs": [],
   "source": [
    "df_UA_gdl['Issue Date'] = pd.to_datetime(df_UA_gdl['Issue Date'], dayfirst = True)"
   ]
  },
  {
   "cell_type": "code",
   "execution_count": 52,
   "metadata": {},
   "outputs": [
    {
     "data": {
      "image/png": "[encoded data removed]",
      "text/plain": [
       "<matplotlib.figure.Figure at 0x15ad5def0>"
      ]
     },
     "metadata": {},
     "output_type": "display_data"
    }
   ],
   "source": [
    "fig = plt.figure(figsize=(10, 10))\n",
    "matched_words_gdl['Issue Date'].dt.year.value_counts().add(df_UA_gdl['Issue Date'].dt.year.value_counts(), fill_value='0').sort_index().plot('bar')\n",
    "plt.title('# of articles containing \"green\" words in the GDL in regard of issuing year date')\n",
    "plt.xlabel('Issue year date of the articles')\n",
    "plt.ylabel('# of articles containing \"green\" words')\n",
    "pylab.savefig('occurences_greenWords_gdl.png')"
   ]
  },
  {
   "cell_type": "code",
   "execution_count": 53,
   "metadata": {},
   "outputs": [],
   "source": [
    "df_UA_jdg['Issue Date'] = pd.to_datetime(df_UA_jdg['Issue Date'], dayfirst = True)"
   ]
  },
  {
   "cell_type": "code",
   "execution_count": 54,
   "metadata": {},
   "outputs": [
    {
     "data": {
      "image/png": "[encoded data removed]",
      "text/plain": [
       "<matplotlib.figure.Figure at 0x154a2b128>"
      ]
     },
     "metadata": {},
     "output_type": "display_data"
    }
   ],
   "source": [
    "fig = plt.figure(figsize=(10, 10))\n",
    "matched_words_jdg['Issue Date'].dt.year.value_counts().add(df_UA_jdg['Issue Date'].dt.year.value_counts(), fill_value='0').sort_index().plot('bar')\n",
    "plt.title('# of articles containing \"green\" words in the JDG in regard of issuing year date')\n",
    "plt.xlabel('Issue year date of the articles')\n",
    "plt.ylabel('# of articles containing \"green\" words')\n",
    "pylab.savefig('occurences_greenWords_jdg.png')"
   ]
  },
  {
   "cell_type": "code",
   "execution_count": 55,
   "metadata": {},
   "outputs": [],
   "source": [
    "occurences_overTime_gdl = matched_words_gdl['Issue Date'].dt.year.value_counts().add(df_UA_gdl['Issue Date'].dt.year.value_counts(), fill_value='0').sort_index()\n",
    "occurences_overTime_jdg = matched_words_jdg['Issue Date'].dt.year.value_counts().add(df_UA_jdg['Issue Date'].dt.year.value_counts(), fill_value='0').sort_index()"
   ]
  },
  {
   "cell_type": "code",
   "execution_count": 56,
   "metadata": {},
   "outputs": [
    {
     "data": {
      "image/png": "[encoded data removed]",
      "text/plain": [
       "<matplotlib.figure.Figure at 0x16707da20>"
      ]
     },
     "metadata": {},
     "output_type": "display_data"
    }
   ],
   "source": [
    "fig = plt.figure(figsize=(10, 10))\n",
    "occurences_overTime_gdl.add(occurences_overTime_jdg, fill_value = '0').sort_index().plot('bar')\n",
    "plt.title('# of articles containing \"green\" words in both journals in regard of issuing year date')\n",
    "plt.xlabel('Issue year date of the articles')\n",
    "plt.ylabel('# of articles containing \"green\" words')\n",
    "pylab.savefig('occurences_greenWords_bothJournals.png')"
   ]
  },
  {
   "cell_type": "markdown",
   "metadata": {},
   "source": [
    "**Topic Modelling**"
   ]
  },
  {
   "cell_type": "markdown",
   "metadata": {},
   "source": [
    "Retrieve all articles' content from GDL and JDG in two separated lists"
   ]
  },
  {
   "cell_type": "code",
   "execution_count": 31,
   "metadata": {},
   "outputs": [],
   "source": [
    "#gdl"
   ]
  },
  {
   "cell_type": "code",
   "execution_count": 57,
   "metadata": {},
   "outputs": [],
   "source": [
    "articles_gdl = []\n",
    "for word in list(matched_words_gdl['Word found'].unique()):\n",
    "    fileobj = open(ARTICLES_FOLDER+word+'_gdl', 'rb')\n",
    "    articles_fullText = pickle.load(fileobj)\n",
    "    articles_gdl.append(articles_fullText)\n",
    "articles_gdl.append(UA_fullText_gdl) \n",
    "#flatten list\n",
    "articles_gdl = [y for x in articles_gdl for y in x]"
   ]
  },
  {
   "cell_type": "markdown",
   "metadata": {},
   "source": [
    "Retrieve the titles of the articles in same order as they are in the list of contents"
   ]
  },
  {
   "cell_type": "code",
   "execution_count": 58,
   "metadata": {},
   "outputs": [],
   "source": [
    "titles_list_gdl = matched_words_gdl['Article Name'].tolist() + df_UA_gdl['Article Name'].tolist()"
   ]
  },
  {
   "cell_type": "code",
   "execution_count": 59,
   "metadata": {},
   "outputs": [],
   "source": [
    "#jdg"
   ]
  },
  {
   "cell_type": "code",
   "execution_count": 60,
   "metadata": {},
   "outputs": [],
   "source": [
    "articles_jdg = []\n",
    "for word in list(matched_words_jdg['Word found'].unique()):\n",
    "    fileobj = open(ARTICLES_FOLDER+word+'_jdg', 'rb')\n",
    "    articles_fullText = pickle.load(fileobj)\n",
    "    articles_jdg.append(articles_fullText)\n",
    "articles_jdg.append(UA_fullText_jdg)   \n",
    "#flatten list\n",
    "articles_jdg = [y for x in articles_jdg for y in x]"
   ]
  },
  {
   "cell_type": "markdown",
   "metadata": {},
   "source": [
    "Retrieve the titles of the articles in same order as they are in the list of contents"
   ]
  },
  {
   "cell_type": "code",
   "execution_count": 61,
   "metadata": {},
   "outputs": [],
   "source": [
    "titles_list_jdg = matched_words_jdg['Article Name'].tolist() + df_UA_jdg['Article Name'].tolist()"
   ]
  },
  {
   "cell_type": "markdown",
   "metadata": {},
   "source": [
    "Retrieve all articles' for environment only"
   ]
  },
  {
   "cell_type": "code",
   "execution_count": 254,
   "metadata": {},
   "outputs": [],
   "source": [
    "#gdl"
   ]
  },
  {
   "cell_type": "code",
   "execution_count": 247,
   "metadata": {},
   "outputs": [],
   "source": [
    "word = 'environnement'    \n",
    "fileobj = open(ARTICLES_FOLDER+word+'_gdl', 'rb')\n",
    "articles_env_gdl = pickle.load(fileobj)"
   ]
  },
  {
   "cell_type": "code",
   "execution_count": 248,
   "metadata": {},
   "outputs": [
    {
     "data": {
      "text/plain": [
       "1175"
      ]
     },
     "execution_count": 248,
     "metadata": {},
     "output_type": "execute_result"
    }
   ],
   "source": [
    "len(articles_env_gdl)"
   ]
  },
  {
   "cell_type": "code",
   "execution_count": 249,
   "metadata": {},
   "outputs": [],
   "source": [
    "index_of_UA_env = list(df_UA_gdl[df_UA_gdl['Word found'] == 'environnement'].index)"
   ]
  },
  {
   "cell_type": "code",
   "execution_count": 250,
   "metadata": {},
   "outputs": [],
   "source": [
    "from operator import itemgetter "
   ]
  },
  {
   "cell_type": "code",
   "execution_count": 251,
   "metadata": {},
   "outputs": [],
   "source": [
    "articles_env_gdl = articles_env_gdl + list(itemgetter(*index_of_UA_env)(UA_fullText_gdl))"
   ]
  },
  {
   "cell_type": "code",
   "execution_count": 252,
   "metadata": {},
   "outputs": [
    {
     "data": {
      "text/plain": [
       "1233"
      ]
     },
     "execution_count": 252,
     "metadata": {},
     "output_type": "execute_result"
    }
   ],
   "source": [
    "len(articles_env_gdl)"
   ]
  },
  {
   "cell_type": "markdown",
   "metadata": {},
   "source": [
    "retrieve titles of environnement articles above"
   ]
  },
  {
   "cell_type": "code",
   "execution_count": 339,
   "metadata": {},
   "outputs": [],
   "source": [
    "titles_env_gdl = matched_words_gdl[matched_words_gdl['Word found'] == 'environnement']['Article Name'].tolist() + df_UA_gdl[df_UA_gdl['Word found'] == 'environnement']['Article Name'].tolist()"
   ]
  },
  {
   "cell_type": "code",
   "execution_count": 253,
   "metadata": {},
   "outputs": [],
   "source": [
    "#jdg"
   ]
  },
  {
   "cell_type": "code",
   "execution_count": 255,
   "metadata": {},
   "outputs": [],
   "source": [
    "word = 'environnement'    \n",
    "fileobj = open(ARTICLES_FOLDER+word+'_jdg', 'rb')\n",
    "articles_env_jdg = pickle.load(fileobj)"
   ]
  },
  {
   "cell_type": "code",
   "execution_count": 256,
   "metadata": {},
   "outputs": [
    {
     "data": {
      "text/plain": [
       "1421"
      ]
     },
     "execution_count": 256,
     "metadata": {},
     "output_type": "execute_result"
    }
   ],
   "source": [
    "len(articles_env_jdg)"
   ]
  },
  {
   "cell_type": "code",
   "execution_count": 259,
   "metadata": {},
   "outputs": [],
   "source": [
    "index_of_UA_env = list(df_UA_jdg[df_UA_jdg['Word found'] == 'environnement'].index)"
   ]
  },
  {
   "cell_type": "code",
   "execution_count": 260,
   "metadata": {},
   "outputs": [],
   "source": [
    "from operator import itemgetter "
   ]
  },
  {
   "cell_type": "code",
   "execution_count": 261,
   "metadata": {},
   "outputs": [],
   "source": [
    "articles_env_jdg = articles_env_jdg + list(itemgetter(*index_of_UA_env)(UA_fullText_jdg))"
   ]
  },
  {
   "cell_type": "code",
   "execution_count": 262,
   "metadata": {},
   "outputs": [
    {
     "data": {
      "text/plain": [
       "1467"
      ]
     },
     "execution_count": 262,
     "metadata": {},
     "output_type": "execute_result"
    }
   ],
   "source": [
    "len(articles_env_jdg)"
   ]
  },
  {
   "cell_type": "code",
   "execution_count": 341,
   "metadata": {},
   "outputs": [],
   "source": [
    "titles_env_jdg = matched_words_jdg[matched_words_jdg['Word found'] == 'environnement']['Article Name'].tolist() + df_UA_jdg[df_UA_jdg['Word found'] == 'environnement']['Article Name'].tolist()"
   ]
  },
  {
   "cell_type": "markdown",
   "metadata": {},
   "source": [
    "Stop words"
   ]
  },
  {
   "cell_type": "code",
   "execution_count": 343,
   "metadata": {},
   "outputs": [
    {
     "name": "stdout",
     "output_type": "stream",
     "text": [
      "[nltk_data] Downloading package stopwords to\n",
      "[nltk_data]     /Users/mathildeguillaumot/nltk_data...\n",
      "[nltk_data]   Package stopwords is already up-to-date!\n"
     ]
    },
    {
     "data": {
      "text/plain": [
       "True"
      ]
     },
     "execution_count": 343,
     "metadata": {},
     "output_type": "execute_result"
    }
   ],
   "source": [
    "from nltk.corpus import stopwords\n",
    "import nltk\n",
    "nltk.download('stopwords')"
   ]
  },
  {
   "cell_type": "code",
   "execution_count": 344,
   "metadata": {},
   "outputs": [],
   "source": [
    "stop = list(stopwords.words('french'))"
   ]
  },
  {
   "cell_type": "code",
   "execution_count": 345,
   "metadata": {},
   "outputs": [],
   "source": [
    "stop.append('contre')\n",
    "stop.append('entre')"
   ]
  },
  {
   "cell_type": "code",
   "execution_count": 346,
   "metadata": {},
   "outputs": [
    {
     "data": {
      "text/plain": [
       "(157, 247)"
      ]
     },
     "execution_count": 346,
     "metadata": {},
     "output_type": "execute_result"
    }
   ],
   "source": [
    "len(stop), len(stop_words)"
   ]
  },
  {
   "cell_type": "code",
   "execution_count": 347,
   "metadata": {},
   "outputs": [],
   "source": [
    "from stop_words import get_stop_words"
   ]
  },
  {
   "cell_type": "code",
   "execution_count": 348,
   "metadata": {},
   "outputs": [],
   "source": [
    "stop_words = get_stop_words('fr')"
   ]
  },
  {
   "cell_type": "code",
   "execution_count": 349,
   "metadata": {},
   "outputs": [],
   "source": [
    "all_stop_words = set(stop).union(set(stop_words))"
   ]
  },
  {
   "cell_type": "markdown",
   "metadata": {},
   "source": [
    "Topic modelling process"
   ]
  },
  {
   "cell_type": "code",
   "execution_count": 350,
   "metadata": {},
   "outputs": [],
   "source": [
    "import sklearn.feature_extraction.text as text"
   ]
  },
  {
   "cell_type": "code",
   "execution_count": 351,
   "metadata": {},
   "outputs": [],
   "source": [
    "vectorizer = text.CountVectorizer(input='content', max_df = 0.7, stop_words = all_stop_words, analyzer = 'word')"
   ]
  },
  {
   "cell_type": "code",
   "execution_count": 352,
   "metadata": {},
   "outputs": [],
   "source": [
    "articles_gdl_copy = articles_env_gdl.copy()"
   ]
  },
  {
   "cell_type": "code",
   "execution_count": 353,
   "metadata": {},
   "outputs": [],
   "source": [
    "for i in range(len(articles_gdl_copy)):\n",
    "    articles_gdl_copy[i] = re.sub(r'\\b\\w{1,4}\\b', '', articles_gdl_copy[i])"
   ]
  },
  {
   "cell_type": "code",
   "execution_count": 354,
   "metadata": {},
   "outputs": [],
   "source": [
    "dtm = vectorizer.fit_transform(articles_gdl_copy).toarray()"
   ]
  },
  {
   "cell_type": "code",
   "execution_count": 355,
   "metadata": {},
   "outputs": [],
   "source": [
    "vocab = np.array(vectorizer.get_feature_names())"
   ]
  },
  {
   "cell_type": "code",
   "execution_count": 356,
   "metadata": {},
   "outputs": [
    {
     "data": {
      "text/plain": [
       "(1233, 25811)"
      ]
     },
     "execution_count": 356,
     "metadata": {},
     "output_type": "execute_result"
    }
   ],
   "source": [
    "dtm.shape"
   ]
  },
  {
   "cell_type": "code",
   "execution_count": 357,
   "metadata": {},
   "outputs": [
    {
     "data": {
      "text/plain": [
       "25811"
      ]
     },
     "execution_count": 357,
     "metadata": {},
     "output_type": "execute_result"
    }
   ],
   "source": [
    "len(vocab)"
   ]
  },
  {
   "cell_type": "code",
   "execution_count": 358,
   "metadata": {},
   "outputs": [],
   "source": [
    "from sklearn import decomposition"
   ]
  },
  {
   "cell_type": "code",
   "execution_count": 359,
   "metadata": {},
   "outputs": [],
   "source": [
    "num_topics = 10"
   ]
  },
  {
   "cell_type": "code",
   "execution_count": 360,
   "metadata": {},
   "outputs": [],
   "source": [
    "num_top_words = 3"
   ]
  },
  {
   "cell_type": "code",
   "execution_count": 361,
   "metadata": {},
   "outputs": [],
   "source": [
    "clf = decomposition.NMF(n_components=num_topics, random_state=1)"
   ]
  },
  {
   "cell_type": "code",
   "execution_count": 362,
   "metadata": {},
   "outputs": [],
   "source": [
    "doctopic = clf.fit_transform(dtm)"
   ]
  },
  {
   "cell_type": "code",
   "execution_count": 363,
   "metadata": {},
   "outputs": [],
   "source": [
    "topic_words = []"
   ]
  },
  {
   "cell_type": "code",
   "execution_count": 364,
   "metadata": {},
   "outputs": [],
   "source": [
    "for topic in clf.components_:\n",
    "    word_idx = np.argsort(topic)[::-1][0:num_top_words]\n",
    "    topic_words.append([vocab[i] for i in word_idx])"
   ]
  },
  {
   "cell_type": "code",
   "execution_count": 365,
   "metadata": {},
   "outputs": [
    {
     "data": {
      "text/plain": [
       "[['économie', 'économique', 'pollution'],\n",
       " ['conseil', 'fédéral', 'commission'],\n",
       " ['déchets', 'spéciaux', 'tonnes'],\n",
       " ['suisse', 'fédéral', 'suisses'],\n",
       " ['développement', 'genève', 'conférence'],\n",
       " ['marché', 'hausse', 'indice'],\n",
       " ['protection', 'office', 'fédéral'],\n",
       " ['jusqu', 'centre', 'lausanne'],\n",
       " ['aujourd', 'ainsi', 'millions'],\n",
       " ['pollution', 'mesures', 'forêts']]"
      ]
     },
     "execution_count": 365,
     "metadata": {},
     "output_type": "execute_result"
    }
   ],
   "source": [
    "topic_words"
   ]
  },
  {
   "cell_type": "code",
   "execution_count": 366,
   "metadata": {},
   "outputs": [
    {
     "name": "stdout",
     "output_type": "stream",
     "text": [
      "LES RATS DE VILLE ET L'«ENVIRONNEMENT»: 8 7 9\n",
      "«ENVIRONNEMENT »: 8 0 7\n",
      "•dada, environnement lumino-cinétique, bandes dessinées: 8 7 3\n",
      "Environnement •. Des milliers d'hectares ae parc dans l'arrière-cour de Londres: 8 9 6\n",
      "Notre environnement immédiat Le papier: 8 0 5\n",
      "Les gaz d'automobile et l'environnement: 9 8 3\n",
      "Environnement: le grand combat de l'Amérique: 8 9 0\n",
      "ENVIRONNEMENT: LE GRANDCOMBAT DE L'AMÉRIQUE: 8 9 4\n",
      "L'ENVIRONNEMENT AUX ETATS-UNIS. - II: 8 0 9\n",
      "Conseil des Etats: oui à l'article constitutionnel sur l'environnement: 1 6 4\n",
      "L'ENVIRONNEMENT AUX ETATS-UNIS. - V Ecologie: ressouder les maillons brisés: 8 9 0\n",
      "L'environnement aux Etats-Unis: 8 0 6\n",
      "L'ENVIRONNEMENT AUX ETATS-UNIS. - VI La marche arrière à quel prix ?: 8 9 0\n",
      "L'ENVIRONNEMENT AUX ÉTATS-UNIS: 8 0 5\n",
      "L'ENVIRONNEMENT AUX ETATS-UNIS. - VII LA MARCHE ARRIÈRE: LE BAL DES MILLIONS: 8 9 0\n",
      "Paris: M. Robert Poujade ministre de l'Environnement: 9 8 7\n",
      "Environnement : le temps presse: 1 3 6\n",
      "Développement du cerveau et environnement visuel: 8 4 9\n",
      "Protection de l'environnement la lutte obtient: 9 8 7\n",
      "Environnement: la Suisse sera représentée à la conférence internationale de Prague: 1 3 4\n",
      "PLAN CELIO ET ENVIRONNEMENT Union syndicale: oui le 6 juin: 3 6 1\n",
      "Le nouveau régime financier fédéral et la protection de l'environnement: 6 0 1\n",
      "Vivre sa ville: 60 millions d'auditeurs francophones et le «mal» de l'environnement: 7 8 3\n",
      "L'environnement pour M. Poujade: une politique fondée sur une morale: 8 6 0\n",
      "Les deux projets très largement acceptés Régime financier : 3 oui pour 1 non Environnement : 12 oui pour 1 non: 6 7 1\n",
      "Régime financier et environnement: accord unanime du peuple et des cantons MM. Celio et Tschudi se félicitent de l'appui massif apporté à la tâche du Gouvernement Désormais, aller de l'avant POU R L'ALLIANCE\" DES INDEPENDANT S Le régime financier adopté ne résoudra rien: 1 6 3\n",
      "Les Vaudoises et les Vatidois ont très nettement accepté les deux projets fédéraux Régime financier : 4 oui pour 1 non Environnement: 2358 non ipour 73839 oui: 7 6 8\n",
      "80 % des cancers de l'homme causés par l'environnement: 8 4 7\n",
      "ASSOCIATION SUISSE DE L'ÉNERGIE ATOMIQUE L'environnement, un faux problème si...: 3 8 0\n",
      "Pour une dimension nouvelle de notre environnement: 8 3 0\n",
      "Environnement, air pur et propreté: 7 9 3\n",
      "Lausanne et la protection de l'environnement Guerre ouverte aux détergents à Vidy: 9 8 7\n",
      "Dans un tableau alarmant brossé par l'«Observer&gt; Expansion économique et bataille pour l'environnement sont incompatibles: 3 8 9\n",
      "Les centrales nucléaires ne présentent aucun danger pour l'environnement: 6 9 1\n",
      "Option: l'étude de l'environnement: 8 7 6\n",
      "«Au nom de l'environnement et d'une énergie diversifiée»: 3 8 7\n",
      "Pour trois Suisses sur quatre « Priorité à l'environnement ! ainsi qu'à la prévoyance vieillesse: 3 8 6\n",
      "Le Conseil de l'Europe et l'environnement: 9 8 7\n",
      "La délégation suisse à la conférence de Stockholm sur l'environnement: 3 1 6\n",
      "Net recul des popistes et succès pour... l'environnement: 1 7 6\n",
      "Ciba-Geigy : la production sera adaptée aux impératifs de protection de l'environnement: 3 6 1\n",
      "Environnement: 4 9 8\n",
      "Aujourd'hui s'ouvre à Stockholm sans les pays de l'Est la conférence des Nations Unies sur l'environnement: 9 8 7\n",
      "Conférence sur l'environnement; la Chine prend les devants: 9 8 7\n",
      "La Suisse adhère en principe à la déclaration sur l'environnement: 3 6 4\n",
      "Environnement : l'industrie des machines entend collaborer à sa protection: 6 3 1\n",
      "Le «jury de l'environnement » ai^ complet: 6 3 7\n",
      "Soviet suprême : protéger l'environnement: 1 6 8\n",
      "Le Comptoir, jour par jour Lausanne et l'environnement &lt;Une œuvre collective»: 3 7 8\n",
      "Les bureaux des Grands Conseils romands à Lausanne Environnement et statistique: besoin d'une collaboration intercantonale: 8 1 7\n",
      "Aujourd'hui à l'Ecole polytechnique de Lausanne La protection de l'environnement menu de la Journée de la publicité: 6 7 8\n",
      "Ala Journée romande de la publicité Comment persuader l'électeur de l'utilité d'une politique de l'environnement: 8 6 7\n",
      "Journal suisse Séminaire écologique ouvert à Berne par M. Celio Politique, environnement et croissance : les intégrer pour un avenir humain: 0 8 3\n",
      "«Expollution» ou les collégiens d'Orbe et leur environnement...: 6 8 4\n",
      "Amorces d'une politique internationale de l'environnement: 6 1 8\n",
      "Amorces d'une politique internationale de l'environnement. - II A la recherche d'instruments efficaces: 4 1 0\n",
      "Amorce d'une politique internationale de l'environnement: 6 9 0\n",
      "Environnement : commission consultative mise sur pied: 1 7 6\n",
      "Protection de l'environnement : neuf entreprises suisses collaborent: 6 3 8\n",
      "Environnement : poste dirigeant confié à un Suisse: 4 1 3\n",
      "Environnement: du pain sur la planche de la nouvelle commission consultative: 1 7 6\n",
      "Le chauffage à distance pour protéger l'environnement: 7 9 8\n",
      "LA CRISE DE L'ENVIRONNEMENT N'A RIEN D'INÉLUCTABLE: 0 2 9\n",
      "Politique de l'environnement et croissance: 0 9 8\n",
      "Industrie américaine du papier 477 millions de dollars pour protéger l'environnement: 8 6 1\n",
      "Conseil des Etats: Statistique scolaire et protection de l'environnement: 1 6 2\n",
      "Protection de l'environnement des experts vont: 6 1 7\n",
      "ENVIRONNEMENT A Vienne, l'Europe tente de grouper son tir: 3 4 6\n",
      "CONFÉRENCE DE VIENNE M. H.-P. TSCHUDI SE SUR L'ENVIRONNEMENT: DÉCLARE SATISFAIT: 3 4 6\n",
      "Les ingénieurs grecs aux prises avec les problèmes de l'environnement et les nécessités de la tactique défensive: 8 7 3\n",
      "Environnement: Franz Weber passe &lt;à l'attaque frontale) Une initiative pour soumettre les routes nationales au référendum dès le 1er août: 6 1 3\n",
      "Les dégâts causés à T environnement en Italie i. Le «jardin de l'Europe&gt; menacé: 9 2 8\n",
      "Le projet de gazoduc dans le Léman Les pêcheurs ont rencontré l'Office fédéral de la protection de l'environnement: 9 8 7\n",
      "A l'EPFL: on enseigne le génie de l'environnement: 9 8 7\n",
      "L'industrie des machines et la protection de l'environnement Une tâche coûteuse et souvent malaisée: 6 8 3\n",
      "i , » • '. Don Quichotte de l'environnement: 8 1 0\n",
      "Dès mardi à Genève Symposium international de mesure de l'environnement: 3 7 4\n",
      "Mouvement populaire vaudois pour l'environnement: 7 1 4\n",
      "Nouvelle pierre d'achoppement entre les deux Allemagnes: l'environnement: 6 8 1\n",
      "L'environnement attendra: 1 9 3\n",
      "Protection de l'environnement: un avant-projet de loi a vu le jour: 6 1 2\n",
      "Environnement: un cours pour employés communaux: 7 8 5\n",
      "Qu'est-ce que le Mouvement populaire pour l'environnement?: 6 8 1\n",
      "Prix «environnement» de la Banque de Paris et des Pays-Bas (Suisse) Des ordures reconverties en cloisons: 3 6 2\n",
      "Indifférence helvétique à la qualité de la vie et à l'environnement ?: 3 6 7\n",
      "Environnement : l'industrie veut faire connaître ses réalisations: 6 9 2\n",
      "DANS LE MOND E Journée mondiale de l'environnement : appel du WWF: 8 4 0\n",
      "Quand les lycéens discutent de démographie et d'environnement: 9 8 7\n",
      "Pour votre confort ..~. Economiser le chauffage - protéger l'environnement: 9 1 0\n",
      "de l'environnement est une affaire internationale »: 3 6 9\n",
      "Un instituteur vaudois obtient un « prix de l'environnement »: 3 6 8\n",
      "Ecologie et environnement : ' - ' ' nouveau cours à Cully: 8 6 7\n",
      "Séminaire à l'IMEDE sur l'« environnement » des entreprises: 3 5 7\n",
      "Séminaire sur la gestion de l'environnement: 4 7 8\n",
      "Séminaire international au CEI (Genève) sur le management et l'environnement: 4 7 8\n",
      "pour la protection de la nature Oui à la loi fédérale sur l'environnement: 6 3 1\n",
      "L'Association des communes suisses critique le projet de loi sur la protection de l'environnement (Com). — L'Association des communes suisses dans sa réponse concernant le projet de loi sur la protection de l'environnement, prend en premiei lieu position sur des questions de principe. D'entrée elle se déclare prête à mettre tout en œuvre afin de soutenir les efforts faits en vue d'améliorer la qualité de la vie, à la condition que ces efforts n'aillent pas au-delà des possibilités de l'Etat. Les trois plans, Confédération, cantons et communes, ont aujourd'hui atteint la limite de leurs possibilités ; c'est pourquoi en décidant de nouvelles obligations, il est d'une part nécessaire d'en définir exactement les conséquences financières et administratives et d'autre part de fixer dans une plus large , , mesure les degrés d'importance et de priorité. Voilà pourquoi l'Association des communes suisses estime que la législation sur la protection de l'environnement n'est pas supportable dans la forme prpposée. Le projet de loi contient toute une série d'articles qui limitent fortement TàùtonOmîe\" des communes et qui tiennent insuffisamment compte des exigences communales et locales. « L'Association des communes suisses et en principe d'avis que les obligations pouvant être remplies par des communes ou des régions ne doivent pas toujours être ré - glementées par l'autorité supérieure, ceci d'autant moins qu'une réglementation uniforme pour toute la Suisse ne saurait tenir compte des exigences locales et communales. » La protection de l'environnement concerne sans nul doute tout le monde, donc aussi nos trois échelons politiques. Il est donc incompréhensible que, une fois de plus, un projet de loi n'accorde aucun droit d'intervention aux communes.: 6 3 8\n",
      "Alliance des indépendants contre le projet de loi sur l'environnement: 6 1 8\n",
      "L'EPFL organisera de nouveau Tan prochain son cours post-grade de génie de l'environnement: 6 7 8\n",
      ".Remaniement complet du projet de loi sur la protection de l'environnement: 6 1 4\n",
      "§j Protection de l'environnement l'avant-projet est constitutionnel: 9 8 7\n",
      "L'Ecole européenne d'été a ouvert hier à l'EPFL sa 2e session, consacrée à l'environnement: 3 8 7\n",
      "Ecole européenne d'été à Lausanne : naissance d'une association pour l'environnement: 7 8 3\n",
      "Protection de l'environnement : séminaire universitaire aux Dîablerets: 6 7 8\n",
      "La chimie de l'environnement: ses buts et ses limites: 8 9 0\n",
      "Pour une loi sur l'environnement : améliorer l'information: 6 7 1\n",
      "Sous les auspices de l'IMEDE Un colloque à Lausanne sur « les contraintes de l'environnement» Lausanne — é l'IMEDE Institut: 8 7 0\n",
      "Réunion à Bruxelles des ministres de l'environnement du Conseil de l'Europe: 3 6 1\n",
      "Les ministres européens de l'Environnement veulent quitter l'abstraction: 1 6 3\n",
      "Génie de l'environnement : nouveau cours à l'EPFL en 1977: 6 8 2\n",
      "Société suisse pour la protection du milieu vital M. Ritschard : On ne peut sacrifier ni l'énergie ni l'environnement: 6 3 0\n",
      "Samedi 5 juin : Journée de l'environnement: 6 3 8\n",
      "Rapport de la Commission pour une conception globale de l'énergie Objectifs immédiats en matière d'énergie: réduire la dépendance sans menacer l'environnement: 9 8 7\n",
      "5 JUIN, JQURNÉE MONDIALE DE L'ENVIRONNEMENT r • • Un «sauvage» parle à l'homme blanc de la terre En 1854, le grand Chef blanc de La vue de vos villes tiennent comme le sang qui unit une même: 8 7 4\n",
      "Déclaration de M. Hurlimann Journée internationale de l'environnement: 6 3 1\n",
      "L'Office fédéral publie un nouveau bulletin sur la protection de l'environnement: 6 3 7\n",
      "La récession nuit-elle à la défense de l'environnement?: 6 3 8\n",
      "Protection de l'environnement On récupère les piles au mercure: 3 2 6\n",
      "Bruxelles : un nouveau programme sur l'environnement est adopté: 6 1 4\n",
      "Cours post-grade de génie de l'environnement: 7 6 8\n",
      "Signature à Genève de la Convention interdisant l'usage militaire de techniques modifiant l'environnement: 4 8 3\n",
      "A la conférence de Reikjavik sur l'environnement: «une catastrophe écologique probable avant 50 ans» M Samedi 11 juin, après une semaine de travaux, prenait fin avec un déjeuner offert par le premier approvisionnement en oxygène. Il apparaît que: 8 4 9\n",
      "DANS LE CADRE D'UNE ÉTUDE SUR L'ENVIRONNEMENT URBAIN L'OCDE examine à la loupe la circulation et les transports dans le canton de Genève: 7 9 4\n",
      "L'homme dans son environnement: 1 3 8\n",
      "Pour protéger l'environnement: 3 2 9\n",
      "A l'Ecole polytechnique de Lausanne l'industrie chimique et l'environnement: 6 2 7\n",
      "Transhelvétique et environnement Aqua Viva réplique: 1 3 6\n",
      "Quand les Brésiliens volent au secours de leur environnement: 6 8 7\n",
      "Protection de l'environnement: Berne consulte: 6 2 9\n",
      "Sciences naturelles, écologie et environnement Vers un centre WWF suisse à Yverdon: 3 7 8\n",
      "Protection de l'environnement: initiative originale dans la région lausannoise: 8 1 6\n",
      "Succès d'une campagne visant à protéger l'environnement du mercure: 3 1 9\n",
      "La CEE/ONU a décidé de tenir l'an prochain un «sommet» sur l'environnement en Europe: 4 0 8\n",
      "LE POUR... Nicolas Bernhardt: «Un regard neuf sur un environnement trop familier.»: 3 8 9\n",
      "Cartel romand d'hygiène sociale et morale: débat public sur l'environnement: 6 7 1\n",
      "Energie-environnement: «La Suisse a des ressources »: 3 6 7\n",
      "Les architectes et la protection de l'environnement: 6 1 2\n",
      "Protection de l'environnement: un programme d'études postgrades à l'EPFL: 2 6 8\n",
      "Protection de l'environnement M. Huerlimann répond aux critiques des écologistes: 6 3 9\n",
      "Congrès à Lausanne: quel avenir pour notre environnement?: 3 7 8\n",
      "Protection de l'environnement: le PDC est pressé: 6 3 5\n",
      "Protection de l'environnement: 6 3 2\n",
      "EN PLEIN ENVIRONNEMENT PROTESTANT L'image singulière du catholicisme américain: 8 1 0\n",
      "A la veille d'importantes décisions Valais et fluor: maintenir l'emploi sans sacrifier l'environnement: 8 9 3\n",
      "Ecole européenne d'environnement: un professeur lausannois président d'honneur: 7 9 8\n",
      "Environnement: responsable de l'ONU à Berne: 3 6 4\n",
      "Paul Géroudet: «Je me méfie terriblement des mots «environnement» et «écologie»...»: 8 3 6\n",
      "PRIX «ENVIRONNEMENT 72» Le thème 1978-80: 3 6 7\n",
      "EN AOUT La protection de l'environnement était le souci majeur des Suisses: 9 8 7\n",
      "ENVIRONNEMENT Gaz propulseurs dans les bombes aérosols: rencontre à Berne: 6 3 9\n",
      "Rapport de l'Institut de recherche sur l'environnement construit Le point sur l'énergie solaire dans le canton: 8 0 9\n",
      "Un spécialiste de l'environnement: 3 4 1\n",
      "LE PRÉSIDENT DE LA CONFÉDÉRATION PRÉSENT A L'INAUGURATION. Hiîrlimann met l'accent sur la sécurité et la protection de l'environnement: 3 1 8\n",
      "CEE-ONU: deux textes sur la protection de l'environnement: 6 4 9\n",
      "L'environnement a subi de fortes pressions: 4 0 8\n",
      "ENVIRONNEMENT La Suisse suggère au PNUE une gestion plus stricte: 3 7 6\n",
      "MARDI A BERNE L'Association des transports est née Pour les automobilistes, piétons et usagers des transports publics soucieux de l'environnement: 3 6 8\n",
      "Rencontre européenne sur la protection de l'environnement: 6 3 1\n",
      "LA SUISSE EN ZIGZAG^ , &lt;K-v^ NEUCHÂTEL: TRIBUNAL ADMINISTRATIF • LORS DE LA SESSION DU GRAND CONSEIL NEUCHÂTELOIS qui s'ouvre lundi prochain, les députés auront à se prononcer sur un projet de loi relatif à la création d'un Tribunal administratif. La Commission législative du Grand Conseil propose en effet d'élargir de cinq à huit le nombre des juges cantonaux et de confier à trois d'entre eux la juridiction administrative. Comme son nom l'indique, le Tribunal administratif connaît les différents qui opposent les services publics et leurs administrés. Les . recours ne seraient ainsi plus adressés au Conseil d'Etat, lequel est actuellement juge et partie (en tant que supérieur hiérarchique des fonctionnaires). (ATS) JURA: TOURISME • APRÈS AVOIR CONNU DURANT TROIS ANNÉES CONSÉCUTIVES un fléchissement des nuitées, dû à la récession économique, 1977 avait été, pour le tourisme jurassien comme pour celui de la Suisse, l'année de la reprise, puisque la progression atteignait 5,8%. Cette progression n'a malheureusement pas pu se confirmer en 1978 en raison de la cherté du franc suisse et de conditions météorologiques défavorables, constate le directeur de Pro Jura, l'Office jurassien du tourisme, dans le rapport d'activité 1978/ 79. Avec un total de 143 461 nuitées en hôtellerie pour 1978, contre 146 3S1 nuitées en 1977, le Jura des sept districts enregistre un léger recul, inférieur à la moyenne suisse puisqu'il n'est que de 2% (moyenne suisse: 2,5%). (ATS) F. WEBER: L'ENVIRONNEMENT A L'ÉCOLE: • DES PÉDAGOGUES, DES MAÎTRES D'ÉCOLE ET DES PARENTS D'ÉLÈVES venus de toute la Suisse ont participé en cette fin de semaine, à Glion-Montreux, à un colloque consacré à l'éducation et à l'environnement, sous les auspices d'«Helvetia Nostra» et sous la présidence de M.Franz Weber. L'assemblée a décidé de lancer, le 15 septembre prochain au plus tard, une initiative fédérale demandant la création d'une année scolaire consacrée à la protection de l'environnement et de la vie. Le texte provisoire de l'initiative (il sera mis au point par des juristes et des experts du droit constitutionnel) est le suivant: «La Confédération fait le nécessaire pour que tous les élèves de 14 à 20 ans reçoivent une année de formation dans la protection de l'environnement et de la vie. L'année de l'environnement doit être intégrée, selon les circonstances, dans l'enseignement secondaire (collège, école supérieure, gymnase, école de commerce). La réalisation de cette année sera confiée aux personnes intéressées par l'éducation. L'enseignement donné sera neutre sur le plan politique et confessionnel. La Confédération veille également à ce que, outre cette année de l'environnement, la protection du cadre de vie soit enseignée à tous les degrés, dans toutes les écoles. » (ATS) VALAIS: LE «SAFARI-MULET» • COMMENCÉ AU DÉBUT DE L'ÉTÉDANS LES ALPES VALAISANNES, LE «SAFARI-MULET» qui est entré dans sa septième année, continue à enchanter les touristes étrangers notamment les Américains. On note cependant qu'il y a moins d'inscriptions que lors de sa création. Rappelons qu'il s'agit, par cette opération touristique originale, de faire visiter, notamment aux étranger, les vallées alpestres à dos de mulet. La caravane s'est arrêtée lundi soir à Vercorin et va poursuivre sa route en direction de St-Martin, Hérémence, etc. Elle comprend actuellement une douzaine de personnes chevauchant cinq à six mulets. On note parmi ces touristes des Suédois, des Belges, des Américains et même des Suisses. L'itinéraire se situe entre 1500 et 2300 mètres d'altitude. (ATS): 3 1 6\n",
      "ENVIRONNEMENT «LE WWF S'EST DEPUIS TOUJOURS ENGAGÉ POLITIQUEMENT»: 3 6 8\n",
      "PROTECTION DE L'ENVIRONNEMENT Neuchâtel : le vignoble regagne du terrain grâce aux efforts des communes du littoral: 8 9 6\n",
      "ECONOMIE ET ENVIRONNEMENT Vers un retour a I âge des cavernes?: 8 0 5\n",
      "Protection de l'environnement tâche assumée aussi par les Travaux publics: 6 3 4\n",
      "Berne: fin de la conférence sur l'environnement: 1 3 4\n",
      "Loi sur la protection de l'environnement: le gouvernement sera encore plus sévère: 6 1 9\n",
      "Déchets nucléaires: l'environnement géologique et... politique romand peu favorable: 2 3 4\n",
      "PROTECTION DE L'ENVIRONNEMENT Alusuisse va investir 250 millions en Valais: 6 5 8\n",
      "ENVIRONNEMENT Marées noires et bras ballants: 8 0 6\n",
      "ENVIRONNEMENT Reprendre la charrue en mains: 4 8 9\n",
      "ENVIRONNEMENT Protection des eaux la Suisse fait mieux que ses voisins: 3 6 9\n",
      "L'OFFICE DE PROTECTION DE L'ENVIRONNEMENT PROPOSE 3 mesures contre les phosphates: 6 9 8\n",
      "esthétique DANS LEUR ENVIRONNEMENT: 8 7 0\n",
      "A L'ASSOCIATION DE LA JOURNÉE MONDIALE DE L'ENVIRONNEMENT Pollution: les Pôles fondent à cause des voitures: 9 8 4\n",
      "IMPACT DES VACANCES SUR L'ENVIRONNEMENT Comment sauver le tourisme - Y.:. ;c: 8 9 4\n",
      "ENVIRONNEMENT Projet de protection de l'Alaska: 6 8 4\n",
      "SUISSE ROMANDE 16.25 Point de mire 16.35 La Récré du lundi 17.00 TV éducative 17.30 Téléjournal 17.35 Au pays du Ratamiaou 17.50 Follow me: Première leçon. (2e diffusion) 18.05 L'antenne est à vous: Société genevoise pour la protection des animaux 18.25 Le village de Sabremange, pour les petits 18.30 Ces dames aux chapeaux verts (6) 18.50 Un jour, une heure, journal de l'information 19.15 Actuel, commentaires de l'actualité 19.30 Téléjournal 19.50 Faites vos mots, jeu 20.15 813: Arsène Lupin joue et perd (2) 21.15 Noir sur blanc, émission littéraire 22.15 La Suisse de Pierre Graber (2) Jusqu'au Conseil fédéral 22.55 Téléjournal FRANCE:TF1 11.07 11.33 12.00 12.35 12.50 13.25 17.00 17.29 17.55 18.12 18.20 18.44 19.00 19.30 21.08 22.08 22.18 Réponse à tout Midi première TF1 actualités Télévision régionale Croque vacances. Oh Possum! dessin animé. Bricolage: La pièce rétrécissante. Isidore le lapin. Infos-magazine. Variétés. Calimèro, dessin animé Après-midi de TF1 d'hier et d'aujourd'hui. Variétés: Patricia Lai. 13.43 Un grand-père à louer, téléfilm - 15.33 Au grenier du présent, reportage - 16.18 De branche en branche, recherches généalogiques - 16.48 A votre service TF quatre 1, Rue Sésame Les inconnus de 18 h. 55 Une minute pour les femmes: Un peu d'eau fraîche Actualités régionales Frédéric. La Baie James (1) TF1 actualités Paris au mois d'août. Film de Pierre Granier-Deferre, avec Charles Aznavour, Daniel Ivernel La part des autres: L'homme, sa biologie et son environnement Tour de l'Avenir TF1 actualités FRANCE: ANTENNE 2 11.05 Passez donc me voir 11.29 Les amours des années folles. Alberte (1) 11.45 Journal de l'A2 12.35 Chanteurs et musiciens des rues 12.50 Face à vous 13.00 Aujourd'hui Madame: Malades mentaux, les traitements en milieu ouvert 14.05 Police Story (6) Un âge dangereux 14.55 Itinéraires - Destinations: Les Touaregs du crépuscule - Profils: Martin Luther King 16.20 Fenêtre sur... le passage de l'école maternelle à l'école primaire 16.52 Récré A2 17.30 C'est la vie 17.50 Des chiffres et des lettres, jeu 18.20 Actualités régionales 18.45 Top club 19.00 Journal de l'A2 19.35 Question de temps 20.55 Far West: Les chercheurs d'or, document 21.40 Première, émission musicale 22.15 Journal de l'A2 • FRANCE:FR 3 17.30 FR3 Jeunesse 17.55 Scènes de la vie de province 18.10 Soir 3 18.20 Actualités régionales 18.40 Télévision régionale 18.55 L'Ours Paddington 19.00 Jeux de 20 heures 19.30 Le Défroqué. Film de Léo Joannon, avec Pierre Fresnay 21.15 Soir 3 • SUISSE ALEMANIQUE 16.15 Rendez-vous- 17.00 Pour les enfants- 17.45 Gschichte-Chischte - 17.55 Téléjournal - 18.00 The Muppet Show - 18.25 Les programmes - 18.35 Sports en bref - 18.40 Point de vue - 19.00 Ici la maternité de la ville: Chez nous en Sicile - 19.30 Téléjournal - 20.00 Tell-Star - 20.45 Sciences et technique: Les animaux domestiques - 21.30 Derrick, série - 22.30 Téléjournal - 22.40 Films suisses d'animation. • SUISSE ITALIENNE 18.00 Din Don: Les aventures musicales de Don Quichotte - 18.20 Les jeunes de Copenhague - 18.50 Téléjournal - 19.05 La Vallée de la Mort - 19.35 Objectif sport - 20.05 Magazine régional - 20.30 Téléjournal - 20.45 ... sans fils... Images, paroles et sons du futur - 21.45 L'Uomo che ride. Film de Sergio Corbucci, avec Jean Sorel - 23.20 Tèléjournal.: 3 7 8\n",
      "PROTECTION DE L'ENVIRONNEMENT Lacs suisses: le poisson comestible se fait rare: 6 2 9\n",
      "CONTRIBUTION À LA PROTECTION DE L'ENVIRONNEMENT Une poudre inerte en guise de pesticide: 9 8 7\n",
      "Environnement et hydrologie: remise de certificats à l'EPFL: 8 3 7\n",
      "Convergences sur l'environnement: 3 6 1\n",
      "EN AVIGNON La première Biennale du film sur l'environnement: 9 8 7\n",
      "ENVIRONNEMENT Une brochure pour jardiniers... écologistes: 6 8 2\n",
      "Le génie de l'environnement à l'EPFL: dix ans déjà: 2 8 7\n",
      "SUISSE dernière ENVIRONNEMENT Aérosols: Berne bientôt plus sévère: 3 1 6\n",
      "PROGRAMME UNESCO Environnement: la Suisse se penche sur ses montagnes: 3 8 4\n",
      "Ï^S^Ï'.'CQNGHJES ' RADIOPROTËCTIÔN tournât tefiSttnfc «Notre environnement est propre»: 3 8 9\n",
      "L'armée, les femmes, l'environnement trois thèmes du Festival de Nyon: 8 7 3\n",
      "ÉLECTIONS COMMUNALES Marx Lévy (PS): «Je défends la pénétrante au nom de l'environnement»: 8 1 7\n",
      "Une étude de l'IREC sur l'environnement construit: 8 0 7\n",
      "BROCHURE SUR L'ENVIRONNEMENT Il faut préserver le réseau des chemins pédestres: 3 1 8\n",
      "ENVIRONNEMENT La guerre du fluor prend fin en Valais: 9 2 8\n",
      "ENVIRONNEMENT Les Bâlois vont nettoyer le Rhin Trois installations d'épuration fonctionneront sur territoire suisse à la fin de: 8 3 6\n",
      "LES CONSÉQUENCES DU SEL SUR L'ENVIRONNEMENT Saler les routes oui, mais!: 9 6 8\n",
      "Environnement: une campagne de sensibilisation \"v» m: 3 6 8\n",
      "PROGRAMME DE LA SESSION PARLEMENTAIRE DE PRINTEMPS L'environnement au National et l'énergie aux Etats: 1 6 0\n",
      "La protection de l'environnement «à l'unanimité»: 6 1 4\n",
      "Protection de l'environnement huit ans pour un projet de loi: 1 6 9\n",
      "National: premiers débats sur l'environnement: 1 6 3\n",
      "CONSEIL NATIONAL Protection de l'environnement la recherche d'une voie médiane: 9 8 7\n",
      "DÉBAT MARATHON SUR L'ENVIRONNEMENT Les écologistes marquent des points au National: 1 2 6\n",
      "Environnement: les poussières pleuvent sur Biberist depuis trente ans!: 6 8 9\n",
      "PROTECTION DE L'ENVIRONNEMENT Le Conseil national renonce à taxer les pollueurs: 1 6 0\n",
      "CONSEIL NATIONAL Protection de l'environnement droit de recours acquis de justesse: 1 6 5\n",
      "CONSEIL NATIONAL Environnement: le projet de loi accepté... enfin: 1 6 5\n",
      "• DÉLINQUANCE: CONGRÈS INTERNATIONAL À INTERLAKEN. - Un séminaire international de trois jours sur le thème des «délinquants psychiquement anormaux et toxicomanes» s'est ouvert jeudi à Interlaken. Les participants proviennent de sept pays européens. Parmi les organisateurs, le Groupe suisse de travail de criminologie et l'Université de Berne. Le séminaire est placé sous le patronage du chef du Département fédéral de justice et police Kurt Furgler. (ATS) • WWF: «LA LOI SUR L'ENVIRONNEMENT N'EST QU'UN PETIT PAS». - La loi sur l'environnement n'est qu'un petit pas», estime la section suisse du World Wildlife Fund (WWF). Commentant les travaux du Conseil national, le WWF précise que le nouveau texte, qui doit encore être soumis au Conseil des Etats, n'empêchera pas réellement la dégradation constante de notre environnement. (ATS) • STOPPER L'EXODE DES CERVEAUX. - Si la Suisse désire conserver une position concurrentielle sur le plan international en matière d'énergie, elle doit absolument stopper l'exode de nos chercheurs. Telle est la conclusion d'une manifestation organisée par le Forum suisse de l'énergie jeudi à Berne. Elle était consacrée au thème de l'avenir de la recherche énergétique en Suisse. Cette dernière est d'une importance décisive pour notre pays. Elle doit lui permettre de diminuer sa dépendance à l'égard de l'étranger.: 3 1 7\n",
      "M. HÛRLIMANN À VIENNE Un front austro-suisse pour la défense de l'environnement: 3 6 9\n",
      "ASSEMBLÉE DE L'AÉRO-CLUB DE SUISSE Les aviateurs soucieux de l'environnement: 3 9 6\n",
      "Environnement: erreur dans les subventions...: 1 6 2\n",
      "Environnement: un traité pour protéger la Méditerranée: 4 8 6\n",
      "CR I D'ALARME DES AMIS DE LA NATURE Grave menace sur l'environnement en Valais: 8 6 3\n",
      "INAUGURATION D'UN NOUVEAU SERVICE Neuchâtel: seize fonctionnaires pour protéger l'environnement: 6 7 8\n",
      "DIXIÈME «PRIX ENVIRONNEMENT» DE PARIBAS SUISSE Protection des eaux: deux Suisses primés: 3 6 7\n",
      "40 villes suisses s'unissent pour protéger l'environnement: 2 8 7\n",
      "ENVIRONNEMENT Demi-victoire pour Greenpeace: 2 8 5\n",
      "ENVIRONNEMENT Pollution de l'air la cote d'alerte est atteinte: 9 6 3\n",
      "ENVIRONNEMENT Réhabilitation des vieux quartiers nouveau document dans le dossier: 3 8 9\n",
      "ENVIRONNEMENT Deux prix pour «Temps présent»: 3 7 8\n",
      "Protection de l'environnement: le tribut des automobilistes: 9 3 5\n",
      "Génie de l'environnement: 10 ans déjà à l'EPFL: 6 1 8\n",
      "EPFL: L'Institut du génie de 'environnement fête ses dix ans: 6 8 2\n",
      "JUGEMENTS DU TRIBUNAL FÉDÉRAL Environnement: une initiative progressiste refait surface: 1 6 8\n",
      "ENVIRONNEMENT Protection de la nature: fédéralisme mal compris?: 6 3 1\n",
      "ENVIRONNEMENT: UN RAPPORT DE 400 PAGES Où est passée l'eau des rivières?: 6 1 8\n",
      "ENVIRONNEMENT Pluies acides: Berne veut ratifier la convention internationale: 9 1 4\n",
      "ENVIRONNEMENT Sapin de Noël: atteinte à la forêt?: 8 7 5\n",
      "ENVIRONNEMENT Altiport de Verbier la polémique rebondit: 1 8 3\n",
      "créer un environnement: 0 8 4\n",
      "Environnement les sirènes du Parti écologiste: 8 6 4\n",
      "Environnement les sirènes du Parti écologiste: 8 6 4\n",
      "ENVIRONNEMENT Gaz d'échappement: le délai de grâce n'est pas prolongé: 3 9 1\n",
      "ENVIRONNEMENT Bébés phoques: le Canada menace la CEE de représailles: 4 8 5\n",
      "ENVIRONNEMENT Régions de montagne: quel avenir?: 8 1 6\n",
      "ENVIRONNEMENT Un amour blanc pour sauver les lacs?: 8 4 9\n",
      "ENVIRONNEMENT Les écoles tessinoises partent en guerre contre le tabagisme: 3 8 7\n",
      "Bâle, capitale de l'environnement: 6 3 2\n",
      "ENVIRONNEMENT Campagnols: Berne n'interviendra pas à Neuchâtel: 1 6 9\n",
      "ENVIRONNEMENT Ferraille importée de Seveso: «aucun danger»: 2 3 7\n",
      "ENVIRONNEMENT Développement urbain : des parlementaires inquiets: 3 1 4\n",
      "M. Bàbaiantz: « Le maximum est fait pour l'environnement»: 3 0 8\n",
      "ENVIRONNEMENT La dioxine de Seveso n'est pas en France: 2 8 3\n",
      "ENVIRONNEMENT Seveso: la RFA se tourne vers la Suisse et la RDA: 3 8 5\n",
      "ENVIRONNEMENT Déchets de Seveso: la polémique rebondit: 2 8 1\n",
      "ENVIRONNEMENT: 1 9 2\n",
      "ENVIRONNEMENT La dioxine de Seveso toujours introuvable: 8 2 1\n",
      "ENVIRONNEMENT Déchets de Seveso: des précisions jeudi: 2 8 5\n",
      "ENVIRONNEMENT: 1 9 2\n",
      "Environnement: une commission spéciale: 1 6 8\n",
      "ENVIRONNEMENT Lac de Constance: «Etat encore instable»: 3 6 8\n",
      "ENVIRONNEMENT Pollution atmosphérique: une action concertée pour préserver les forêts: 9 3 1\n",
      "Protection de l'environnement: un troisième cycle à l'EPFL: 6 7 8\n",
      "Les pro-nucléaires face à l'environnement: 3 0 7\n",
      "Loi sur la protection de l'environnement: les conséquences de Seveso: 2 1 6\n",
      "ENVIRONNEMENT Les «Verts» s'organisent: trois nouveaux partis cantonaux: 1 3 8\n",
      "ENVIRONNEMENT: 3 1 5\n",
      "SESSION D'ÉTÉ | En vedette aux Chambres fédérales, l'environnement...: 1 6 8\n",
      "ENVIRONNEMENT: 3 2 6\n",
      "ENVIRONNEMENT: 3 2 6\n",
      "Loi sur l'environnement: les écologistes reviennent à la charge: 1 6 3\n",
      "Loi sur l'environnement: vers un projet plus réaliste: 1 6 5\n",
      "Loi sur la protection de l'environnement: les juristes s'allient aux écologistes: 1 6 0\n",
      "Protection de l'environnement: l'empreinte des déchets de Seveso: 1 2 6\n",
      "Protection de l'environnement étonnant Conseil des Etats!: 1 6 0\n",
      "ENVIRONNEMENT: 3 2 6\n",
      "ENVIRONNEMENT: 3 2 6\n",
      "ENVIRONNEMENT Ecologie: le temps de l'action: 8 3 6\n",
      "ENVIRONNEMENT: 1 8 6\n",
      "ENVIRONNEMENT Le corps humain proie des eaux polluées: 9 8 3\n",
      "ENVIRONNEMENT: 1 8 6\n",
      "ENVIRONNEMENT Protection des eaux: des experts suisses à Bonn: 6 3 9\n",
      "ENVIRONNEMENT Déchets nucléaires: les craintes du WWF: 2 8 3\n",
      "ENVIRONNEMENT: 1 8 6\n",
      "ENVIRONNEMENT La chasse à la baleine bientôt interdite: 1 8 7\n",
      "ENVIRONNEMENT Essence sans plomb: recueil de l'approvisionnement: 3 9 6\n",
      "ENVIRONNEMENT Rothenthurm: plus de 160 000 signatures: 1 8 6\n",
      "ENVIRONNEMENT Une maladie mortelle menace des forêts: 9 3 1\n",
      "ENVIRONNEMENT: 3 9 2\n",
      "AGRICULTURE Mercure dans l'environnement: l'agriculture se mobilise: 8 6 9\n",
      "ENVIRONNEMENT La péninsule sud-africaine du Cap menacé de marée noire: 8 9 7\n",
      "ENVIRONNEMENT i - * •*i tf 3000 signatures contre le bruit de l'aérodrome d'Agno au Tessin: 1 6 8\n",
      "ENVIRONNEMENT: 3 9 2\n",
      "ENVIRONNEMENT Protection de la Grande Caricaie: les travaux continuent: 6 3 8\n",
      "ENVIRONNEMENT: 3 9 2\n",
      "ENVIRONNEMENT Déchets nucléaires: immersion reportée: 2 3 9\n",
      "ENVIRONNEMENT Pollution des massifs calcaires notre eau potable est menacée: 8 2 9\n",
      "Un bâtiment robuste, harmonieux et bien intégré dans son environnement: 8 1 0\n",
      "ENVIRONNEMENT Le Léman, bientôt un énorme marécage: 9 8 7\n",
      "ENVIRONNEMENT: 2 6 7\n",
      "Les socialistes préparent une initiative sur l'environnement: 1 3 8\n",
      "Environnement: droit de recours des écologistes maintenu: 1 5 2\n",
      "ENVIRONNEMENT: 2 6 7\n",
      "ENVIRONNEMENT: 2 6 7\n",
      "Environnement: les écologistes déçus par les socialistes: 6 1 3\n",
      "ENVIRONNEMENT: 2 6 7\n",
      "ENVIRONNEMENT: 2 6 7\n",
      "ENVIRONNEMENT Seveso: «Un coup du sort»: 9 8 0\n",
      "ENVIRONNEMENT Seveso: acquittement demandé: 8 5 2\n",
      "Protection de l'environnement: la bataille s'engage au National: 1 6 2\n",
      "Environnement: un droit de recours pour les écologistes: 1 6 8\n",
      "ENVIRONNEMENT: 2 6 7\n",
      "ENVIRONNEMENT Bâle: projet-pilote pour un stand de tir «sans bruit»: 8 1 6\n",
      "ENVIRONNEMENT Seveso: les juges délibèrent: 8 2 1\n",
      "PRESSE ALÉMANIQUE Protection de l'environnement: la surprise: 1 6 8\n",
      "ENVIRONNEMENT Seveso: les cinq condamnés ont décidé de faire appel: 8 3 5\n",
      "Environnement : le Conseil des Etats prêt à se rallier: 1 6 9\n",
      ". • Loi sur l'environnement: les associations écologistes ont gagné: 1 6 5\n",
      "ENVIRONNEMENT: 3 6 9\n",
      "SONDAGE L'environnement la drogue et le chômage préoccupent les Suisses: 6 3 4\n",
      "ENVIRONNEMENT Les écologistes en guerre contre les fabricants de lessive: 1 6 3\n",
      "ENVIRONNEMENT: 3 6 9\n",
      "ENVIRONNEMENT Menace pour les forêts genevoises?: 9 3 7\n",
      "ENVIRONNEMENT Ouest de la Cité: plusieurs arbres doivent être abattus et remplacés: 8 9 1\n",
      "ENVIRONNEMENT-' i -ri H e \"oo&lt; d'animaux importées : la faune paie un lourd tribut: 3 6 8\n",
      "ENVIRONNEMENT La dernière chance des tourbières: 3 6 8\n",
      "ENVIRONNEMENT S^s*? •. •. .-. ï^&gt;. \\ Zt'jfitiùlivi.i,.*:-*.** ', Forêts et lacs menaces : des solutions existent: 6 8 9\n",
      "ENVIRONNEMENT Des apprentis-sauveteurs opéreront le rocher des chutes du Rhin: 8 6 9\n",
      "ENVIRONNEMENT Débit des cours d'eau: il faut rechercher un compromis: 1 0 8\n",
      "ENVIRONNEMENT Les stations d'épuration ont leurs limites: 2 8 9\n",
      "ENVIRONNEMENT: 3 6 9\n",
      "ENVIRONNEMENT Grave pollution à Peyres-Possens vaste opération de nettoyage: 7 9 8\n",
      "ENVIRONNEMENT Le Club alpin veut épurer les eaux usées de ses cabanes: 6 8 3\n",
      "UNION DES VILLES Place à la protection de l'environnement: 3 6 1\n",
      "ENVIRONNEMENT Dégâts aux forêts: pires que prévus selon «Sanasilva»: 9 1 3\n",
      "ENVIRONNEMENT: 3 6 9\n",
      "ENVIRONNEMENT: 8 1 6\n",
      "ENVIRONNEMENT: 8 1 6\n",
      "ENVIRONNEMENT: 3 1 9\n",
      "ENVIRONNEMENT Traitement des déchets: la Venoge reprend vie: 2 8 6\n",
      "ENVIRONNEMENT Inquiétante pollution en ville de Zurich: 9 8 7\n",
      "ENVIRONNEMENT: 3 1 9\n",
      "ENVIRONNEMENT: 3 1 9\n",
      "ENVIRONNEMENT Déchets radioactifs: tests sismiques avant l'entreposage: 2 9 1\n",
      "ENVIRONNEMENT Sauvez nos forêts!: 9 3 8\n",
      "ENVIRONNEMENT f . ' ,: 8 9 0\n",
      "ENVIRONNEMENT Mort des forêts : les premiers chiffres: 9 1 3\n",
      "ENVIRONNEMENT Suppression de routes: une initiative en gestation: 6 1 8\n",
      "ENVIRONNEMENT: 3 1 9\n",
      "ENVIRONNEMENT: 3 1 9\n",
      "ENVIRONNEMENT Zurich: contamination radioactive: 8 3 9\n",
      "AIDE AU DÉVELOPPEMENT Environnement: la Suisse patronne un nouvel organisme: 3 8 4\n",
      "ENVIRONNEMENT Mort des forêts: Berne cherche intensément un remède: 3 9 1\n",
      "ENVIRONNEMENT Priorité à l'essence sans plomb selon «Auto utile»: 3 9 5\n",
      "Une priorité: l'environnement: 1 9 3\n",
      "ENVIRONNEMENT Epuration des eaux: bilan positif: 9 6 8\n",
      "ENVIRONNEMENT Utilisation des boues d'épuration: 2 8 1\n",
      "Protection de l'environnement: des spécialistes formés à Lausanne: 6 8 7\n",
      "ENVIRONNEMENT Eau zurichoise menacée d'empoisonnement: 3 1 9\n",
      "EPFL ET PROTECTION DE L'ENVIRONNEMENT Au-delà des écologistes, les écologues: 6 8 2\n",
      "ENVIRONNEMENT Zones d'habitation: des obstacles pour réduire la vitesse des voitures: 3 9 1\n",
      "ENVIRONNEMENT Mort des forêts: les Romands pas assez motivés: 3 9 7\n",
      "ENVIRONNEMENT: 3 1 9\n",
      "ENVIRONNEMENT Tarif réduit pour le tram: exemple peu suivi: 3 8 6\n",
      "ENVIRONNEMENT Protection des eaux du lac Léman: lutte renforcée contre les phosphates: 1 6 3\n",
      "ENVIRONNEMENT Elimination des déchets chimiques des industriels s'expliquent: 2 3 8\n",
      "ENVIRONNEMENT: 1 9 3\n",
      "ENVIRONNEMENT: 1 9 3\n",
      "ENVIRONNEMENT Mort des forêts: collaboration accrue entre la Suisse et l'Autriche: 3 9 6\n",
      "ENVIRONNEMENT La Tchécoslovaquie au bord d'une catastrophe écologique: 9 8 2\n",
      "ENVIRONNEMENT Fin de la visite 'Alphons Egli en Autriche: 6 3 1\n",
      "ENVIRONNEMENT: 1 9 3\n",
      "ENVIRONNEMENT: 1 9 3\n",
      "Protection de l'environnement: «le mieux est l'ennemi du bien»: 9 8 3\n",
      "Transports publics franc succès de l'abonnement « environnement »: 8 1 5\n",
      "TCS: «Les garagistes peu sensibles à l'environnement»: 9 3 6\n",
      "ENVIRONNEMENT: 2 9 8\n",
      "INAUGURATION La Chaux-de-Fonds: ordures incinérées dans le respect de l'environnement: 6 1 2\n",
      "ENVIRONNEMENT: 2 9 8\n",
      "ENVIRONNEMENT: 2 9 8\n",
      "ENVIRONNEMENT Aménagement du territoire: les cantons romands en retard: 1 8 6\n",
      "ENVIRONNEMENT: 2 9 8\n",
      "ENVIRONNEMENT Automobile Club de Suisse: une journée d'étude sur la forêt malade: 9 3 8\n",
      "ENVIRONNEMENT Greenpeace demande une action immédiate contre les pluies acides: 9 4 3\n",
      "-ENVIRONNEMENT Essence empoisonnée: 3 9 1\n",
      "ENVIRONNEMENT: 8 3 6\n",
      "ENVIRONNEMENT Pollution : le Gouvernement argovien fait volte-face: 9 1 8\n",
      "ENVIRONNEMENT Une rivière change de lit: 8 1 7\n",
      "ENVIRONNEMENT Neuchâtel: haro sur le bostryche!: 8 9 1\n",
      "Courses automobiles et environnement: le geste de Saint-Gall: 3 1 9\n",
      "ENVIRONNEMENT Le coût du passage à {'essence sans plomb: 9 5 3\n",
      "M. Egli à la conférence européenne sur l'environnement: 3 1 4\n",
      "ENVIRONNEMENT: 8 3 6\n",
      "ENVIRONNEMENT: 6 8 7\n",
      "ENVIRONNEMENT Les collégiens de Brigue iront en classe à pied pour protéger la forêt: 6 8 7\n",
      "ENVIRONNEMENT: 6 8 7\n",
      "ENVIRONNEMENT Tailler haies et buissons: 7 8 6\n",
      "ENVIRONNEMENT Projet de Berne : phosphates interdits dans les lessives à partir de 1986: 9 1 6\n",
      "ENVIRONNEMENT Ne touchez pas aux faons: 7 8 0\n",
      "ENERGIE ET ENVIRONNEMENT: Réduire la pollution: 3 0 7\n",
      "RENCONTRE OFFICIELLE Protection de l'environnement vers un axe germano-suisse: 3 9 1\n",
      "ENERGIE ET ENVIRONNEMENT L'eau des centrales nucléaires dans les radiateurs: 0 8 9\n",
      "ENVIRONNEMENT «Ce n'est pas l'atome qui sauvera les forêts »: 9 1 8\n",
      "ENVIRONNEMENT Inventaire fédéral des paysages: inscription de 54 nouveaux sites: 6 3 1\n",
      "ENVIRONNEMENT Forêts grisonnes: amer constat: 9 1 8\n",
      "ENVIRONNEMENT: 6 8 7\n",
      "ENVIRONNEMENT: 3 6 5\n",
      "La protection de l'environnement «peut stimuler l'économie»: 6 3 0\n",
      "prix a payer pour protéger 'environnement: 9 6 3\n",
      "Le prix à payer pour protéger l'environnement: 9 6 3\n",
      "ENVIRONNEMENT: 8 1 2\n",
      "ENVIRONNEMENT: 8 1 2\n",
      "ENVIRONNEMENT Mort des forêts: 170 000 personnes prêtes à changer leur mode de vie: 9 7 1\n",
      "ENVIRONNEMENT Déchets : Berne encourage le compostage: 2 3 6\n",
      "ENVIRONNEMENT: 8 1 2\n",
      "ENVIRONNEMENT: 8 1 2\n",
      "ENVIRONNEMENT: 8 1 2\n",
      "r-ENVIRONNEMENT—i Vingt ans déjà...: 3 6 9\n",
      "ENVIRONNEMENT La pollution de la Seymaz est venue de Vandœuvres: 9 7 8\n",
      "ENVIRONNEMENT Ecoles tessinoises: alerte à l'amiante: 8 3 9\n",
      "ENVIRONNEMENT: 1 9 6\n",
      "ENVIRONNEMENT Réserves d'eau propre: Berne veut les protéger: 6 8 1\n",
      "ENVIRONNEMENT Essence sans plomb en vente dès la mi-octobre: 9 3 5\n",
      "ENERGIE Environnement: méfiez-vous des savants: 3 8 9\n",
      "ENVIRONNEMENT Les tempêtes retardent toujours l'opération «Mont-Louis»: 8 7 5\n",
      "ENVIRONNEMENT Lessive sans phosphates: le oui des consommatrices: 9 8 3\n",
      "ENVIRONNEMENT Immersion de déchets radioactifs: pas encore de moratoire: 1 3 2\n",
      "PROCÉDURE DE CONSULTATION De nouvelles mesures pour protéger l'environnement: 6 9 2\n",
      "ENVIRONNEMENT: 1 9 3\n",
      "ENVIRONNEMENT Sauvegarde des eaux: l'initiative est déposée à Berne: 3 6 9\n",
      "ENVIRONNEMENT « Rouler proprement » : un succès relatif: 9 1 3\n",
      "ENVIRONNEMENT qui à l'essence sans plomb: 9 7 3\n",
      "ENVIRONNEMENT Fin du rallye contre la mort des forêts: 3 9 1\n",
      "ENVIRONNEMENT Les voitures non polluantes arrivent sur le marché suisse: 3 9 5\n",
      "SONDAGE Environnement et chômage: les grands soucis des Suisses: 3 8 5\n",
      "ENVIRONNEMENT Léman: un plan de bataille pour diminuer le stock de phosphore: 3 9 6\n",
      "ENVIRONNEMENT AlphonsEgli: « Les forêts peuvent être sauvées »: 3 9 1\n",
      "ENVIRONNEMENT Mort des forêts: Franz Weber lance une initiative: 1 9 6\n",
      "Spécial sécurité PROTECTION DE L'ENVIRONNEMENT Nouvelles formes d'un vieux danger les poisons: 8 9 6\n",
      "Contre la dégradation de l'environnement: la «chaîne écologique»: 8 3 1\n",
      "ENVIRONNEMENT: 3 9 8\n",
      "ENVIRONNEMENT: 8 6 0\n",
      "ENVIRONNEMENT: 8 6 0\n",
      "ENVIRONNEMENT Les vestiges archéologiques lacustres menacés par la pollution: 9 8 3\n",
      "ENVIRONNEMENT Carburants: de l'argent pour les forêts: 1 6 9\n",
      "Agriculture et environnement un séminaire à Lausanne: 6 3 7\n",
      "ENVIRONNEMENT Le mal des forêts aggravé par le gel: 9 3 1\n",
      "ENVIRONNEMENT: 3 1 6\n",
      "ENVIRONNEMENT Vitesse et gaz d'échappement projet-pilote en Allemagne: 9 3 1\n",
      "ENVIRONNEMENT Mort des forêts: .-^-—- propositions socialistes et démocrates-chrétiennes: 1 9 5\n",
      "ENVIRONNEMENT Pollution de l'air: le smog nous menace: 9 7 6\n",
      "ENVIRONNEMENT Mort des arbres les forestiers réclament des subventions: 9 3 0\n",
      "ENVIRONNEMENT: 5 7 8\n",
      "Environnement: un empire dans l'Etat: 3 6 4\n",
      "ENVIRONNEMENT La branche automobile prend la défense du catalyseur: 9 3 8\n",
      "CONSEIL NATIONAL Une part des taxes sur les carburants à la protection de l'environnement: 1 9 6\n",
      "ENVIRONNEMENT Les Dix à la recherche d'un compromis sur les «voitures propres»: 9 5 1\n",
      "ENVIRONNEMENT CONSTRUIT Création d'une Distinction vaudoise d'architecture: 7 8 6\n",
      "ENVIRONNEMENT Seveso: le procès en appel débute lundi à Milan: 8 9 2\n",
      "ENVIRONNEMENT Gaz d'échappement: «Zurich aussi pollué que Londres!»: 9 0 2\n",
      "POLLUTION • .. -• • • • a~' • • Rencontre ministérielle triangulaire sur l'environnement: 3 9 6\n",
      "PROTECTION DE L'ENVIRONNEMENT Un guide pour appliquer la loi en attendant les ordonnances: 6 9 1\n",
      "POLLUTION L'Office de l'environnement s'en prend au gazon: 6 3 8\n",
      "PRODUITS NOUVEAUX Un minivéhicule électrique ami de l'environnement: 9 8 0\n",
      "ENVIRONNEMENT: 9 1 3\n",
      "COLLOQUE Dégradation de l'environnement: des diagnostics et moyens de lutte: 6 8 3\n",
      "ENVIRONNEMENT: 9 1 3\n",
      "ENVIRONNEMENT Peu d'empressement pour l'achat de la «voiture propre» en RFA: 9 5 8\n",
      "«Environnement + Jeunesse »: un grand concours: 7 8 6\n",
      "ENVIRONNEMENT Une taxe pour la forêt partage les Uranais: 8 6 9\n",
      "ENVIRONNEMENT: 8 9 3\n",
      "ENVIRONNEMENT Le mythe de la «propreté»: 9 8 2\n",
      "ENVIRONNEMENT Le prix Max Schmidheiny attribué aux frères Cornaz: 6 1 7\n",
      "ENVIRONNEMENT Après les arbres, les sols menacés par la pollution: 9 3 6\n",
      "PATRIMOINE ET ENVIRONNEMENT L'Ecu d'Or 1985 pour Avenches: 3 6 8\n",
      "ENVIRONNEMENT Mieux vaut brûler les boues d'épuration: 6 8 2\n",
      "ENVIRONNEMENT Parcage: lutte contre les voitures «parasites»: 9 8 7\n",
      "Protection de l'environnement la recherche est insuffisante: 6 9 4\n",
      "Une prime pour les automobilistes soucieux de l'environnement à Bâle: 6 9 3\n",
      "ENVIRONNEMENT Les usines d'incinération polluent encore: 9 2 1\n",
      "ENVIRONNEMENT Dioxine de Seveso: bientôt la fin du feuilleton!: 2 8 6\n",
      "ENVIRONNEMENT: 6 1 8\n",
      "Un plan d'action du TCS pour protéger l'environnement: 9 3 6\n",
      "ENVIRONNEMENT: 6 1 8\n",
      "Environnement: un institut cherche des: étudiants ™ :;: 6 8 7\n",
      "ENVIRONNEMENT RFA-RDA: le mur n'arrête pas la pollution: 9 8 7\n",
      "ENVIRONNEMENT Voitures à catalyseur forte hausse des ventes: 9 3 7\n",
      "ENVIRONNEMENT STEP de Vidy: une claque aux mauvaises odeurs...: 9 7 8\n",
      "ENVIRONNEMENT: 3 7 9\n",
      "AGRICULTURE Berne encourage des méthodes favorables à l'environnement: 6 8 0\n",
      "ENVIRONNEMENT • •*: Nucléaire et mort des forêts: mise au point: 9 3 1\n",
      "GENÈVE Les milieux touristiques s'intéressent à la défense de l'environnement: 4 3 6\n",
      "PREMIÈRE SUISSE À SAINT-GÀLL , :\" La comptabilité au service de l'environnement: 0 8 7\n",
      "Un centre informatique pour l'étude de l'environnement: 4 7 9\n",
      "ANNIVERSAIRE La Société d'utilité publique se tourne vers la protection de l'environnement: 3 8 6\n",
      "SUISSE - RFA - AUTRICHE Rencontre tripartite des ministres de l'environnement: 3 6 1\n",
      "ENVIRONNEMENT Protection des eaux: projet de loi critiqué: 3 6 1\n",
      "PROTECTION DE L'ENVIRONNEMENT Eclépens: CRIDEC sur rails: 2 6 1\n",
      "PROTECTION DE L'ENVIRONNEMENT Plaidoyer de M. Egli: 6 9 3\n",
      "AGRONOMIE-ENVIRONNEMENT La FAO adopte un code international sur les pesticides: 4 8 9\n",
      "ENVIRONNEMENT: 3 6 1\n",
      "ENVIRONNEMENT ' i* Halte au gaspillage de l'eau potable!: 6 8 3\n",
      "ENVIRONNEMENT Pollution atmosphérique: pas d'amélioration: 9 6 3\n",
      "ENVIRONNEMENT Amiante: le PSO demande un office spécialisé: 3 7 8\n",
      "ENVIRONNEMENT La Brévine: un lac menacé de mort: 8 6 9\n",
      "ENVIRONNEMENT: 1 3 8\n",
      "ENVIRONNEMENT Boues d'épuration: Zurich s'organise: 1 8 2\n",
      "ENVIRONNEMENT Catastrophe de Bhopal préludes au procès: 8 1 5\n",
      "SCIENCES DE L'ENVIRONNEMENT S î Un auditoire international à l'EPFL: 6 8 7\n",
      "ENVIRONNEMENT Lutte contre le bruit: vers une révolution des habitudes.: 6 8 9\n",
      "ENVIRONNEMENT Voitures «propres»; les Romands s'y mettent aussi: 9 3 5\n",
      "POLLUTION Lessives: le nouvel additif «NTA» semble acceptable pour l'environnement: 8 9 6\n",
      "ENVIRONNEMENT ET SANTÉ Première nuisance sociale, le bruit perturbe l'individu et la communauté: 6 3 7\n",
      "ENVIRONNEMENT 9 ••• - - \" : • f, fi«^A • • •. M..--\"-.- 1 . .. • • • i. • - • . • • r.'- ' • ; • '•' *-/', (. •. , . \" • • • ' - •r .-. • •• . . Lessives sans phosphates un toxique sous haute surveillance: 6 3 9\n",
      "ENVIRONNEMENT « La mort de la forêt genevoise? Allons donc! »: 9 4 7\n",
      "ENVIRONNEMENT Forte diminution des émissions de dioxyde de soufre en 1985: 9 6 5\n",
      "ENVIRONNEMENT i -i i • i Six thèses pour protéger la nature contre les sports d'hiver: 3 6 4\n",
      "HAUTES ECOLES Chimie de l'environnement: symposium international: 6 9 2\n",
      "ENVIRONNEMENT Carrière du Lessus à Saint-Tryphon : extension contestée: 6 7 8\n",
      "ENVIRONNEMENT Dimanches sans voitures: l'initiative a du plomb dans l'aile: 1 3 9\n",
      "LUTTE CONTRE LA POLLUTION. ... _ La Vallée protège son environnement: 8 9 6\n",
      "'X^Bâ ENVIRONNEMENT Arve polluée:: 9 7 6\n",
      "ENVIRONNEMENT • : motards veulent s'installer à Peney: 1 8 7\n",
      "ENVIRONNEMENT: 3 8 1\n",
      "ENVIRONNEMENT Les économies d'énergie suscitent encore des résistances: 9 8 0\n",
      "ENVIRONNEMENT Elimination des déchets spéciaux: Berne prend les choses en main: 2 6 1\n",
      "ENVIRONNEMENT « Sauver nos forêts » : Franz Weber ne désarme pas: 9 1 3\n",
      "Agriculture et environnement un face-à-face à L'EPFL: 6 7 8\n",
      "PROCÉDURE DE CONSULTATION Grandes constructions : étud d'impact sur l'environnement: 6 1 2\n",
      "ENVIRONNEMENT Déchets nucléaires: Berne devrait décider cette année: 3 1 2\n",
      "ENVIRONNEMENT: 3 1 2\n",
      "SÉMINAIRE Protection de l'environnement comment appliquer la loi...: 6 2 9\n",
      "Le cheval et l'environnement: 8 3 1\n",
      "ENVIRONNEMENT Forêts genevoises tout va bien: 9 8 1\n",
      "ENVIRONNEMENT Technologie suisse pour Oman: 3 6 2\n",
      "M. Kohi crée un Ministère de l'environnement: 6 3 7\n",
      "ENVIRONNEMENT: 3 8 7\n",
      "Protection de l'environnement: deux nouvelles ordonnances: 6 9 2\n",
      "ENVIRONNEMENT Nouvelle loi pour mieux protéger la forêt: 9 1 6\n",
      "ENVIRONNEMENT Etat de santé de la forêt: nouvelle étude: 9 3 8\n",
      "ENVIRONNEMENT Jeune Yverdonnois lauréat: 8 7 3\n",
      "ENVIRONNEMENT La pollution de l'air a considérablement diminué: 9 6 3\n",
      "ENVIRONNEMENT Mort des forêts et tourisme: une enquête entreprise à Berne: 9 3 8\n",
      "ENVIRONNEMENT: 9 6 2\n",
      "ENVIRONNEMENT Forêts: opération de sauvetage à Davos: 9 6 1\n",
      "ENVIRONNEMENT Winterthour: la pollution de l'air dépasse les normes: 9 6 5\n",
      "ENVIRONNEMENT Bâle: fuite de brome chez Ciba-Geigy: 8 9 2\n",
      "ENVIRONNEMENT: 3 2 1\n",
      "ENVIRONNEMENT Vote consultatif à Hâgendorf (SO): non massif à une décharge spéciale: 1 6 8\n",
      "Collégiens bâlois : une journée pour l'environnement: 8 6 1\n",
      "ENVIRONNEMENT: 3 2 1\n",
      "ENVIRONNEMENT Sapins malades au Tessin: 9 6 3\n",
      "ENVIRONNEMENT L'électromagnétisme est sans danger: 8 9 1\n",
      "ENVIRONNEMENT Déchets toxiques: les Américains Jg paieront cher: 2 6 9\n",
      "ENVIRONNEMENT Elisabeth Kopp plaide en faveur d'une taxe antipollution: 6 0 5\n",
      "ENVIRONNEMENT Pollution de l'air et santé: 3500 médecins lancent un appel: 9 1 7\n",
      "ENVIRONNEMENT Les néons classés en déchets spéciaux: 2 6 3\n",
      "ENVIRONNEMENT Glarîs: bilan de l'explosion du condensateur: 2 8 9\n",
      "ENVIRONNEMENT L'eau non potable cause la mort de 25 millions d'enfants par an: 8 4 9\n",
      "AVANT-PROJET DE LOI Efforts touristiques jurassiens: adaptés à l'environnement: 8 7 4\n",
      "ENVIRONNEMENT Publication d'un guide juridique: 6 3 4\n",
      "NOTRE ENVIRONNEMENT Ces aménagistes qui refont le monde: 6 8 4\n",
      "ENVIRONNEMENT Nouvel accident chimique en Argovie: 8 9 2\n",
      "ENVIRONNEMENT La CEE va débattre de la pollution du Rhin: 9 3 8\n",
      "ENVIRONNEMENT Service antipollution : le plus tôt sera le mieux!: 3 9 7\n",
      "ENVIRONNEMENT: 9 6 7\n",
      "ENVIRONNEMENT Pollution du Rhin: on manifeste de Bâle à Rotterdam: 8 9 0\n",
      "ENVIRONNEMENT: 9 6 7\n",
      "ENVIRONNEMENT Incendie de Schweizerhalle: commission spéciale à l'œuvre: 1 6 9\n",
      "NOUVEAU PRÉSIDENT DE LA CONFÉDÉRATION Pierre Aubert face à 1987: - : , ^ ' • «Priorité à l'environnement»: 1 3 8\n",
      "Les Suisses favorables à une industrie ménageant davantage l'environnement: 3 5 8\n",
      "ENVIRONNEMENT: 6 3 7\n",
      "ENVIRONNEMENT: 6 3 7\n",
      "ENVIRONNEMENT Jeux olympiques en Suisse l'opposition s'organise: 8 3 6\n",
      "ENVIRONNEMENT Le Parti écologiste opposé aux J.O. en Suisse: 3 6 2\n",
      "ENVIRONNEMENT Pollution de l'air: non aux mesures spectaculaires: 6 3 9\n",
      "ENVIRONNEMENT • Recyclage des ordures: essai-pilote à Schaffhouse: 2 8 5\n",
      "ENVIRONNEMENT Fuite d'acide acétique chez Sandoz: 8 9 6\n",
      "ENVIRONNEMENT Berne: de l'atrazine dans l'eau potable: 9 6 1\n",
      "ENVIRONNEMENT: 6 3 7\n",
      "ENVIRONNEMENT Pollution du Rhin: Strasbourg veut punir les fautifs: 1 9 3\n",
      "ENVIRONNEMENT: 3 8 9\n",
      "ENVIRONNEMENT Nouvelles mesures de sécurité chez Sandoz: 8 2 9\n",
      "ENVIRONNEMENT Neuchâtel: les nappes phréatiques toujours plus polluées: 9 8 6\n",
      "ENVIRONNEMENT Pollution du Rhin: la facture hollandaise: 9 3 0\n",
      "ENVIRONNEMENT Lancement de quatre initiatives anti-autoroutes: 3 8 1\n",
      "ENVIRONNEMENT Atrazine dans l'eau: une commune porte plainte: 9 1 8\n",
      "PROTECTION DE L'ENVIRONNEMENT M. Blanc chez les Verts: «Vaud ni meilleur, ni pire»: 6 2 7\n",
      "SALON DE L'AUTO Le Salon qui dit oui à l'environnement: 9 8 1\n",
      "ENVIRONNEMENT Un appel de Flavîo Cotti en faveur de la forêt: 3 7 1\n",
      "ENVIRONNEMENT La forêt tropicale agonise: 8 4 9\n",
      "FORUM Santé et environnement: 8 7 9\n",
      "ENVIRONNEMENT Les Anglais ne veulent pas des déchets toxiques zurichois: 2 3 5\n",
      "ENVIRONNEMENT Ecoles polytechniques: le Conseil encourage la recherche: 1 6 7\n",
      "ENVIRONNEMENT Une opposition aux «taxes d'incitation»: 1 6 3\n",
      "ENVIRONNEMENT L'écologie, ciment de l'Europe: 3 8 4\n",
      "ENVIRONNEMENT L'état du Léman en 1986: 9 6 4\n",
      "ENVIRONNEMENT Un inventaire des risques: 6 3 9\n",
      "ENSEIGNEMENT Environnement: nouveau film pédagogique: 8 1 0\n",
      "REMISE D'UN RAPPORT *\\ L'environnement, cause planétaire: 4 3 6\n",
      "CIBA-GEIGY: 700 millions pour l'environnement: 6 8 3\n",
      "ENVIRONNEMENT Comment appliquer le droit fédéral: 6 2 1\n",
      "ENVIRONNEMENT « Sauvez La Côte: 8 0 1\n",
      "POLLUTION Défense de l'environnement: élaboration d'une stratégie globale: 3 1 8\n",
      "ENVIRONNEMENT Un poison nommé gaz carbonique: 8 9 4\n",
      "Soleure : le cadastre de l'environnement: 3 9 6\n",
      "ENVIRONNEMENT Visite de la forêt lausannoise: 8 9 4\n",
      "ENVIRONNEMENT Projet de rapport sur la mort des forêts: 3 9 1\n",
      "ENVIRONNEMENT Les aigles de Cabaneros (Tolède) ne nicheront pas sous les balles: 8 1 4\n",
      "ENVIRONNEMENT: 9 5 8\n",
      "ENVIRONNEMENT: 9 5 8\n",
      "Le travail c'est la santé de l'environnement: 8 3 0\n",
      "Le travail c'est la santé de l'environnement: 8 3 0\n",
      "ENVIRONNEMENT Nouvelle maladie des forêts: le gel en cause: 9 8 3\n",
      "RFA: l'industrie a dépensé 7 milliards de DM en 1986 pour l'environnement: 8 9 5\n",
      "ENVIRONNEMENT: 3 8 7\n",
      "RÉFORME Histoire et géographie sciences de l'environnement?: 3 8 7\n",
      "EPFL Un troisième cycle pour l'environnement: 6 8 7\n",
      "ENVIRONNEMENT: 3 8 7\n",
      "ENVIRONNEMENT Plaine de la Venoge: enfin une station d'épuration: 8 1 7\n",
      "ENVIRONNEMENT Consommateurs et écologistes: «guerre aux aérosols!»: 3 6 9\n",
      "SCULPTURE-ENVIRONNEMENT De Valuminum en volcan: 8 3 7\n",
      "ANNEE DE L'ENVIRONNEMENT Nations Unies scrutent le Léman 3 '• f • i: 4 9 8\n",
      "Symbiose entre économie et environnement: 3 0 8\n",
      "ENVIRONNEMENT Que faire de nos déchets? spécialistes à Yverdon: 2 6 3\n",
      "ÉCONOMIE ET ÉCOLOGIE Année européenne de l'environnement: quatre concours: 3 6 8\n",
      "Armée et environnement: oui à une convention: 1 3 4\n",
      "ENVIRONNEMENT La couche d'ozone sera protégée: 6 9 4\n",
      "BILAN Une législature marquée par V environnement: 1 8 6\n",
      "ENVIRONNEMENT - Pollution de l'air: chiffres alarmants: 9 3 6\n",
      "ENVIRONNEMENT Test sur un vélomoteur à catalyseur: résultats prometteurs: 3 9 5\n",
      "LÉGISLATURE 1987-91 Priorité à l'Environnement: 1 6 3\n",
      "ENVIRONNEMENT Gaz d'échappement des motos: pour des normes plus sévères: 3 9 6\n",
      "ENVIRONNEMENT Le Rhin est toujours malade: 8 6 9\n",
      "Une politique internationale de l'environnement: 6 8 4\n",
      "ENVIRONNEMENT g;,î0; jWç.ron te332 ïrneis. f. ?S &lt;riias Cv\"?'Si '!??.? - ft'/V!* Z : . tf *ï £Ï pV :••'. ij.. . J~89fïO\"i&gt;aC.-38 È » r ÏSKSJC- •:••••;-•. -.- '.: les gaz d'échappement: 9 3 1\n",
      "ENVIRONNEMENT Catastrophe de Schweizerhalle: accord entre Sandoz et la France: 8 5 2\n",
      "ENVIRONNEMENT La Grande Caricaie 9 sous tutelle cantonale: 6 8 3\n",
      "ENVIRONNEMENT: 1 9 3\n",
      "ENVIRONNEMENT Offensive antipollution à Genève...: 9 1 7\n",
      "MINISTRES DE L'ENVIRONNEMENT A STRASBOURG «Tchernobâle, c'est fini»: 3 4 9\n",
      "ENVIRONNEMENT Plus de 300 décharges sauvages en Valais: 6 8 2\n",
      "Environnement: bilan de santé de la ville: 9 3 7\n",
      "Industrie et environnement: un grand débat s'ouvre à Interlaken S' f -â: 5 0 4\n",
      "m ENVIRONNEMENT: 8 3 6\n",
      "ENVIRONNEMENT: 1 9 3\n",
      "Environnement: un accord entre employeurs et syndicats: 6 3 7\n",
      "PROTECTION DE L'ENVIRONNEMENT Dimanche sans voiture ne déraillons pas!: 8 1 0\n",
      "Cent millions à l'aide de l'environnement: 8 6 0\n",
      "ENVIRONNEMENT Bilan d'une année de combats: 8 6 1\n",
      "ENVIRONNEMENT ET SANTÉ Pollution de l'air: plus grave sur les enfants: 9 8 3\n",
      "ENVIRONNEMENT Explosion Rhin peu Sandoz pollué: 6 7 5\n",
      "ENVIRONNEMENT L'ombre du cormoran plane sur la pêche.: 6 3 9\n",
      "ENVIRONNEMENT Le canton de Berne s'en prend aux déchets: 2 8 1\n",
      "L'environnement du «business» thème du prochain Symposium de Davos: 4 0 8\n",
      "Environnement à TEPFL: spécialisation très prisée: 6 7 3\n",
      "ENVIRONNEMENT: 9 0 2\n",
      "SYMPOSIUM DE DAVOS Dérégulation financière: les avis diffèrent autant que les circonstances W0RLD ECÇNOMIC FORUM De notre correspondant spécial). - La dernière séance plénière du World Economie Forum a été consacrée aux marchés financiers, sous le titre Le nouvel environnement financier international. La dérégulation de ces marchés a été le thème dominant de cette ultime séance. PIERRE NOVELLO En partisan convaincu de la déréglementation des marchés financiers, John Hennessy, président du Crédit Suisse First Boston de Grande-Bretagne, a expliqué le danger, selon lui, de vouloir ralentir cette libéralisation. Il estime que cette inversion de tendance entraînerait la contraction du crédit, ce qui déboucherait finalement sur une dépression. Par contre, il considère la stabilisation des changes comme absolument nécessaire. Cependant, elle ne doit se réaliser que par le biais de la résorption des grands déséquilibres des échanges commerciaux a ajouté M. Hennessy. Il considère cette stabilisation comme d'autant plus importante que les investisseurs sont probablement plus concernés par l'évolution des taux de change que par les taux d'intérêts offerts sur le marché. Ce qui les oblige à suivre de près tous les mouvements des résultats du commerce extérieur. «Que le législateur n'intervienne pas» M. Hennessy demande au législateur de s'abstenir de toute intervention sur le marché, et que, de plus les règles actuelles soient simplifiées. Par ailleurs, M. Hennessy a déclaré qu'il y avait trop de dollars dans le monde et que le système avait besoin d'être réformé.: 5 4 0\n",
      "ENVIRONNEMENT Berne déclare la guerre aux déchets: 2 6 3\n",
      "ENVIRONNEMENT Epuration : travaux à Orbe: 8 2 1\n",
      "ENVIRONNEMENT: 6 9 2\n",
      "ENVIRONNEMENT Prévention des catastrophes Bâle-Ville innove: 9 8 6\n",
      "ENVIRONNEMENT: 6 9 2\n",
      "ENVIRONNEMENT Sauvetage du Rhin : appel à'.N' T 'f * ' PI \" i . : r '••n jv. ; '\"•!'•&lt; -'Viii Sfif;: 9 3 8\n",
      "ENVIRONNEMENT Du radon dans les chaumières: 8 3 9\n",
      "ENVIRONNEMENT Pollution de rapport pessimiste: 9 6 2\n",
      "ENVIRONNEMENT .«Ufté'i'i? Bientôt un office de la conservation il de la naïuïèN \\* ,:f\\Z à Neuchâtel ^: 6 8 7\n",
      "ENVIRONNEMENT La construction d'un four d'incinération contestée à Bâle: 2 7 3\n",
      "Grand Conseil : un crédit pour l'environnement: 1 6 2\n",
      "ENVIRONNEMENT Taux de pollution «alarmant» dans le tunnel du Gothard: 9 7 3\n",
      "ENVIRONNEMENT Elimination des déchets spéciaux Berne cherche des solutions: 2 3 9\n",
      "ENVIRONNEMENT: 9 3 1\n",
      "ENVIRONNEMENT Zurich: déchets illégalement entreposés: 2 7 9\n",
      "Protection de l'environnement «Haro sur les enfants!»: 3 6 9\n",
      "ENVIRONNEMENT Etudes d'impact: premières expériences: 6 1 2\n",
      "ENVIRONNEMENT Cent dossiers pour défendre Lausanne: 8 7 1\n",
      "ENVIRONNEMENT: 3 9 6\n",
      "ENVIRONNEMENT La forêt marginale: 6 3 7\n",
      "ENVIRONNEMENT Déchets toxiques et tiers monde: la Suisse interpellée par la CEE: 2 3 8\n",
      "MODE D'APPLICATION Priorité à l'environnement et aux régions: 1 0 9\n",
      "PROTECTION DE L'ENVIRONNEMENT Elimination dés déchets spéciaux bases légales exigées: 2 1 3\n",
      "CONCOURS INDUSTRIE-ENVIRONNEMENT Entreprises écologiques primées: 3 8 1\n",
      "ENVIRONNEMENT •IH-Î •** • • » ' - »??. w-'« £y ' 'vis if-v •.) • . . ... , , s •• r ère» a été renfloué: 2 9 8\n",
      "CONSEIL FÉDÉRAL Fusion des offices de la forêt et de l'environnement c'estfaît: 1 6 9\n",
      "ENVIRONNEMENT Chasseurs de • !• Ilution en ballon: 9 4 7\n",
      "ENVIRONNEMENT Remous autour d'un concours de la Régie fédérale des alcools: 3 9 1\n",
      "ENVIRONNEMENT Berne prêt à accueillir une usine pour déchets spéciaux: 2 3 6\n",
      "ENVIRONNEMENT Les bombes aérosol bientôt interdites: 3 1 9\n",
      "ENVIRONNEMENT Retraitement des piles usagées: procédé inédit mis au point: 8 3 0\n",
      "ENVIRONNEMENT La pêche reprend enfin au lac de Lugano: 6 1 9\n",
      "ENVIRONNEMENT Chemins empoisonnés en forêt: 2 9 7\n",
      "Zurich aura aussi sa police de l'environnement: 6 3 7\n",
      "PROTECTION DE L'ENVIRONNEMENT Berne : sus aux pendulaires: 9 8 1\n",
      "ENVIRONNEMENT Bernex: pollution par erreur?: 9 2 7\n",
      "Environnement Smog d'été trois cantons font cavalier seul: 9 6 3\n",
      "ENVIRONNEMENT: 1 8 9\n",
      "ENVIRONNEMENT: 1 8 9\n",
      "ENVIRONNEMENT Alerte au Smog en Argovie: 9 6 7\n",
      "ENVIRONNEMENT: 3 8 9\n",
      "Des économistes inventent un langage pour concilier l'économie et l'environnement: 0 5 6\n",
      "ÉCONOMIE ET ENVIRONNEMENT (II) Mesure de la part de l'environnement dans l'économie : l'exemple du vignoble: 0 5 3\n",
      "NEUCHÂTEL Un guide de l'environnement pour les entreprises: 6 0 2\n",
      "ENVIRONNEMENT Controverse autour de la mort des forêts: 3 9 6\n",
      "ENVIRONNEMENT Qualité de l'air: Berne part en campagne: 1 9 6\n",
      "Les 2e journées de l'environnement auront lieu à Lucerne: 1 6 8\n",
      "ENVIRONNEMENT La Venoge qu'on nous envie: 8 7 1\n",
      "ENVIRONNEMENT Aménagement du territoire les cantons s'expliquent: 6 8 1\n",
      "ENVIRONNEMENT La Venoge qu'on nous envie: 8 7 1\n",
      "POUR QUE LE COURANT PASSE L'électricité - pour protéger^ ndïrë: ? environnement: 0 8 9\n",
      "ENVIRONNEMENT Pollution de l'air et médecins: 9 7 8\n",
      "ENVIRONNEMENT Le WWF à l'aide de la Venoge: 6 3 7\n",
      "ENVIRONNEMENT Un bureau d'études pour l'aménagement du territoire créé à Cernier: 8 6 7\n",
      "FMI-Banque Mondiale: les défis globaux de l'environnement: 4 0 5\n",
      "ENVIRONNEMENT Protection des prairies, des papillons et des oiseaux: 3 6 8\n",
      "ENVIRONNEMENT Berne: les canons à neige dans le collimateur: 1 6 3\n",
      "ENVIRONNEMENT Concours pour les écoliers romands: 3 6 8\n",
      "ENVIRONNEMENT Le Valais mieux armé face aux catastrophes: 8 7 1\n",
      "ENVIRONNEMENT Purifier les rivières genevoises: 8 6 3\n",
      "SOCIÉTÉ Environnement, drogue et jeunesse : les soucis des Suisses en 1988: 3 8 6\n",
      "ENVIRONNEMENT Economie et écologie dans les régions de montagne: 6 4 0\n",
      "ENVIRONNEMENT Déchets Chimiques à Bonfol : une assainie..*: 2 8 9\n",
      "ENVIRONNEMENT Visite américaine: 3 6 2\n",
      "ENVIRONNEMENT Première réunion de la Suisse avec ses voisins latins: 2 3 4\n",
      "RELATIONS INTERNATIONALES Ministres latins de l'Environnement: il faut réduire la pollution de l'air: 3 9 2\n",
      "ÉDUCATION Environnement une discipline scolaire importante: 8 6 7\n",
      "ENVIRONNEMENT Limitation des émissions d'oxyde d'azote: accord signé par 34 pays dont la Suisse: 3 9 4\n",
      "ENVIRONNEMENT Déchets radioactifs à Wûrenlingen: les opposants ne désarment pas: 2 1 5\n",
      "ENVIRONNEMENT N 1 Yverdon-Morat: le WWF indigné!: 3 6 8\n",
      "QUALITÉ DE LA VIE Les ministres germanophones de l'environnement à Saint-Moritz: 3 6 9\n",
      "ENVIRONNEMENT rtz •$:•• c?.:: La Suisse veut lutter contre le tourisme des déchets: 3 2 4\n",
      "ENVIRONNEMENT L'URSS se mobilise poursauver la mer d'Aral: 8 9 6\n",
      "ENVIRONNEMENT Aménagement du territoire: la loi sera révisée: 1 8 4\n",
      "ENVIRONNEMENT Forêts suisses : la santé revient: 9 1 3\n",
      "ENVIRONNEMENT: 2 3 7\n",
      "ENVIRONNEMENT La Chaux-de-Fonds : concentrations très élevées de radon: 9 8 7\n",
      "Nouveaux chefs à l'Office fédéral de l'environnement: 6 7 9\n",
      "Protection de l'environnement dans la CEE: rectificatif: 6 9 1\n",
      "Dollar: environnement confus: 5 8 1\n",
      "Environnement économique : « La Suisse doit Is'engager plus»: 3 0 1\n",
      "«Les importateurs défendent l'environnement»: 9 3 6\n",
      "ENVIRONNEMENT Couche d'ozone: le Nord-Sud s'en mêle: 4 0 8\n",
      "CHIMIE Un pari sur l'environnement: 9 8 7\n",
      "ENVIRONNEMENT Les eaux mieux protégées: 1 8 6\n",
      "LE SUISSE ET L'ENVIRONNEMENT Trop conformiste pour être «vert»: 9 8 7\n",
      "Environnement, femmes et Europe: 7 4 8\n",
      "Les Pays-Bas annoncent un vaste plan pour l'environnement: 9 2 4\n",
      "Forces motrices bernoises: engagement en faveur de l'environnement: 8 1 0\n",
      "Le souci de l'environnement: 8 0 3\n",
      "ENVIRONNEMENT: 4 8 3\n",
      "ENVIRONNEMENT Un monde propre... en désordre: 9 8 7\n",
      "ENVIRONNEMENT Pollution au Tessin : des mesures alarmantes: 9 8 7\n",
      "ENVIRONNEMENT Initiative de combat: 6 8 1\n",
      "'^U^ Environnement: le bilan des Forces motrices bernoises: 9 3 2\n",
      "L'environnement et l'inflation dominent un harmonieux sommet des Sept à Paris: 4 9 6\n",
      "CEE: future agence européenne pour l'environnement: 1 4 8\n",
      "ENVIRONNEMENT Importante pollution de l'Orbe: la faune détruite: 9 8 7\n",
      "PROTECTION DE L'ENVIRONNEMENT Déchets: priorité à la prévention: 9 8 7\n",
      "PROJET Environnement: 18 organisations habilitées à recourir: 9 8 7\n",
      "ENVIRONNEMENT Transports publics Zurich utilise la manière douce: 9 8 7\n",
      "ENVIRONNEMENT Appareils photo à jeter : dangereu x gaspillage: 2 6 8\n",
      "TÉLÉGRAMMES ENVIRONNEMENT: 6 3 7\n",
      "RÉUNION TRIMESTRIELLE Environnement: Flavio Cotti à Vienne: 3 9 2\n",
      "ENVIRONNEMENT Ecologie : l'heure du changement: 3 9 6\n",
      "RECHERCHE Faut-il un impôt sur la protection de l'environnement?: 9 8 7\n",
      "Les métaux lourds dans l'environnement: 9 8 7\n",
      "Le Japon s'engage à participer à la protection de l'environnement: 6 4 8\n",
      "L'environnement devient plus difficile en Suisse: 3 5 1\n",
      "ENVIRONNEMENT Les arbres victimes de lété sec: 3 4 8\n",
      "COMMUNAUTÉ EUROPÉENNE La Suisse souhaite participer à l'Agence de l'environnement: 9 8 7\n",
      "ENVIRONNEMENT Convention sur la protection des Alpes en vue: 6 3 4\n",
      "l'environnement de montagne: 3 8 7\n",
      "ENVIRONNEMENT ET JUSTICE Ecologistes à la recherche de fonds: 6 1 2\n",
      "ENVIRONNEMENT yr''' 1 WWF Valais: branle-bas de combat: 6 8 1\n",
      "Protection de l'environnement Flavio Cotti à Milan: 9 8 7\n",
      "Les dépenses pour l'environnement dans la CEE estimées à plus de 125 m il I ia rds de dollars en 1991: 8 9 0\n",
      "Un nouvel instrument financier pour préserver l'environnement des pays: 4 8 5\n",
      "ENVIRONNEMENT Greenpeace bloque un navire: 2 4 8\n",
      "ENVIRONNEMENT Des fûts toxiques découverts * à La Chaux-de-Fonds: 2 6 8\n",
      "CONFÉRENCE EUROPÉENNE Environnement et santé Flavio Cotti à Francfort: 3 4 9\n",
      "ENVIRONNEMENT Première charte écologique de l'Eglise catholique: 4 8 1\n",
      "ENVIRONNEMENT: 9 8 7\n",
      "La politique pour l'environnement d'IBM: 9 8 7\n",
      "Protection de l'environnement: les pays de l'AELE unanimes: 3 4 2\n",
      "Le marché de l'environnement: 9 8 7\n",
      "La BCV planche sur l'environnement: 6 0 1\n",
      "ENVIRONNEMENT Les autorités soviétiques étouffent un désastre écologique en Arménie: 8 0 9\n",
      "ENVIRONNEMENT Pollution de l'air: le Tessin propose des mesures: 9 8 7\n",
      "Protection de l'environnement: quatre nouvelles mesures: 1 2 6\n",
      "PROTECTION DE L'ENVIRONNEMENT Pas d'arrêté urgent pour les marais: 9 8 7\n",
      "ENVIRONNEMENT Plus de 100 000 tonnes de déchets spéciaux sont exportées: 2 3 9\n",
      "ENVIRONNEMENT Le Brésil accepte le troc de sa dette contre des projets écologiques: 8 9 4\n",
      "ENVIRONNEMENT Accélération de la disparition des forêts tropicales: 9 4 8\n",
      "L'Europe de l'Est s'engage à sauver son environnement: 8 4 3\n",
      "Environnement et droit de recours demi-victoire pour Franz Weber: 3 6 1\n",
      "Environnement: contribution suisse à un fonds destiné au tiers monde: 3 4 8\n",
      "Environnement: un traité pour enrayer la déforestation: 4 9 6\n",
      "ENVIRONNEMENT La RDA a connu un grave accident chimique en 1988: 9 7 8\n",
      "ENVIRONNEMENT Un fonds pour la protection des paysages: 3 8 6\n",
      "ENVIRONNEMENT Pollution de l'air en 1989: valeurs limites dépassées: 9 3 6\n",
      "Sondage: l'Europe ne doit pas se faire au détriment de l'environnement: 3 1 8\n",
      "Diablerets: Festival des films alpins et de l'environnement: 8 3 7\n",
      "• Bâle-Campagne: 16 millions pour la recherche sur l'environnement: 8 1 7\n",
      "ENVIRONNEMENT Apprendre à construire écologique: 6 8 7\n",
      "RENCONTRE MINISTÉRIELLE Environnement: réunion tripartite Suisse-ltalie-France à Annecy: 3 2 4\n",
      "ENVIRONNEMENT Le Gouvernement mexicain part en guerre contre la pollution: 9 8 5\n",
      "BANQUE CANTONALE VAUDOISE Crédits préférentiels au profit de l'environnement: 5 0 6\n",
      "ENVIRONNEMENT Accidents chimiques près de Bâle: 8 2 7\n",
      "ENVIRONNEMENT Tubes néons et lampes halogènes une usine de recyclage: 2 3 6\n",
      "MARCHÉS À TERME T-Bonds: besoin d'environnement stable: 5 0 9\n",
      "ENVIRONNEMENT Pas si bruyants, les meetings aériens: 9 7 8\n",
      "Notre environnement ràdiôStm \" *: 8 7 0\n",
      "ENVIRONNEMENT: 6 5 7\n",
      "ENVIRONNEMENT Héliport de Grandvillard : Franz Weber aux barricades: 1 7 8\n",
      "ENVIRONNEMENT Lutte contre le smog d'été: les cantons peu convaincus: 9 6 7\n",
      "Dégradation de l'environnement: prise de conscience: 9 8 3\n",
      "Ecole et environnement: 7 4 8\n",
      "ENVIRONNEMENT: 6 8 5\n",
      "ÉTUDE Environnement: bilan alarmant de l'OCDE: 9 0 4\n",
      "Les comptes économiques de l'environnement: 3 6 0\n",
      "ENVIRONNEMENT Forêts tropicales en péril : les opposants réunis à Genève: 4 9 7\n",
      "CONSEIL DE L'EUROPE Un forum pour l'environnement?: 1 3 0\n",
      "Croissance et protection de l'environnement: le club des industriels s'élargit: 4 6 1\n",
      "ENVIRONNEMENT Taxes écologiques: offensive de charme des socialistes: 3 2 6\n",
      "ENVIRONNEMENT Usines de nylon et couche d'ozone:danger!: 9 8 5\n",
      "Aide aux exploitations paysannes mieux respecter l'environnement: 1 8 5\n",
      "JPJÊ t, i BRUN IMMOBILIER SA 6, rue Sillem Case postale 1211 Genève 6 La dimension humaine NOUS VENDONS VILLAS de haute qualité 295 m 2 de surface comprenant notamment 80 m 2 de salon, de 3 à 6 chambres, 3 salles d'eau, cuisine et buanderie entièrement équipées, un espace vert de 350 à 500 m 2 . Dès Fr. 1 195 000.-. Au cœur du village de BERNEX l'environnement, la tranquillité, la proximité des commerces et des transports publics, privilégient cette résidence. CONTACTEZ J.-P. JANIN Tél. 73519 68, int. 380 ASSA 430-001-945-220393J y////////////////// \\ ! BRUN IMMOBILIER SA 6. rue Sillem Case postale 1211 Genève 6 La dimension humaine NOUS VENDONS en PPE 1100 m 2 de bureaux 360 m 2 d'arcades 220 m 2 de dépôt 40 places de parking dans un immeuble en construction. Disponible en automne 92. Divisible au gré du preneur. Prix de vente moyen: Fr. 5100.-/m 2 . Parkings disponibles. CHËNE-BOURG Desservi par la ligne 12 (TPG), proche de l'autoroute et de la frontière, à proximité des banques, poste et commerces divers. Contactez J.-P. JANIN Tél. 735 19 68, int. 380 220393J: 4 7 9\n",
      "Les dépenses de la CEE pour l'environnement: 9 8 7\n",
      "ENVIRONNEMENT: 0 8 4\n",
      "TRANSPORTS Les ministres européens veulent mieux tenir compte de l'environnement: 3 8 1\n",
      "ENVIRONNEMENT: 0 8 4\n",
      "Premières opérations de la BERD : environnement et télécommunications: 4 5 8\n",
      "Un solvant respectueux de l'environnement: 8 9 0\n",
      "SONDAGE Six Suisses sur dix respectueux de l'environnement: 8 5 6\n",
      "Environnement: paradoxes et récupération: 9 8 7\n",
      "INTERNATIONAL w ACSdélTHG U© l'environnement lancée à Genève: 4 8 0\n",
      "Hongrie et Tchécoslovaquie: projets pour l'environnement: 3 2 8\n",
      "ENVIRONNEMENT: 1 3 9\n",
      "ENVIRONNEMENT Usine-pilote de recyclage: 9 8 7\n",
      "ECOLOGIE Les entreprises et l'environnement: sensibilités diverses: 0 9 3\n",
      "INAUGURATION Environnement: Genève centre international: 4 7 8\n",
      "ENVIRONNEMENT Crématoires sans pollution: 9 8 7\n",
      "ENVIRONNEMENT Des organisations écologistes sceptiques face à l'EEE: 3 6 1\n",
      "ENVIRONNEMENT Réticences valaisannes pour la Convention sur les Alpes: 3 6 4\n",
      "ENVIRONNEMENT Pollution de l'air en 1990: valeurs limites largement dépassées: 9 8 7\n",
      "ENVIRONNEMENT Un petit bout de Suisse dans le satellite d'observation de la Terre: 3 8 4\n",
      "Comment concilier environnement et aménagement du territoire: 6 8 1\n",
      "Deux économistes proposent des mesures en faveur de l'environnement: 9 8 7\n",
      "ENVIRONNEMENT: 8 4 1\n",
      "ENVIRONNEMENT Un traité pour sauver les Alpes: 6 3 1\n",
      "La recherche agronomique s'oriente vers le respect de l'environnement: 8 7 6\n",
      "ENVIRONNEMENT Plantes menacées: sonnette d'alarme sur le Plateau: 3 8 9\n",
      "ENVIRONNEMENT Smog estival: coopération par-delà les Alpes: 3 6 4\n",
      "Environnement favorable aux obligations: 5 9 1\n",
      "Un de nos client nous a mandatés en vue de rechercher le directeur d'une banque située en Suiss e romande . De par ses qualités humaines et professionnelles, il consolidera et développera les activités et la renommée de la banque. Son ouverture d'esprit, sa rigueur dans la gestion des affaires, sa volonté de s'intégrer dans la vie socio-économique d'un canton romand et ses qualités de chef seront, parmi d'autres, les facteurs-clés du succès de la fonction. Cette personne dépendra directement du Conseil d'Administration. Ce poste exige: • une solide formation bancaire ou universitaire; • une expérience confirmée et reconnue dans la conduite et la direction de collaborateurs; • une bonne connaissance des différents mécanismes et des principales opérations liées aux activités d'une banque universelle; • le français, ainsi que de bonnes connaissances d'allemand et d'anglais; • un âge idéal de 4 0 à 5 0 ans. Il offre: • les conditions, les moyens et l'environnement nécessaires au développement d'une personnalité de valeur et d'envergure. Votre offre manuscrite, accompagnée des documents usuels, ainsi que d'une photo, est à adresser à Monsieur B. Rosset, qui se tient à votre disposition pour tout renseignement complémentaire. Une discrétion absolue vous est garantie. FIDES CONSEIL D'ENTREPRISES Av. de Rumine 37, 1005 Lausanne, tél. 021/201 2 81: 1 4 7\n",
      "Le ministre de l'Environnement «Un cinquième de notre territoire est pollué »: 4 9 8\n",
      "ENVIRONNEMENT Vingt-neuf idées contre la pollution: 9 1 7\n",
      "Orestie 91 à Cernier 35 ENVIRONNEMENT Un accord pour pour renforcer la lutte contre les CFC: 3 9 1\n",
      "Les groupes industriels suisses ont le souci de l'environnement: 8 0 3\n",
      "ENVIRONNEMENT Incidences des déchets Tenter de dépasser une approche sectorielle: 2 0 5\n",
      "ENVIRONNEMENT Les 200 La Protection de la nature en fête: 7 6 8\n",
      "ENVIRONNEMENT Lutter contre la pollution La CEE annonce une taxe énergétique équivalant à 10 dollars par baril: 9 8 0\n",
      "ENVIRONNEMENT Convention entre les pays riverains du Rhin Trop de sel dans l'eau du Rhin: 3 9 6\n",
      "URSS La dégradation de l'environnement Un tiers des aliments est contaminé: 8 6 9\n",
      "ENVIRONNEMENT Ordonnance fédérale discutée Le sort des oiseaux à Yvonand au centre d'un débat passionné: 9 6 1\n",
      "ENVIRONNEMENT La préparation de la Conférence de Rio Les forestiers sortent du bois: 4 9 8\n",
      "ENVIRONNEMENT Eau potable contaminée à Mathod: 9 8 7\n",
      "ENVIRONNEMENT Des centaines de manifestants dans le Risoux Patronné par les autorités du Doubs, un circuit automobile est contesté: 8 1 7\n",
      "ENVIRONNEMENT: 1 4 8\n",
      "ÉQUIPEMENT «Route et Quand une autoroute valorise l'environnement: 8 1 6\n",
      "ENVIRONNEMENT Application de l'initiative Rothenthurm 91 sites marécageux protégés: 6 1 8\n",
      "Le GATT va se préoccuper davantage de l'environnement: 1 3 4\n",
      "Un garage peut aussi nuire à l'environnement: 6 8 9\n",
      "ENVIRONNEMENT: 1 4 8\n",
      "ENVIRONNEMENT Test antipollution pour les moteurs diesel: 9 7 3\n",
      "ENVIRONNEMENT Suisses, Français et Italiens se concertent Lancement d'une étude pour créer un « Espace Mont-Blanc: 3 6 4\n",
      "MARCHÉ DES CAPITAUX Environnement défavorable Désastreuse semaine pour le marché obligataire suisse: 5 3 0\n",
      "ENVIRONNEMENT Voitures : l'avenir électriqu: 9 8 7\n",
      "' modifie ENVIRONNEMENT Ce quil faut savoir sur le papier recyclé: 3 8 0\n",
      "SUISSE Environnement Schweizerhalle, cinq ans après: 6 3 7\n",
      "ENVIRONNEMENT Des constructions élaborées au lieu des boîtes en béton: 8 6 1\n",
      "ENVIRONNEMENT Deux sociétés récompensées: 6 8 2\n",
      "ENVIRONNEMENT Sus aux vieux réfrigérateurs !: 2 3 1\n",
      "ENVIRONNEMENT Etude pluridisciplinaire Pâturages boisés en danger: 8 3 1\n",
      "ENVIRONNEMENT Déchets toxiques Vive le PET et les vignettes frigo !: 2 7 8\n",
      "ENVIRONNEMENT Une taxe pour financer la démolition des voitures: 2 9 3\n",
      "ENVIRONNEMENT Conférence internationale La Convention des Alpes est signée à Salzbourg: 3 4 6\n",
      "ENVIRONNEMENT Eaux usées à Rolle En attendant la STEP: 8 1 7\n",
      "ENVIRONNEMENT Une charte mondiale pour les énergies propres: 4 6 3\n",
      "FORUM EPFL Vers l'abandon de notre statut de parasite? L'environnement, un défi pour l'avenir: 4 0 8\n",
      "ENVIRONNEMENT Bras-de-fer pour un mât au Marchairuz Ebullition dans le Parc jurassien à propos d'un projet aes FIT: 8 6 9\n",
      "EEE Nouvel environnement économique Peter Tschopp contre les vaches sacrées: 3 0 8\n",
      "SKI ET ENVIRONNEMENT La Suisse au chevet de ses paysages alpins: 6 4 8\n",
      "ENVIRONNEMENT Vapeurs d'essence Les stations-service doivent s'adapter: 3 9 6\n",
      "EPFL Deux importants séminaires sur l'environnement Pleins feux sur la ville et la forêt: 8 1 7\n",
      "ENVIRONNEMENT Pour récupérer les gaz polluants (CFC) Une entreprise recyclera votre vieux frigidaire: 3 2 5\n",
      "ENVIRONNEMENT Pollution atmosphérique Document signé pour lutter contre l'effet de serre: 9 3 4\n",
      ". ENVIRONNEMENT Nouvel accord contre la pollution signé à Genève: 9 3 4\n",
      "ENVIRONNEMENT Réduction du dioxyde d'azote Accord entre Lonza et 3 communes du Valais pour réduire la pollution: 9 2 8\n",
      "ENVIRONNEMENT Rapport Sanasilva 91 L'état de la forêt se dégrade toujours plus: 9 1 3\n",
      "SEMINAIRE Des chercheurs à Sa recherche d'une entente Le mariage de l'environnement et des sciences sociales: 8 4 3\n",
      "ENVIRONNEMENT Assemblée de la Ligue vaudoise pour la protection de la nature La sauvegarde des rivières reste le cheval de bataille: 8 6 1\n",
      "ENVIRONNEMENT Tri des ordures ménagères Des communes romandes pourraient introduire des taxes poubelles: 2 8 3\n",
      "Un Vaudois directeur de l'Office de l'environnement: 7 1 6\n",
      "Pays de Gex: projet de maison de l'environnement: 8 4 7\n",
      ". Entrée en action du Fonds pour l'environnement: 4 6 5\n",
      "5 L environnement, nouvelle priorité: 7 4 9\n",
      "L'environnement, nouvelle priorité de la Communauté européenne: 4 8 0\n",
      "Création d'une Maison de l'environnement: 4 1 7\n",
      "Philippe Roch à la tête de l'Office de l'environnement: 1 6 4\n",
      "ENVIRONNEMENT Croisade bâloise pour des industries propres: 6 3 2\n",
      "ENVIRONNEMENT Les préoccupations vertes sur le devant de la scène: 4 2 8\n",
      "ENVIRONNEMENT Fin de la guerre des s/g/es L'Association suisse des transports se donne un nouveau nom: 3 8 5\n",
      "ENVIRONNEMENT Bennes de couleur pour le tri des déchets: 2 8 7\n",
      "ENVIRONNEMENT Essai réussi à Jongny: 2 8 3\n",
      "DAVOS Environnement l'industrie mise devant ses responsabilités: 4 7 8\n",
      "ENVIRONNEMENT ... Suite L'industrie mise devant ses responsabilités: 8 6 0\n",
      "ENVIRONNEMENT Cinq ans après l'Ordonnance fédérale Bruit : comment rendre Genève vivable: 7 6 9\n",
      "ENVIRONNEMENT Limiter les émissions de C02 Taxe sur l'énergie: Bruxelles prépare une loi: 4 0 1\n",
      "Protéger ï environnement peut rapporter gros: 6 2 8\n",
      "Protéger 1 environnement peut rapporter gros: 8 9 0\n",
      "ENVIRONNEMENT Pas de taxe sur les sacs d'ordures àMorges: 2 1 6\n",
      "ENVIRONNEMENT «Trou d'ozone» appel au calme: 3 9 8\n",
      "ENVIRONNEMENT Mise au point «Trou d'ozone» : appel au calme: 3 9 8\n",
      "ENVIRONNEMENT La Déclaration Le Sud ne veut pas porter seul le chapeau: 4 6 9\n",
      "Commerce et environnement sont compatibles: 4 6 9\n",
      "ENVIRONNEMENT Les Etats-Unis cesseront la production deCFC d'ici lafin1995: 9 1 4\n",
      "ENVIRONNEMENT ET DÉVELOPPEMENT Il faut tout changer: 4 8 6\n",
      "ENVIRONNEMENT Colère en Riposte à l'exportation des déchets genevois: 1 6 3\n",
      "ENVIRONNEMENT L'Allemagne veut avancer à 1993 l'interdiction des CFC: 4 9 3\n",
      "ENVIRONNEMENT Une «bombe à retardement nucléaire menacerait l'Europe: 2 8 3\n",
      "ENVIRONNEMENT Les préparatifs de Rio Sommet de la Terre : les priorités suisses: 3 4 0\n",
      "INDUSTRIE L'informatique gère les conduites de Ciba-Geigy Soucis accrus pour protéger l'environnement: 2 6 0\n",
      "ENVIRONNEMENT Sommet de la Terre à Rio Priorités suisses pour Rio: 4 3 9\n",
      "GOLFE Destruction de l'écosystème Greenpeace condamne l'arme de l'environnement: 8 9 1\n",
      "ENVIRONNEMENT Limitation de l'effet de serre Négociations sur le climat obstruction des Etats-Unis: 4 1 0\n",
      "ENVIRONNEMENT Polémique à propos des espèces menacées par les golfs sur le coteau du Valais central Haro sur le désert vert des golfe: 8 6 1\n",
      "ENVIRONNEMENT Séminaire de l'ONU Formation en écologie et Droits de l'homme: 4 7 8\n",
      "ENVIRONNEMENT Limitation Convention sur le climat blocage des Etats-Unis: 4 3 8\n",
      "ENVIRONNEMENT La Economie et environnement une vie de couple difficile: 0 4 9\n",
      "ENVIRONNEMENT: 0 4 8\n",
      "ENVIRONNEMENT La Le choix des armes: 9 0 4\n",
      "Intégrer l'environnement dans la comptabilité nationale: 0 8 6\n",
      "La CNUCED inscrit l'environnement dans ses préoccupations: 4 9 8\n",
      "ORGANISATIONS Appel au Conseil d'Etat Genève capitale mondiale de l'environnement?: 4 1 7\n",
      "ENVIRONNEMENT L'écologie Le canton de Vaud et les garagistes unis contre les vapeurs d'essence: 9 8 3\n",
      "ENVIRONNEMENT George Bush est accusé de torpiller le Sommet de la Terre: 4 9 7\n",
      "SUEDE Surcapacité de production face à une baisse de la demande L'environnement est l'une des priorités de l'industrie forestière: 8 9 0\n",
      "ENVIRONNEMENT Pas d'incinération pou r les boues de Schweizerhalle: 2 8 5\n",
      "ENVIRONNEMENT La préparation du Sommet de la Terre La Suisse candidate pour l'après-Rio: 4 3 5\n",
      "ENVIRONNEMENT Industrie mal maîtrisée Les pays de l'Est sous la pollution: 9 8 1\n",
      "L énergie hydraulique menacée par la protection de 1 environnement: 3 6 8\n",
      "Environnement et désarmement : l'espoir d'une deuxième jeunesse: 4 8 7\n",
      "ENVIRONNEMENT A Wurenlingen (AG) Plus de 10 000 oppositions à un dépôt de déchets radioactifc: 2 1 9\n",
      "ENVIRONNEMENT Convention entre Ville et WWF La nature retrouve ses droits au bois de la Bâtie: 4 8 7\n",
      "ONU Un accord de financement sur l'environnement: 4 8 5\n",
      "ENVIRONNEMENT « Croître mais pas à n'importe quel prix»: 0 4 1\n",
      "M. Cotti plaide en faveur de l'environnement: 2 3 4\n",
      "ENVIRONNEMENT Votations du 17 mai Pour un débat sur la qualité de nos eaux: 6 3 0\n",
      "ENVIRONNEMENT Neuchâtel ausculte ses cours d'eau: 6 8 1\n",
      "L'Office de l'environnement ne sera pas un super-machin: 4 7 6\n",
      "Pauvreté, chantage et environnement: 4 8 9\n",
      "Faire rimer développement et environnement: 4 8 3\n",
      "L y environnement c'est un métier: 7 8 6\n",
      "Académie internationale de 1 environnement : unflop: 4 1 3\n",
      "ENVIRONNEMENT Stephan Schmidheiny rencontre M. Bush: 3 4 6\n",
      "Questions d'environnement et de marché unique: 5 8 4\n",
      "SCIENCES L'environnement en questions: 8 7 4\n",
      "L'environnement en questions: 8 9 4\n",
      "La défense de l'environnement dans le tiers monde coûtera cher: 4 6 0\n",
      "ADMINISTRATION Rapport d'une commission L'Office de l'environnement a besoin d'une réorganisation: 1 6 3\n",
      "Environnement: 15 campus pour l'ét: 8 7 3\n",
      "TOKYO Fin des multilatérales sur l'environnement au Proche-Orient: 9 5 4\n",
      "ENVIRONNEMENT Sommet de la Terre Conférence de Rio : les espoirs de la Suisse: 4 3 1\n",
      "ENVIRONNEMENT Recyclage des déchets Un centre de tri à Echallens: 2 8 7\n",
      "ENVIRONNEMENT Risques et pathologies des villes: 3 7 4\n",
      "ENVIRONNEMENT Un accord sur la biodiversité: 4 6 5\n",
      "ENVIRONNEMENT La centrale de Tchernobyl définitivement arrêtée: 8 7 5\n",
      "mmmmam EDITORIAL »mi—Mini-disque et environnement: 5 8 0\n",
      "NATURE A quelques jours du Sommet de la Terre Le Commissaire européea ^ \"1 ' • A A A A TT\\ # a 1 environnement boycotte Rio: 4 5 1\n",
      "ENVIRONNEMENT Une initiative d'Alp Action Des écoliers reboisent la Vallée d'Aoste: 8 3 4\n",
      "Environnement l'exemple des communes genevoises: 8 2 4\n",
      "ENVIRONNEMENT A la veille de l'ouverture du Sommet de Rio La ville de Curitiba veut donner l'exemple d'un « développement urbain durable »: 8 4 2\n",
      "ENVIRONNEMENT Le Sommet de la Terre « L'Univers entier est notre maison commune-: 4 1 2\n",
      "ENVIRONNEMENT Plan Rivièresfranco-suisses écologistes au secours: 1 6 3\n",
      "Le triomphe du Fonds pour l'environnement mondial • . c y.• • •: 4 8 5\n",
      "Environnement: conflit Nord-Sud: 0 8 4\n",
      "Pour des transports respectant l'environnement: 3 4 1\n",
      "ENVIRONNEMENT Action contre le trafic motorisé ^Voitures, , nos: 3 9 7\n",
      "ENVIRONNEMENT Suivi de Rio • - C02 : fa taxe arrive: 3 4 1\n",
      "ENVIRONNEMENT: 1 8 3\n",
      "ENVIRONNEMENT Lancement Et si on gagnait la course... contre les déchets !: 2 7 8\n",
      "Berne fonce pour l'Académie de l'environnement: 1 4 3\n",
      "La logique de la dégradation de 1 environnement: 9 8 4\n",
      "LACS DE NOS ETES (5) L'Institut F.-A. Forel Pionnier de l'environnement: 8 7 4\n",
      "ENVIRONNEMENT Recyclage Bruxelles déclare la guerre aux déchets: 2 3 1\n",
      "ENVIRONNEMENT Après l'incendie de 1986 Les boues de SchweizerhaUe en Allemagne: 2 8 9\n",
      "ENVIRONNEMENT Normes européennes pour la récupération des emballages Les producteurs tentés par le système de recyclage allemand SUISSE: 3 2 5\n",
      "AGRICULTURE Respect de l'environnement Contre-projet aux initiatives vertes: 1 6 3\n",
      "ENVIRONNEMENT Appui à la candidature genevoise Berne déclenche une offensive diplomatique: 4 1 3\n",
      "ENVIRONNEMENT Une nouvelle initiative d'«Alp Action» Réhabilitation d'un alpage: 8 1 3\n",
      "ENVIRONNEMENT Retards Le débit de l'Orbe n'est pas négociable: 8 3 6\n",
      "Académie de l'environnement, Hautes Etudes internationales, Etudes européennes et Etudes du développement sous un même toit ?: 3 4 7\n",
      "GAZ NATUREL Les spécialistes romands réunis au palais de Beaulieu La protection de 1 environnement passe par des performances accrues: 6 3 4\n",
      "ENVIRONNEMENT Conseils pratiques Recycler en priorité ses connaissances: 2 7 8\n",
      "ENVIRONNEMENT Procédé révolutionnaire de production Une usine brésilienne se lance dans la production non-polluante de papier: 8 0 5\n",
      "ENVIRONNEMENT .Conférence à Beausobre Scientifiques de 2 5 pays réunis à Morges: 8 9 4\n",
      "ENVIRONNEMENT Vaste protection envisagée Le Brassus met ses sources sous haute surveillance: 6 8 9\n",
      "ENVIRONNEMENT Nouveau forum de réflexion Une charte pour « sortir de la crise »: 0 1 8\n",
      "ENVIRONNEMENT Le suivi de la Conférence de Rio La Suisse se démène pour que Genève soit choisie: 4 3 7\n",
      "ENVIRONNEMENT Choix du siège de la Commission pour un développement durable Suivi de Rio : Genève marque des points: 4 3 7\n",
      "ENVIRONNEMENT Les conclusions du Symposium de Séville Survie de l'homme : les scientifiques ne parviennent pas à l'unanimité: 8 4 0\n",
      "SOCIETE La consommation démesurée détruit l'environnement: 8 4 0\n",
      "150 ans Les scientifiques d'aujourd'hui ne peuvent plus ignorer l'environnement: 8 7 6\n",
      "% ECOLOGIE Etude de l'Office fédéral des questions conjoncturelles a protection de l'environnement n'est as un handicap pour les entreprises: 3 6 0\n",
      "ENVIRONNEMENT Assemblée générale de l'ONU Suivi de Rio: tout reste ouvert: 4 3 1\n",
      "Voie «originale» pour l'Académie de l'environnement: 4 1 8\n",
      "ENVIRONNEMENT: 7 4 5\n",
      "ENVIRONNEMENT Une opération qui fera l'objet d'une analyse critique Le barrage du Day, sur le cours de l'Orbe, a été remis en eau: 8 9 7\n",
      "ENVIRONNEMENT Plus que dix communes sans épuration L'action «Eau propre» des pêcheurs en rivières arrive à bon port: 8 9 0\n",
      "ENVIRONNEMENT Opinions divergentes mais politique commun e: 3 6 0\n",
      "ENVIRONNEMENT: 7 4 5\n",
      "ENVIRONNEMENT La terre brûlée de Vex-URSS: 8 9 6\n",
      "ENVIRONNEMENT Les revendications de la LVPN Le droit de recours n'est jamais utilisé abusivement: 8 6 1\n",
      "L'énergie au service de la qualité de la vie et de l'environnement: 7 8 0\n",
      "ENVIRONNEMENT Les efforts des industriels du gaz: 3 6 8\n",
      "ENVIRONNEMENT Prochaine conférence paneuropéenne à Lucerne: 3 4 0\n",
      "BEAUX-ARTS Exposition à la Galerie Art & Public, à Genève Un environnement branché sur... le 220: 8 7 0\n",
      "Environnement : un marche à prendre à Genève: 4 7 8\n",
      "PARCS ET RESERVES Environnement : rencontre franco-suisse: 1 3 7\n",
      "ENVIRONNEMENT L'EEEet la quotitéde la vie: 6 3 0\n",
      "ENVIRONNEMENT Le secrétaire général des Nations Unies a annoncé sa décision Suivi de Rio : New York évince Genève: 4 3 1\n",
      "ENVIRONNEMENT Décision de l'ONU C'est fait ! L'ONU installe l'environnement à New York L'ONU afait son choix : le Secrétariat de la Commission pour un développement: 4 1 3\n",
      "ENVIRONNEMENT qui Suivi de Rio: compromis avec la Communauté européenne: 4 7 9\n",
      "ENVIRONNEMENT Une initiative privée Création officielle de la «Croix Verte »: 1 4 8\n",
      "Les pays de l'Est ont-ils les moyens de protéger leur environnement ?: 8 0 5\n",
      "ENVIRONNEMENT: 8 1 7\n",
      "WORLDWATCH importance croissante de l'environnement OOlir 1 éCOI10ÏÏli6: 0 8 9\n",
      "CAPITAUX Protection de l'environnement La BEI multiplie son aide par deux: 6 8 4\n",
      "ÉCOLOGIE Suite et fin des Rencontres Environnement : comment abattre lesfrontières?: 9 8 7\n",
      "ENVIRONNEMENT Campagne de publicité pour lutter contre les déchets: 2 1 3\n",
      "ENVIRONNEMENT La Chine va taxer les entreprises polluantes: 9 2 8\n",
      "ENVIRONNEMENT L'industrie du papier prépare d'importants investissements: 6 3 8\n",
      "Michel Barnier, l'homme des Jeux, brigue le Ministère de l'environnement: 8 7 1\n",
      "Les ministres de l'Environnement au chevet de l'Europe de l'Est: 8 4 3\n",
      "Environnement: statu quo: 9 6 5\n",
      "L'environnement préoccupe les lauréats: 3 8 2\n",
      "ENVIRONNEMENT Traité sur la biodiversité: 9 4 8\n",
      "ENVIRONNEMENT Record de minceur pour la couche d'ozone: 9 8 4\n",
      "ENVIRONNEMENT Première année d'activité de l'Office cantonal L'Office «vert» fait chou blanc: 1 6 8\n",
      "ENVIRONNEMENT Fin de la Conférence de Lucerne Appel lancé pour une taxe sur le C02: 4 6 3\n",
      "La CITES quitte Lausanne pour la Maison de l'Environnement a Genève: 4 7 1\n",
      "Une cité de l'environnement au Palais Wilson: 1 8 7\n",
      "Les places d'armes contestées au nom de l'environnement: 6 1 7\n",
      "Les places d'armes contestées au nom de l'environnement: 6 1 7\n",
      "Elaborer une norme mondiale des audits sur l'environnement: 8 4 9\n",
      "ENVIRONNEMENT: 8 7 1\n",
      "La protection de l'environnement au secours du social: 6 1 2\n",
      "L'environnement tient salon: 8 7 6\n",
      "L'Académie de l'environnement sort de sa léthargie: 4 1 8\n",
      "ENVIRONNEMENT: 8 7 1\n",
      "ENVIRONNEMENT: 8 7 1\n",
      "ENVIRONNEMENT Payerne auscultée Une cité à la pollution «campagnarde»: 9 3 8\n",
      "ENVIRONNEMENT Une Convention européenne signée à Lugano sans la Suisse: 3 1 4\n",
      "Mobilisation pour une «Maison de l'environnement» vivante Mobilisation pour une L de l'environnement» vivante: 1 4 8\n",
      "Le Conseil d'Etat veut récompenser la protection de l'environnement: 8 1 6\n",
      "ENVIRONNEMENT: 4 7 3\n",
      "ENVIRONNEMENT Réchauffement de la planète: le WWF tire la sonnette d'alarme: 9 4 8\n",
      "MAISON DE L'ENVIRONNEMENT Crédit accordé par le Conseil fédéral: 1 4 2\n",
      "MAISON DE L'ENVIRONNEMENT Approbation du projet de rénovation La cure de jouvence du Palais Wilson est programmée: 1 4 8\n",
      "ENVIRONNEMENT «La Développement: une exposition-choc: 4 7 3\n",
      "ENVIRONNEMENT Une commune fribourgeoise mise à l'amende: 9 8 7\n",
      "ENVIRONNEMENT Résolution de la COTRAO Les populations des Alpes ne veulent pas être transformées en réserve d'Indiens: 6 3 4\n",
      "BANQUES Protection de l'environnement La nouvelle banque «verte» démarre fort: 9 8 7\n",
      "ENVIRONNEMENT Les automobiles polluentplus que prévu: 9 3 0\n",
      "ENVIRONNEMENT Autos : plus polluantes que prévu: 9 8 4\n",
      "VIDÉOCUPS Concours et environnement: 8 3 0\n",
      "UN DÉPUTÉ, UN JOUR Victor Ruffy «L'environnement international de cette session ne devrait pas rester sans résonances»: 1 4 0\n",
      "ÉCOLOGIE Bilan de dix ans de législation fédérale en la matière Les nuisances sonores résistent à dix ans de loi sur l'environnement: 6 9 2\n",
      "L'environnement s'expose à Palexpo: 4 6 8\n",
      "Décollage difficile pour le premier Salon de l'environnement: 9 8 7\n",
      "ENVIRONNEMENT Le Conseil d'Etat interpellé Les rives de l'Arve sous haute protection: 1 8 7\n",
      "ENVIRONNEMENT Ecologique et moins cher Désormais la voiture se vit à plusieurs: 8 3 9\n",
      "ENVIRONNEMENT Le prix de l'aluminium est en chute libre Seul l'aluminium lourd est bon pour le recyclage: 2 8 5\n",
      "ENVIRONNEMENT Rapport annuel rendu public La pollution atmosphérique diminue pour la première fois!: 9 7 8\n",
      "Environnement : droits de recours réduits: 1 6 8\n",
      "Les défenseurs de l'environnement justifient le droit de recours: 1 6 3\n",
      "ENVIRONNEMENT Action de l'Association genevoise de protection de la nature Arbresfruitiers:service gratuit à domicile: 9 8 7\n",
      "Commerce, développement et environnement peuvent cohabiter: 4 6 0\n",
      "ENVIRONNEMENT La couche d'ozone serait menacée par d'autres gaz: 9 8 6\n",
      "Difficile de concilier développement et environnement: 4 6 3\n",
      "Environnement: on attend un engagement ferme des donateurs: 4 1 7\n",
      "Environnement: une «étape essentielle» franchie: 9 8 7\n",
      "Commerce et environnement pas de protectionnisme vert: 4 8 2\n",
      "Les électeurs n'ont pensé qu'à l'environnement: 1 6 8\n",
      "ENVIRONNEMENT Retour du bostryche: 8 9 1\n",
      "Unefilialed'Alusuisse perd contre l'Office de l'environnement: 2 3 1\n",
      "Des étudiants pour l'environnement: 8 6 3\n",
      "L'Académie de l'environnement affine ses programmes: 4 8 6\n",
      "Un plus pour l'environnement: 8 2 0\n",
      "Un triumvirat prend la tête de l'environnement: 9 8 7\n",
      "Entreprises et environnement: tandem gagn: 7 4 8\n",
      "ENVIRONNEMENT Trente ans après Epuration des eaux: le point de la situation: 8 1 6\n",
      "L'Académie de l'environnement est placée sous contrôle financier: 9 8 7\n",
      "Le Conseil de l'environnement est né: 1 0 4\n",
      "Les ministres de l'Environnement des Douze se penchent sur la taxation: 9 7 3\n",
      "ENVIRONNEMENT Gothard fermé: air plus pur à Uri: 9 3 7\n",
      "ENVIRONNEMENT Taxe surleCCh prônée par quatre pays: 3 9 4\n",
      "CLIMAT Suivi de la Conférence de Rio sur l'environnement Une conférence réunie à Genève cherche à réduire les émissions de CO2: 4 7 9\n",
      "FAUNE L'Office fédéral de l'environnement tire la sonnette d'alarme Menaces sur le lièvre: le canton se veut rassurant: 8 3 1\n",
      "ENVIRONNEMENT Protection des oiseaux Chouettes chevêches: attention aux pièges!: 6 8 3\n",
      "ENVIRONNEMENT Une: 3 6 7\n",
      "ENVIRONNEMENT Vie et mort des crevettes: 8 9 0\n",
      "PALEXPO Du 6 au 9 octobre Le Salon de l'«environnement» cherche un second souffle: 8 4 3\n",
      "La Suisse veut entrer dans l'Agence européenne de l'environnement: 3 6 8\n",
      "ENVIRONNEMENT Avenir incertain pour le Salon H2O: 8 3 6\n",
      "Préserver l'environnement: 6 9 3\n",
      "ENVIRONNEMENT Etude du Fonds national de la recherche scientifique Les glaciers pourraient disparaître le siècle prochain: 8 9 5\n",
      "EDITORIAL mmmmm L'Environnement des non-dit: 4 8 1\n",
      "GENEVE Environnement Une Académie sous haute surveillance: 4 8 1\n",
      "ENQUÊTE ...Suite de la page Une L'Académie de l'environnement sous très haute surveillance: 4 8 1\n",
      "ENVIRONNEMENT Rapport de la Commission internationale pour la protection des eaux du Léman Le lac va mieux, mais l'excès d'algues et de phosphore nuit à sa santé: 3 6 8\n",
      "ENVIRONNEMENT Un livre pour combattre le bruit: 3 6 9\n",
      "BRUIT Propositions écologistes Le rail ne doit pas nuire à l'environnement: 9 6 0\n",
      "ENVIRONNEMENT Une campagne Ouistitri dans les , écoles primaires: 2 8 7\n",
      "ENVIRONNEMENT Un cours populaire: 8 7 4\n",
      "ENVIRONNEMENT Les Galapagos après l'incendie: 8 7 9\n",
      "ENVIRONNEMENT Regroupement Berne et Genève veulent un pôle vert à Conches: 9 8 7\n",
      "Adéquation individu-environnement: 8 0 7\n",
      "Changement de têtes à l'Académie de l'environnement: 1 4 3\n",
      "ENVIRONNEMENT: 4 7 8\n",
      "ENVIRONNEMENT: 4 7 8\n",
      "Commerce et environnement: réunion de haut niveau à Genève: 4 9 6\n",
      "ENVIRONNEMENT Huit ans après l'accident de la centrale nucléaire russe Les autorités de Tchernobyl manient toujours la langue de bois: 8 1 7\n",
      "ENVIRONNEMENT Création du groupe Neptune sur le site de Conches Un petit pas vers une capitale de l'environnement: 4 8 6\n",
      "CAMPAGNE Environnement: 3 8 1\n",
      "ENVIRONNEMENT: 3 6 0\n",
      "Les constructions de l'homme face à leur environnement: 8 6 7\n",
      "La traversée et l'environnement: 9 8 7\n",
      "ENVIRONNEMENT Ouverture du salon R'95 L'Etat joue les bons élèves pour éviter la taxe poubelle: 2 0 8\n",
      "ENVIRONNEMENT: 9 8 7\n",
      "Création d'un prix cantonal de l'environnement: 4 7 8\n",
      "ENVIRONNEMENT Fin du litige entre la Suisse et le Portugal sur les déchets de Refonda: 3 2 8\n",
      "PROTECTION DE L' Les milieux de protection de l'environnement veulent interdire des modifications génétiques: 9 8 7\n",
      "ENVIRONNEMENT: 4 7 6\n",
      "La révision de la loi sur l'environnement consacre l'instauration des taxes d'incitation: 1 6 9\n",
      "ENVIRONNEMENT: 4 7 6\n",
      "SPORT ET ENVIRONNEMENT Conférence mondiale à Lausanne: 7 4 8\n",
      "ENVIRONNEMENT Changements climatiques «inévitables»: 4 9 8\n",
      "ENVIRONNEMENT Compensations agricoles Paysans et écolos font la fête: 8 6 7\n",
      "Où mémoriser en toute sécurité les données dans un environnement • décentralisé?: 8 9 0\n",
      "ENVIRONNEMENT Protocole de Montréal Couche d'ozone: des experts font le point à Genève: 9 8 7\n",
      "terne précise les tâches de Académie de l'environnement: 4 3 1\n",
      "Environnement: 7 4 2\n",
      "Environnement Master européen à l'EPFL: 4 7 8\n",
      "Environnement L'année ta plus chaude: 8 9 7\n",
      "La protection de l'environnement, un souci quotidien pour Migros: 2 0 6\n",
      "En protégeant l'environnement Landis & Gyr gagne de l'argent: 6 9 2\n",
      "«La politique de l'environnement a atteint ses limites»: 6 3 1\n",
      "Environnement Les batraciens migrent: 7 8 5\n",
      "La Suisse investit six milliards de francs par an pour son environnement: 6 2 5\n",
      "Electroménager et environnement Le mariage est possible: 0 7 8\n",
      "Environnement: 6 5 7\n",
      "La Société suisse pour la protection de l'environnement a 25 ans: 6 3 4\n",
      "Environnement Un prix pour le développement durable: 4 3 7\n",
      "LÀcadémie de l'environnement bâcle la nomination de son nouveau directeur: 4 1 8\n",
      "Environnement Le GPE vaudois perd son droit de recours: 6 1 3\n",
      "Qualité de vie et respect de l'environnement: 8 4 7\n",
      "Environnement Pollution à Schweizerhalle: 9 0 8\n",
      "Entreprise Gros contrat pour la division environnement de Von Roll: 2 5 8\n",
      "L'environnement: une nouvelle exigence pour la statistique: 0 4 5\n",
      "Pour le WWF, le XXIe siècle sera celui de la protection de l'environnement: 3 6 1\n",
      "GRISONS Le Tribunal fédéral est de plus en plus favorable à l'environnement: 6 1 3\n",
      "Une nouvelle collection de livres sur l'environnement est née: 9 8 7\n",
      "Migros Genève reçoit le Prix cantonal de l'environnement: 4 2 1\n",
      "Les assureurs s'engagent en faveur de l'environnement: 6 3 4\n",
      "Dans un environnement boursier idéal, tous les records sont permis pour le SM!: 5 6 7\n",
      "L'environnement américain est idéal pour le marché: 5 0 7\n",
      "L'environnement suscite la convoitise de IJ\\llemagne: 1 4 8\n",
      "Berne veut créer à Genève un forum de Davos de l'environnement: 4 3 1\n",
      "La taxe sur l'énergie fait un pas en arrière. Pour mieux rebondir plus tard La taxe d'incitation glissée subrepticement par le Conseil national dans la loi sur l'énergie ne franchira vraisemblablement pas le cap du Conseil des Etats. Rappelons qu'elle consiste à prélever 0,6 centime par kWh sur les énergies non renouvelables (pétrole, gaz, charbon et uranium). Les recettes ainsi engrangées - environ 1 milliard par an - seraient affectées pour moi- DE NOTRE CORRESPONDANT À BERNE tié à la promotion de l'énergie solaire, du bois et de la biomasse, et pour moitié à l'assainissement énergétique des bâtiments. Conçu par le radical bernois Marc Suter et le démocrate-chrétien saint-gallois Eugen David, ce nouvel impôt a été approuvé à la surprise générale en juin par le Conseil national, et cela par 88 voix contre 82. Sachant que la Commission de l'environnement, de l'aménagement du territoire et de l'énergie (CEATE) du Conseil des Etats devait se prononcer cette semaine, les promoteurs de ce projet ont exercé ces derniers jours un lobbying intense. Sans succès: la CEATE des Etats a refusé hier de s'y rallier, et cela par un résultat sans appel de 9 voix contre 1 (celle du président de la commission, le socialiste bâlois Gian-Reto Plattner) et 1 abstention. Dans la Constitution: 1 0 8\n",
      "UBS Union de Banques Suisses Conseiller(ère) en placement Private Banking Un nouveau défi dans le Private Banking vous attire. Vous êtes passionné(e), rayonnez grâce à une personnalité riche et affirmée. Vous êtes un(e) professionnel(le) des marchés et instruments financiers. Vous souhaitez valoriser votre formation (licence universitaire, CFA ou CFPI) et/ou l'expérience acquise. Votre esprit d'initiative, vos capacités d'analyse et de décision, ainsi que votre sens de la communication vous caractérisent. Enthousiaste, vous bénéficiez d'excellentes qualités relationnelles. Dynamique, vous agissez comme un entrepreneur et avez un sens des affaires développé. Vous maîtrisez parfaitement l'anglais et le français. Vos connaissances d'allemand sont un atout. Si ce profil correspond au vôtre, nous vous offrons l'opportunité de répondre aux besoins d'une clientèle internationale VIP dans le cadre d'un environnement performant et stimulant. Vous serez amené(e) à participer au développement des affaires et à la réalisation des objectifs stratégiques de la banque. Merci d'envoyer votre candidature avec copies de certificats et photographie à l'Union de Banques Suisses, Mme Sylvie Croset-Métraux, Ressources humaines, case postale 4012, 1002 Lausanne.: 4 5 7\n",
      "Environnement La politique environnementale suisse expertisée par l'OCDE: 3 1 8\n",
      "Environnement: 9 4 1\n",
      "Environnement: 9 4 1\n",
      "LIVRE Taxes d'environnement: 8 6 0\n",
      "Environnement: 2 5 7\n",
      "Rien ne bouge dans l'environnement des investisseurs suisses: 5 3 8\n",
      "La qualité de l'environnement: un facteur de succès: 9 0 7\n",
      "« ENVIRONNEMENT CONVENABLE. » — Un nouvel amendeme: 1 5 4\n",
      "On parle beaucoup de protection de l'environnement: 6 8 0\n",
      "• CINÉMA ET ENVIRONNEMENT. — Le maire de Coire, M.: 7 8 5\n",
      "SOMMAIR E HORIZONS TV-CARNET SUISSE SPORTS VAUD EN: 3 0 5\n",
      "Dans ce numéro Environnement et qualité de vie Tel: 0 7 8\n",
      "ENVIRONNEMENT. — La Jeune chambre économique du Jo: 4 7 0\n",
      "9 La 3 e session du conseil d'administration du pr: 1 3 7\n",
      "• On a fondé, jeudi soir, à Berne, une nouvelle or: 6 2 3\n",
      "• « Concorde ». — La Commission pour la protection: 1 6 4\n",
      "PROTECTION DE L'ENVIRONNEMENT : PAS DE « SUPER-LOI: 6 3 1\n",
      "• HUIT ORGANISATIONS DE PROTECTION DE L'ENVIRONNEM: 2 6 4\n",
      "• GAZ D'ÉCHAPPEMENTS : MÉFIANCE DES ÉCOLOGISTES.-L: 3 6 1\n",
      "Une étude de l'IREC sur l'environnement construit : 8 3 6\n",
      "• FONDATION À ZURICH D'UN « PARTI {* UUR LA PAIX E: 6 5 9\n",
      "PROTECTION DE L'ENVIRONNEMENT Méfiances réciproque: 1 6 5\n",
      "ENVIRONNEMENT (1 er juillet) : les habitants d'Oll: 1 3 2\n",
      "ENVIRONNEMENT Pluies acides et forets vaudoises : : 1 9 7\n",
      "ENVIRONNEMENT POUR QUE VIVE LA FORET : VITESSES RÉ: 9 8 3\n",
      "ENVIRONNEMENT GRAND CONSEIL ZURICHOIS : PAS DE DRO: 1 6 8\n",
      "ENVIRONNEMENT Mort des forêts : les écologistes ve: 9 1 3\n",
      "ENVIRONNEMENT New Delhi, 3 (AFP).-Le Gouvernement : 1 8 2\n",
      "ENVIRONNEMENT Un aide-mémoire sur le décompte indi: 3 9 0\n",
      "ENVIRONNEMENT ENTREPOSAGE « ILLÉGAL » DE DÉCHETS T: 2 9 8\n",
      "ENVIRONNEMENT.-Quarante pays participeront, la sem: 9 7 4\n",
      "ENVIRONNEMENT NITRATE DANS LES PLANTES : LA MACHIN: 7 3 9\n",
      "ALLEMAGNE FÉDÉRALE (AFP).-Le ministre ouest-allema: 8 5 7\n",
      "ENVIRONNEMENT : LES CAMIONS EUROPÉENS DE VRONT ROU: 9 4 1\n",
      "BANQUE MONDIALE UN ÉGYPTIEN NOMMÉ DIRECTEUR DE L'E: 4 5 0\n",
      "L'Académie Internationale de l'Environnement a la : 4 9 8\n",
      "Rendez-vous de la semaine ENVIRONNEMENT .-Cours gé: 7 3 4\n",
      "ECONOMIE Environnement : l'industrie se met au ver: 7 4 8\n",
      "Un / une analyste, chef de projet TED Travaux de m: 7 6 1\n",
      "• ^ SUISSE Leprix de laprotection I / de l'environ: 3 9 8\n",
      "GENEVE L'environnement peut-il ^ A rapporter à l'i: 4 7 2\n",
      "YAUD Environnement : une décision va faire du brui: 7 4 6\n",
      "Journal de Genève et Gazette de Lausanne | C VAUD : 7 4 2\n",
      "ECONOMIE Allemagne : fin du conflit social II GENÈ: 1 7 4\n",
      "ENVIRONNEMENT L'offensive des entreprises Le 3 jui: 3 7 8\n",
      "GENEVE Record historique Malgré un environnement d: 5 1 7\n",
      "ENVIRONNEMENT: 9 8 7\n",
      "GENEVE Nouveau souffle En dépit d'un environnement: 5 3 9\n",
      "Mercred i 2 février 1 99 4 17 18 SUISSE Défenseurs: 3 1 7\n",
      "CONFERENCES Académie internationale de l'environne: 7 9 8\n",
      "Le Département de l'intérieur, de l'environnement : 1 7 4\n",
      "ENVIRONNEMENT Couche d'ozone : rapidité de la dégr: 3 9 4\n",
      "ENVIRONNEMENT: 9 8 7\n",
      "12 13 SUISSE Environnement : le Conseil fédéral su: 1 3 9\n",
      "Un / une fonctionnaire scientifique à la Section e: 6 1 7\n",
      "QUOTIDIENNES ENVIRONNEMENT Les déchets de Bergame : 2 3 6\n",
      "Une fois rénové, le Palais Wilson devrait abriter : 1 4 7\n",
      "TRELEX Grande villa individuelle de 8 pièces, envi: 8 7 9\n",
      "ENVIRONNEMENT: 9 8 7\n",
      "MIES (taux fiscal : 0.50) Magnifique propriété de : 7 8 0\n",
      "Genève * m début de semaine, le marché asse des ac: 5 3 7\n",
      "Branche Hôtellerie / Vente / Ind. Environnement Ad: 8 0 4\n",
      "15 Genève Nouvelles critiques à l'égard de l'Acadé: 4 7 2\n",
      "SOMMAIRE Qualité de vie et respect de l'environnem: 8 0 6\n",
      "FRANCE : PROVENCE 20 KM VAISON Superbe mas dans pe: 8 7 2\n"
     ]
    }
   ],
   "source": [
    "for i in range(len(doctopic)):\n",
    "    top_topics = np.argsort(doctopic[i,:])[::-1][0:3]\n",
    "    top_topics_str = ' '.join(str(t) for t in top_topics)\n",
    "    print(\"{}: {}\".format(titles_env_gdl[i], top_topics_str))"
   ]
  },
  {
   "cell_type": "code",
   "execution_count": 367,
   "metadata": {
    "scrolled": true
   },
   "outputs": [
    {
     "name": "stdout",
     "output_type": "stream",
     "text": [
      "Topic 0: économie économique pollution\n",
      "Topic 1: conseil fédéral commission\n",
      "Topic 2: déchets spéciaux tonnes\n",
      "Topic 3: suisse fédéral suisses\n",
      "Topic 4: développement genève conférence\n",
      "Topic 5: marché hausse indice\n",
      "Topic 6: protection office fédéral\n",
      "Topic 7: jusqu centre lausanne\n",
      "Topic 8: aujourd ainsi millions\n",
      "Topic 9: pollution mesures forêts\n"
     ]
    }
   ],
   "source": [
    "for t in range(len(topic_words)):\n",
    "    print(\"Topic {}: {}\".format(t, ' '.join(topic_words[t][:15])))"
   ]
  },
  {
   "cell_type": "code",
   "execution_count": 368,
   "metadata": {},
   "outputs": [
    {
     "name": "stdout",
     "output_type": "stream",
     "text": [
      "LES RATS DE VILLE ET L' « ENVIRONNEMENT » PITTSBURGH (Pennsylvanie), 3 févrU'i : — Comme les êtres humains, les rais supportent mal les tensions urbaines, font de l'hypertension et se montrent irritables. Tels sont les résultats des expériences pratiquées par le Dr Joseph Buckey, de l'Université de Pittsburgh. Cinq mille rats ont été placés dans une chambre simulant les conditions de la vie dans les villes. Après quelque temps de vacarme, de lumières éblouissantes et d'agitation, ils ont fait du l'hypertension. Malheureusement pour les habitants de Pittsburgh, la population raticole semble avoir bien résisté à la situation actuelle puisqu'il y a un rat pour deux personnes. Un million de rongeurs ont été exterminés en 1969. peut-être certains sont-ils morts d'hypertension. (Ap)\n"
     ]
    }
   ],
   "source": [
    "print(articles_env_gdl[0])"
   ]
  },
  {
   "cell_type": "code",
   "execution_count": null,
   "metadata": {},
   "outputs": [],
   "source": []
  }
 ],
 "metadata": {
  "kernelspec": {
   "display_name": "Python [conda env:ada]",
   "language": "python",
   "name": "conda-env-ada-py"
  },
  "language_info": {
   "codemirror_mode": {
    "name": "ipython",
    "version": 3
   },
   "file_extension": ".py",
   "mimetype": "text/x-python",
   "name": "python",
   "nbconvert_exporter": "python",
   "pygments_lexer": "ipython3",
   "version": "3.5.4"
  }
 },
 "nbformat": 4,
 "nbformat_minor": 2
}

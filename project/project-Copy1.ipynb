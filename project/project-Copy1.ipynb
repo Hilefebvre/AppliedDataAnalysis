{
 "cells": [
  {
   "cell_type": "markdown",
   "metadata": {},
   "source": [
    "**Pre-processing goals:**<br>\n",
    "In the second part of the project we aimed to familiarize with our dataset and explore its possibilities in order to decide what trends we want to extract out of it. As mentioned before, we first take into account the archives of both the Gazette de Lausanne (GDL) and the Journal de Genève (JDG) during the XXth century. It restricts our dataset to a 100 years for both our journals. Now, we want to study the evolution of environnemental causes interests in the public space. Therefore, we are in a first part going to estimate this evolution and the eventual rises in society awareness on the topics related to these causes. "
   ]
  },
  {
   "cell_type": "markdown",
   "metadata": {},
   "source": [
    "**Pre-processing pipeline (Part 1):**<br>\n",
    "We wanted to set up a basic pipeline in order to get a better view of what our dataset can offer and decide afterwards in which directions we could go on with our work. The below detailed pipeline is exectued for each journal separately.\n",
    "- First, we extract all the archives from the XXth century of both our journals. Theses archives are xml files. We are therefore going to use the Beautiful Soup html parser to get a sense of what it contains. \n",
    "- From our own exploration of the dataset, we saw that all the articles had the following tags coming along: \"name\" to charaterize the name of the article and \"issue_date\" to indicate the date when the article was released in the journal. Thus, we are again going to use Beautiful Soup methods. Here, \"find_all\" will help us retrieve all the content of the previously mentioned tags that matter to our analysis. \n",
    "- Once that their content is retrieved we use the text attribute to put the names and issue dates of all articles in two separate lists. Each list is the size of the number of articles archived during the XXth century.\n",
    "- After that we can verify that the articles and issue dates lists are of same length and it is indeed the case for both journals."
   ]
  },
  {
   "cell_type": "markdown",
   "metadata": {},
   "source": [
    "Paths to the data of both journals"
   ]
  },
  {
   "cell_type": "code",
   "execution_count": 1,
   "metadata": {
    "collapsed": true
   },
   "outputs": [],
   "source": [
    "DATA_FOLDER_GDL = 'data/GDL/'\n",
    "DATA_FOLDER_JDG = 'data/JDG/'\n",
    "PICKLE_DATA_FOLDER = 'pickle_data/'"
   ]
  },
  {
   "cell_type": "code",
   "execution_count": 2,
   "metadata": {
    "collapsed": true
   },
   "outputs": [],
   "source": [
    "# imports\n",
    "import pandas as pd\n",
    "import numpy as np\n",
    "import os\n",
    "from collections import defaultdict\n",
    "import requests\n",
    "from bs4 import BeautifulSoup\n",
    "import matplotlib.pyplot as plt\n",
    "%matplotlib inline\n",
    "\n",
    "import pickle"
   ]
  },
  {
   "cell_type": "markdown",
   "metadata": {},
   "source": [
    "Retrieving of all folders of both journals"
   ]
  },
  {
   "cell_type": "code",
   "execution_count": 3,
   "metadata": {},
   "outputs": [
    {
     "ename": "FileNotFoundError",
     "evalue": "[Errno 2] No such file or directory: 'data/GDL/'",
     "output_type": "error",
     "traceback": [
      "\u001b[0;31m---------------------------------------------------------------------------\u001b[0m",
      "\u001b[0;31mFileNotFoundError\u001b[0m                         Traceback (most recent call last)",
      "\u001b[0;32m<ipython-input-3-bca20bfa73b3>\u001b[0m in \u001b[0;36m<module>\u001b[0;34m()\u001b[0m\n\u001b[0;32m----> 1\u001b[0;31m \u001b[0mlisting_gdl\u001b[0m \u001b[0;34m=\u001b[0m \u001b[0mos\u001b[0m\u001b[0;34m.\u001b[0m\u001b[0mlistdir\u001b[0m\u001b[0;34m(\u001b[0m\u001b[0mDATA_FOLDER_GDL\u001b[0m\u001b[0;34m)\u001b[0m\u001b[0;34m\u001b[0m\u001b[0m\n\u001b[0m\u001b[1;32m      2\u001b[0m \u001b[0;34m\u001b[0m\u001b[0m\n\u001b[1;32m      3\u001b[0m \u001b[0mlisting_jdg\u001b[0m \u001b[0;34m=\u001b[0m \u001b[0mos\u001b[0m\u001b[0;34m.\u001b[0m\u001b[0mlistdir\u001b[0m\u001b[0;34m(\u001b[0m\u001b[0mDATA_FOLDER_JDG\u001b[0m\u001b[0;34m)\u001b[0m\u001b[0;34m\u001b[0m\u001b[0m\n",
      "\u001b[0;31mFileNotFoundError\u001b[0m: [Errno 2] No such file or directory: 'data/GDL/'"
     ]
    }
   ],
   "source": [
    "listing_gdl = os.listdir(DATA_FOLDER_GDL)\n",
    "\n",
    "listing_jdg = os.listdir(DATA_FOLDER_JDG)"
   ]
  },
  {
   "cell_type": "markdown",
   "metadata": {},
   "source": [
    "Here, we get rid of the 17th and 18th centuries folders as well as of hidden folders"
   ]
  },
  {
   "cell_type": "code",
   "execution_count": null,
   "metadata": {
    "collapsed": true
   },
   "outputs": [],
   "source": [
    "prefixes = ('17', '18','.')\n",
    "for dir_ in listing_gdl[:]:\n",
    "    if dir_.startswith(prefixes):\n",
    "        listing_gdl.remove(dir_)\n",
    "        \n",
    "for dir_ in listing_jdg[:]:\n",
    "    if dir_.startswith(prefixes):\n",
    "        listing_jdg.remove(dir_)"
   ]
  },
  {
   "cell_type": "markdown",
   "metadata": {},
   "source": [
    "Retrieve articles' titles and issue dates from pickle"
   ]
  },
  {
   "cell_type": "code",
   "execution_count": 3,
   "metadata": {
    "collapsed": true
   },
   "outputs": [],
   "source": [
    "gdl_articles_titles_filename = PICKLE_DATA_FOLDER+\"gdl_articles_titles\"\n",
    "obj = open(gdl_articles_titles_filename, 'rb')\n",
    "articles_names_gdl = pickle.load(obj)"
   ]
  },
  {
   "cell_type": "code",
   "execution_count": 4,
   "metadata": {
    "collapsed": true
   },
   "outputs": [],
   "source": [
    "jdg_articles_titles_filename = PICKLE_DATA_FOLDER+\"jdg_articles_titles\"\n",
    "obj = open(jdg_articles_titles_filename, 'rb')\n",
    "articles_names_jdg = pickle.load(obj)"
   ]
  },
  {
   "cell_type": "code",
   "execution_count": 5,
   "metadata": {
    "collapsed": true
   },
   "outputs": [],
   "source": [
    "gdl_issue_dates_filename = PICKLE_DATA_FOLDER+\"gdl_issue_dates\"\n",
    "obj = open(gdl_issue_dates_filename, 'rb')\n",
    "dates_gdl = pickle.load(obj)"
   ]
  },
  {
   "cell_type": "code",
   "execution_count": 6,
   "metadata": {
    "collapsed": true
   },
   "outputs": [],
   "source": [
    "jdg_issue_dates_filename = PICKLE_DATA_FOLDER+\"jdg_issue_dates\"\n",
    "obj = open(jdg_issue_dates_filename, 'rb')\n",
    "dates_jdg = pickle.load(obj)"
   ]
  },
  {
   "cell_type": "code",
   "execution_count": 7,
   "metadata": {
    "scrolled": false
   },
   "outputs": [
    {
     "name": "stdout",
     "output_type": "stream",
     "text": [
      "nb of articles (GDL):  2184812 \n",
      " nb of articles (JDG):  2912098\n"
     ]
    }
   ],
   "source": [
    "print('nb of articles (GDL): ', len(articles_names_gdl), '\\n', 'nb of articles (JDG): ', len(articles_names_jdg))"
   ]
  },
  {
   "cell_type": "code",
   "execution_count": 8,
   "metadata": {},
   "outputs": [
    {
     "name": "stdout",
     "output_type": "stream",
     "text": [
      "nb of dates (GDL):  2184812 \n",
      " nb of dates (JDG):  2912098\n"
     ]
    }
   ],
   "source": [
    "print('nb of dates (GDL): ', len(dates_gdl), '\\n', 'nb of dates (JDG): ', len(dates_jdg))"
   ]
  },
  {
   "cell_type": "markdown",
   "metadata": {},
   "source": [
    "**Pre-processing pipeline (Part 2):**<br>\n",
    "Now that the first part of our analysis is done we want to learn information about the extracted data. \n",
    "- To begin, we are putting each list into a pandas series.\n",
    "- After that, we want to relate issue dates and the title of their related article. So we create 2 dataframes (one for each journal) with two columns: Issue dates and articles names.\n",
    "- The format of the issue dates is propice to convert the related column into the datetime format.\n",
    "\n",
    "And now we are going to proceed with our analysis."
   ]
  },
  {
   "cell_type": "markdown",
   "metadata": {},
   "source": [
    "Putting each list into a pandas series"
   ]
  },
  {
   "cell_type": "code",
   "execution_count": 9,
   "metadata": {
    "collapsed": true
   },
   "outputs": [],
   "source": [
    "s_articles_gdl = pd.Series( (v for v in articles_names_gdl) )\n",
    "s_dates_gdl = pd.Series( (v for v in dates_gdl) )\n",
    "\n",
    "s_articles_jdg = pd.Series( (v for v in articles_names_jdg) )\n",
    "s_dates_jdg = pd.Series( (v for v in dates_jdg) )"
   ]
  },
  {
   "cell_type": "markdown",
   "metadata": {},
   "source": [
    "Retrieving dataframes with issue dates and articles names columns from pickle"
   ]
  },
  {
   "cell_type": "code",
   "execution_count": 10,
   "metadata": {
    "collapsed": true
   },
   "outputs": [],
   "source": [
    "df_jdg = pd.read_pickle(PICKLE_DATA_FOLDER+'df_jdg')\n",
    "df_gdl = pd.read_pickle(PICKLE_DATA_FOLDER+'df_gdl')"
   ]
  },
  {
   "cell_type": "markdown",
   "metadata": {},
   "source": [
    "**Analysis on untitled articles**\n",
    "- How many over time?\n",
    "- How many over total?"
   ]
  },
  {
   "cell_type": "code",
   "execution_count": 12,
   "metadata": {
    "collapsed": true
   },
   "outputs": [],
   "source": [
    "#jdg \n",
    "df_jdg_untitled_articles = df_jdg[df_jdg['Articles Names (JDG)'].str.contains(\"Untitled Article\")]"
   ]
  },
  {
   "cell_type": "code",
   "execution_count": 13,
   "metadata": {},
   "outputs": [
    {
     "data": {
      "text/html": [
       "<div>\n",
       "<style>\n",
       "    .dataframe thead tr:only-child th {\n",
       "        text-align: right;\n",
       "    }\n",
       "\n",
       "    .dataframe thead th {\n",
       "        text-align: left;\n",
       "    }\n",
       "\n",
       "    .dataframe tbody tr th {\n",
       "        vertical-align: top;\n",
       "    }\n",
       "</style>\n",
       "<table border=\"1\" class=\"dataframe\">\n",
       "  <thead>\n",
       "    <tr style=\"text-align: right;\">\n",
       "      <th></th>\n",
       "      <th>Issue Dates (JDG)</th>\n",
       "      <th>Articles Names (JDG)</th>\n",
       "    </tr>\n",
       "  </thead>\n",
       "  <tbody>\n",
       "    <tr>\n",
       "      <th>2</th>\n",
       "      <td>1900-01-01</td>\n",
       "      <td>Untitled Article</td>\n",
       "    </tr>\n",
       "    <tr>\n",
       "      <th>4</th>\n",
       "      <td>1900-01-01</td>\n",
       "      <td>Untitled Article</td>\n",
       "    </tr>\n",
       "    <tr>\n",
       "      <th>11</th>\n",
       "      <td>1900-01-01</td>\n",
       "      <td>Untitled Article</td>\n",
       "    </tr>\n",
       "    <tr>\n",
       "      <th>13</th>\n",
       "      <td>1900-01-01</td>\n",
       "      <td>Untitled Article</td>\n",
       "    </tr>\n",
       "    <tr>\n",
       "      <th>14</th>\n",
       "      <td>1900-01-01</td>\n",
       "      <td>Untitled Article</td>\n",
       "    </tr>\n",
       "  </tbody>\n",
       "</table>\n",
       "</div>"
      ],
      "text/plain": [
       "   Issue Dates (JDG) Articles Names (JDG)\n",
       "2         1900-01-01     Untitled Article\n",
       "4         1900-01-01     Untitled Article\n",
       "11        1900-01-01     Untitled Article\n",
       "13        1900-01-01     Untitled Article\n",
       "14        1900-01-01     Untitled Article"
      ]
     },
     "execution_count": 13,
     "metadata": {},
     "output_type": "execute_result"
    }
   ],
   "source": [
    "df_jdg_untitled_articles.head()"
   ]
  },
  {
   "cell_type": "markdown",
   "metadata": {},
   "source": [
    "Count # of untitled articles per year"
   ]
  },
  {
   "cell_type": "code",
   "execution_count": 14,
   "metadata": {
    "collapsed": true
   },
   "outputs": [],
   "source": [
    "df_jdg_untitled_articles_counts = df_jdg_untitled_articles['Issue Dates (JDG)'].dt.year.value_counts().sort_index()"
   ]
  },
  {
   "cell_type": "code",
   "execution_count": 15,
   "metadata": {},
   "outputs": [
    {
     "data": {
      "text/plain": [
       "1900    11542\n",
       "1901     9839\n",
       "1902     9724\n",
       "1903     9064\n",
       "1904     9373\n",
       "Name: Issue Dates (JDG), dtype: int64"
      ]
     },
     "execution_count": 15,
     "metadata": {},
     "output_type": "execute_result"
    }
   ],
   "source": [
    "df_jdg_untitled_articles_counts.head()"
   ]
  },
  {
   "cell_type": "code",
   "execution_count": 16,
   "metadata": {},
   "outputs": [
    {
     "data": {
      "text/plain": [
       "<matplotlib.text.Text at 0x141f09518>"
      ]
     },
     "execution_count": 16,
     "metadata": {},
     "output_type": "execute_result"
    },
    {
     "data": {
      "image/png": "[encoded data removed]",
      "text/plain": [
       "<matplotlib.figure.Figure at 0x15507c3c8>"
      ]
     },
     "metadata": {},
     "output_type": "display_data"
    }
   ],
   "source": [
    "fig = plt.figure(figsize=(10, 10))\n",
    "df_jdg_untitled_articles_counts.plot()\n",
    "plt.title('Number of untitled articles in the JDG in regard of issuing year')\n",
    "plt.xlabel('Issue year of the articles')\n",
    "plt.ylabel('Number of untitled articles')"
   ]
  },
  {
   "cell_type": "markdown",
   "metadata": {},
   "source": [
    "Calculate rate of untitled articles over total per issuing year"
   ]
  },
  {
   "cell_type": "code",
   "execution_count": 17,
   "metadata": {
    "collapsed": true
   },
   "outputs": [],
   "source": [
    "df_jdg_untitled_articles_rates = df_jdg_untitled_articles_counts / df_jdg['Issue Dates (JDG)'].dt.year.value_counts()"
   ]
  },
  {
   "cell_type": "code",
   "execution_count": 18,
   "metadata": {},
   "outputs": [
    {
     "data": {
      "text/plain": [
       "<matplotlib.text.Text at 0x118ec94e0>"
      ]
     },
     "execution_count": 18,
     "metadata": {},
     "output_type": "execute_result"
    },
    {
     "data": {
      "image/png": "[encoded data removed]",
      "text/plain": [
       "<matplotlib.figure.Figure at 0x15507c358>"
      ]
     },
     "metadata": {},
     "output_type": "display_data"
    }
   ],
   "source": [
    "fig = plt.figure(figsize=(10, 10))\n",
    "df_jdg_untitled_articles_rates.plot()\n",
    "plt.title('Rate of untitled articles in the JDG in regard of issuing year date')\n",
    "plt.xlabel('Issue year of the article')\n",
    "plt.ylabel('Rate of untitled articles')"
   ]
  },
  {
   "cell_type": "markdown",
   "metadata": {},
   "source": [
    "For the JDG, most of the untitled articles go back to the first decade of the 20th century from 1900 to 1920. The rates decrease consideratly afterwards. "
   ]
  },
  {
   "cell_type": "code",
   "execution_count": 19,
   "metadata": {
    "collapsed": true
   },
   "outputs": [],
   "source": [
    "#gdl\n",
    "df_gdl_untitled_articles = df_gdl[df_gdl['Articles Names (GDL)'].str.contains(\"Untitled Article\")]"
   ]
  },
  {
   "cell_type": "code",
   "execution_count": 20,
   "metadata": {},
   "outputs": [
    {
     "data": {
      "text/html": [
       "<div>\n",
       "<style>\n",
       "    .dataframe thead tr:only-child th {\n",
       "        text-align: right;\n",
       "    }\n",
       "\n",
       "    .dataframe thead th {\n",
       "        text-align: left;\n",
       "    }\n",
       "\n",
       "    .dataframe tbody tr th {\n",
       "        vertical-align: top;\n",
       "    }\n",
       "</style>\n",
       "<table border=\"1\" class=\"dataframe\">\n",
       "  <thead>\n",
       "    <tr style=\"text-align: right;\">\n",
       "      <th></th>\n",
       "      <th>Issue Dates (GDL)</th>\n",
       "      <th>Articles Names (GDL)</th>\n",
       "    </tr>\n",
       "  </thead>\n",
       "  <tbody>\n",
       "    <tr>\n",
       "      <th>4</th>\n",
       "      <td>1900-01-02</td>\n",
       "      <td>Untitled Article</td>\n",
       "    </tr>\n",
       "    <tr>\n",
       "      <th>5</th>\n",
       "      <td>1900-01-02</td>\n",
       "      <td>Untitled Article</td>\n",
       "    </tr>\n",
       "    <tr>\n",
       "      <th>6</th>\n",
       "      <td>1900-01-02</td>\n",
       "      <td>Untitled Article</td>\n",
       "    </tr>\n",
       "    <tr>\n",
       "      <th>7</th>\n",
       "      <td>1900-01-02</td>\n",
       "      <td>Untitled Article</td>\n",
       "    </tr>\n",
       "    <tr>\n",
       "      <th>8</th>\n",
       "      <td>1900-01-02</td>\n",
       "      <td>Untitled Article</td>\n",
       "    </tr>\n",
       "  </tbody>\n",
       "</table>\n",
       "</div>"
      ],
      "text/plain": [
       "  Issue Dates (GDL) Articles Names (GDL)\n",
       "4        1900-01-02     Untitled Article\n",
       "5        1900-01-02     Untitled Article\n",
       "6        1900-01-02     Untitled Article\n",
       "7        1900-01-02     Untitled Article\n",
       "8        1900-01-02     Untitled Article"
      ]
     },
     "execution_count": 20,
     "metadata": {},
     "output_type": "execute_result"
    }
   ],
   "source": [
    "df_gdl_untitled_articles.head()"
   ]
  },
  {
   "cell_type": "markdown",
   "metadata": {},
   "source": [
    "Count # of untitled articles per issue year"
   ]
  },
  {
   "cell_type": "code",
   "execution_count": 21,
   "metadata": {
    "collapsed": true
   },
   "outputs": [],
   "source": [
    "df_gdl_untitled_articles_counts = df_gdl_untitled_articles['Issue Dates (GDL)'].dt.year.value_counts().sort_index()"
   ]
  },
  {
   "cell_type": "code",
   "execution_count": 22,
   "metadata": {},
   "outputs": [
    {
     "data": {
      "text/plain": [
       "1994    18396\n",
       "1995    16215\n",
       "1996    24441\n",
       "1997    14596\n",
       "1998     2170\n",
       "Name: Issue Dates (GDL), dtype: int64"
      ]
     },
     "execution_count": 22,
     "metadata": {},
     "output_type": "execute_result"
    }
   ],
   "source": [
    "df_gdl_untitled_articles_counts.tail()"
   ]
  },
  {
   "cell_type": "code",
   "execution_count": 23,
   "metadata": {},
   "outputs": [
    {
     "data": {
      "text/plain": [
       "<matplotlib.text.Text at 0x1190af160>"
      ]
     },
     "execution_count": 23,
     "metadata": {},
     "output_type": "execute_result"
    },
    {
     "data": {
      "image/png": "[encoded data removed]",
      "text/plain": [
       "<matplotlib.figure.Figure at 0x119096898>"
      ]
     },
     "metadata": {},
     "output_type": "display_data"
    }
   ],
   "source": [
    "fig = plt.figure(figsize=(10, 10))\n",
    "df_gdl_untitled_articles_counts.plot()\n",
    "plt.title('Number of untitled articles in the GDL in regard of issuing year')\n",
    "plt.xlabel('Issue year of the articles')\n",
    "plt.ylabel('Number of untitled articles')"
   ]
  },
  {
   "cell_type": "markdown",
   "metadata": {},
   "source": [
    "Calculate rate of untitled articles over total per issuing year"
   ]
  },
  {
   "cell_type": "code",
   "execution_count": 24,
   "metadata": {
    "collapsed": true
   },
   "outputs": [],
   "source": [
    "df_gdl_untitled_articles_rates = df_gdl_untitled_articles_counts / df_gdl['Issue Dates (GDL)'].dt.year.value_counts()"
   ]
  },
  {
   "cell_type": "code",
   "execution_count": 25,
   "metadata": {},
   "outputs": [
    {
     "data": {
      "text/plain": [
       "<matplotlib.text.Text at 0x1559be518>"
      ]
     },
     "execution_count": 25,
     "metadata": {},
     "output_type": "execute_result"
    },
    {
     "data": {
      "image/png": "[encoded data removed]",
      "text/plain": [
       "<matplotlib.figure.Figure at 0x1559a5d68>"
      ]
     },
     "metadata": {},
     "output_type": "display_data"
    }
   ],
   "source": [
    "fig = plt.figure(figsize=(10, 10))\n",
    "df_gdl_untitled_articles_rates.plot()\n",
    "plt.title('Rate of untitled articles in the GDL in regard of issuing year')\n",
    "plt.xlabel('Issue year of the articles')\n",
    "plt.ylabel('Rate of untitled articles')"
   ]
  },
  {
   "cell_type": "markdown",
   "metadata": {},
   "source": [
    "For the GDL, there is no clear pattern as the rates decrease around 1930 before raising back to an approximative 40% rate as it was for the beginning of the century. "
   ]
  },
  {
   "cell_type": "markdown",
   "metadata": {},
   "source": [
    "Remove rows with untitled articles"
   ]
  },
  {
   "cell_type": "code",
   "execution_count": 26,
   "metadata": {
    "collapsed": true
   },
   "outputs": [],
   "source": [
    "df_gdl = df_gdl[~df_gdl['Articles Names (GDL)'].str.contains(\"Untitled Article\")]\n",
    "\n",
    "df_jdg = df_jdg[~df_jdg['Articles Names (JDG)'].str.contains(\"Untitled Article\")]"
   ]
  },
  {
   "cell_type": "code",
   "execution_count": 27,
   "metadata": {
    "collapsed": true
   },
   "outputs": [],
   "source": [
    "df_gdl.reset_index(inplace = True, drop = True)\n",
    "\n",
    "df_jdg.reset_index(inplace = True, drop = True)"
   ]
  },
  {
   "cell_type": "code",
   "execution_count": 28,
   "metadata": {},
   "outputs": [
    {
     "data": {
      "text/html": [
       "<div>\n",
       "<style>\n",
       "    .dataframe thead tr:only-child th {\n",
       "        text-align: right;\n",
       "    }\n",
       "\n",
       "    .dataframe thead th {\n",
       "        text-align: left;\n",
       "    }\n",
       "\n",
       "    .dataframe tbody tr th {\n",
       "        vertical-align: top;\n",
       "    }\n",
       "</style>\n",
       "<table border=\"1\" class=\"dataframe\">\n",
       "  <thead>\n",
       "    <tr style=\"text-align: right;\">\n",
       "      <th></th>\n",
       "      <th>Issue Dates (GDL)</th>\n",
       "      <th>Articles Names (GDL)</th>\n",
       "    </tr>\n",
       "  </thead>\n",
       "  <tbody>\n",
       "    <tr>\n",
       "      <th>0</th>\n",
       "      <td>1900-01-02</td>\n",
       "      <td>Lausanne,2janvier1900. Regards en arrière</td>\n",
       "    </tr>\n",
       "    <tr>\n",
       "      <th>1</th>\n",
       "      <td>1900-01-02</td>\n",
       "      <td>LES JUSTES</td>\n",
       "    </tr>\n",
       "    <tr>\n",
       "      <th>2</th>\n",
       "      <td>1900-01-02</td>\n",
       "      <td>A propos du colonel Lecomte.</td>\n",
       "    </tr>\n",
       "    <tr>\n",
       "      <th>3</th>\n",
       "      <td>1900-01-02</td>\n",
       "      <td>LETTRE DE PARIS</td>\n",
       "    </tr>\n",
       "    <tr>\n",
       "      <th>4</th>\n",
       "      <td>1900-01-02</td>\n",
       "      <td>A la Haute Cour.</td>\n",
       "    </tr>\n",
       "    <tr>\n",
       "      <th>5</th>\n",
       "      <td>1900-01-02</td>\n",
       "      <td>Une lettre de Mahmoud Pacha</td>\n",
       "    </tr>\n",
       "    <tr>\n",
       "      <th>6</th>\n",
       "      <td>1900-01-02</td>\n",
       "      <td>cgifl piocès dramatique.</td>\n",
       "    </tr>\n",
       "    <tr>\n",
       "      <th>7</th>\n",
       "      <td>1900-01-02</td>\n",
       "      <td>CONFÉDÉRATION SUISSE</td>\n",
       "    </tr>\n",
       "    <tr>\n",
       "      <th>8</th>\n",
       "      <td>1900-01-02</td>\n",
       "      <td>Les conventions de La Haye.</td>\n",
       "    </tr>\n",
       "    <tr>\n",
       "      <th>9</th>\n",
       "      <td>1900-01-02</td>\n",
       "      <td>Etrennes politiques.</td>\n",
       "    </tr>\n",
       "  </tbody>\n",
       "</table>\n",
       "</div>"
      ],
      "text/plain": [
       "  Issue Dates (GDL)                       Articles Names (GDL)\n",
       "0        1900-01-02  Lausanne,2janvier1900. Regards en arrière\n",
       "1        1900-01-02                                 LES JUSTES\n",
       "2        1900-01-02               A propos du colonel Lecomte.\n",
       "3        1900-01-02                            LETTRE DE PARIS\n",
       "4        1900-01-02                           A la Haute Cour.\n",
       "5        1900-01-02                Une lettre de Mahmoud Pacha\n",
       "6        1900-01-02                   cgifl piocès dramatique.\n",
       "7        1900-01-02                       CONFÉDÉRATION SUISSE\n",
       "8        1900-01-02                Les conventions de La Haye.\n",
       "9        1900-01-02                       Etrennes politiques."
      ]
     },
     "execution_count": 28,
     "metadata": {},
     "output_type": "execute_result"
    }
   ],
   "source": [
    "df_gdl.head(10)"
   ]
  },
  {
   "cell_type": "code",
   "execution_count": 29,
   "metadata": {},
   "outputs": [
    {
     "data": {
      "text/html": [
       "<div>\n",
       "<style>\n",
       "    .dataframe thead tr:only-child th {\n",
       "        text-align: right;\n",
       "    }\n",
       "\n",
       "    .dataframe thead th {\n",
       "        text-align: left;\n",
       "    }\n",
       "\n",
       "    .dataframe tbody tr th {\n",
       "        vertical-align: top;\n",
       "    }\n",
       "</style>\n",
       "<table border=\"1\" class=\"dataframe\">\n",
       "  <thead>\n",
       "    <tr style=\"text-align: right;\">\n",
       "      <th></th>\n",
       "      <th>Issue Dates (JDG)</th>\n",
       "      <th>Articles Names (JDG)</th>\n",
       "    </tr>\n",
       "  </thead>\n",
       "  <tbody>\n",
       "    <tr>\n",
       "      <th>0</th>\n",
       "      <td>1900-01-01</td>\n",
       "      <td>1&amp;99</td>\n",
       "    </tr>\n",
       "    <tr>\n",
       "      <th>1</th>\n",
       "      <td>1900-01-01</td>\n",
       "      <td>1&amp;99</td>\n",
       "    </tr>\n",
       "    <tr>\n",
       "      <th>2</th>\n",
       "      <td>1900-01-01</td>\n",
       "      <td>une fois le cercueil de l'ancien président ren...</td>\n",
       "    </tr>\n",
       "    <tr>\n",
       "      <th>3</th>\n",
       "      <td>1900-01-01</td>\n",
       "      <td>En Italie</td>\n",
       "    </tr>\n",
       "    <tr>\n",
       "      <th>4</th>\n",
       "      <td>1900-01-01</td>\n",
       "      <td>une fois le cercueil de l'ancien président ren...</td>\n",
       "    </tr>\n",
       "    <tr>\n",
       "      <th>5</th>\n",
       "      <td>1900-01-01</td>\n",
       "      <td>Au Vatica n</td>\n",
       "    </tr>\n",
       "    <tr>\n",
       "      <th>6</th>\n",
       "      <td>1900-01-01</td>\n",
       "      <td>E n Allemagn e</td>\n",
       "    </tr>\n",
       "    <tr>\n",
       "      <th>7</th>\n",
       "      <td>1900-01-01</td>\n",
       "      <td>une fois le cercueil de l'ancien président ren...</td>\n",
       "    </tr>\n",
       "    <tr>\n",
       "      <th>8</th>\n",
       "      <td>1900-01-01</td>\n",
       "      <td>E n Autriche</td>\n",
       "    </tr>\n",
       "    <tr>\n",
       "      <th>9</th>\n",
       "      <td>1900-01-01</td>\n",
       "      <td>LA SUISSE</td>\n",
       "    </tr>\n",
       "  </tbody>\n",
       "</table>\n",
       "</div>"
      ],
      "text/plain": [
       "  Issue Dates (JDG)                               Articles Names (JDG)\n",
       "0        1900-01-01                                               1&99\n",
       "1        1900-01-01                                               1&99\n",
       "2        1900-01-01  une fois le cercueil de l'ancien président ren...\n",
       "3        1900-01-01                                          En Italie\n",
       "4        1900-01-01  une fois le cercueil de l'ancien président ren...\n",
       "5        1900-01-01                                        Au Vatica n\n",
       "6        1900-01-01                                     E n Allemagn e\n",
       "7        1900-01-01  une fois le cercueil de l'ancien président ren...\n",
       "8        1900-01-01                                       E n Autriche\n",
       "9        1900-01-01                                          LA SUISSE"
      ]
     },
     "execution_count": 29,
     "metadata": {},
     "output_type": "execute_result"
    }
   ],
   "source": [
    "df_jdg.head(10)"
   ]
  },
  {
   "cell_type": "markdown",
   "metadata": {},
   "source": [
    "**Pre-processing (Part 3):**<br>\n",
    "- We want to know when the public sphere got interested into the environnement related subjects. Therefore in a very basic manner, we are going to go over all the articles names and see if the terms \"environnement\" and \"écologie\" are making frequent apparitions during the XXth century. It will results in the creation of dataframes with only the rows of articles mentioning theses terms.\n",
    "- We want to get a sense of when these apparitions were and thus we are going to use the value counts method to count the occurence of the terms \"environnement\" and \"écologie\" during the XXth century.\n",
    "- We are also including a merging step to not only see the trends in both journals separetely but to also see their joint occurences.\n",
    "- Finally, we are going to plot histograms of occurences of the terms in regard of the issuing year of the articles to get a visual rendering of these trends."
   ]
  },
  {
   "cell_type": "code",
   "execution_count": 31,
   "metadata": {
    "collapsed": true
   },
   "outputs": [],
   "source": [
    "\n",
    "dfEcologie_gdl = df_gdl[df_gdl['Articles Names (GDL)'].str.contains(\"écologie\", case = False) == True]\n",
    "\n",
    "dfEcologie_jdg = df_jdg[df_jdg['Articles Names (JDG)'].str.contains(\"écologie\", case = False) == True]"
   ]
  },
  {
   "cell_type": "code",
   "execution_count": 32,
   "metadata": {
    "collapsed": true
   },
   "outputs": [],
   "source": [
    "dfEcologie_gdl.reset_index(inplace = True, drop = True) \n",
    "dfEcologie_jdg.reset_index(inplace = True, drop = True)"
   ]
  },
  {
   "cell_type": "code",
   "execution_count": 33,
   "metadata": {},
   "outputs": [
    {
     "data": {
      "text/html": [
       "<div>\n",
       "<style>\n",
       "    .dataframe thead tr:only-child th {\n",
       "        text-align: right;\n",
       "    }\n",
       "\n",
       "    .dataframe thead th {\n",
       "        text-align: left;\n",
       "    }\n",
       "\n",
       "    .dataframe tbody tr th {\n",
       "        vertical-align: top;\n",
       "    }\n",
       "</style>\n",
       "<table border=\"1\" class=\"dataframe\">\n",
       "  <thead>\n",
       "    <tr style=\"text-align: right;\">\n",
       "      <th></th>\n",
       "      <th>Issue Dates (GDL)</th>\n",
       "      <th>Articles Names (GDL)</th>\n",
       "    </tr>\n",
       "  </thead>\n",
       "  <tbody>\n",
       "    <tr>\n",
       "      <th>0</th>\n",
       "      <td>1954-07-28</td>\n",
       "      <td>Le congrès international de gynécologie et d'o...</td>\n",
       "    </tr>\n",
       "    <tr>\n",
       "      <th>1</th>\n",
       "      <td>1965-09-07</td>\n",
       "      <td>Gynécologie</td>\n",
       "    </tr>\n",
       "    <tr>\n",
       "      <th>2</th>\n",
       "      <td>1970-01-20</td>\n",
       "      <td>DEMAIN SOIR CONFÉRENCE ACADÉMIQUE SUR L'ÉCOLOGIE</td>\n",
       "    </tr>\n",
       "    <tr>\n",
       "      <th>3</th>\n",
       "      <td>1970-01-22</td>\n",
       "      <td>INFORMATIONS SUISSES HIER SOIR A LAUSANNE L'éc...</td>\n",
       "    </tr>\n",
       "    <tr>\n",
       "      <th>4</th>\n",
       "      <td>1970-01-23</td>\n",
       "      <td>De la saine écologie Un wellingtonia sauvé à l...</td>\n",
       "    </tr>\n",
       "  </tbody>\n",
       "</table>\n",
       "</div>"
      ],
      "text/plain": [
       "  Issue Dates (GDL)                               Articles Names (GDL)\n",
       "0        1954-07-28  Le congrès international de gynécologie et d'o...\n",
       "1        1965-09-07                                        Gynécologie\n",
       "2        1970-01-20   DEMAIN SOIR CONFÉRENCE ACADÉMIQUE SUR L'ÉCOLOGIE\n",
       "3        1970-01-22  INFORMATIONS SUISSES HIER SOIR A LAUSANNE L'éc...\n",
       "4        1970-01-23  De la saine écologie Un wellingtonia sauvé à l..."
      ]
     },
     "execution_count": 33,
     "metadata": {},
     "output_type": "execute_result"
    }
   ],
   "source": [
    "dfEcologie_gdl.head()"
   ]
  },
  {
   "cell_type": "code",
   "execution_count": 34,
   "metadata": {},
   "outputs": [
    {
     "data": {
      "text/html": [
       "<div>\n",
       "<style>\n",
       "    .dataframe thead tr:only-child th {\n",
       "        text-align: right;\n",
       "    }\n",
       "\n",
       "    .dataframe thead th {\n",
       "        text-align: left;\n",
       "    }\n",
       "\n",
       "    .dataframe tbody tr th {\n",
       "        vertical-align: top;\n",
       "    }\n",
       "</style>\n",
       "<table border=\"1\" class=\"dataframe\">\n",
       "  <thead>\n",
       "    <tr style=\"text-align: right;\">\n",
       "      <th></th>\n",
       "      <th>Issue Dates (JDG)</th>\n",
       "      <th>Articles Names (JDG)</th>\n",
       "    </tr>\n",
       "  </thead>\n",
       "  <tbody>\n",
       "    <tr>\n",
       "      <th>0</th>\n",
       "      <td>1921-03-20</td>\n",
       "      <td>Institut Humbflldtinniim lllwllllll lIllIlIIJU...</td>\n",
       "    </tr>\n",
       "    <tr>\n",
       "      <th>1</th>\n",
       "      <td>1923-08-12</td>\n",
       "      <td>Le Congrès de gynécologie</td>\n",
       "    </tr>\n",
       "    <tr>\n",
       "      <th>2</th>\n",
       "      <td>1931-05-13</td>\n",
       "      <td>Société suisse de gynécologie</td>\n",
       "    </tr>\n",
       "    <tr>\n",
       "      <th>3</th>\n",
       "      <td>1948-05-31</td>\n",
       "      <td>LA SOCIÉTÉ SUISSE D'OBSTÉTRIQUE ET DE GYNÉCOLO...</td>\n",
       "    </tr>\n",
       "    <tr>\n",
       "      <th>4</th>\n",
       "      <td>1951-05-24</td>\n",
       "      <td>Association des DE RETOUR Dr CHARBONNIER F. M....</td>\n",
       "    </tr>\n",
       "  </tbody>\n",
       "</table>\n",
       "</div>"
      ],
      "text/plain": [
       "  Issue Dates (JDG)                               Articles Names (JDG)\n",
       "0        1921-03-20  Institut Humbflldtinniim lllwllllll lIllIlIIJU...\n",
       "1        1923-08-12                          Le Congrès de gynécologie\n",
       "2        1931-05-13                      Société suisse de gynécologie\n",
       "3        1948-05-31  LA SOCIÉTÉ SUISSE D'OBSTÉTRIQUE ET DE GYNÉCOLO...\n",
       "4        1951-05-24  Association des DE RETOUR Dr CHARBONNIER F. M...."
      ]
     },
     "execution_count": 34,
     "metadata": {},
     "output_type": "execute_result"
    }
   ],
   "source": [
    "dfEcologie_jdg.head()"
   ]
  },
  {
   "cell_type": "markdown",
   "metadata": {},
   "source": [
    "As you can see this method is not sufficient as it retrieves articles mentioning \"gynécologie\" which contains the word \"écologie\". Nevertheless, this method enables a first skimming."
   ]
  },
  {
   "cell_type": "markdown",
   "metadata": {},
   "source": [
    "We are now defining a function which ensures that only articles with the word \"écologie\" in its true form is kept in the dataframe."
   ]
  },
  {
   "cell_type": "code",
   "execution_count": 11,
   "metadata": {
    "collapsed": true
   },
   "outputs": [],
   "source": [
    "import re\n",
    "\n",
    "def findWholeWord(w):\n",
    "    return re.compile(r'\\b({0})\\b'.format(w), flags=re.IGNORECASE).search"
   ]
  },
  {
   "cell_type": "code",
   "execution_count": 38,
   "metadata": {
    "scrolled": true
   },
   "outputs": [
    {
     "name": "stderr",
     "output_type": "stream",
     "text": [
      "/anaconda/envs/ada/lib/python3.5/site-packages/ipykernel/__main__.py:6: SettingWithCopyWarning: \n",
      "A value is trying to be set on a copy of a slice from a DataFrame\n",
      "\n",
      "See the caveats in the documentation: http://pandas.pydata.org/pandas-docs/stable/indexing.html#indexing-view-versus-copy\n"
     ]
    }
   ],
   "source": [
    "drop_indices_gdl = []\n",
    "for i in range(dfEcologie_gdl['Articles Names (GDL)'].size):\n",
    "    current_article = dfEcologie_gdl['Articles Names (GDL)'].values[i]\n",
    "    if findWholeWord('écologie')(current_article) == None:\n",
    "        drop_indices_gdl.append(i)\n",
    "dfEcologie_gdl.drop(drop_indices_gdl, inplace = True)"
   ]
  },
  {
   "cell_type": "code",
   "execution_count": 39,
   "metadata": {},
   "outputs": [
    {
     "name": "stderr",
     "output_type": "stream",
     "text": [
      "/anaconda/envs/ada/lib/python3.5/site-packages/ipykernel/__main__.py:6: SettingWithCopyWarning: \n",
      "A value is trying to be set on a copy of a slice from a DataFrame\n",
      "\n",
      "See the caveats in the documentation: http://pandas.pydata.org/pandas-docs/stable/indexing.html#indexing-view-versus-copy\n"
     ]
    }
   ],
   "source": [
    "drop_indices_jdg = []\n",
    "for i in range(dfEcologie_jdg['Articles Names (JDG)'].size):\n",
    "    current_article = dfEcologie_jdg['Articles Names (JDG)'].values[i]\n",
    "    if findWholeWord('écologie')(current_article) == None:\n",
    "        drop_indices_jdg.append(i)\n",
    "dfEcologie_jdg.drop(drop_indices_jdg, inplace = True)"
   ]
  },
  {
   "cell_type": "code",
   "execution_count": 40,
   "metadata": {
    "collapsed": true
   },
   "outputs": [],
   "source": [
    "dfEcologie_gdl.reset_index(inplace = True, drop = True)\n",
    "dfEcologie_jdg.reset_index(inplace = True, drop = True)"
   ]
  },
  {
   "cell_type": "code",
   "execution_count": 41,
   "metadata": {},
   "outputs": [
    {
     "data": {
      "text/html": [
       "<div>\n",
       "<style>\n",
       "    .dataframe thead tr:only-child th {\n",
       "        text-align: right;\n",
       "    }\n",
       "\n",
       "    .dataframe thead th {\n",
       "        text-align: left;\n",
       "    }\n",
       "\n",
       "    .dataframe tbody tr th {\n",
       "        vertical-align: top;\n",
       "    }\n",
       "</style>\n",
       "<table border=\"1\" class=\"dataframe\">\n",
       "  <thead>\n",
       "    <tr style=\"text-align: right;\">\n",
       "      <th></th>\n",
       "      <th>Issue Dates (GDL)</th>\n",
       "      <th>Articles Names (GDL)</th>\n",
       "    </tr>\n",
       "  </thead>\n",
       "  <tbody>\n",
       "    <tr>\n",
       "      <th>0</th>\n",
       "      <td>1970-01-20</td>\n",
       "      <td>DEMAIN SOIR CONFÉRENCE ACADÉMIQUE SUR L'ÉCOLOGIE</td>\n",
       "    </tr>\n",
       "    <tr>\n",
       "      <th>1</th>\n",
       "      <td>1970-01-22</td>\n",
       "      <td>INFORMATIONS SUISSES HIER SOIR A LAUSANNE L'éc...</td>\n",
       "    </tr>\n",
       "    <tr>\n",
       "      <th>2</th>\n",
       "      <td>1970-01-23</td>\n",
       "      <td>De la saine écologie Un wellingtonia sauvé à l...</td>\n",
       "    </tr>\n",
       "    <tr>\n",
       "      <th>3</th>\n",
       "      <td>1970-01-26</td>\n",
       "      <td>INFORMATIONS SUISSES M. Jean Dorst et l'écologie</td>\n",
       "    </tr>\n",
       "    <tr>\n",
       "      <th>4</th>\n",
       "      <td>1972-06-29</td>\n",
       "      <td>Université: l'Institut d'écologie animale mis ...</td>\n",
       "    </tr>\n",
       "  </tbody>\n",
       "</table>\n",
       "</div>"
      ],
      "text/plain": [
       "  Issue Dates (GDL)                               Articles Names (GDL)\n",
       "0        1970-01-20   DEMAIN SOIR CONFÉRENCE ACADÉMIQUE SUR L'ÉCOLOGIE\n",
       "1        1970-01-22  INFORMATIONS SUISSES HIER SOIR A LAUSANNE L'éc...\n",
       "2        1970-01-23  De la saine écologie Un wellingtonia sauvé à l...\n",
       "3        1970-01-26   INFORMATIONS SUISSES M. Jean Dorst et l'écologie\n",
       "4        1972-06-29  Université: l'Institut d'écologie animale mis ..."
      ]
     },
     "execution_count": 41,
     "metadata": {},
     "output_type": "execute_result"
    }
   ],
   "source": [
    "dfEcologie_gdl.head()"
   ]
  },
  {
   "cell_type": "code",
   "execution_count": 42,
   "metadata": {},
   "outputs": [
    {
     "data": {
      "text/html": [
       "<div>\n",
       "<style>\n",
       "    .dataframe thead tr:only-child th {\n",
       "        text-align: right;\n",
       "    }\n",
       "\n",
       "    .dataframe thead th {\n",
       "        text-align: left;\n",
       "    }\n",
       "\n",
       "    .dataframe tbody tr th {\n",
       "        vertical-align: top;\n",
       "    }\n",
       "</style>\n",
       "<table border=\"1\" class=\"dataframe\">\n",
       "  <thead>\n",
       "    <tr style=\"text-align: right;\">\n",
       "      <th></th>\n",
       "      <th>Issue Dates (JDG)</th>\n",
       "      <th>Articles Names (JDG)</th>\n",
       "    </tr>\n",
       "  </thead>\n",
       "  <tbody>\n",
       "    <tr>\n",
       "      <th>0</th>\n",
       "      <td>1969-09-23</td>\n",
       "      <td>Technique et nature Connaissez-vous l'écologie ?</td>\n",
       "    </tr>\n",
       "    <tr>\n",
       "      <th>1</th>\n",
       "      <td>1969-11-29</td>\n",
       "      <td>ÉCOLOGIE HUMAINE (I) le «bon sauvage»: plus qu...</td>\n",
       "    </tr>\n",
       "    <tr>\n",
       "      <th>2</th>\n",
       "      <td>1969-12-01</td>\n",
       "      <td>ÉCOLOGIE HUMAINE (II) Nous n'avons 'plus le te...</td>\n",
       "    </tr>\n",
       "    <tr>\n",
       "      <th>3</th>\n",
       "      <td>1969-12-02</td>\n",
       "      <td>ÉCOLOGIE HUMAINE (lU) Pour éviter de grandes c...</td>\n",
       "    </tr>\n",
       "    <tr>\n",
       "      <th>4</th>\n",
       "      <td>1970-11-14</td>\n",
       "      <td>1. ÉCOLOGIE: science de l'environnement</td>\n",
       "    </tr>\n",
       "  </tbody>\n",
       "</table>\n",
       "</div>"
      ],
      "text/plain": [
       "  Issue Dates (JDG)                               Articles Names (JDG)\n",
       "0        1969-09-23   Technique et nature Connaissez-vous l'écologie ?\n",
       "1        1969-11-29  ÉCOLOGIE HUMAINE (I) le «bon sauvage»: plus qu...\n",
       "2        1969-12-01  ÉCOLOGIE HUMAINE (II) Nous n'avons 'plus le te...\n",
       "3        1969-12-02  ÉCOLOGIE HUMAINE (lU) Pour éviter de grandes c...\n",
       "4        1970-11-14            1. ÉCOLOGIE: science de l'environnement"
      ]
     },
     "execution_count": 42,
     "metadata": {},
     "output_type": "execute_result"
    }
   ],
   "source": [
    "dfEcologie_jdg.head()"
   ]
  },
  {
   "cell_type": "markdown",
   "metadata": {},
   "source": [
    "As you can see above, only articles titles really mentioning \"écologie\" are present in the dataframe."
   ]
  },
  {
   "cell_type": "markdown",
   "metadata": {},
   "source": [
    "Count occurences of the term \"écologie\" in the dataframes"
   ]
  },
  {
   "cell_type": "code",
   "execution_count": 43,
   "metadata": {
    "collapsed": true
   },
   "outputs": [],
   "source": [
    "dfEcologie_gdl_counts = dfEcologie_gdl['Issue Dates (GDL)'].dt.year.value_counts()\n",
    "\n",
    "dfEcologie_jdg_counts = dfEcologie_jdg['Issue Dates (JDG)'].dt.year.value_counts()"
   ]
  },
  {
   "cell_type": "code",
   "execution_count": 44,
   "metadata": {
    "collapsed": true
   },
   "outputs": [],
   "source": [
    "dfEcologie_gdl_counts = dfEcologie_gdl_counts.sort_index()\n",
    "\n",
    "dfEcologie_jdg_counts = dfEcologie_jdg_counts.sort_index()"
   ]
  },
  {
   "cell_type": "code",
   "execution_count": 45,
   "metadata": {},
   "outputs": [
    {
     "data": {
      "text/plain": [
       "<matplotlib.text.Text at 0x10a0c97f0>"
      ]
     },
     "execution_count": 45,
     "metadata": {},
     "output_type": "execute_result"
    },
    {
     "data": {
      "image/png": "[encoded data removed]",
      "text/plain": [
       "<matplotlib.figure.Figure at 0x1639c7ac8>"
      ]
     },
     "metadata": {},
     "output_type": "display_data"
    }
   ],
   "source": [
    "fig = plt.figure(figsize=(10, 10))\n",
    "dfEcologie_gdl_counts.plot(kind=\"bar\")\n",
    "plt.title('Number of occurences of the term \"Ecologie\" in articles name during the 20th century in the GDL')\n",
    "plt.xlabel('Issue year of the article')\n",
    "plt.ylabel('Number of occurences')"
   ]
  },
  {
   "cell_type": "code",
   "execution_count": 46,
   "metadata": {},
   "outputs": [
    {
     "data": {
      "text/plain": [
       "<matplotlib.text.Text at 0x16350ab38>"
      ]
     },
     "execution_count": 46,
     "metadata": {},
     "output_type": "execute_result"
    },
    {
     "data": {
      "image/png": "[encoded data removed]",
      "text/plain": [
       "<matplotlib.figure.Figure at 0x1634e8fd0>"
      ]
     },
     "metadata": {},
     "output_type": "display_data"
    }
   ],
   "source": [
    "fig = plt.figure(figsize=(10, 10))\n",
    "dfEcologie_jdg_counts.plot(kind=\"bar\")\n",
    "plt.title('Number of occurences of the term \"Ecologie\" in articles name during the 20th century in the JDG')\n",
    "plt.xlabel('Issue year of the article')\n",
    "plt.ylabel('Number of occurences')"
   ]
  },
  {
   "cell_type": "markdown",
   "metadata": {},
   "source": [
    "Merge the GDL and JDG data into one single dataframe"
   ]
  },
  {
   "cell_type": "code",
   "execution_count": 47,
   "metadata": {
    "collapsed": true
   },
   "outputs": [],
   "source": [
    "dfEcologie_joint = pd.merge(pd.DataFrame(dfEcologie_gdl_counts), pd.DataFrame(dfEcologie_jdg_counts), left_index = True, right_index = True, how='outer')"
   ]
  },
  {
   "cell_type": "markdown",
   "metadata": {},
   "source": [
    "Replace non existing values (put by default as NaN) for certain years for one of the journal with 0 values"
   ]
  },
  {
   "cell_type": "code",
   "execution_count": 48,
   "metadata": {
    "collapsed": true
   },
   "outputs": [],
   "source": [
    "dfEcologie_joint.fillna(value='0', inplace = True)"
   ]
  },
  {
   "cell_type": "code",
   "execution_count": 49,
   "metadata": {},
   "outputs": [
    {
     "data": {
      "text/html": [
       "<div>\n",
       "<style>\n",
       "    .dataframe thead tr:only-child th {\n",
       "        text-align: right;\n",
       "    }\n",
       "\n",
       "    .dataframe thead th {\n",
       "        text-align: left;\n",
       "    }\n",
       "\n",
       "    .dataframe tbody tr th {\n",
       "        vertical-align: top;\n",
       "    }\n",
       "</style>\n",
       "<table border=\"1\" class=\"dataframe\">\n",
       "  <thead>\n",
       "    <tr style=\"text-align: right;\">\n",
       "      <th></th>\n",
       "      <th>Issue Dates (GDL)</th>\n",
       "      <th>Issue Dates (JDG)</th>\n",
       "    </tr>\n",
       "  </thead>\n",
       "  <tbody>\n",
       "    <tr>\n",
       "      <th>1969</th>\n",
       "      <td>0</td>\n",
       "      <td>4</td>\n",
       "    </tr>\n",
       "    <tr>\n",
       "      <th>1970</th>\n",
       "      <td>4</td>\n",
       "      <td>2</td>\n",
       "    </tr>\n",
       "    <tr>\n",
       "      <th>1971</th>\n",
       "      <td>0</td>\n",
       "      <td>4</td>\n",
       "    </tr>\n",
       "    <tr>\n",
       "      <th>1972</th>\n",
       "      <td>2</td>\n",
       "      <td>2</td>\n",
       "    </tr>\n",
       "    <tr>\n",
       "      <th>1973</th>\n",
       "      <td>1</td>\n",
       "      <td>2</td>\n",
       "    </tr>\n",
       "  </tbody>\n",
       "</table>\n",
       "</div>"
      ],
      "text/plain": [
       "     Issue Dates (GDL)  Issue Dates (JDG)\n",
       "1969                 0                  4\n",
       "1970                 4                  2\n",
       "1971                 0                  4\n",
       "1972                 2                  2\n",
       "1973                 1                  2"
      ]
     },
     "execution_count": 49,
     "metadata": {},
     "output_type": "execute_result"
    }
   ],
   "source": [
    "dfEcologie_joint.head()"
   ]
  },
  {
   "cell_type": "markdown",
   "metadata": {},
   "source": [
    "Convert the occurences columns to numeric in order to sum them "
   ]
  },
  {
   "cell_type": "code",
   "execution_count": 50,
   "metadata": {
    "collapsed": true
   },
   "outputs": [],
   "source": [
    "dfEcologie_joint['Issue Dates (GDL)'] = pd.to_numeric(dfEcologie_joint['Issue Dates (GDL)'])\n",
    "dfEcologie_joint['Issue Dates (JDG)'] = pd.to_numeric(dfEcologie_joint['Issue Dates (JDG)'])"
   ]
  },
  {
   "cell_type": "code",
   "execution_count": 51,
   "metadata": {
    "collapsed": true,
    "scrolled": true
   },
   "outputs": [],
   "source": [
    "dfEcologie_joint = dfEcologie_joint.sum(axis = 1, skipna = False)"
   ]
  },
  {
   "cell_type": "code",
   "execution_count": 52,
   "metadata": {},
   "outputs": [
    {
     "data": {
      "text/plain": [
       "<matplotlib.text.Text at 0x1635fd748>"
      ]
     },
     "execution_count": 52,
     "metadata": {},
     "output_type": "execute_result"
    },
    {
     "data": {
      "image/png": "[encoded data removed]",
      "text/plain": [
       "<matplotlib.figure.Figure at 0x16353c240>"
      ]
     },
     "metadata": {},
     "output_type": "display_data"
    }
   ],
   "source": [
    "fig = plt.figure(figsize=(10, 10))\n",
    "dfEcologie_joint.plot(kind=\"bar\")\n",
    "plt.title('Number of occurences of the term \"Ecologie\" in articles name during the 20th century in the both journals')\n",
    "plt.xlabel('Issue year of the article')\n",
    "plt.ylabel('Number of occurences')"
   ]
  },
  {
   "cell_type": "code",
   "execution_count": 53,
   "metadata": {
    "collapsed": true
   },
   "outputs": [],
   "source": [
    "dfEnvironnement_gdl = df_gdl[df_gdl['Articles Names (GDL)'].str.contains(\"environnement\", case = False) == True]\n",
    "\n",
    "dfEnvironnement_jdg = df_jdg[df_jdg['Articles Names (JDG)'].str.contains(\"environnement\", case = False) == True]"
   ]
  },
  {
   "cell_type": "markdown",
   "metadata": {},
   "source": [
    "Count occurences of the term \"environnement\" in the dataframes"
   ]
  },
  {
   "cell_type": "code",
   "execution_count": 54,
   "metadata": {
    "collapsed": true
   },
   "outputs": [],
   "source": [
    "dfEnvironnement_gdl_counts = dfEnvironnement_gdl['Issue Dates (GDL)'].dt.year.value_counts()\n",
    "dfEnvironnement_gdl_counts = dfEnvironnement_gdl_counts.sort_index()\n",
    "\n",
    "dfEnvironnement_jdg_counts = dfEnvironnement_jdg['Issue Dates (JDG)'].dt.year.value_counts()\n",
    "dfEnvironnement_jdg_counts = dfEnvironnement_jdg_counts.sort_index()"
   ]
  },
  {
   "cell_type": "code",
   "execution_count": 55,
   "metadata": {},
   "outputs": [
    {
     "data": {
      "text/plain": [
       "<matplotlib.text.Text at 0x163702b38>"
      ]
     },
     "execution_count": 55,
     "metadata": {},
     "output_type": "execute_result"
    },
    {
     "data": {
      "image/png": "[encoded data removed]",
      "text/plain": [
       "<matplotlib.figure.Figure at 0x1636efa58>"
      ]
     },
     "metadata": {},
     "output_type": "display_data"
    }
   ],
   "source": [
    "fig = plt.figure(figsize=(10, 10))\n",
    "dfEnvironnement_gdl_counts.plot(kind=\"bar\")\n",
    "plt.title('Number of occurences of the term \"Environnement\" in articles name during the 20th century in the GDL')\n",
    "plt.xlabel('Issue year of the article')\n",
    "plt.ylabel('Number of occurences')"
   ]
  },
  {
   "cell_type": "code",
   "execution_count": 56,
   "metadata": {},
   "outputs": [
    {
     "data": {
      "text/plain": [
       "<matplotlib.text.Text at 0x1637df5f8>"
      ]
     },
     "execution_count": 56,
     "metadata": {},
     "output_type": "execute_result"
    },
    {
     "data": {
      "image/png": "[encoded data removed]",
      "text/plain": [
       "<matplotlib.figure.Figure at 0x1638127b8>"
      ]
     },
     "metadata": {},
     "output_type": "display_data"
    }
   ],
   "source": [
    "fig = plt.figure(figsize=(10, 10))\n",
    "dfEnvironnement_jdg_counts.plot(kind=\"bar\")\n",
    "plt.title('Number of occurences of the term \"Environnement\" in articles name during the 20th century in the JDG')\n",
    "plt.xlabel('Issue year of the article')\n",
    "plt.ylabel('Number of occurences')"
   ]
  },
  {
   "cell_type": "markdown",
   "metadata": {},
   "source": [
    "Merge the GDL and JDG data into one single dataframe"
   ]
  },
  {
   "cell_type": "code",
   "execution_count": 57,
   "metadata": {
    "collapsed": true
   },
   "outputs": [],
   "source": [
    "dfEnvironnement_joint = pd.merge(pd.DataFrame(dfEnvironnement_gdl_counts), pd.DataFrame(dfEnvironnement_jdg_counts), left_index = True, right_index = True, how='outer')"
   ]
  },
  {
   "cell_type": "markdown",
   "metadata": {},
   "source": [
    "Replace non existing values (put by default as NaN) for certain years for one of the journal with 0 values"
   ]
  },
  {
   "cell_type": "code",
   "execution_count": 58,
   "metadata": {
    "collapsed": true
   },
   "outputs": [],
   "source": [
    "dfEnvironnement_joint.fillna(value='0', inplace = True)"
   ]
  },
  {
   "cell_type": "markdown",
   "metadata": {},
   "source": [
    "Convert the occurences columns to numeric in order to sum them "
   ]
  },
  {
   "cell_type": "code",
   "execution_count": 59,
   "metadata": {
    "collapsed": true
   },
   "outputs": [],
   "source": [
    "dfEnvironnement_joint['Issue Dates (GDL)'] = pd.to_numeric(dfEnvironnement_joint['Issue Dates (GDL)'])\n",
    "dfEnvironnement_joint['Issue Dates (JDG)'] = pd.to_numeric(dfEnvironnement_joint['Issue Dates (JDG)'])"
   ]
  },
  {
   "cell_type": "code",
   "execution_count": 60,
   "metadata": {
    "collapsed": true
   },
   "outputs": [],
   "source": [
    "dfEnvironnement_joint = dfEnvironnement_joint.sum(axis = 1, skipna = False)"
   ]
  },
  {
   "cell_type": "code",
   "execution_count": 61,
   "metadata": {},
   "outputs": [
    {
     "data": {
      "text/plain": [
       "<matplotlib.text.Text at 0x1700248d0>"
      ]
     },
     "execution_count": 61,
     "metadata": {},
     "output_type": "execute_result"
    },
    {
     "data": {
      "image/png": "[encoded data removed]",
      "text/plain": [
       "<matplotlib.figure.Figure at 0x16fff5668>"
      ]
     },
     "metadata": {},
     "output_type": "display_data"
    }
   ],
   "source": [
    "fig = plt.figure(figsize=(10, 10))\n",
    "dfEnvironnement_joint.plot(kind=\"bar\")\n",
    "plt.title('Number of occurences of the term \"Environnement\" in articles name during the 20th century in the both journals')\n",
    "plt.xlabel('Issue year of the article')\n",
    "plt.ylabel('Number of occurences')"
   ]
  },
  {
   "cell_type": "markdown",
   "metadata": {},
   "source": [
    " \n",
    " "
   ]
  },
  {
   "cell_type": "markdown",
   "metadata": {},
   "source": [
    "Let's try now to test if title contains words from a list of terms related to ecology"
   ]
  },
  {
   "cell_type": "code",
   "execution_count": 12,
   "metadata": {
    "collapsed": true
   },
   "outputs": [],
   "source": [
    "vocab=pd.read_csv(\"Mylist.csv\",header=None)"
   ]
  },
  {
   "cell_type": "code",
   "execution_count": 13,
   "metadata": {
    "collapsed": true
   },
   "outputs": [],
   "source": [
    "vocab = vocab.applymap(str)"
   ]
  },
  {
   "cell_type": "code",
   "execution_count": 81,
   "metadata": {
    "collapsed": true
   },
   "outputs": [],
   "source": [
    "def MatchList (x, voc=vocab[0],date='1900-01-01'):\n",
    "    #date=pd.to_datetime(date)\n",
    "    if x.equals(df_jdg):\n",
    "        new=df_jdg[df_jdg['Issue Dates (JDG)']>=date].reset_index()\n",
    "        Articles=new['Articles Names (JDG)']\n",
    "        new['flag']=False\n",
    "        new['match']=np.nan\n",
    "        #print(new.head())\n",
    "        \n",
    "    else:\n",
    "        new=df_jdl[df_jdl['Issue Dates (JDL)']>=date].reset_index()\n",
    "        Articles=new['Articles Names (GDL)']\n",
    "        new['flag']=False\n",
    "        new['match']=np.nan\n",
    "        \n",
    "    for idx in range(0,len(new)):  \n",
    "        for word in voc:\n",
    "            \n",
    "            if findWholeWord(word)(Articles[idx]):\n",
    "                if x.equals(df_jdg):\n",
    "                    new['flag'][idx]=True\n",
    "                    new['match'][idx]=word\n",
    "                else:\n",
    "                    new['flag'][idx]=True\n",
    "                    new['match'][idx]=word\n",
    "                break\n",
    "\n",
    "    return new          "
   ]
  },
  {
   "cell_type": "code",
   "execution_count": 82,
   "metadata": {
    "scrolled": true
   },
   "outputs": [
    {
     "name": "stderr",
     "output_type": "stream",
     "text": [
      "/Users/Hippo/anaconda/lib/python3.6/site-packages/ipykernel_launcher.py:21: SettingWithCopyWarning: \n",
      "A value is trying to be set on a copy of a slice from a DataFrame\n",
      "\n",
      "See the caveats in the documentation: http://pandas.pydata.org/pandas-docs/stable/indexing.html#indexing-view-versus-copy\n",
      "/Users/Hippo/anaconda/lib/python3.6/site-packages/ipykernel_launcher.py:22: SettingWithCopyWarning: \n",
      "A value is trying to be set on a copy of a slice from a DataFrame\n",
      "\n",
      "See the caveats in the documentation: http://pandas.pydata.org/pandas-docs/stable/indexing.html#indexing-view-versus-copy\n",
      "/Users/Hippo/anaconda/lib/python3.6/site-packages/pandas/core/indexing.py:179: SettingWithCopyWarning: \n",
      "A value is trying to be set on a copy of a slice from a DataFrame\n",
      "\n",
      "See the caveats in the documentation: http://pandas.pydata.org/pandas-docs/stable/indexing.html#indexing-view-versus-copy\n",
      "  self._setitem_with_indexer(indexer, value)\n"
     ]
    }
   ],
   "source": [
    "test=MatchList(x=df_jdg,date='1998-02-21')"
   ]
  },
  {
   "cell_type": "code",
   "execution_count": 78,
   "metadata": {},
   "outputs": [
    {
     "data": {
      "text/html": [
       "<div>\n",
       "<style>\n",
       "    .dataframe thead tr:only-child th {\n",
       "        text-align: right;\n",
       "    }\n",
       "\n",
       "    .dataframe thead th {\n",
       "        text-align: left;\n",
       "    }\n",
       "\n",
       "    .dataframe tbody tr th {\n",
       "        vertical-align: top;\n",
       "    }\n",
       "</style>\n",
       "<table border=\"1\" class=\"dataframe\">\n",
       "  <thead>\n",
       "    <tr style=\"text-align: right;\">\n",
       "      <th></th>\n",
       "      <th>index</th>\n",
       "      <th>Issue Dates (JDG)</th>\n",
       "      <th>Articles Names (JDG)</th>\n",
       "      <th>flag</th>\n",
       "      <th>match</th>\n",
       "    </tr>\n",
       "  </thead>\n",
       "  <tbody>\n",
       "    <tr>\n",
       "      <th>145</th>\n",
       "      <td>2911096</td>\n",
       "      <td>1998-02-21</td>\n",
       "      <td>Climat d'anxiété en Israël, dans l'attente des...</td>\n",
       "      <td>True</td>\n",
       "      <td>climat</td>\n",
       "    </tr>\n",
       "    <tr>\n",
       "      <th>240</th>\n",
       "      <td>2911191</td>\n",
       "      <td>1998-02-23</td>\n",
       "      <td>Dans un climat toujours violent, l'Inde contin...</td>\n",
       "      <td>True</td>\n",
       "      <td>climat</td>\n",
       "    </tr>\n",
       "    <tr>\n",
       "      <th>362</th>\n",
       "      <td>2911313</td>\n",
       "      <td>1998-02-24</td>\n",
       "      <td>Pourparlers sur rtflster dans un climat très t...</td>\n",
       "      <td>True</td>\n",
       "      <td>climat</td>\n",
       "    </tr>\n",
       "    <tr>\n",
       "      <th>574</th>\n",
       "      <td>2911525</td>\n",
       "      <td>1998-02-26</td>\n",
       "      <td>La qualité de l'environnement: un facteur de s...</td>\n",
       "      <td>True</td>\n",
       "      <td>environnement</td>\n",
       "    </tr>\n",
       "  </tbody>\n",
       "</table>\n",
       "</div>"
      ],
      "text/plain": [
       "       index Issue Dates (JDG)  \\\n",
       "145  2911096        1998-02-21   \n",
       "240  2911191        1998-02-23   \n",
       "362  2911313        1998-02-24   \n",
       "574  2911525        1998-02-26   \n",
       "\n",
       "                                  Articles Names (JDG)  flag          match  \n",
       "145  Climat d'anxiété en Israël, dans l'attente des...  True         climat  \n",
       "240  Dans un climat toujours violent, l'Inde contin...  True         climat  \n",
       "362  Pourparlers sur rtflster dans un climat très t...  True         climat  \n",
       "574  La qualité de l'environnement: un facteur de s...  True  environnement  "
      ]
     },
     "execution_count": 78,
     "metadata": {},
     "output_type": "execute_result"
    }
   ],
   "source": [
    "test[test['flag']==True]"
   ]
  },
  {
   "cell_type": "code",
   "execution_count": null,
   "metadata": {
    "collapsed": true
   },
   "outputs": [],
   "source": []
  },
  {
   "cell_type": "code",
   "execution_count": null,
   "metadata": {
    "collapsed": true
   },
   "outputs": [],
   "source": []
  },
  {
   "cell_type": "markdown",
   "metadata": {},
   "source": [
    "**Observations:**<br>\n",
    "- It is very interesting to see that rises in the mentionning of the terms \"environnement\" and \"écologie\" appear at the same time in both journals and it is thereofre accountable in the joint histogram. We clear out two majors peaks around 1987 and 1992 for both terms and both journals. \n",
    "- Other than that, we see that before the 1970s approximatively these terms were inexistant in the journals or at least not explicitely mentionned in the articles titles. It can be a hint for our furhter analysis that most of the work can be done with the data from posterior years to that decade."
   ]
  },
  {
   "cell_type": "markdown",
   "metadata": {},
   "source": [
    "## What comes next:\n",
    "This first pre-processing can not by the few terms examined render perfectly and precisely the information from our data. However, the chosen terms are quite general and can be the most probable to be used. So the observations made can give us serious hints on what to do for the pursuit of our analysis.\n",
    "- One necessary thing to do is to retrieve a set of envrionnemental causes related terms and examine their occurences in the dataset. It will help us determine when the main peaks of information on these related subjects really are.\n",
    "- After that, we have to know more about what these articles talk about and extract information from it. So one important thing to do is, once we have understood when the important years of publication are, we want to build a new set of data with the articles full content. We are then going to use these wholes articles to understand what the really talk about and especially what is the context that makes the journals talk about environnemental causes. Optionnally, we are going to try and learn the kind of tone they use to treat these topics. Is it done in a scaring manner? Preventing manner? This first objective involves machine learning algorithms which we will use in order to retrieve other subjects treated in these articles as a way to find out more about the context in which they were written. We intent to use the sklearn tools to do some vectorization on the text to extract our features and use algorithms such as a random forest classifier to learn about the correlation between our ecology related data and other topics mentioned in the same articles. \n",
    "- We also want to have a visual on this data and this is why we want in parallel to display a map of Switzerland showing in which cantons people care or talk more about sustainable development related topics. This second objective has its cons in the fact that the data we have is related to local cities but we hope that the data does not only restricts its content to these areas of Switzerland. \n",
    "\n",
    "We are close to having finished the optimal pre-processing part and we are going to go on with the 2 objectives mentioned above (Machine Learning and map displaying) up to Milestone 3. "
   ]
  },
  {
   "cell_type": "code",
   "execution_count": null,
   "metadata": {
    "collapsed": true
   },
   "outputs": [],
   "source": []
  }
 ],
 "metadata": {
  "kernelspec": {
   "display_name": "Python 3",
   "language": "python",
   "name": "python3"
  },
  "language_info": {
   "codemirror_mode": {
    "name": "ipython",
    "version": 3
   },
   "file_extension": ".py",
   "mimetype": "text/x-python",
   "name": "python",
   "nbconvert_exporter": "python",
   "pygments_lexer": "ipython3",
   "version": "3.6.1"
  }
 },
 "nbformat": 4,
 "nbformat_minor": 2
}

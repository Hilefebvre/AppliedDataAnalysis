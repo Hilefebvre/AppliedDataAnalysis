{
 "cells": [
  {
   "cell_type": "code",
   "execution_count": 91,
   "metadata": {
    "collapsed": true
   },
   "outputs": [],
   "source": [
    "# Useful imports\n",
    "import requests\n",
    "from bs4 import BeautifulSoup\n",
    "import pandas as pd\n",
    "import matplotlib.pyplot as plt\n",
    "import numpy as np\n",
    "import seaborn as sns"
   ]
  },
  {
   "cell_type": "markdown",
   "metadata": {},
   "source": [
    "## 1."
   ]
  },
  {
   "cell_type": "code",
   "execution_count": 281,
   "metadata": {
    "collapsed": true
   },
   "outputs": [],
   "source": [
    "N_univ = 200"
   ]
  },
  {
   "cell_type": "markdown",
   "metadata": {},
   "source": [
    "**Obtain the 200 top-ranking** universities in www.topuniversities.com (ranking 2018). In particular, extract the following fields for each university: **name**, **rank**, **country** and **region**, **number of faculty members** (international and total) and **number of students** (international and total). Some information is not available in the main list and you have to find them in the details page. **Store the resulting dataset in a pandas DataFrame** and answer the following questions:"
   ]
  },
  {
   "cell_type": "code",
   "execution_count": 282,
   "metadata": {
    "collapsed": true
   },
   "outputs": [],
   "source": [
    "# JSON of all topuniversities classement\n",
    "URL_topuniversities = 'https://www.topuniversities.com'\n",
    "#Using Postman, we know the URL of the information we are looking for: ranking of the universities\n",
    "URL_topu_ranking = 'https://www.topuniversities.com/sites/default/files/qs-rankings-data/357051.txt'"
   ]
  },
  {
   "cell_type": "markdown",
   "metadata": {},
   "source": [
    "Using Postman, we define the URL `URL_topu_ranking` where we can get the World University Ranking 2018. It is a text file where the informations are stored as JSON.  \n",
    "We get this JSON object by doing a request (using the `requests` library). All the informations are in the first attribute `data`, that we extract."
   ]
  },
  {
   "cell_type": "code",
   "execution_count": 283,
   "metadata": {
    "collapsed": true
   },
   "outputs": [],
   "source": [
    "# Make the request\n",
    "data_topu = requests.get(URL_topu_ranking)\n",
    "data_topu = data_topu.json()\n",
    "# All the informations are contains into the associted value of the data key\n",
    "data_topu = data_topu.get('data')"
   ]
  },
  {
   "cell_type": "markdown",
   "metadata": {},
   "source": [
    "We create a dataframe `df_topu` which will contain the universities and the interesting fields : **name**, **rank**, **country** and **region**, **number of faculty members** (international and total) and **number of students** (international and total)\n",
    "\n",
    "Note that we treat only the 200 first items of our dataframe containing the complete ranking, as we are interested only in the 200 top-ranking. \n",
    "\n",
    "\n",
    "Few informations are accessible directly at the `URL_topu_ranking`, so in our `data_topu` object. Others informations, such as the number of students of faculty is not available there. Thu, we have to access the page from each specific university toget those informations. \n",
    "To do so, we make a new request to the detail page of the specific university, which return an HTML page that we parse using `BeautifulSoup`. \n",
    "By looking at the HTML file separatly, we found in which component the informations we looked for are stored in. According to the type of tag (`div`) and the specific class(e.g. `total student`), we can get the value as a string and then convert it.\n",
    "\n",
    "If the component does not exist, we save the value as `Nan`."
   ]
  },
  {
   "cell_type": "code",
   "execution_count": 284,
   "metadata": {
    "collapsed": true
   },
   "outputs": [],
   "source": [
    "# 200 first univ = 201 first ranked as rank 198 is missing. \n",
    "# TODO: Modify ranks 199, 200, 201 ?"
   ]
  },
  {
   "cell_type": "code",
   "execution_count": 285,
   "metadata": {
    "collapsed": true
   },
   "outputs": [],
   "source": [
    "univ_list = []\n",
    "\n",
    "for univ in data_topu[0:N_univ]:\n",
    "    univ_crt = pd.DataFrame([]); \n",
    "    \n",
    "    # Get simple information from in the main list\n",
    "    name = univ['title'] \n",
    "    rank = univ['rank_display']\n",
    "    country = univ['country']\n",
    "    region = univ['region']\n",
    "    \n",
    "    # Get informations from details pages\n",
    "    details_r = requests.get( URL_topuniversities + univ['url'] )\n",
    "    page_body = details_r.text\n",
    "    soup = BeautifulSoup(page_body, 'html.parser')\n",
    "    \n",
    "    # Students \n",
    "    if(soup.find('div', class_='total student') != None):\n",
    "        total_student = soup.find('div', class_='total student').find('div', class_='number')\n",
    "        num_student = int(total_student.text.strip().replace(',',''))\n",
    "    else:\n",
    "        num_student = np.nan\n",
    "        \n",
    "    if(soup.find('div', class_='total inter') != None):\n",
    "        international_student = soup.find('div', class_='total inter').find('div', class_='number')\n",
    "        num_int_student = int(international_student.text.strip().replace(',',''))\n",
    "    else:\n",
    "        num_int_student = np.nan\n",
    "        \n",
    "    # Faculty\n",
    "    if(soup.find('div', class_='total faculty') != None):\n",
    "        total_faculty = soup.find('div', class_='total faculty').find('div', class_='number')\n",
    "        num_faculty = int(total_faculty.text.strip().replace(',',''))\n",
    "    else:\n",
    "        num_faculty = np.nan\n",
    "        \n",
    "    if(soup.find('div', class_='inter faculty') != None):\n",
    "        international_faculty = soup.find('div', class_='inter faculty').find('div', class_='number')\n",
    "        num_int_faculty = int(international_faculty.text.strip().replace(',',''))\n",
    "    else:\n",
    "        num_int_faculty = np.nan\n",
    "    \n",
    "    univ_crt = {'Name': name, \n",
    "                'Rank topU': rank,\n",
    "                'Country': country,\n",
    "                'Region': region,\n",
    "                'Num students topU': num_student,\n",
    "                'Num intl students topU': num_int_student,\n",
    "                'Num faculty topU': num_faculty,\n",
    "                'Num intl faculty topU': num_int_faculty}\n",
    "    \n",
    "    univ_list.append(univ_crt)  \n",
    "\n",
    "df_topu_original = pd.DataFrame.from_dict(univ_list)"
   ]
  },
  {
   "cell_type": "code",
   "execution_count": 286,
   "metadata": {},
   "outputs": [
    {
     "data": {
      "text/html": [
       "<div>\n",
       "<style>\n",
       "    .dataframe thead tr:only-child th {\n",
       "        text-align: right;\n",
       "    }\n",
       "\n",
       "    .dataframe thead th {\n",
       "        text-align: left;\n",
       "    }\n",
       "\n",
       "    .dataframe tbody tr th {\n",
       "        vertical-align: top;\n",
       "    }\n",
       "</style>\n",
       "<table border=\"1\" class=\"dataframe\">\n",
       "  <thead>\n",
       "    <tr style=\"text-align: right;\">\n",
       "      <th></th>\n",
       "      <th>Country</th>\n",
       "      <th>Name</th>\n",
       "      <th>Num faculty topU</th>\n",
       "      <th>Num intl faculty topU</th>\n",
       "      <th>Num intl students topU</th>\n",
       "      <th>Num students topU</th>\n",
       "      <th>Rank topU</th>\n",
       "      <th>Region</th>\n",
       "    </tr>\n",
       "  </thead>\n",
       "  <tbody>\n",
       "    <tr>\n",
       "      <th>0</th>\n",
       "      <td>United States</td>\n",
       "      <td>Massachusetts Institute of Technology (MIT)</td>\n",
       "      <td>2982.0</td>\n",
       "      <td>1679.0</td>\n",
       "      <td>3717.0</td>\n",
       "      <td>11067.0</td>\n",
       "      <td>1</td>\n",
       "      <td>North America</td>\n",
       "    </tr>\n",
       "    <tr>\n",
       "      <th>1</th>\n",
       "      <td>United States</td>\n",
       "      <td>Stanford University</td>\n",
       "      <td>4285.0</td>\n",
       "      <td>2042.0</td>\n",
       "      <td>3611.0</td>\n",
       "      <td>15878.0</td>\n",
       "      <td>2</td>\n",
       "      <td>North America</td>\n",
       "    </tr>\n",
       "    <tr>\n",
       "      <th>2</th>\n",
       "      <td>United States</td>\n",
       "      <td>Harvard University</td>\n",
       "      <td>4350.0</td>\n",
       "      <td>1311.0</td>\n",
       "      <td>5266.0</td>\n",
       "      <td>22429.0</td>\n",
       "      <td>3</td>\n",
       "      <td>North America</td>\n",
       "    </tr>\n",
       "    <tr>\n",
       "      <th>3</th>\n",
       "      <td>United States</td>\n",
       "      <td>California Institute of Technology (Caltech)</td>\n",
       "      <td>953.0</td>\n",
       "      <td>350.0</td>\n",
       "      <td>647.0</td>\n",
       "      <td>2255.0</td>\n",
       "      <td>4</td>\n",
       "      <td>North America</td>\n",
       "    </tr>\n",
       "    <tr>\n",
       "      <th>4</th>\n",
       "      <td>United Kingdom</td>\n",
       "      <td>University of Cambridge</td>\n",
       "      <td>5490.0</td>\n",
       "      <td>2278.0</td>\n",
       "      <td>6699.0</td>\n",
       "      <td>18770.0</td>\n",
       "      <td>5</td>\n",
       "      <td>Europe</td>\n",
       "    </tr>\n",
       "  </tbody>\n",
       "</table>\n",
       "</div>"
      ],
      "text/plain": [
       "          Country                                          Name  \\\n",
       "0   United States   Massachusetts Institute of Technology (MIT)   \n",
       "1   United States                           Stanford University   \n",
       "2   United States                            Harvard University   \n",
       "3   United States  California Institute of Technology (Caltech)   \n",
       "4  United Kingdom                       University of Cambridge   \n",
       "\n",
       "   Num faculty topU  Num intl faculty topU  Num intl students topU  \\\n",
       "0            2982.0                 1679.0                  3717.0   \n",
       "1            4285.0                 2042.0                  3611.0   \n",
       "2            4350.0                 1311.0                  5266.0   \n",
       "3             953.0                  350.0                   647.0   \n",
       "4            5490.0                 2278.0                  6699.0   \n",
       "\n",
       "   Num students topU Rank topU         Region  \n",
       "0            11067.0         1  North America  \n",
       "1            15878.0         2  North America  \n",
       "2            22429.0         3  North America  \n",
       "3             2255.0         4  North America  \n",
       "4            18770.0         5         Europe  "
      ]
     },
     "execution_count": 286,
     "metadata": {},
     "output_type": "execute_result"
    }
   ],
   "source": [
    "# Copy just in case\n",
    "df_topu = df_topu_original.copy()\n",
    "df_topu_original.head()"
   ]
  },
  {
   "cell_type": "markdown",
   "metadata": {},
   "source": [
    "When we get the numbers of students and faculty, they are typed as string (that we get from a tag), whereas they actually represent integer values. We convert them into `int` after removing the `,` character."
   ]
  },
  {
   "cell_type": "markdown",
   "metadata": {},
   "source": [
    "## 1. Which are the best universities in term of: \n",
    "* ratio between faculty members and students, \n",
    "* ratio of international students?"
   ]
  },
  {
   "cell_type": "markdown",
   "metadata": {},
   "source": [
    "We define the ratio between faculty members and students as follow:\n",
    "$$ ratio_{faculty/student} = \\frac{Total\\ number\\ of\\ faculty}{Total\\ number\\ of\\ students} $$ \n",
    "We define the ratio of international students as follow:\n",
    "$$ ratio_{intl\\ stud} = \\frac{Number\\ of\\ international\\ students}{Total\\ number\\ of\\ students} $$ \n",
    "\n",
    "We add these ratio in two new fields of our dataframe"
   ]
  },
  {
   "cell_type": "code",
   "execution_count": 287,
   "metadata": {
    "collapsed": true
   },
   "outputs": [],
   "source": [
    "df_topu['Fac/Stud topU'] = df_topu['Num faculty topU']/df_topu['Num students topU']\n",
    "df_topu['stud intl/tot topU'] = df_topu['Num intl students topU']/df_topu['Num students topU']"
   ]
  },
  {
   "cell_type": "markdown",
   "metadata": {},
   "source": [
    "Let's sort the dataframe according to those ratio. "
   ]
  },
  {
   "cell_type": "code",
   "execution_count": 288,
   "metadata": {},
   "outputs": [
    {
     "data": {
      "text/html": [
       "<div>\n",
       "<style>\n",
       "    .dataframe thead tr:only-child th {\n",
       "        text-align: right;\n",
       "    }\n",
       "\n",
       "    .dataframe thead th {\n",
       "        text-align: left;\n",
       "    }\n",
       "\n",
       "    .dataframe tbody tr th {\n",
       "        vertical-align: top;\n",
       "    }\n",
       "</style>\n",
       "<table border=\"1\" class=\"dataframe\">\n",
       "  <thead>\n",
       "    <tr style=\"text-align: right;\">\n",
       "      <th></th>\n",
       "      <th>Country</th>\n",
       "      <th>Name</th>\n",
       "      <th>Num faculty topU</th>\n",
       "      <th>Num intl faculty topU</th>\n",
       "      <th>Num intl students topU</th>\n",
       "      <th>Num students topU</th>\n",
       "      <th>Rank topU</th>\n",
       "      <th>Region</th>\n",
       "      <th>Fac/Stud topU</th>\n",
       "      <th>stud intl/tot topU</th>\n",
       "    </tr>\n",
       "  </thead>\n",
       "  <tbody>\n",
       "    <tr>\n",
       "      <th>34</th>\n",
       "      <td>United Kingdom</td>\n",
       "      <td>London School of Economics and Political Scien...</td>\n",
       "      <td>1088.0</td>\n",
       "      <td>687.0</td>\n",
       "      <td>6748.0</td>\n",
       "      <td>9760.0</td>\n",
       "      <td>35</td>\n",
       "      <td>Europe</td>\n",
       "      <td>0.111475</td>\n",
       "      <td>0.691393</td>\n",
       "    </tr>\n",
       "    <tr>\n",
       "      <th>11</th>\n",
       "      <td>Switzerland</td>\n",
       "      <td>Ecole Polytechnique Fédérale de Lausanne (EPFL)</td>\n",
       "      <td>1695.0</td>\n",
       "      <td>1300.0</td>\n",
       "      <td>5896.0</td>\n",
       "      <td>10343.0</td>\n",
       "      <td>12</td>\n",
       "      <td>Europe</td>\n",
       "      <td>0.163879</td>\n",
       "      <td>0.570047</td>\n",
       "    </tr>\n",
       "    <tr>\n",
       "      <th>7</th>\n",
       "      <td>United Kingdom</td>\n",
       "      <td>Imperial College London</td>\n",
       "      <td>3930.0</td>\n",
       "      <td>2071.0</td>\n",
       "      <td>8746.0</td>\n",
       "      <td>16090.0</td>\n",
       "      <td>8</td>\n",
       "      <td>Europe</td>\n",
       "      <td>0.244251</td>\n",
       "      <td>0.543567</td>\n",
       "    </tr>\n",
       "    <tr>\n",
       "      <th>198</th>\n",
       "      <td>Netherlands</td>\n",
       "      <td>Maastricht University</td>\n",
       "      <td>1277.0</td>\n",
       "      <td>502.0</td>\n",
       "      <td>8234.0</td>\n",
       "      <td>16385.0</td>\n",
       "      <td>200</td>\n",
       "      <td>Europe</td>\n",
       "      <td>0.077937</td>\n",
       "      <td>0.502533</td>\n",
       "    </tr>\n",
       "    <tr>\n",
       "      <th>47</th>\n",
       "      <td>United States</td>\n",
       "      <td>Carnegie Mellon University</td>\n",
       "      <td>1342.0</td>\n",
       "      <td>425.0</td>\n",
       "      <td>6385.0</td>\n",
       "      <td>13356.0</td>\n",
       "      <td>=47</td>\n",
       "      <td>North America</td>\n",
       "      <td>0.100479</td>\n",
       "      <td>0.478062</td>\n",
       "    </tr>\n",
       "  </tbody>\n",
       "</table>\n",
       "</div>"
      ],
      "text/plain": [
       "            Country                                               Name  \\\n",
       "34   United Kingdom  London School of Economics and Political Scien...   \n",
       "11      Switzerland    Ecole Polytechnique Fédérale de Lausanne (EPFL)   \n",
       "7    United Kingdom                            Imperial College London   \n",
       "198     Netherlands                              Maastricht University   \n",
       "47    United States                         Carnegie Mellon University   \n",
       "\n",
       "     Num faculty topU  Num intl faculty topU  Num intl students topU  \\\n",
       "34             1088.0                  687.0                  6748.0   \n",
       "11             1695.0                 1300.0                  5896.0   \n",
       "7              3930.0                 2071.0                  8746.0   \n",
       "198            1277.0                  502.0                  8234.0   \n",
       "47             1342.0                  425.0                  6385.0   \n",
       "\n",
       "     Num students topU Rank topU         Region  Fac/Stud topU  \\\n",
       "34              9760.0        35         Europe       0.111475   \n",
       "11             10343.0        12         Europe       0.163879   \n",
       "7              16090.0         8         Europe       0.244251   \n",
       "198            16385.0       200         Europe       0.077937   \n",
       "47             13356.0       =47  North America       0.100479   \n",
       "\n",
       "     stud intl/tot topU  \n",
       "34             0.691393  \n",
       "11             0.570047  \n",
       "7              0.543567  \n",
       "198            0.502533  \n",
       "47             0.478062  "
      ]
     },
     "execution_count": 288,
     "metadata": {},
     "output_type": "execute_result"
    }
   ],
   "source": [
    "df_topu = df_topu.sort_values(['stud intl/tot topU'], ascending = 0, axis = 0)\n",
    "df_topu.head()"
   ]
  },
  {
   "cell_type": "code",
   "execution_count": 289,
   "metadata": {},
   "outputs": [
    {
     "data": {
      "image/png": "[encoded data removed]",
      "text/plain": [
       "<matplotlib.figure.Figure at 0x1b52d6df748>"
      ]
     },
     "metadata": {},
     "output_type": "display_data"
    }
   ],
   "source": [
    "ax = plt.figure()\n",
    "g = sns.barplot(x = 'Name', y = \"stud intl/tot topU\", data = df_topu[['Name','stud intl/tot topU']][0:10])\n",
    "g.set_xticklabels(labels = df_topu['Name'], rotation=90)\n",
    "ax.suptitle(\"Top 10 universities ratio international student\", fontsize=20, fontweight=\"bold\")\n",
    "plt.show()"
   ]
  },
  {
   "cell_type": "code",
   "execution_count": 290,
   "metadata": {
    "scrolled": true
   },
   "outputs": [
    {
     "data": {
      "text/html": [
       "<div>\n",
       "<style>\n",
       "    .dataframe thead tr:only-child th {\n",
       "        text-align: right;\n",
       "    }\n",
       "\n",
       "    .dataframe thead th {\n",
       "        text-align: left;\n",
       "    }\n",
       "\n",
       "    .dataframe tbody tr th {\n",
       "        vertical-align: top;\n",
       "    }\n",
       "</style>\n",
       "<table border=\"1\" class=\"dataframe\">\n",
       "  <thead>\n",
       "    <tr style=\"text-align: right;\">\n",
       "      <th></th>\n",
       "      <th>Country</th>\n",
       "      <th>Name</th>\n",
       "      <th>Num faculty topU</th>\n",
       "      <th>Num intl faculty topU</th>\n",
       "      <th>Num intl students topU</th>\n",
       "      <th>Num students topU</th>\n",
       "      <th>Rank topU</th>\n",
       "      <th>Region</th>\n",
       "      <th>Fac/Stud topU</th>\n",
       "      <th>stud intl/tot topU</th>\n",
       "    </tr>\n",
       "  </thead>\n",
       "  <tbody>\n",
       "    <tr>\n",
       "      <th>3</th>\n",
       "      <td>United States</td>\n",
       "      <td>California Institute of Technology (Caltech)</td>\n",
       "      <td>953.0</td>\n",
       "      <td>350.0</td>\n",
       "      <td>647.0</td>\n",
       "      <td>2255.0</td>\n",
       "      <td>4</td>\n",
       "      <td>North America</td>\n",
       "      <td>0.422616</td>\n",
       "      <td>0.286918</td>\n",
       "    </tr>\n",
       "    <tr>\n",
       "      <th>15</th>\n",
       "      <td>United States</td>\n",
       "      <td>Yale University</td>\n",
       "      <td>4940.0</td>\n",
       "      <td>1708.0</td>\n",
       "      <td>2469.0</td>\n",
       "      <td>12402.0</td>\n",
       "      <td>16</td>\n",
       "      <td>North America</td>\n",
       "      <td>0.398323</td>\n",
       "      <td>0.199081</td>\n",
       "    </tr>\n",
       "    <tr>\n",
       "      <th>5</th>\n",
       "      <td>United Kingdom</td>\n",
       "      <td>University of Oxford</td>\n",
       "      <td>6750.0</td>\n",
       "      <td>2964.0</td>\n",
       "      <td>7353.0</td>\n",
       "      <td>19720.0</td>\n",
       "      <td>6</td>\n",
       "      <td>Europe</td>\n",
       "      <td>0.342292</td>\n",
       "      <td>0.372870</td>\n",
       "    </tr>\n",
       "  </tbody>\n",
       "</table>\n",
       "</div>"
      ],
      "text/plain": [
       "           Country                                          Name  \\\n",
       "3    United States  California Institute of Technology (Caltech)   \n",
       "15   United States                               Yale University   \n",
       "5   United Kingdom                          University of Oxford   \n",
       "\n",
       "    Num faculty topU  Num intl faculty topU  Num intl students topU  \\\n",
       "3              953.0                  350.0                   647.0   \n",
       "15            4940.0                 1708.0                  2469.0   \n",
       "5             6750.0                 2964.0                  7353.0   \n",
       "\n",
       "    Num students topU Rank topU         Region  Fac/Stud topU  \\\n",
       "3              2255.0         4  North America       0.422616   \n",
       "15            12402.0        16  North America       0.398323   \n",
       "5             19720.0         6         Europe       0.342292   \n",
       "\n",
       "    stud intl/tot topU  \n",
       "3             0.286918  \n",
       "15            0.199081  \n",
       "5             0.372870  "
      ]
     },
     "execution_count": 290,
     "metadata": {},
     "output_type": "execute_result"
    }
   ],
   "source": [
    "df_topu = df_topu.sort_values(['Fac/Stud topU'], ascending = 0, axis = 0)\n",
    "df_topu.head(3)"
   ]
  },
  {
   "cell_type": "code",
   "execution_count": 291,
   "metadata": {},
   "outputs": [
    {
     "data": {
      "image/png": "[encoded data removed]",
      "text/plain": [
       "<matplotlib.figure.Figure at 0x1b52dbe2f28>"
      ]
     },
     "metadata": {},
     "output_type": "display_data"
    }
   ],
   "source": [
    "ax = plt.figure()\n",
    "g = sns.barplot(x = 'Name', y = \"Fac/Stud topU\", data = df_topu[['Name','Fac/Stud topU']][0:10])\n",
    "g.set_xticklabels(labels = df_topu['Name'], rotation=90)\n",
    "ax.suptitle(\"Top 10 universities ratio between faculty and student\", fontsize=20, fontweight=\"bold\")\n",
    "plt.show()"
   ]
  },
  {
   "cell_type": "markdown",
   "metadata": {},
   "source": [
    "The best university in terms of ratio Faculty/Student is California Institute of Technology (Caltech), with a ratio of 0.42. London School of Economics and Political Sciences presents the highest ratio of international students, which is 0.69, followed by **EPFL** with 0.57. "
   ]
  },
  {
   "cell_type": "markdown",
   "metadata": {},
   "source": [
    "## Answer the previous question aggregating the data by country ... \n",
    "\n",
    "TODO\n",
    "Use of groupby \n",
    "Sorting the value descendnig "
   ]
  },
  {
   "cell_type": "code",
   "execution_count": 292,
   "metadata": {
    "scrolled": false
   },
   "outputs": [
    {
     "data": {
      "text/plain": [
       "Country\n",
       "Russia          0.221910\n",
       "Denmark         0.186580\n",
       "Saudi Arabia    0.175828\n",
       "Singapore       0.162279\n",
       "Japan           0.155840\n",
       "Name: Fac/Stud topU, dtype: float64"
      ]
     },
     "execution_count": 292,
     "metadata": {},
     "output_type": "execute_result"
    }
   ],
   "source": [
    "univ_by_country = df_topu.groupby(['Country'])\n",
    "country_fac_stud = univ_by_country.mean().sort_values(['Fac/Stud topU'], ascending = 0, axis = 0)\n",
    "country_fac_stud = country_fac_stud['Fac/Stud topU']\n",
    "country_fac_stud.head()\n",
    "\n",
    "# ax = plt.figure()\n",
    "# g = sns.barplot(x = 'Country', y = \"Fac/Stud topU\", data = country_fac_stud[['Country','Fac/Stud topU']][0:3])\n",
    "# g.set_xticklabels(labels = country_fac_stud['Country'], rotation=90)\n",
    "# ax.suptitle(\"Top 3 countries ratio between faculty and student\", fontsize=20, fontweight=\"bold\")\n",
    "# plt.show()"
   ]
  },
  {
   "cell_type": "code",
   "execution_count": 293,
   "metadata": {
    "scrolled": false
   },
   "outputs": [
    {
     "data": {
      "text/plain": [
       "Country\n",
       "United Kingdom    0.351308\n",
       "Australia         0.346878\n",
       "Switzerland       0.313816\n",
       "Hong Kong         0.312148\n",
       "Austria           0.306095\n",
       "Singapore         0.277091\n",
       "Canada            0.252604\n",
       "New Zealand       0.248971\n",
       "Netherlands       0.245456\n",
       "Ireland           0.241791\n",
       "Argentina         0.221658\n",
       "France            0.213286\n",
       "United States     0.194802\n",
       "Malaysia          0.194168\n",
       "South Africa      0.169703\n",
       "Russia            0.168624\n",
       "Sweden            0.167998\n",
       "Germany           0.165300\n",
       "Denmark           0.164809\n",
       "Saudi Arabia      0.163742\n",
       "Belgium           0.160108\n",
       "Spain             0.121967\n",
       "Italy             0.120418\n",
       "Norway            0.111379\n",
       "China             0.107560\n",
       "Finland           0.102890\n",
       "South Korea       0.102453\n",
       "Taiwan            0.091680\n",
       "Japan             0.090000\n",
       "Israel            0.062549\n",
       "Mexico            0.060436\n",
       "Chile             0.045816\n",
       "Brazil            0.034050\n",
       "India             0.010712\n",
       "Name: stud intl/tot topU, dtype: float64"
      ]
     },
     "execution_count": 293,
     "metadata": {},
     "output_type": "execute_result"
    }
   ],
   "source": [
    "country_intl_stud = univ_by_country.mean().sort_values(['stud intl/tot topU'], ascending = 0, axis = 0)\n",
    "country_intl_stud = country_intl_stud['stud intl/tot topU']\n",
    "country_intl_stud"
   ]
  },
  {
   "cell_type": "markdown",
   "metadata": {},
   "source": [
    "The country with the highest ratio of international student if the United Kingdom, whereas Russia has the best ratio faculty/student\n",
    "\n",
    "Plot:"
   ]
  },
  {
   "cell_type": "code",
   "execution_count": null,
   "metadata": {
    "collapsed": true
   },
   "outputs": [],
   "source": [
    "\n"
   ]
  },
  {
   "cell_type": "markdown",
   "metadata": {},
   "source": [
    "## ... and by region"
   ]
  },
  {
   "cell_type": "code",
   "execution_count": 294,
   "metadata": {},
   "outputs": [
    {
     "data": {
      "text/plain": [
       "Region\n",
       "North America    0.144831\n",
       "Asia             0.134673\n",
       "Europe           0.120003\n",
       "Latin America    0.096779\n",
       "Africa           0.088450\n",
       "Name: Fac/Stud topU, dtype: float64"
      ]
     },
     "execution_count": 294,
     "metadata": {},
     "output_type": "execute_result"
    }
   ],
   "source": [
    "univ_by_region = df_topu.groupby(['Region'])\n",
    "\n",
    "region_fac_stud = univ_by_region.mean().sort_values(['Fac/Stud topU'], ascending = 0, axis = 0)\n",
    "region_fac_stud = region_fac_stud['Fac/Stud topU']\n",
    "region_fac_stud.head()"
   ]
  },
  {
   "cell_type": "code",
   "execution_count": 295,
   "metadata": {},
   "outputs": [
    {
     "data": {
      "text/plain": [
       "Region\n",
       "Oceania          0.329077\n",
       "Europe           0.245932\n",
       "North America    0.202437\n",
       "Africa           0.169703\n",
       "Asia             0.132394\n",
       "Latin America    0.071751\n",
       "Name: stud intl/tot topU, dtype: float64"
      ]
     },
     "execution_count": 295,
     "metadata": {},
     "output_type": "execute_result"
    }
   ],
   "source": [
    "region_intl_stud = univ_by_region.mean().sort_values(['stud intl/tot topU'], ascending = 0, axis = 0)\n",
    "region_intl_stud = region_intl_stud['stud intl/tot topU']\n",
    "region_intl_stud"
   ]
  },
  {
   "cell_type": "markdown",
   "metadata": {},
   "source": [
    "The region with the highest percentage of internationalstudent is Oceania, and North America presents the highest ratio faculty student"
   ]
  },
  {
   "cell_type": "code",
   "execution_count": 296,
   "metadata": {
    "collapsed": true
   },
   "outputs": [],
   "source": [
    "# TODO: inconsistency !! \n",
    "# Oceania : 2304/31833 = 0.072 != 0.075"
   ]
  },
  {
   "cell_type": "code",
   "execution_count": null,
   "metadata": {
    "collapsed": true
   },
   "outputs": [],
   "source": [
    "\n"
   ]
  },
  {
   "cell_type": "markdown",
   "metadata": {},
   "source": [
    "## 2. Obtain the 200 top-ranking universities in www.timeshighereducation.com (ranking 2018). Repeat the analysis of the previous point and discuss briefly what you observed."
   ]
  },
  {
   "cell_type": "code",
   "execution_count": 297,
   "metadata": {
    "collapsed": true
   },
   "outputs": [],
   "source": [
    "URL_times = \"https://www.timeshighereducation.com\"\n",
    "URL_times_ranking = \"https://www.timeshighereducation.com/sites/default/files/the_data_rankings/world_university_rankings_2018_limit0_369a9045a203e176392b9fb8f8c1cb2a.json\""
   ]
  },
  {
   "cell_type": "code",
   "execution_count": 298,
   "metadata": {
    "collapsed": true
   },
   "outputs": [],
   "source": [
    "# Make the request\n",
    "data_times = requests.get(URL_times_ranking)\n",
    "data_times = data_times.json()"
   ]
  },
  {
   "cell_type": "code",
   "execution_count": 299,
   "metadata": {
    "collapsed": true
   },
   "outputs": [],
   "source": [
    "data_times = data_times.get('data')"
   ]
  },
  {
   "cell_type": "code",
   "execution_count": 300,
   "metadata": {},
   "outputs": [
    {
     "name": "stdout",
     "output_type": "stream",
     "text": [
      "{'rank_order': '10', 'rank': '1', 'name': 'University of Oxford', 'scores_overall': '94.3', 'scores_overall_rank': '10', 'scores_teaching': '86.7', 'scores_teaching_rank': '5', 'scores_research': '99.5', 'scores_research_rank': '1', 'scores_citations': '99.1', 'scores_citations_rank': '15', 'scores_industry_income': '63.7', 'scores_industry_income_rank': '169', 'scores_international_outlook': '95.0', 'scores_international_outlook_rank': '24', 'record_type': 'master_account', 'member_level': '0', 'url': '/world-university-rankings/university-oxford', 'nid': 468, 'location': 'United Kingdom', 'stats_number_students': '20,409', 'stats_student_staff_ratio': '11.2', 'stats_pc_intl_students': '38%', 'stats_female_male_ratio': '46 : 54', 'aliases': 'University of Oxford', 'subjects_offered': 'Archaeology,Art, Performing Arts & Design,Biological Sciences,Business & Management,Chemical Engineering,Chemistry,Civil Engineering,Computer Science,Economics & Econometrics,Electrical & Electronic Engineering,General Engineering,Geography,Geology, Environmental, Earth & Marine Sciences,History, Philosophy & Theology,Languages, Literatures and Linguistics,Law,Mathematics & Statistics,Mechanical & Aerospace Engineering,Medicine & Dentistry,Physics & Astronomy,Psychology'}\n"
     ]
    }
   ],
   "source": [
    "print(data_times[0])"
   ]
  },
  {
   "cell_type": "code",
   "execution_count": 301,
   "metadata": {
    "scrolled": false
   },
   "outputs": [
    {
     "data": {
      "text/html": [
       "<div>\n",
       "<style>\n",
       "    .dataframe thead tr:only-child th {\n",
       "        text-align: right;\n",
       "    }\n",
       "\n",
       "    .dataframe thead th {\n",
       "        text-align: left;\n",
       "    }\n",
       "\n",
       "    .dataframe tbody tr th {\n",
       "        vertical-align: top;\n",
       "    }\n",
       "</style>\n",
       "<table border=\"1\" class=\"dataframe\">\n",
       "  <thead>\n",
       "    <tr style=\"text-align: right;\">\n",
       "      <th></th>\n",
       "      <th>Country</th>\n",
       "      <th>Name</th>\n",
       "      <th>Num faculty times</th>\n",
       "      <th>Num intl students times</th>\n",
       "      <th>Num students times</th>\n",
       "      <th>Rank times</th>\n",
       "    </tr>\n",
       "  </thead>\n",
       "  <tbody>\n",
       "    <tr>\n",
       "      <th>0</th>\n",
       "      <td>United Kingdom</td>\n",
       "      <td>University of Oxford</td>\n",
       "      <td>1822</td>\n",
       "      <td>7755</td>\n",
       "      <td>20409</td>\n",
       "      <td>1</td>\n",
       "    </tr>\n",
       "    <tr>\n",
       "      <th>1</th>\n",
       "      <td>United Kingdom</td>\n",
       "      <td>University of Cambridge</td>\n",
       "      <td>1687</td>\n",
       "      <td>6436</td>\n",
       "      <td>18389</td>\n",
       "      <td>2</td>\n",
       "    </tr>\n",
       "    <tr>\n",
       "      <th>2</th>\n",
       "      <td>United States</td>\n",
       "      <td>California Institute of Technology</td>\n",
       "      <td>339</td>\n",
       "      <td>596</td>\n",
       "      <td>2209</td>\n",
       "      <td>=3</td>\n",
       "    </tr>\n",
       "    <tr>\n",
       "      <th>3</th>\n",
       "      <td>United States</td>\n",
       "      <td>Stanford University</td>\n",
       "      <td>2112</td>\n",
       "      <td>3485</td>\n",
       "      <td>15845</td>\n",
       "      <td>=3</td>\n",
       "    </tr>\n",
       "    <tr>\n",
       "      <th>4</th>\n",
       "      <td>United States</td>\n",
       "      <td>Massachusetts Institute of Technology</td>\n",
       "      <td>1284</td>\n",
       "      <td>3800</td>\n",
       "      <td>11177</td>\n",
       "      <td>5</td>\n",
       "    </tr>\n",
       "  </tbody>\n",
       "</table>\n",
       "</div>"
      ],
      "text/plain": [
       "          Country                                   Name  Num faculty times  \\\n",
       "0  United Kingdom                   University of Oxford               1822   \n",
       "1  United Kingdom                University of Cambridge               1687   \n",
       "2   United States     California Institute of Technology                339   \n",
       "3   United States                    Stanford University               2112   \n",
       "4   United States  Massachusetts Institute of Technology               1284   \n",
       "\n",
       "   Num intl students times  Num students times Rank times  \n",
       "0                     7755               20409          1  \n",
       "1                     6436               18389          2  \n",
       "2                      596                2209         =3  \n",
       "3                     3485               15845         =3  \n",
       "4                     3800               11177          5  "
      ]
     },
     "execution_count": 301,
     "metadata": {},
     "output_type": "execute_result"
    }
   ],
   "source": [
    "univ_list = []\n",
    "\n",
    "for univ in data_times[0:N_univ]:\n",
    "    univ_crt = pd.DataFrame([]); \n",
    "    \n",
    "    # Get simple information from in the main list\n",
    "    name = univ['name'] \n",
    "    rank = univ['rank']\n",
    "    country = univ['location']\n",
    "    \n",
    "    num_student = int(univ['stats_number_students'].strip().replace(',',''))\n",
    "    perc_int_student = float(univ['stats_pc_intl_students'].strip().replace('%',''))\n",
    "    num_int_student = int(num_student * perc_int_student / 100) \n",
    "    \n",
    "    ratio_stud_falc = float(univ['stats_student_staff_ratio'])\n",
    "    num_faculty = int( (1 / ratio_stud_falc) *  num_student)\n",
    "    \n",
    "    # Get informations from details pages\n",
    "#     details_r = requests.get( URL_times + univ['url'] )\n",
    "#     page_body = details_r.text\n",
    "#     soup = BeautifulSoup(page_body, 'html.parser')\n",
    "    \n",
    "    univ_crt = {'Name': name, \n",
    "                'Rank times': rank,\n",
    "                'Country': country,\n",
    "                'Num students times': num_student,\n",
    "                'Num intl students times': num_int_student,\n",
    "                'Num faculty times': num_faculty} \n",
    "    \n",
    "    univ_list.append(univ_crt)  \n",
    "\n",
    "df_times_original = pd.DataFrame.from_dict(univ_list)\n",
    "df_times= df_times_original.copy()\n",
    "df_times_original.head()"
   ]
  },
  {
   "cell_type": "markdown",
   "metadata": {},
   "source": [
    "Didn't find any information about intarnational faculty/staff \n",
    "No info about region\n",
    "\n"
   ]
  },
  {
   "cell_type": "code",
   "execution_count": 302,
   "metadata": {
    "collapsed": true
   },
   "outputs": [],
   "source": [
    "df_times['stud intl/tot times'] = df_times['Num intl students times']/df_times['Num students times']"
   ]
  },
  {
   "cell_type": "code",
   "execution_count": 303,
   "metadata": {},
   "outputs": [
    {
     "data": {
      "text/html": [
       "<div>\n",
       "<style>\n",
       "    .dataframe thead tr:only-child th {\n",
       "        text-align: right;\n",
       "    }\n",
       "\n",
       "    .dataframe thead th {\n",
       "        text-align: left;\n",
       "    }\n",
       "\n",
       "    .dataframe tbody tr th {\n",
       "        vertical-align: top;\n",
       "    }\n",
       "</style>\n",
       "<table border=\"1\" class=\"dataframe\">\n",
       "  <thead>\n",
       "    <tr style=\"text-align: right;\">\n",
       "      <th></th>\n",
       "      <th>Country</th>\n",
       "      <th>Name</th>\n",
       "      <th>Num faculty times</th>\n",
       "      <th>Num intl students times</th>\n",
       "      <th>Num students times</th>\n",
       "      <th>Rank times</th>\n",
       "      <th>stud intl/tot times</th>\n",
       "    </tr>\n",
       "  </thead>\n",
       "  <tbody>\n",
       "    <tr>\n",
       "      <th>24</th>\n",
       "      <td>United Kingdom</td>\n",
       "      <td>London School of Economics and Political Science</td>\n",
       "      <td>825</td>\n",
       "      <td>7146</td>\n",
       "      <td>10065</td>\n",
       "      <td>=25</td>\n",
       "      <td>0.709985</td>\n",
       "    </tr>\n",
       "    <tr>\n",
       "      <th>178</th>\n",
       "      <td>Luxembourg</td>\n",
       "      <td>University of Luxembourg</td>\n",
       "      <td>340</td>\n",
       "      <td>2832</td>\n",
       "      <td>4969</td>\n",
       "      <td>=179</td>\n",
       "      <td>0.569934</td>\n",
       "    </tr>\n",
       "    <tr>\n",
       "      <th>7</th>\n",
       "      <td>United Kingdom</td>\n",
       "      <td>Imperial College London</td>\n",
       "      <td>1390</td>\n",
       "      <td>8721</td>\n",
       "      <td>15857</td>\n",
       "      <td>8</td>\n",
       "      <td>0.549978</td>\n",
       "    </tr>\n",
       "    <tr>\n",
       "      <th>37</th>\n",
       "      <td>Switzerland</td>\n",
       "      <td>École Polytechnique Fédérale de Lausanne</td>\n",
       "      <td>886</td>\n",
       "      <td>5460</td>\n",
       "      <td>9928</td>\n",
       "      <td>=38</td>\n",
       "      <td>0.549960</td>\n",
       "    </tr>\n",
       "    <tr>\n",
       "      <th>102</th>\n",
       "      <td>Netherlands</td>\n",
       "      <td>Maastricht University</td>\n",
       "      <td>929</td>\n",
       "      <td>8363</td>\n",
       "      <td>16727</td>\n",
       "      <td>103</td>\n",
       "      <td>0.499970</td>\n",
       "    </tr>\n",
       "  </tbody>\n",
       "</table>\n",
       "</div>"
      ],
      "text/plain": [
       "            Country                                              Name  \\\n",
       "24   United Kingdom  London School of Economics and Political Science   \n",
       "178      Luxembourg                          University of Luxembourg   \n",
       "7    United Kingdom                           Imperial College London   \n",
       "37      Switzerland          École Polytechnique Fédérale de Lausanne   \n",
       "102     Netherlands                             Maastricht University   \n",
       "\n",
       "     Num faculty times  Num intl students times  Num students times  \\\n",
       "24                 825                     7146               10065   \n",
       "178                340                     2832                4969   \n",
       "7                 1390                     8721               15857   \n",
       "37                 886                     5460                9928   \n",
       "102                929                     8363               16727   \n",
       "\n",
       "    Rank times  stud intl/tot times  \n",
       "24         =25             0.709985  \n",
       "178       =179             0.569934  \n",
       "7            8             0.549978  \n",
       "37         =38             0.549960  \n",
       "102        103             0.499970  "
      ]
     },
     "execution_count": 303,
     "metadata": {},
     "output_type": "execute_result"
    }
   ],
   "source": [
    "df_times.sort_values(['stud intl/tot times'], ascending = 0, axis = 0).head()"
   ]
  },
  {
   "cell_type": "code",
   "execution_count": null,
   "metadata": {
    "collapsed": true
   },
   "outputs": [],
   "source": []
  },
  {
   "cell_type": "markdown",
   "metadata": {},
   "source": [
    "## 3. Merge the two DataFrames created in questions 1 and 2 using university names. Match universities' names as well as you can, and explain your strategy. Keep track of the original position in both rankings."
   ]
  },
  {
   "cell_type": "markdown",
   "metadata": {},
   "source": [
    "##### Challenge\n",
    "The university name can differ between the 2 rankings. For example, in the Times ranking, we have \"École Polytechnique Fédérale de Lausanne\", which is named \"Ecole Polytechnique Fédérale de Lausanne (EPFL)\" in the topuniversity ranking. \n",
    "\n",
    "\n",
    "Moreover, a university can be ranked in the top 200 in one ranking and can also be over rank 200 in the other one. \n"
   ]
  },
  {
   "cell_type": "markdown",
   "metadata": {},
   "source": [
    "##### Our idea\n",
    "\n",
    "\n",
    "To find match between the names of the universities, we will use `difflib`, a python module that provides functions for comparing sequences. The one we are interested in is **`SequenceMatcher`**. \n",
    "This allows to compute a matching score between two strings.\n"
   ]
  },
  {
   "cell_type": "code",
   "execution_count": 434,
   "metadata": {
    "collapsed": true
   },
   "outputs": [],
   "source": [
    "from difflib import SequenceMatcher\n",
    "def similar(a, b):\n",
    "    return SequenceMatcher(None, a, b).ratio()"
   ]
  },
  {
   "cell_type": "code",
   "execution_count": 447,
   "metadata": {
    "collapsed": true,
    "scrolled": true
   },
   "outputs": [],
   "source": [
    "# To start over with original dataframes\n",
    "df_topu = df_topu_original.copy()\n",
    "df_times = df_times_original.copy()"
   ]
  },
  {
   "cell_type": "markdown",
   "metadata": {},
   "source": [
    "##### Our implementation\n",
    "\n",
    "\n",
    "For each university of the first dataframe, we check if its name matches with one in the other dataframe. We get only match with a matching score over a certain threshold score we define later. \n",
    "If a university matches several ones in the other dataframe, we choose the one with the highest score, and update its name,to have exactly the same in both dataframe. \n",
    "If a university doesn't match any in the other dataframe, we don't change anything.\n",
    "\n",
    "Finally we can merge on the university names.\n"
   ]
  },
  {
   "cell_type": "code",
   "execution_count": 448,
   "metadata": {},
   "outputs": [
    {
     "name": "stdout",
     "output_type": "stream",
     "text": [
      "-> 145 match between university names were found in the two rankings\n"
     ]
    }
   ],
   "source": [
    "threshold_score = 0.87\n",
    "\n",
    "nb_match = 0\n",
    "for index_topu, univ_topu in df_topu.iterrows():\n",
    "    match = []\n",
    "    \n",
    "    for index_times, univ_times in df_times.iterrows():\n",
    "        match_score = similar(univ_topu.Name, univ_times.Name)\n",
    "        if match_score > threshold_score:\n",
    "            match.append({'match_name': univ_times.Name, 'score': match_score})\n",
    "            \n",
    "    if match:  # Check if the list is empty (in case there is no match)\n",
    "        df_match = pd.DataFrame.from_dict(match)\n",
    "        \n",
    "#         if len(match) > 1:\n",
    "#             print(\"\\n :::: {}\".format(univ_topu.Name))\n",
    "#             print(df_match)\n",
    "        \n",
    "        highest_match = df_match.loc[df_match['score'].idxmax()]\n",
    "        if highest_match['score'] < 0.92:\n",
    "            print(\"{}: {} --- {}\".format(highest_match['score'], df_topu.loc[index_topu,'Name'], highest_match['match_name']))\n",
    "        df_topu.loc[index_topu,'Name'] = highest_match['match_name']\n",
    "        nb_match += 1\n",
    "        "
   ]
  },
  {
   "cell_type": "markdown",
   "metadata": {},
   "source": [
    "##### Choice of the threshold score\n",
    "\n",
    "We tested different threshold matching score and tried to affine it.\n",
    "\n",
    "At first, 0.85 looked good, but we found inconsistencies in our results. We check at matching universities for those with more than one match. We found the **Vienna University of Technology**, which is in the 200 top ranking universities only in topuniversities ranking and that is over the 300rank in the Times one. It had a the following  matching score :\n",
    "\n",
    "                            match_name     score\n",
    "        Delft University of Technology  0.852459\n",
    "    Eindhoven University of Technology  0.861538\n",
    "\n",
    "\n",
    "Obviously, none of the those two universities were the good one. Thus, we had to update our threshold score by increasing it to affine this kind of wrong match. \n",
    "\n",
    "\n",
    "We didn't increase it too much so that all the universities with a match can find it. For example it is sure that \"The University of Hong Kong\" should match with \"University of Hong Kong\". Their matching score is \"only\" 0.92 (see table below),so for cases like this, we can't put a threshold score too high.\n",
    "\n",
    "                            match_name     score\n",
    "    0          University of Hong Kong  0.920000\n",
    "    1  Chinese University of Hong Kong  0.896552\n",
    "    2     City University of Hong Kong  0.872727\n",
    "    "
   ]
  },
  {
   "cell_type": "code",
   "execution_count": 449,
   "metadata": {},
   "outputs": [
    {
     "name": "stdout",
     "output_type": "stream",
     "text": [
      "-> 145 match between university names were found in the two rankings\n"
     ]
    }
   ],
   "source": [
    "print(\"-> {} match between university names were found in the two rankings\".format(nb_match))"
   ]
  },
  {
   "cell_type": "markdown",
   "metadata": {},
   "source": [
    "Now, let's merge our two dataframes"
   ]
  },
  {
   "cell_type": "code",
   "execution_count": 450,
   "metadata": {
    "collapsed": true
   },
   "outputs": [],
   "source": [
    "# Merge the 2 dataframe on university names\n",
    "df_merged = pd.merge(df_topu, df_times, how='outer', right_on='Name', left_on='Name')\n",
    "# df_merged"
   ]
  },
  {
   "cell_type": "code",
   "execution_count": null,
   "metadata": {
    "collapsed": true
   },
   "outputs": [],
   "source": []
  },
  {
   "cell_type": "markdown",
   "metadata": {},
   "source": [
    "## 4. Find useful insights in the data by performing an exploratory analysis. Can you find a strong correlation between any pair of variables in the dataset you just created? Example: when a university is strong in its international dimension, can you observe a consistency both for students and faculty members?"
   ]
  },
  {
   "cell_type": "code",
   "execution_count": null,
   "metadata": {
    "collapsed": true
   },
   "outputs": [],
   "source": []
  },
  {
   "cell_type": "code",
   "execution_count": null,
   "metadata": {
    "collapsed": true
   },
   "outputs": [],
   "source": []
  },
  {
   "cell_type": "code",
   "execution_count": null,
   "metadata": {
    "collapsed": true
   },
   "outputs": [],
   "source": []
  },
  {
   "cell_type": "markdown",
   "metadata": {},
   "source": [
    "## 5. Can you find the best university taking in consideration both rankings? Explain your approach."
   ]
  },
  {
   "cell_type": "code",
   "execution_count": null,
   "metadata": {
    "collapsed": true
   },
   "outputs": [],
   "source": []
  }
 ],
 "metadata": {
  "kernelspec": {
   "display_name": "Python 3",
   "language": "python",
   "name": "python3"
  },
  "language_info": {
   "codemirror_mode": {
    "name": "ipython",
    "version": 3
   },
   "file_extension": ".py",
   "mimetype": "text/x-python",
   "name": "python",
   "nbconvert_exporter": "python",
   "pygments_lexer": "ipython3",
   "version": "3.6.1"
  }
 },
 "nbformat": 4,
 "nbformat_minor": 2
}

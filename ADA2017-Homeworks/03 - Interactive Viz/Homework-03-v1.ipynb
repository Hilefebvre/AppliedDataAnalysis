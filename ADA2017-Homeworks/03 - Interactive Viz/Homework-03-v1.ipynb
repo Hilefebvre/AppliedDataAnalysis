{
 "cells": [
  {
   "cell_type": "code",
   "execution_count": 266,
   "metadata": {
    "collapsed": true
   },
   "outputs": [],
   "source": [
    "import os\n",
    "import pandas as pd\n",
    "import json\n",
    "import folium \n",
    "import numpy as np\n",
    "import seaborn as sns\n",
    "import matplotlib.pyplot as plt\n",
    "% matplotlib inline\n",
    "\n",
    "import chardet\n",
    "import topojson\n",
    "import geopandas as gpd"
   ]
  },
  {
   "cell_type": "markdown",
   "metadata": {},
   "source": [
    "**Question 1: ** Go to the [eurostat](http://ec.europa.eu/eurostat/data/database) website and try to find a dataset that includes the european unemployment rates at a recent date.\n",
    "\n",
    "   Use this data to build a [Choropleth map](https://en.wikipedia.org/wiki/Choropleth_map) which shows the unemployment rate in Europe at a country level. Think about [the colors you use](https://carto.com/academy/courses/intermediate-design/choose-colors-1/), how you decided to [split the intervals into data classes](http://gisgeography.com/choropleth-maps-data-classification/) or which interactions you could add in order to make the visualization intuitive and expressive. Compare Switzerland's unemployment rate to that of the rest of Europe.\n"
   ]
  },
  {
   "cell_type": "markdown",
   "metadata": {},
   "source": [
    "### a. Work on the dataset"
   ]
  },
  {
   "cell_type": "markdown",
   "metadata": {},
   "source": [
    "From the eurostat website, we download an excel file containing the informations on unemployment rate in Europe, per Country, from 1990 to 2016. \n",
    "\n",
    "We load this dataset into a pandas DataFrame, that we first need to clean, to keep only columns and rows with relevant informations. "
   ]
  },
  {
   "cell_type": "code",
   "execution_count": 267,
   "metadata": {
    "scrolled": true
   },
   "outputs": [
    {
     "data": {
      "text/html": [
       "<div>\n",
       "<style>\n",
       "    .dataframe thead tr:only-child th {\n",
       "        text-align: right;\n",
       "    }\n",
       "\n",
       "    .dataframe thead th {\n",
       "        text-align: left;\n",
       "    }\n",
       "\n",
       "    .dataframe tbody tr th {\n",
       "        vertical-align: top;\n",
       "    }\n",
       "</style>\n",
       "<table border=\"1\" class=\"dataframe\">\n",
       "  <thead>\n",
       "    <tr style=\"text-align: right;\">\n",
       "      <th></th>\n",
       "      <th>Country</th>\n",
       "      <th>1990</th>\n",
       "      <th>1991</th>\n",
       "      <th>1992</th>\n",
       "      <th>1993</th>\n",
       "      <th>1994</th>\n",
       "      <th>1995</th>\n",
       "      <th>1996</th>\n",
       "      <th>1997</th>\n",
       "      <th>1998</th>\n",
       "      <th>...</th>\n",
       "      <th>2007</th>\n",
       "      <th>2008</th>\n",
       "      <th>2009</th>\n",
       "      <th>2010</th>\n",
       "      <th>2011</th>\n",
       "      <th>2012</th>\n",
       "      <th>2013</th>\n",
       "      <th>2014</th>\n",
       "      <th>2015</th>\n",
       "      <th>2016</th>\n",
       "    </tr>\n",
       "  </thead>\n",
       "  <tbody>\n",
       "    <tr>\n",
       "      <th>4</th>\n",
       "      <td>Belgium</td>\n",
       "      <td>6.6</td>\n",
       "      <td>6.4</td>\n",
       "      <td>7.1</td>\n",
       "      <td>8.6</td>\n",
       "      <td>9.8</td>\n",
       "      <td>9.7</td>\n",
       "      <td>9.5</td>\n",
       "      <td>9.2</td>\n",
       "      <td>9.3</td>\n",
       "      <td>...</td>\n",
       "      <td>7.5</td>\n",
       "      <td>7</td>\n",
       "      <td>7.9</td>\n",
       "      <td>8.3</td>\n",
       "      <td>7.2</td>\n",
       "      <td>7.6</td>\n",
       "      <td>8.4</td>\n",
       "      <td>8.5</td>\n",
       "      <td>8.5</td>\n",
       "      <td>7.8</td>\n",
       "    </tr>\n",
       "    <tr>\n",
       "      <th>5</th>\n",
       "      <td>Bulgaria</td>\n",
       "      <td>:</td>\n",
       "      <td>:</td>\n",
       "      <td>:</td>\n",
       "      <td>:</td>\n",
       "      <td>:</td>\n",
       "      <td>:</td>\n",
       "      <td>:</td>\n",
       "      <td>:</td>\n",
       "      <td>:</td>\n",
       "      <td>...</td>\n",
       "      <td>6.9</td>\n",
       "      <td>5.6</td>\n",
       "      <td>6.8</td>\n",
       "      <td>10.3</td>\n",
       "      <td>11.3</td>\n",
       "      <td>12.3</td>\n",
       "      <td>13</td>\n",
       "      <td>11.4</td>\n",
       "      <td>9.2</td>\n",
       "      <td>7.6</td>\n",
       "    </tr>\n",
       "    <tr>\n",
       "      <th>6</th>\n",
       "      <td>Czech Republic</td>\n",
       "      <td>:</td>\n",
       "      <td>:</td>\n",
       "      <td>:</td>\n",
       "      <td>4.3</td>\n",
       "      <td>4.3</td>\n",
       "      <td>4</td>\n",
       "      <td>3.9</td>\n",
       "      <td>4.8</td>\n",
       "      <td>6.5</td>\n",
       "      <td>...</td>\n",
       "      <td>5.3</td>\n",
       "      <td>4.4</td>\n",
       "      <td>6.7</td>\n",
       "      <td>7.3</td>\n",
       "      <td>6.7</td>\n",
       "      <td>7</td>\n",
       "      <td>7</td>\n",
       "      <td>6.1</td>\n",
       "      <td>5.1</td>\n",
       "      <td>4</td>\n",
       "    </tr>\n",
       "    <tr>\n",
       "      <th>7</th>\n",
       "      <td>Denmark</td>\n",
       "      <td>7.2</td>\n",
       "      <td>7.9</td>\n",
       "      <td>8.6</td>\n",
       "      <td>9.6</td>\n",
       "      <td>7.7</td>\n",
       "      <td>6.7</td>\n",
       "      <td>6.3</td>\n",
       "      <td>5.2</td>\n",
       "      <td>4.9</td>\n",
       "      <td>...</td>\n",
       "      <td>3.8</td>\n",
       "      <td>3.4</td>\n",
       "      <td>6</td>\n",
       "      <td>7.5</td>\n",
       "      <td>7.6</td>\n",
       "      <td>7.5</td>\n",
       "      <td>7</td>\n",
       "      <td>6.6</td>\n",
       "      <td>6.2</td>\n",
       "      <td>6.2</td>\n",
       "    </tr>\n",
       "    <tr>\n",
       "      <th>8</th>\n",
       "      <td>Germany</td>\n",
       "      <td>:</td>\n",
       "      <td>5.5</td>\n",
       "      <td>6.6</td>\n",
       "      <td>7.8</td>\n",
       "      <td>8.4</td>\n",
       "      <td>8.2</td>\n",
       "      <td>8.9</td>\n",
       "      <td>9.6</td>\n",
       "      <td>9.4</td>\n",
       "      <td>...</td>\n",
       "      <td>8.5</td>\n",
       "      <td>7.4</td>\n",
       "      <td>7.6</td>\n",
       "      <td>7</td>\n",
       "      <td>5.8</td>\n",
       "      <td>5.4</td>\n",
       "      <td>5.2</td>\n",
       "      <td>5</td>\n",
       "      <td>4.6</td>\n",
       "      <td>4.1</td>\n",
       "    </tr>\n",
       "  </tbody>\n",
       "</table>\n",
       "<p>5 rows × 28 columns</p>\n",
       "</div>"
      ],
      "text/plain": [
       "          Country 1990 1991 1992 1993 1994 1995 1996 1997 1998 ...  2007 2008  \\\n",
       "4         Belgium  6.6  6.4  7.1  8.6  9.8  9.7  9.5  9.2  9.3 ...   7.5    7   \n",
       "5        Bulgaria    :    :    :    :    :    :    :    :    : ...   6.9  5.6   \n",
       "6  Czech Republic    :    :    :  4.3  4.3    4  3.9  4.8  6.5 ...   5.3  4.4   \n",
       "7         Denmark  7.2  7.9  8.6  9.6  7.7  6.7  6.3  5.2  4.9 ...   3.8  3.4   \n",
       "8         Germany    :  5.5  6.6  7.8  8.4  8.2  8.9  9.6  9.4 ...   8.5  7.4   \n",
       "\n",
       "  2009  2010  2011  2012 2013  2014 2015 2016  \n",
       "4  7.9   8.3   7.2   7.6  8.4   8.5  8.5  7.8  \n",
       "5  6.8  10.3  11.3  12.3   13  11.4  9.2  7.6  \n",
       "6  6.7   7.3   6.7     7    7   6.1  5.1    4  \n",
       "7    6   7.5   7.6   7.5    7   6.6  6.2  6.2  \n",
       "8  7.6     7   5.8   5.4  5.2     5  4.6  4.1  \n",
       "\n",
       "[5 rows x 28 columns]"
      ]
     },
     "execution_count": 267,
     "metadata": {},
     "output_type": "execute_result"
    }
   ],
   "source": [
    "# Load excel file into pandas DataFrame with no header\n",
    "UNEMPLOYMENT_RATE_EUROSTAT_PATH = r'data/unemployment_rate_eurostat.xls'\n",
    "df_excel_eurostat = pd.read_excel(UNEMPLOYMENT_RATE_EUROSTAT_PATH, \n",
    "                                  skiprows = 4, \n",
    "                                  skip_footer = 9, \n",
    "                                  sheetname = 'Sheet0', \n",
    "                                  header = None)\n",
    "\n",
    "# Work on header \n",
    "header = pd.read_excel(UNEMPLOYMENT_RATE_EUROSTAT_PATH, sheetname = 'Sheet0', header = 3).columns\n",
    "header.values[0] = 'Country'\n",
    "df_excel_eurostat.columns = header\n",
    "\n",
    "\n",
    "# Drop columns full of NaN \n",
    "df_eurostat = df_excel_eurostat.dropna(axis = 1)\n",
    "\n",
    "# Remove first columns which are balance for Europe\n",
    "df_eurostat = df_eurostat[4:] \n",
    "\n",
    "df_eurostat.head()"
   ]
  },
  {
   "cell_type": "code",
   "execution_count": 268,
   "metadata": {
    "scrolled": true
   },
   "outputs": [
    {
     "data": {
      "text/html": [
       "<div>\n",
       "<style>\n",
       "    .dataframe thead tr:only-child th {\n",
       "        text-align: right;\n",
       "    }\n",
       "\n",
       "    .dataframe thead th {\n",
       "        text-align: left;\n",
       "    }\n",
       "\n",
       "    .dataframe tbody tr th {\n",
       "        vertical-align: top;\n",
       "    }\n",
       "</style>\n",
       "<table border=\"1\" class=\"dataframe\">\n",
       "  <thead>\n",
       "    <tr style=\"text-align: right;\">\n",
       "      <th></th>\n",
       "      <th>Country</th>\n",
       "      <th>1990</th>\n",
       "      <th>1991</th>\n",
       "      <th>1992</th>\n",
       "      <th>1993</th>\n",
       "      <th>1994</th>\n",
       "      <th>1995</th>\n",
       "      <th>1996</th>\n",
       "      <th>1997</th>\n",
       "      <th>1998</th>\n",
       "      <th>...</th>\n",
       "      <th>2007</th>\n",
       "      <th>2008</th>\n",
       "      <th>2009</th>\n",
       "      <th>2010</th>\n",
       "      <th>2011</th>\n",
       "      <th>2012</th>\n",
       "      <th>2013</th>\n",
       "      <th>2014</th>\n",
       "      <th>2015</th>\n",
       "      <th>2016</th>\n",
       "    </tr>\n",
       "  </thead>\n",
       "  <tbody>\n",
       "    <tr>\n",
       "      <th>4</th>\n",
       "      <td>Belgium</td>\n",
       "      <td>6.6</td>\n",
       "      <td>6.4</td>\n",
       "      <td>7.1</td>\n",
       "      <td>8.6</td>\n",
       "      <td>9.8</td>\n",
       "      <td>9.7</td>\n",
       "      <td>9.5</td>\n",
       "      <td>9.2</td>\n",
       "      <td>9.3</td>\n",
       "      <td>...</td>\n",
       "      <td>7.5</td>\n",
       "      <td>7</td>\n",
       "      <td>7.9</td>\n",
       "      <td>8.3</td>\n",
       "      <td>7.2</td>\n",
       "      <td>7.6</td>\n",
       "      <td>8.4</td>\n",
       "      <td>8.5</td>\n",
       "      <td>8.5</td>\n",
       "      <td>7.8</td>\n",
       "    </tr>\n",
       "    <tr>\n",
       "      <th>5</th>\n",
       "      <td>Bulgaria</td>\n",
       "      <td>nan</td>\n",
       "      <td>nan</td>\n",
       "      <td>nan</td>\n",
       "      <td>nan</td>\n",
       "      <td>nan</td>\n",
       "      <td>nan</td>\n",
       "      <td>nan</td>\n",
       "      <td>nan</td>\n",
       "      <td>nan</td>\n",
       "      <td>...</td>\n",
       "      <td>6.9</td>\n",
       "      <td>5.6</td>\n",
       "      <td>6.8</td>\n",
       "      <td>10.3</td>\n",
       "      <td>11.3</td>\n",
       "      <td>12.3</td>\n",
       "      <td>13</td>\n",
       "      <td>11.4</td>\n",
       "      <td>9.2</td>\n",
       "      <td>7.6</td>\n",
       "    </tr>\n",
       "    <tr>\n",
       "      <th>6</th>\n",
       "      <td>Czech Republic</td>\n",
       "      <td>nan</td>\n",
       "      <td>nan</td>\n",
       "      <td>nan</td>\n",
       "      <td>4.3</td>\n",
       "      <td>4.3</td>\n",
       "      <td>4</td>\n",
       "      <td>3.9</td>\n",
       "      <td>4.8</td>\n",
       "      <td>6.5</td>\n",
       "      <td>...</td>\n",
       "      <td>5.3</td>\n",
       "      <td>4.4</td>\n",
       "      <td>6.7</td>\n",
       "      <td>7.3</td>\n",
       "      <td>6.7</td>\n",
       "      <td>7</td>\n",
       "      <td>7</td>\n",
       "      <td>6.1</td>\n",
       "      <td>5.1</td>\n",
       "      <td>4</td>\n",
       "    </tr>\n",
       "    <tr>\n",
       "      <th>7</th>\n",
       "      <td>Denmark</td>\n",
       "      <td>7.2</td>\n",
       "      <td>7.9</td>\n",
       "      <td>8.6</td>\n",
       "      <td>9.6</td>\n",
       "      <td>7.7</td>\n",
       "      <td>6.7</td>\n",
       "      <td>6.3</td>\n",
       "      <td>5.2</td>\n",
       "      <td>4.9</td>\n",
       "      <td>...</td>\n",
       "      <td>3.8</td>\n",
       "      <td>3.4</td>\n",
       "      <td>6</td>\n",
       "      <td>7.5</td>\n",
       "      <td>7.6</td>\n",
       "      <td>7.5</td>\n",
       "      <td>7</td>\n",
       "      <td>6.6</td>\n",
       "      <td>6.2</td>\n",
       "      <td>6.2</td>\n",
       "    </tr>\n",
       "    <tr>\n",
       "      <th>8</th>\n",
       "      <td>Germany</td>\n",
       "      <td>nan</td>\n",
       "      <td>5.5</td>\n",
       "      <td>6.6</td>\n",
       "      <td>7.8</td>\n",
       "      <td>8.4</td>\n",
       "      <td>8.2</td>\n",
       "      <td>8.9</td>\n",
       "      <td>9.6</td>\n",
       "      <td>9.4</td>\n",
       "      <td>...</td>\n",
       "      <td>8.5</td>\n",
       "      <td>7.4</td>\n",
       "      <td>7.6</td>\n",
       "      <td>7</td>\n",
       "      <td>5.8</td>\n",
       "      <td>5.4</td>\n",
       "      <td>5.2</td>\n",
       "      <td>5</td>\n",
       "      <td>4.6</td>\n",
       "      <td>4.1</td>\n",
       "    </tr>\n",
       "  </tbody>\n",
       "</table>\n",
       "<p>5 rows × 28 columns</p>\n",
       "</div>"
      ],
      "text/plain": [
       "          Country 1990 1991 1992 1993 1994 1995 1996 1997 1998 ...  2007 2008  \\\n",
       "4         Belgium  6.6  6.4  7.1  8.6  9.8  9.7  9.5  9.2  9.3 ...   7.5    7   \n",
       "5        Bulgaria  nan  nan  nan  nan  nan  nan  nan  nan  nan ...   6.9  5.6   \n",
       "6  Czech Republic  nan  nan  nan  4.3  4.3    4  3.9  4.8  6.5 ...   5.3  4.4   \n",
       "7         Denmark  7.2  7.9  8.6  9.6  7.7  6.7  6.3  5.2  4.9 ...   3.8  3.4   \n",
       "8         Germany  nan  5.5  6.6  7.8  8.4  8.2  8.9  9.6  9.4 ...   8.5  7.4   \n",
       "\n",
       "  2009  2010  2011  2012 2013  2014 2015 2016  \n",
       "4  7.9   8.3   7.2   7.6  8.4   8.5  8.5  7.8  \n",
       "5  6.8  10.3  11.3  12.3   13  11.4  9.2  7.6  \n",
       "6  6.7   7.3   6.7     7    7   6.1  5.1    4  \n",
       "7    6   7.5   7.6   7.5    7   6.6  6.2  6.2  \n",
       "8  7.6     7   5.8   5.4  5.2     5  4.6  4.1  \n",
       "\n",
       "[5 rows x 28 columns]"
      ]
     },
     "execution_count": 268,
     "metadata": {},
     "output_type": "execute_result"
    }
   ],
   "source": [
    "# Treat missing values\n",
    "df_eurostat = df_eurostat.replace(':','nan')\n",
    "# df_eurostat = df_eurostat.replace('(p)','NaN')\n",
    "df_eurostat.head()"
   ]
  },
  {
   "cell_type": "markdown",
   "metadata": {},
   "source": [
    "We will work only with the data from 2016. Hence, we keep only the columns Country and 2016. As an anticipation for later reuse, we convert the rate values as float. Until now, they were string."
   ]
  },
  {
   "cell_type": "code",
   "execution_count": 269,
   "metadata": {
    "scrolled": false
   },
   "outputs": [
    {
     "name": "stderr",
     "output_type": "stream",
     "text": [
      "/Users/Hippo/anaconda/lib/python3.6/site-packages/ipykernel_launcher.py:2: SettingWithCopyWarning: \n",
      "A value is trying to be set on a copy of a slice from a DataFrame.\n",
      "Try using .loc[row_indexer,col_indexer] = value instead\n",
      "\n",
      "See the caveats in the documentation: http://pandas.pydata.org/pandas-docs/stable/indexing.html#indexing-view-versus-copy\n",
      "  \n"
     ]
    }
   ],
   "source": [
    "df_EU_2016 = df_eurostat[['Country','2016']]\n",
    "df_EU_2016['2016'] = df_EU_2016['2016'].astype(float)"
   ]
  },
  {
   "cell_type": "markdown",
   "metadata": {},
   "source": [
    "We notice that all values seem correct, except for Switzerland, which always has undefined rates over the years. As a consequence, we remove Switzerland from the dataset. We will study its case in the next part of this work."
   ]
  },
  {
   "cell_type": "code",
   "execution_count": 270,
   "metadata": {
    "collapsed": true,
    "scrolled": true
   },
   "outputs": [],
   "source": [
    "# Remove Switzerland (NaN value)\n",
    "ind_Switzerland = df_EU_2016.index[ df_EU_2016.Country == 'Switzerland' ].tolist()\n",
    "df_EU_2016 = df_EU_2016.drop(ind_Switzerland, axis = 0)"
   ]
  },
  {
   "cell_type": "markdown",
   "metadata": {},
   "source": [
    "Let's check the other countries of our dataset."
   ]
  },
  {
   "cell_type": "code",
   "execution_count": 271,
   "metadata": {
    "scrolled": true
   },
   "outputs": [
    {
     "name": "stdout",
     "output_type": "stream",
     "text": [
      "There are 33 countries in our dataset.\n",
      "\n",
      "['Belgium', 'Bulgaria', 'Czech Republic', 'Denmark', 'Germany', 'Estonia', 'Ireland', 'Greece', 'Spain', 'France', 'Croatia', 'Italy', 'Cyprus', 'Latvia', 'Lithuania', 'Luxembourg', 'Hungary', 'Malta', 'Netherlands', 'Austria', 'Poland', 'Portugal', 'Romania', 'Slovenia', 'Slovakia', 'Finland', 'Sweden', 'United Kingdom', 'Iceland', 'Norway', 'Turkey', 'United States', 'Japan']\n"
     ]
    }
   ],
   "source": [
    "print(\"There are {} countries in our dataset.\\n\".format(df_EU_2016.Country.count()))\n",
    "print(df_EU_2016.Country.tolist())"
   ]
  },
  {
   "cell_type": "markdown",
   "metadata": {},
   "source": [
    "We see that some countries from the data need to be deleted for our European analysis. We identify Japan and the United States that we should get rid of, as they are not in Europe. However, we do not limit our study to the European Union, thus we keep Iceland, Norway and Estonia."
   ]
  },
  {
   "cell_type": "code",
   "execution_count": 272,
   "metadata": {
    "scrolled": true
   },
   "outputs": [
    {
     "name": "stdout",
     "output_type": "stream",
     "text": [
      "Final 31 countries in our dataset:\n",
      "\n",
      "['Belgium', 'Bulgaria', 'Czech Republic', 'Denmark', 'Germany', 'Estonia', 'Ireland', 'Greece', 'Spain', 'France', 'Croatia', 'Italy', 'Cyprus', 'Latvia', 'Lithuania', 'Luxembourg', 'Hungary', 'Malta', 'Netherlands', 'Austria', 'Poland', 'Portugal', 'Romania', 'Slovenia', 'Slovakia', 'Finland', 'Sweden', 'United Kingdom', 'Iceland', 'Norway', 'Turkey']\n"
     ]
    }
   ],
   "source": [
    "ind_US = df_EU_2016.index[ df_EU_2016.Country == 'United States' ].tolist()\n",
    "df_EU_2016 = df_EU_2016.drop(ind_US, axis = 0)\n",
    "\n",
    "ind_Japan = df_EU_2016.index[ df_EU_2016.Country == 'Japan' ].tolist()\n",
    "df_EU_2016 = df_EU_2016.drop(ind_Japan, axis = 0)\n",
    "\n",
    "print(\"Final {} countries in our dataset:\\n\\n{}\".format(df_EU_2016.Country.count(), df_EU_2016.Country.tolist()))"
   ]
  },
  {
   "cell_type": "markdown",
   "metadata": {},
   "source": [
    "### b. Work on the map"
   ]
  },
  {
   "cell_type": "markdown",
   "metadata": {},
   "source": [
    "Now that our data are ready, we would like to display them on a map. To do so, we have a TopoJSON file which defines the boundaries of the countries in Europe. \n",
    "\n",
    "\n",
    "\n"
   ]
  },
  {
   "cell_type": "code",
   "execution_count": 273,
   "metadata": {
    "collapsed": true
   },
   "outputs": [],
   "source": [
    "# Path to our topoJSON\n",
    "TOPOJSON_EUROPE_PATH = r'topojson/europe.topojson.json'\n",
    "\n",
    "# Load TopoJSON\n",
    "topojson_europe = json.load(open(TOPOJSON_EUROPE_PATH))"
   ]
  },
  {
   "cell_type": "markdown",
   "metadata": {},
   "source": [
    "#### Compare countries in dataset and TopoJSON"
   ]
  },
  {
   "cell_type": "markdown",
   "metadata": {},
   "source": [
    "We get the countries from the TopoJSON in a new list, in order to compare it ti the one we have in our dataset.  "
   ]
  },
  {
   "cell_type": "code",
   "execution_count": 274,
   "metadata": {
    "scrolled": true
   },
   "outputs": [
    {
     "name": "stdout",
     "output_type": "stream",
     "text": [
      "Number of countries in TopoJSON: 51\n"
     ]
    }
   ],
   "source": [
    "with open(TOPOJSON_EUROPE_PATH) as file:    \n",
    "    topojson = json.load(file)\n",
    "    topo_countries = sorted([country['properties']['NAME'] for country in topojson['objects']['europe']['geometries']])\n",
    "\n",
    "print(\"Number of countries in TopoJSON: %d\" % len(topo_countries))"
   ]
  },
  {
   "cell_type": "markdown",
   "metadata": {},
   "source": [
    "First, we notice that we have 51 countries in this TopoJSON. Thus, some countries might be present in our TopoJSON file while they are not in our dataset. As we do not have values for their unemployment rate, we won't display them on the map. "
   ]
  },
  {
   "cell_type": "code",
   "execution_count": 275,
   "metadata": {},
   "outputs": [
    {
     "name": "stdout",
     "output_type": "stream",
     "text": [
      "Countries in dataframe: \n",
      "['Austria', 'Belgium', 'Bulgaria', 'Croatia', 'Cyprus', 'Czech Republic', 'Denmark', 'Estonia', 'Finland', 'France', 'Germany', 'Greece', 'Hungary', 'Iceland', 'Ireland', 'Italy', 'Latvia', 'Lithuania', 'Luxembourg', 'Malta', 'Netherlands', 'Norway', 'Poland', 'Portugal', 'Romania', 'Slovakia', 'Slovenia', 'Spain', 'Sweden', 'Turkey', 'United Kingdom']\n",
      "\n",
      "\n",
      "Countries in TopoJSON: \n",
      "['Albania', 'Andorra', 'Armenia', 'Austria', 'Azerbaijan', 'Belarus', 'Belgium', 'Bosnia and Herzegovina', 'Bulgaria', 'Croatia', 'Cyprus', 'Czech Republic', 'Denmark', 'Estonia', 'Faroe Islands', 'Finland', 'France', 'Georgia', 'Germany', 'Greece', 'Holy See (Vatican City)', 'Hungary', 'Iceland', 'Ireland', 'Israel', 'Italy', 'Latvia', 'Liechtenstein', 'Lithuania', 'Luxembourg', 'Malta', 'Monaco', 'Montenegro', 'Netherlands', 'Norway', 'Poland', 'Portugal', 'Republic of Moldova', 'Romania', 'Russia', 'San Marino', 'Serbia', 'Slovakia', 'Slovenia', 'Spain', 'Sweden', 'Switzerland', 'The former Yugoslav Republic of Macedonia', 'Turkey', 'Ukraine', 'United Kingdom']\n"
     ]
    }
   ],
   "source": [
    "df_countries = sorted(df_EU_2016.Country)\n",
    "print(\"Countries in dataframe: \\n{}\".format(sorted(df_EU_2016.Country)))\n",
    "print(\"\\n\\nCountries in TopoJSON: \\n{}\".format(sorted(topo_countries)))"
   ]
  },
  {
   "cell_type": "markdown",
   "metadata": {},
   "source": [
    "Now we need to compare countries from our eurostat dataset and the ones from the topojson. We checked that no country is present in the dataset and is not in the topojson.  \n",
    "\n",
    "We are going to delete the 'extra' countries on the map."
   ]
  },
  {
   "cell_type": "code",
   "execution_count": 276,
   "metadata": {
    "scrolled": true
   },
   "outputs": [
    {
     "name": "stdout",
     "output_type": "stream",
     "text": [
      "Countries we are about to delete from our topojson: \n",
      "\n",
      "['Albania', 'Andorra', 'Armenia', 'Azerbaijan', 'Belarus', 'Bosnia and Herzegovina', 'Faroe Islands', 'Georgia', 'Holy See (Vatican City)', 'Israel', 'Liechtenstein', 'Monaco', 'Montenegro', 'Republic of Moldova', 'Russia', 'San Marino', 'Serbia', 'Switzerland', 'The former Yugoslav Republic of Macedonia', 'Ukraine']\n"
     ]
    }
   ],
   "source": [
    "# Missing country\n",
    "missing_countries = list()\n",
    "for country_from_topo in topo_countries:\n",
    "    found = False\n",
    "    for country_from_df in df_countries:\n",
    "        if country_from_df == country_from_topo:\n",
    "            found = True\n",
    "    if found == False:\n",
    "        missing_countries.append(country_from_topo)\n",
    "        \n",
    "print(\"Countries we are about to delete from our topojson: \\n\")\n",
    "print(missing_countries)\n",
    "        "
   ]
  },
  {
   "cell_type": "markdown",
   "metadata": {},
   "source": [
    "Let's get rid of them!"
   ]
  },
  {
   "cell_type": "code",
   "execution_count": 277,
   "metadata": {
    "collapsed": true
   },
   "outputs": [],
   "source": [
    "final_json_europe = topojson_europe \n",
    "for m_country in missing_countries:\n",
    "    for ind, country_topo in  enumerate(final_json_europe['objects']['europe']['geometries']):\n",
    "        if country_topo['properties']['NAME'] == m_country:\n",
    "            del final_json_europe['objects']['europe']['geometries'][ind]"
   ]
  },
  {
   "cell_type": "markdown",
   "metadata": {},
   "source": [
    "#### Display on the map"
   ]
  },
  {
   "cell_type": "markdown",
   "metadata": {},
   "source": [
    "We create a map using `folium`, centered on Berlin. On top of this map, we overlay the informations found in a TopoJSON file. Those information are the boundaries of each country."
   ]
  },
  {
   "cell_type": "code",
   "execution_count": 278,
   "metadata": {
    "scrolled": false
   },
   "outputs": [],
   "source": [
    "# Build map center on Berlin with zoom that we can see all the Europe \n",
    "berlin_coord = [52.520008, 13.404954]\n",
    "\n",
    "m_europe = folium.Map(location = berlin_coord, zoom_start = 3.4)\n",
    "\n",
    "folium.TopoJson(\n",
    "    final_json_europe,\n",
    "    'objects.europe',\n",
    "    name='Country boundaries'\n",
    ").add_to(m_europe)\n",
    "m_europe.save(\"m_europe1.html\")"
   ]
  },
  {
   "cell_type": "markdown",
   "metadata": {},
   "source": [
    "**Visualize the map** : [Click here](https://hilefebvre.github.io/m_europe1.html)"
   ]
  },
  {
   "cell_type": "markdown",
   "metadata": {},
   "source": [
    "#### On a map\n",
    "\n",
    "On top of this map, we want to visualize the unemployment rate of each country, and we will do it using `choropleth`. This allows us to shade countries by group and according to their unemployment rate. \n",
    "\n",
    "We will have classes of countries, and all country in a same class have the same color. There are few way of determining those classes, and we are going to display the following data classification mode: Equal intervals and Natural breaks (Jenks) classification. We will determine which one is the most relevant. \n",
    "\n",
    "\n",
    "We choose sequential color from yellow (low unemployment rate) to red (high unemployment rate), so that we can see and compare contry to each others on the map. Moreover, this kind of pallette can be seen by colorblind people.\n",
    "\n"
   ]
  },
  {
   "cell_type": "markdown",
   "metadata": {},
   "source": [
    "In a first display, we voluntary do not specify any threshold for the color, which means we don't determine classes. Hense, by default Folium will create 6 equal intervals in the range of our unemployment rates.\n",
    "\n",
    "This results in an *Equal Interval Data Classification*. \n"
   ]
  },
  {
   "cell_type": "code",
   "execution_count": 279,
   "metadata": {
    "scrolled": true
   },
   "outputs": [],
   "source": [
    "m_europe_eq_intervals = folium.Map(location = berlin_coord, zoom_start = 3.4)\n",
    "\n",
    "m_europe_eq_intervals.choropleth(\n",
    "    geo_data = final_json_europe,\n",
    "    data = df_EU_2016,\n",
    "    topojson = 'objects.europe',\n",
    "    columns = ['Country', '2016'],\n",
    "    key_on = 'feature.properties.NAME',\n",
    "    fill_color='YlOrRd',\n",
    "    legend_name='Unemployment Rate in Europe in 2016 (%) - Equal intervals'\n",
    ")\n",
    "m_europe_eq_intervals.save(\"m_europe_eq_intervals.html\")"
   ]
  },
  {
   "cell_type": "markdown",
   "metadata": {},
   "source": [
    "**Visualize the map** : [Click here](https://hilefebvre.github.io/m_europe_eq_intervals.html)"
   ]
  },
  {
   "cell_type": "markdown",
   "metadata": {},
   "source": [
    "First of all, some countries are present in our TopoJSON, which means they are drawn on our map, but we don't have their corresponding rate values. This is the case of Switzerland that we previously removed. \n",
    "\n",
    "Here, we can see that through our dataset, the unemployment rate is between 3.0 and 24.0 (3.0 and 23.6 to be precise). Thus, the pallette goes between those two values. However, we have a majority of country with light colors. The choice of Equals intervals might not me the best one, as some classes might be a lot more populated than others.\n",
    "\n",
    "Before choosing which data classification mode might be more appropriate in our case, we look at the repartition of the unemployment rate. "
   ]
  },
  {
   "cell_type": "code",
   "execution_count": 280,
   "metadata": {
    "scrolled": false
   },
   "outputs": [
    {
     "data": {
      "text/plain": [
       "<matplotlib.text.Text at 0x12d3b50b8>"
      ]
     },
     "execution_count": 280,
     "metadata": {},
     "output_type": "execute_result"
    },
    {
     "data": {
      "image/png": "[encoded data removed]",
      "text/plain": [
       "<matplotlib.figure.Figure at 0x12ba92748>"
      ]
     },
     "metadata": {},
     "output_type": "display_data"
    }
   ],
   "source": [
    "df_EU_2016 = df_EU_2016.sort_values('2016')\n",
    "\n",
    "ax = plt.figure(figsize = (14,5))\n",
    "g = sns.barplot(x = 'Country', y = \"2016\", data = df_EU_2016[['Country','2016']], color ='Red')\n",
    "g.set_xticklabels(labels = df_EU_2016['Country'], rotation=90)\n",
    "ax.suptitle(\"Unemployment rate per country in 2016 (%)\", fontsize=20, fontweight=\"bold\")"
   ]
  },
  {
   "cell_type": "markdown",
   "metadata": {},
   "source": [
    "What we observe is that the repartition is quite regular, except for two countries, Spain and Greece, that we can consider as two outliers. \n",
    "\n",
    "According to this [webpage](http://gisgeography.com/choropleth-maps-data-classification/), we see that *Natural Breaks Classification* optimizes the variation within a class. What we have especially noticed, is that it takes into account the outliers, that would be classified in a same classe. The repartition among classes would be more heterogenous with this method\n",
    "\n",
    "\n",
    "Let's try the natural breaks classification, then!\n",
    "\n",
    "To do this, we use `pysal` (Python Spatial Analysis Library) to determine our natural breaks. We do it for `k = 6`, to keep the same number of classes as in the equal intervals method."
   ]
  },
  {
   "cell_type": "code",
   "execution_count": 281,
   "metadata": {
    "collapsed": true
   },
   "outputs": [],
   "source": [
    "import pip\n",
    "try: \n",
    "    import pysal \n",
    "except:\n",
    "    install_pysal = pip.main(['install', 'pysal'])\n",
    "    import pysal"
   ]
  },
  {
   "cell_type": "code",
   "execution_count": 282,
   "metadata": {
    "scrolled": true
   },
   "outputs": [],
   "source": [
    "data = df_EU_2016['2016']\n",
    "df_2016_array = np.ndarray([len(data), 1])\n",
    "\n",
    "# Natural breaks input must be an array (n, 1)\n",
    "for i in range(len(data)):\n",
    "    df_2016_array[i,0] = data.values[i]\n",
    "\n",
    "# Compute the natural breaks\n",
    "nb = pysal.Natural_Breaks(df_2016_array, k = 5)\n",
    "\n",
    "# pysal.Natural_Breaks returns only the upper bound. We need to add the first lower one\n",
    "nb_list = nb.bins.tolist()\n",
    "nb_list.insert(0, np.min(data))\n",
    "\n",
    "m_europe_nb = folium.Map(location = berlin_coord, zoom_start = 3.4)\n",
    "m_europe_nb.choropleth(\n",
    "    geo_data = final_json_europe,\n",
    "    data = df_EU_2016,\n",
    "    topojson = 'objects.europe',\n",
    "    columns = ['Country', '2016'],\n",
    "    key_on = 'feature.properties.NAME',\n",
    "    fill_color='YlOrRd',\n",
    "    threshold_scale = nb_list,\n",
    "    legend_name='Unemployment Rate in Europe (%) - Natural breaks intervals'\n",
    ")\n",
    "\n",
    "m_europe_nb.save(\"m_europe_nb.html\")"
   ]
  },
  {
   "cell_type": "markdown",
   "metadata": {},
   "source": [
    "**Visualize the map** : [Click here](https://hilefebvre.github.io/m_europe_nb.html)"
   ]
  },
  {
   "cell_type": "markdown",
   "metadata": {
    "collapsed": true
   },
   "source": [
    "We notice on the above map that southern countries in Europe tend to have higher unemployment rates. \n",
    "\n",
    "Moreover, the natural breaks method shows a map with more constrast between the countries. For example, France was shown in a light color in the first map, which seemed to tell that its unemployment rate is not that high. However, when we take a look at the barplot *Unemployment rate per country in 2016*, we notice that in fact, France is in the upper half of the countries by its unemployment rate. This is easier to understand with the second map using natural breaks.\n",
    "\n"
   ]
  },
  {
   "cell_type": "markdown",
   "metadata": {},
   "source": [
    "------"
   ]
  },
  {
   "cell_type": "markdown",
   "metadata": {},
   "source": [
    "**Question 2:** \n",
    "Go to the amstat website to find a dataset that includes the unemployment rates in Switzerland at a recent date.\n",
    "\n",
    "HINT Go to the details tab to find the raw data you need. If you do not speak French, German or Italian, think of using free translation services to navigate your way through.\n",
    "Use this data to build another Choropleth map, this time showing the unemployment rate at the level of swiss cantons. Again, try to make the map as expressive as possible, and comment on the trends you observe.\n",
    "\n",
    "The Swiss Confederation defines the rates you have just plotted as the number of people looking for a job divided by the size of the active population (scaled by 100). This is surely a valid choice, but as we discussed one could argue for a different categorization.\n",
    "\n",
    "Copy the map you have just created, but this time don't count in your statistics people who already have a job and are looking for a new one. How do your observations change ? You can repeat this with different choices of categories to see how selecting different metrics can lead to different interpretations of the same data."
   ]
  },
  {
   "cell_type": "markdown",
   "metadata": {},
   "source": [
    "**PART 1: Data analysis of unemployement rates (only concerns registered unemployed people)**"
   ]
  },
  {
   "cell_type": "markdown",
   "metadata": {},
   "source": [
    "**1- Loading data on unemployement rates by canton in Switzerland** <br>\n",
    "The following loaded csv file was created through the amstat website https://www.amstat.ch/v2/index.jsp, Details section where we selected the 'Chômeurs et demandeurs d'emploi' folder and then 'Taux de chômage' folder. We are then asked to chose parameters before being given a data file with relative information on the selected parameters. \n",
    "Therefore, to produce this first csv file we chose the following parameters:\n",
    "- Période sous revue sélectionner: 'Mois sous revue'\n",
    "- Indicateurs taux de chômage: 'Taux de chômage'\n",
    "- Indicateurs chômeurs: None\n",
    "- Indicateurs demandeurs d'emploi: None\n",
    "- Caractéristiques géographiques: 'Canton'\n",
    "- Optionnel: Restreindre les données géographiques à un ou plusieurs cantons: None\n",
    "- Autres attributs: None\n",
    "\n",
    "With these parameters, we are given a data file with information on the unemployement rates by canton which represents the number of registered unemployed people divided by the active population numbers, multiplied by 100. <br><br>\n",
    "To read the data correctly, we use the character encoding library **chardet**."
   ]
  },
  {
   "cell_type": "code",
   "execution_count": 283,
   "metadata": {
    "collapsed": true
   },
   "outputs": [],
   "source": [
    "unemployement_rates_file = 'data/unemployement_rate_by_canton_switzerland.csv'\n",
    "\n",
    "with open(unemployement_rates_file, 'rb') as f:\n",
    "    result = chardet.detect(f.read()) \n",
    "\n",
    "unemployement_rates_data = pd.read_csv(unemployement_rates_file, encoding=result['encoding'])"
   ]
  },
  {
   "cell_type": "code",
   "execution_count": 284,
   "metadata": {
    "scrolled": true
   },
   "outputs": [
    {
     "data": {
      "text/html": [
       "<div>\n",
       "<style>\n",
       "    .dataframe thead tr:only-child th {\n",
       "        text-align: right;\n",
       "    }\n",
       "\n",
       "    .dataframe thead th {\n",
       "        text-align: left;\n",
       "    }\n",
       "\n",
       "    .dataframe tbody tr th {\n",
       "        vertical-align: top;\n",
       "    }\n",
       "</style>\n",
       "<table border=\"1\" class=\"dataframe\">\n",
       "  <thead>\n",
       "    <tr style=\"text-align: right;\">\n",
       "      <th></th>\n",
       "      <th>Canton</th>\n",
       "      <th>Mois</th>\n",
       "      <th>Septembre 2017</th>\n",
       "      <th>Total</th>\n",
       "    </tr>\n",
       "  </thead>\n",
       "  <tbody>\n",
       "    <tr>\n",
       "      <th>0</th>\n",
       "      <td></td>\n",
       "      <td>Mesures</td>\n",
       "      <td>Taux de chômage</td>\n",
       "      <td>Taux de chômage</td>\n",
       "    </tr>\n",
       "    <tr>\n",
       "      <th>1</th>\n",
       "      <td>Zurich</td>\n",
       "      <td>NaN</td>\n",
       "      <td>3.3</td>\n",
       "      <td>3.3</td>\n",
       "    </tr>\n",
       "    <tr>\n",
       "      <th>2</th>\n",
       "      <td>Berne</td>\n",
       "      <td>NaN</td>\n",
       "      <td>2.4</td>\n",
       "      <td>2.4</td>\n",
       "    </tr>\n",
       "    <tr>\n",
       "      <th>3</th>\n",
       "      <td>Lucerne</td>\n",
       "      <td>NaN</td>\n",
       "      <td>1.7</td>\n",
       "      <td>1.7</td>\n",
       "    </tr>\n",
       "    <tr>\n",
       "      <th>4</th>\n",
       "      <td>Uri</td>\n",
       "      <td>NaN</td>\n",
       "      <td>0.6</td>\n",
       "      <td>0.6</td>\n",
       "    </tr>\n",
       "  </tbody>\n",
       "</table>\n",
       "</div>"
      ],
      "text/plain": [
       "    Canton     Mois   Septembre 2017            Total\n",
       "0           Mesures  Taux de chômage  Taux de chômage\n",
       "1   Zurich      NaN              3.3              3.3\n",
       "2    Berne      NaN              2.4              2.4\n",
       "3  Lucerne      NaN              1.7              1.7\n",
       "4      Uri      NaN              0.6              0.6"
      ]
     },
     "execution_count": 284,
     "metadata": {},
     "output_type": "execute_result"
    }
   ],
   "source": [
    "unemployement_rates_data.head()"
   ]
  },
  {
   "cell_type": "code",
   "execution_count": 285,
   "metadata": {},
   "outputs": [
    {
     "data": {
      "text/plain": [
       "Canton            object\n",
       "Mois              object\n",
       "Septembre 2017    object\n",
       "Total             object\n",
       "dtype: object"
      ]
     },
     "execution_count": 285,
     "metadata": {},
     "output_type": "execute_result"
    }
   ],
   "source": [
    "unemployement_rates_data.dtypes"
   ]
  },
  {
   "cell_type": "markdown",
   "metadata": {},
   "source": [
    "**2- Unemployement rates data pre processing**\n",
    "- We drop the columns 'Mois' and 'Total' which are not relevant for our analysis.\n",
    "- We also drop the first line of the dataframe which contains the index names of some of the columns (we will rename the columns accordingly afterwards).\n",
    "- After droping the first line, we need to reset the index.\n",
    "- We rename the remaining columns according to what the numbers represent. In that case: the unemployement rates per canton.\n",
    "- We finally have to convert the unemployement rates related column to numeric for our analysis"
   ]
  },
  {
   "cell_type": "code",
   "execution_count": 286,
   "metadata": {
    "collapsed": true
   },
   "outputs": [],
   "source": [
    "unemployement_rates_data.drop(['Mois', 'Total'], axis=1, inplace = True)"
   ]
  },
  {
   "cell_type": "code",
   "execution_count": 287,
   "metadata": {
    "collapsed": true
   },
   "outputs": [],
   "source": [
    "unemployement_rates_data.drop([0,unemployement_rates_data.index.size-1], axis=0, inplace = True)\n",
    "unemployement_rates_data.reset_index(drop = True, inplace = True)"
   ]
  },
  {
   "cell_type": "code",
   "execution_count": 288,
   "metadata": {
    "collapsed": true
   },
   "outputs": [],
   "source": [
    "unemployement_rates_data = unemployement_rates_data.rename(columns={'Septembre 2017' : 'Unemployement rate'})"
   ]
  },
  {
   "cell_type": "code",
   "execution_count": 289,
   "metadata": {
    "scrolled": true
   },
   "outputs": [
    {
     "data": {
      "text/html": [
       "<div>\n",
       "<style>\n",
       "    .dataframe thead tr:only-child th {\n",
       "        text-align: right;\n",
       "    }\n",
       "\n",
       "    .dataframe thead th {\n",
       "        text-align: left;\n",
       "    }\n",
       "\n",
       "    .dataframe tbody tr th {\n",
       "        vertical-align: top;\n",
       "    }\n",
       "</style>\n",
       "<table border=\"1\" class=\"dataframe\">\n",
       "  <thead>\n",
       "    <tr style=\"text-align: right;\">\n",
       "      <th></th>\n",
       "      <th>Canton</th>\n",
       "      <th>Unemployement rate</th>\n",
       "    </tr>\n",
       "  </thead>\n",
       "  <tbody>\n",
       "    <tr>\n",
       "      <th>0</th>\n",
       "      <td>Zurich</td>\n",
       "      <td>3.3</td>\n",
       "    </tr>\n",
       "    <tr>\n",
       "      <th>1</th>\n",
       "      <td>Berne</td>\n",
       "      <td>2.4</td>\n",
       "    </tr>\n",
       "    <tr>\n",
       "      <th>2</th>\n",
       "      <td>Lucerne</td>\n",
       "      <td>1.7</td>\n",
       "    </tr>\n",
       "    <tr>\n",
       "      <th>3</th>\n",
       "      <td>Uri</td>\n",
       "      <td>0.6</td>\n",
       "    </tr>\n",
       "    <tr>\n",
       "      <th>4</th>\n",
       "      <td>Schwyz</td>\n",
       "      <td>1.7</td>\n",
       "    </tr>\n",
       "  </tbody>\n",
       "</table>\n",
       "</div>"
      ],
      "text/plain": [
       "    Canton Unemployement rate\n",
       "0   Zurich                3.3\n",
       "1    Berne                2.4\n",
       "2  Lucerne                1.7\n",
       "3      Uri                0.6\n",
       "4   Schwyz                1.7"
      ]
     },
     "execution_count": 289,
     "metadata": {},
     "output_type": "execute_result"
    }
   ],
   "source": [
    "unemployement_rates_data.head()"
   ]
  },
  {
   "cell_type": "code",
   "execution_count": 290,
   "metadata": {
    "collapsed": true
   },
   "outputs": [],
   "source": [
    "unemployement_rates_data['Unemployement rate'] = pd.to_numeric(unemployement_rates_data['Unemployement rate'])"
   ]
  },
  {
   "cell_type": "markdown",
   "metadata": {},
   "source": [
    "**3- Loading topojson info on swiss cantons' geography**\n",
    "- First, we get the topojson file on swiss cantons' path.\n",
    "- Then, we use the **geopandas** library to read the topojson file and display the information it contains."
   ]
  },
  {
   "cell_type": "code",
   "execution_count": 291,
   "metadata": {
    "collapsed": true
   },
   "outputs": [],
   "source": [
    "canton_geo_path = 'topojson/ch-cantons.topojson.json'"
   ]
  },
  {
   "cell_type": "code",
   "execution_count": 292,
   "metadata": {},
   "outputs": [
    {
     "data": {
      "text/html": [
       "<div>\n",
       "<style>\n",
       "    .dataframe thead tr:only-child th {\n",
       "        text-align: right;\n",
       "    }\n",
       "\n",
       "    .dataframe thead th {\n",
       "        text-align: left;\n",
       "    }\n",
       "\n",
       "    .dataframe tbody tr th {\n",
       "        vertical-align: top;\n",
       "    }\n",
       "</style>\n",
       "<table border=\"1\" class=\"dataframe\">\n",
       "  <thead>\n",
       "    <tr style=\"text-align: right;\">\n",
       "      <th></th>\n",
       "      <th>id</th>\n",
       "      <th>name</th>\n",
       "      <th>geometry</th>\n",
       "    </tr>\n",
       "  </thead>\n",
       "  <tbody>\n",
       "    <tr>\n",
       "      <th>0</th>\n",
       "      <td>ZH</td>\n",
       "      <td>Zürich</td>\n",
       "      <td>POLYGON ((8.807614761476149 47.22089128912891,...</td>\n",
       "    </tr>\n",
       "    <tr>\n",
       "      <th>1</th>\n",
       "      <td>BE</td>\n",
       "      <td>Bern/Berne</td>\n",
       "      <td>(POLYGON ((7.824565256525654 47.2658697869787,...</td>\n",
       "    </tr>\n",
       "    <tr>\n",
       "      <th>2</th>\n",
       "      <td>LU</td>\n",
       "      <td>Luzern</td>\n",
       "      <td>POLYGON ((8.048666066606661 46.78782398239824,...</td>\n",
       "    </tr>\n",
       "    <tr>\n",
       "      <th>3</th>\n",
       "      <td>UR</td>\n",
       "      <td>Uri</td>\n",
       "      <td>POLYGON ((8.934635463546355 46.91997319731973,...</td>\n",
       "    </tr>\n",
       "    <tr>\n",
       "      <th>4</th>\n",
       "      <td>SZ</td>\n",
       "      <td>Schwyz</td>\n",
       "      <td>POLYGON ((8.568997299729974 46.98982918291829,...</td>\n",
       "    </tr>\n",
       "  </tbody>\n",
       "</table>\n",
       "</div>"
      ],
      "text/plain": [
       "   id        name                                           geometry\n",
       "0  ZH      Zürich  POLYGON ((8.807614761476149 47.22089128912891,...\n",
       "1  BE  Bern/Berne  (POLYGON ((7.824565256525654 47.2658697869787,...\n",
       "2  LU      Luzern  POLYGON ((8.048666066606661 46.78782398239824,...\n",
       "3  UR         Uri  POLYGON ((8.934635463546355 46.91997319731973,...\n",
       "4  SZ      Schwyz  POLYGON ((8.568997299729974 46.98982918291829,..."
      ]
     },
     "execution_count": 292,
     "metadata": {},
     "output_type": "execute_result"
    }
   ],
   "source": [
    "canton_geo_df = gpd.read_file(canton_geo_path)\n",
    "canton_geo_df.head()"
   ]
  },
  {
   "cell_type": "markdown",
   "metadata": {},
   "source": [
    "**4- Mapping french swiss cantons names and their german equivalent**<br>\n",
    "From the above printed dataframes we can observe that the cantons' names are not matching because the data from the amstat website retrieve most of the cantons' names in their French version while the topojson file has them mostly written in their German one. Nevertheless, we also see that the order of display of the cantons is the same in both dataframes, so we just have to rely on the index to match the names and display them in one and only language. Arbitrarily, we have chosen the German version. "
   ]
  },
  {
   "cell_type": "code",
   "execution_count": 293,
   "metadata": {
    "collapsed": true
   },
   "outputs": [],
   "source": [
    "unemployement_rates_data.Canton = canton_geo_df.name"
   ]
  },
  {
   "cell_type": "code",
   "execution_count": 294,
   "metadata": {},
   "outputs": [
    {
     "data": {
      "text/plain": [
       "0        Zürich\n",
       "1    Bern/Berne\n",
       "2        Luzern\n",
       "3           Uri\n",
       "4        Schwyz\n",
       "Name: Canton, dtype: object"
      ]
     },
     "execution_count": 294,
     "metadata": {},
     "output_type": "execute_result"
    }
   ],
   "source": [
    "unemployement_rates_data.Canton.head()"
   ]
  },
  {
   "cell_type": "markdown",
   "metadata": {},
   "source": [
    "**5- Merging the unemployement rates data and the topojson information on swiss cantons' geography**<br>\n",
    "We merge the dataframe containg information on the unemployement rates and the geopandas one on the cantons topojson information. To do so, we rely on the name i.e. Cantons' appellation of the dataframes."
   ]
  },
  {
   "cell_type": "code",
   "execution_count": 295,
   "metadata": {
    "collapsed": true
   },
   "outputs": [],
   "source": [
    "merged = canton_geo_df.merge(unemployement_rates_data, left_on='name', right_on='Canton')"
   ]
  },
  {
   "cell_type": "code",
   "execution_count": 296,
   "metadata": {
    "scrolled": false
   },
   "outputs": [
    {
     "data": {
      "text/html": [
       "<div>\n",
       "<style>\n",
       "    .dataframe thead tr:only-child th {\n",
       "        text-align: right;\n",
       "    }\n",
       "\n",
       "    .dataframe thead th {\n",
       "        text-align: left;\n",
       "    }\n",
       "\n",
       "    .dataframe tbody tr th {\n",
       "        vertical-align: top;\n",
       "    }\n",
       "</style>\n",
       "<table border=\"1\" class=\"dataframe\">\n",
       "  <thead>\n",
       "    <tr style=\"text-align: right;\">\n",
       "      <th></th>\n",
       "      <th>id</th>\n",
       "      <th>name</th>\n",
       "      <th>geometry</th>\n",
       "      <th>Canton</th>\n",
       "      <th>Unemployement rate</th>\n",
       "    </tr>\n",
       "  </thead>\n",
       "  <tbody>\n",
       "    <tr>\n",
       "      <th>0</th>\n",
       "      <td>ZH</td>\n",
       "      <td>Zürich</td>\n",
       "      <td>POLYGON ((8.807614761476149 47.22089128912891,...</td>\n",
       "      <td>Zürich</td>\n",
       "      <td>3.3</td>\n",
       "    </tr>\n",
       "    <tr>\n",
       "      <th>1</th>\n",
       "      <td>BE</td>\n",
       "      <td>Bern/Berne</td>\n",
       "      <td>(POLYGON ((7.824565256525654 47.2658697869787,...</td>\n",
       "      <td>Bern/Berne</td>\n",
       "      <td>2.4</td>\n",
       "    </tr>\n",
       "    <tr>\n",
       "      <th>2</th>\n",
       "      <td>LU</td>\n",
       "      <td>Luzern</td>\n",
       "      <td>POLYGON ((8.048666066606661 46.78782398239824,...</td>\n",
       "      <td>Luzern</td>\n",
       "      <td>1.7</td>\n",
       "    </tr>\n",
       "    <tr>\n",
       "      <th>3</th>\n",
       "      <td>UR</td>\n",
       "      <td>Uri</td>\n",
       "      <td>POLYGON ((8.934635463546355 46.91997319731973,...</td>\n",
       "      <td>Uri</td>\n",
       "      <td>0.6</td>\n",
       "    </tr>\n",
       "    <tr>\n",
       "      <th>4</th>\n",
       "      <td>SZ</td>\n",
       "      <td>Schwyz</td>\n",
       "      <td>POLYGON ((8.568997299729974 46.98982918291829,...</td>\n",
       "      <td>Schwyz</td>\n",
       "      <td>1.7</td>\n",
       "    </tr>\n",
       "  </tbody>\n",
       "</table>\n",
       "</div>"
      ],
      "text/plain": [
       "   id        name                                           geometry  \\\n",
       "0  ZH      Zürich  POLYGON ((8.807614761476149 47.22089128912891,...   \n",
       "1  BE  Bern/Berne  (POLYGON ((7.824565256525654 47.2658697869787,...   \n",
       "2  LU      Luzern  POLYGON ((8.048666066606661 46.78782398239824,...   \n",
       "3  UR         Uri  POLYGON ((8.934635463546355 46.91997319731973,...   \n",
       "4  SZ      Schwyz  POLYGON ((8.568997299729974 46.98982918291829,...   \n",
       "\n",
       "       Canton  Unemployement rate  \n",
       "0      Zürich                 3.3  \n",
       "1  Bern/Berne                 2.4  \n",
       "2      Luzern                 1.7  \n",
       "3         Uri                 0.6  \n",
       "4      Schwyz                 1.7  "
      ]
     },
     "execution_count": 296,
     "metadata": {},
     "output_type": "execute_result"
    }
   ],
   "source": [
    "merged.head()"
   ]
  },
  {
   "cell_type": "markdown",
   "metadata": {},
   "source": [
    "**6- Creating a geopandas dataframe with Swiss cantons' names and their respective geometry**<br>\n",
    "After having created this geopandas dataframe, we convert its content to the json type."
   ]
  },
  {
   "cell_type": "code",
   "execution_count": 297,
   "metadata": {
    "collapsed": true
   },
   "outputs": [],
   "source": [
    "canton_geo_gdf = gpd.GeoDataFrame(merged.iloc[:, [1, 2]])"
   ]
  },
  {
   "cell_type": "code",
   "execution_count": 298,
   "metadata": {},
   "outputs": [
    {
     "data": {
      "text/html": [
       "<div>\n",
       "<style>\n",
       "    .dataframe thead tr:only-child th {\n",
       "        text-align: right;\n",
       "    }\n",
       "\n",
       "    .dataframe thead th {\n",
       "        text-align: left;\n",
       "    }\n",
       "\n",
       "    .dataframe tbody tr th {\n",
       "        vertical-align: top;\n",
       "    }\n",
       "</style>\n",
       "<table border=\"1\" class=\"dataframe\">\n",
       "  <thead>\n",
       "    <tr style=\"text-align: right;\">\n",
       "      <th></th>\n",
       "      <th>name</th>\n",
       "      <th>geometry</th>\n",
       "    </tr>\n",
       "  </thead>\n",
       "  <tbody>\n",
       "    <tr>\n",
       "      <th>0</th>\n",
       "      <td>Zürich</td>\n",
       "      <td>POLYGON ((8.807614761476149 47.22089128912891,...</td>\n",
       "    </tr>\n",
       "    <tr>\n",
       "      <th>1</th>\n",
       "      <td>Bern/Berne</td>\n",
       "      <td>(POLYGON ((7.824565256525654 47.2658697869787,...</td>\n",
       "    </tr>\n",
       "    <tr>\n",
       "      <th>2</th>\n",
       "      <td>Luzern</td>\n",
       "      <td>POLYGON ((8.048666066606661 46.78782398239824,...</td>\n",
       "    </tr>\n",
       "    <tr>\n",
       "      <th>3</th>\n",
       "      <td>Uri</td>\n",
       "      <td>POLYGON ((8.934635463546355 46.91997319731973,...</td>\n",
       "    </tr>\n",
       "    <tr>\n",
       "      <th>4</th>\n",
       "      <td>Schwyz</td>\n",
       "      <td>POLYGON ((8.568997299729974 46.98982918291829,...</td>\n",
       "    </tr>\n",
       "  </tbody>\n",
       "</table>\n",
       "</div>"
      ],
      "text/plain": [
       "         name                                           geometry\n",
       "0      Zürich  POLYGON ((8.807614761476149 47.22089128912891,...\n",
       "1  Bern/Berne  (POLYGON ((7.824565256525654 47.2658697869787,...\n",
       "2      Luzern  POLYGON ((8.048666066606661 46.78782398239824,...\n",
       "3         Uri  POLYGON ((8.934635463546355 46.91997319731973,...\n",
       "4      Schwyz  POLYGON ((8.568997299729974 46.98982918291829,..."
      ]
     },
     "execution_count": 298,
     "metadata": {},
     "output_type": "execute_result"
    }
   ],
   "source": [
    "canton_geo_gdf.head()"
   ]
  },
  {
   "cell_type": "code",
   "execution_count": 299,
   "metadata": {
    "collapsed": true
   },
   "outputs": [],
   "source": [
    "canton_geo_to_json = canton_geo_gdf.to_json()"
   ]
  },
  {
   "cell_type": "markdown",
   "metadata": {},
   "source": [
    "**7- Creating pop up windows for interactive unemployement rates information on the map**<br>\n",
    "Indeed, we want the map to be as interactive as possible and make the information retrieved from the amstat website easy to reach and visible. To do so, we will make use of pop up windows which will relate information on the canton's name and its related unemployement rate.<br>\n",
    "- First, we create a list of texts which contains the name and unemployement rate strings for each canton.\n",
    "- Secondly, we create the pop up objects delimited by the respective geometry of each canton."
   ]
  },
  {
   "cell_type": "code",
   "execution_count": 300,
   "metadata": {
    "collapsed": true
   },
   "outputs": [],
   "source": [
    "text = []\n",
    "for i in range(unemployement_rates_data.index.size):\n",
    "    text.append(unemployement_rates_data.Canton[i] +  '<br>' + \n",
    "                'Unemployement rate: ' + str(unemployement_rates_data['Unemployement rate'].loc[i]) + '%')"
   ]
  },
  {
   "cell_type": "code",
   "execution_count": 301,
   "metadata": {
    "collapsed": true
   },
   "outputs": [],
   "source": [
    "from shapely.geometry import Polygon, mapping\n",
    "list_geo=[]\n",
    "gj=[]\n",
    "for i in range(canton_geo_gdf.index.size):\n",
    "     list_geo.append(mapping(canton_geo_gdf['geometry'].loc[i]))\n",
    "     gj.append(folium.GeoJson(list_geo[i], style_function=lambda feature: {\n",
    "        'opacity' : 0.7 , 'fillColor': '#FFFFFFFF', 'color' : 'blue'\n",
    "        }))"
   ]
  },
  {
   "cell_type": "markdown",
   "metadata": {},
   "source": [
    "**8- Creating choropleth map to display Swiss cantons' unemployement rates information**<br>\n",
    "- We have chosen the coordinates of the middle of Switzerland to center our map. \n",
    "- Then, we initialize our map with these coordinates and make it a choropleth map with the topojson information converted to json in the previous steps after pre processing of the Cantons' names and we use the data on unemployement rates to be displayed accordingly. We use a Yellow (low unemployement rate) to Green (high unemployement rate) sequential color which is by default divided into 6 equal intervals in the range of our unemployement rates values by folium. \n",
    "- Finally, we add the above created information strings into the pop up windows before displaying the choropleth map. "
   ]
  },
  {
   "cell_type": "code",
   "execution_count": 302,
   "metadata": {
    "collapsed": true
   },
   "outputs": [],
   "source": [
    "middle_of_switzerland_coord = [46.801111, 8.226667]"
   ]
  },
  {
   "cell_type": "code",
   "execution_count": 303,
   "metadata": {
    "collapsed": true
   },
   "outputs": [],
   "source": [
    "swiss_map_unemployement_rates = folium.Map(middle_of_switzerland_coord, tiles='cartodbpositron', zoom_start = 8)"
   ]
  },
  {
   "cell_type": "code",
   "execution_count": 304,
   "metadata": {
    "collapsed": true
   },
   "outputs": [],
   "source": [
    "swiss_map_unemployement_rates.choropleth(geo_data=canton_geo_to_json,\n",
    "              data=unemployement_rates_data, columns=['Canton', 'Unemployement rate'],\n",
    "                     key_on='feature.properties.name', fill_color='YlGn', fill_opacity=1, line_opacity=0.2,\n",
    "             legend_name='Unemployment Rate (%)')"
   ]
  },
  {
   "cell_type": "code",
   "execution_count": 305,
   "metadata": {
    "collapsed": true
   },
   "outputs": [],
   "source": [
    "for i in range(canton_geo_df.index.size):\n",
    "    gj[i].add_child(folium.Popup(text[i]))\n",
    "    gj[i].add_to(swiss_map_unemployement_rates)"
   ]
  },
  {
   "cell_type": "markdown",
   "metadata": {},
   "source": [
    "**Visualize map here** : [Click here](https://hilefebvre.github.io/swiss_map_unemployement_rates.html)"
   ]
  },
  {
   "cell_type": "markdown",
   "metadata": {},
   "source": [
    "**10- We save the above map to an html adress. In that case: ...**"
   ]
  },
  {
   "cell_type": "code",
   "execution_count": 306,
   "metadata": {
    "collapsed": true
   },
   "outputs": [],
   "source": [
    "swiss_map_unemployement_rates.save('unemployement_rates_by_canton.html')"
   ]
  },
  {
   "cell_type": "markdown",
   "metadata": {},
   "source": [
    "**11- Histogram of unemployements rates by canton**<br>\n",
    "Before ending our analysis on unemployement rates by canton we also display an histogram to have another view of these rates according to the different cantons. To do so, we sort the values of unemployement rates in ascending order and display them afterwards."
   ]
  },
  {
   "cell_type": "code",
   "execution_count": 307,
   "metadata": {},
   "outputs": [
    {
     "data": {
      "text/plain": [
       "<matplotlib.text.Text at 0x129498208>"
      ]
     },
     "execution_count": 307,
     "metadata": {},
     "output_type": "execute_result"
    },
    {
     "data": {
      "image/png": "[encoded data removed]",
      "text/plain": [
       "<matplotlib.figure.Figure at 0x129498080>"
      ]
     },
     "metadata": {},
     "output_type": "display_data"
    }
   ],
   "source": [
    "unemployement_rates_data_sorted = unemployement_rates_data.sort_values('Unemployement rate')\n",
    "ax = plt.figure(figsize = (14,5))\n",
    "g = sns.barplot(x = 'Canton', y = 'Unemployement rate', data = unemployement_rates_data_sorted[['Canton','Unemployement rate']], color ='Red')\n",
    "g.set_xticklabels(labels = unemployement_rates_data_sorted['Canton'], rotation=90)\n",
    "ax.suptitle(\"Unemployment rates per canton in September 2017 (%)\", fontsize=20, fontweight=\"bold\")"
   ]
  },
  {
   "cell_type": "markdown",
   "metadata": {},
   "source": [
    "With this first analysis, it is not trivial to draw a lot of trends in the repartition of unemployement in Switzerland. Nevertheless, we see that the rates are higher in the cantons bordering France and Germany, maybe because French and German people use their geographic position to work in Switzerland, make a lot of money and still Swiss people jobs. However, in the middle and in the east of Siwtzerland the rates are quiet low."
   ]
  },
  {
   "cell_type": "markdown",
   "metadata": {},
   "source": [
    "**PART 2: Data analysis of jobseekers rates and employed jobseekers rates**\n"
   ]
  },
  {
   "cell_type": "markdown",
   "metadata": {},
   "source": [
    "**1- Loading data on jobseekers and employed jobseekers numbers by canton in Switzerland** <br>\n",
    "The following loaded csv file was created through the amstat website https://www.amstat.ch/v2/index.jsp, Details section where we selected the 'Chômeurs et demandeurs d'emploi' folder and then 'Taux de chômage' folder. We are then asked to chose parameters before being given a data file with relative information on the selected parameters. \n",
    "Therefore, to produce this second csv file we chose the following parameters:\n",
    "- Période sous revue sélectionner: 'Mois sous revue'\n",
    "- Indicateurs taux de chômage: 'Taux de chômage'\n",
    "- Indicateurs chômeurs: 'Chômeurs inscrits'\n",
    "- Indicateurs demandeurs d'emploi: 'Demandeurs d'emploi', 'Demandeurs d'emploi non chômeurs'\n",
    "- Caractéristiques géographiques: 'Canton'\n",
    "- Optionnel: Restreindre les données géographiques à un ou plusieurs cantons: None\n",
    "- Autres attributs: None\n",
    "\n",
    "With these parameters, we are given a data file with information on the unemployement rates by canton which represents the number of unemployed people divided by the active population numbers, multiplied by 100. But we also have the numbers of unemployed people, jobseekers and employed jobseekers. Note that the jobseekers numbers are the sum of unemployed people and employed jobseekers.<br><br>\n",
    "To read the data correctly, we use the character encoding library **chardet**."
   ]
  },
  {
   "cell_type": "code",
   "execution_count": 308,
   "metadata": {
    "collapsed": true
   },
   "outputs": [],
   "source": [
    "unemployement_numbers_file = 'data/unemployement_numbers.csv'\n",
    "\n",
    "with open(unemployement_numbers_file, 'rb') as f2:\n",
    "    result2 = chardet.detect(f2.read()) \n",
    "\n",
    "unemployement_numbers_data = pd.read_csv(unemployement_numbers_file, encoding=result['encoding'])"
   ]
  },
  {
   "cell_type": "code",
   "execution_count": 309,
   "metadata": {},
   "outputs": [
    {
     "data": {
      "text/html": [
       "<div>\n",
       "<style>\n",
       "    .dataframe thead tr:only-child th {\n",
       "        text-align: right;\n",
       "    }\n",
       "\n",
       "    .dataframe thead th {\n",
       "        text-align: left;\n",
       "    }\n",
       "\n",
       "    .dataframe tbody tr th {\n",
       "        vertical-align: top;\n",
       "    }\n",
       "</style>\n",
       "<table border=\"1\" class=\"dataframe\">\n",
       "  <thead>\n",
       "    <tr style=\"text-align: right;\">\n",
       "      <th></th>\n",
       "      <th>Canton</th>\n",
       "      <th>Mois</th>\n",
       "      <th>Septembre 2017</th>\n",
       "      <th>Septembre 2017.1</th>\n",
       "      <th>Septembre 2017.2</th>\n",
       "      <th>Septembre 2017.3</th>\n",
       "      <th>Total</th>\n",
       "      <th>Total.1</th>\n",
       "      <th>Total.2</th>\n",
       "      <th>Total.3</th>\n",
       "    </tr>\n",
       "  </thead>\n",
       "  <tbody>\n",
       "    <tr>\n",
       "      <th>0</th>\n",
       "      <td></td>\n",
       "      <td>Mesures</td>\n",
       "      <td>Taux de chômage</td>\n",
       "      <td>Chômeurs inscrits</td>\n",
       "      <td>Demandeurs d'emploi</td>\n",
       "      <td>Demandeurs d'emploi non chômeurs</td>\n",
       "      <td>Taux de chômage</td>\n",
       "      <td>Chômeurs inscrits</td>\n",
       "      <td>Demandeurs d'emploi</td>\n",
       "      <td>Demandeurs d'emploi non chômeurs</td>\n",
       "    </tr>\n",
       "    <tr>\n",
       "      <th>1</th>\n",
       "      <td>Zurich</td>\n",
       "      <td>NaN</td>\n",
       "      <td>3.3</td>\n",
       "      <td>27'225</td>\n",
       "      <td>34'156</td>\n",
       "      <td>6'931</td>\n",
       "      <td>3.3</td>\n",
       "      <td>27'225</td>\n",
       "      <td>34'156</td>\n",
       "      <td>6'931</td>\n",
       "    </tr>\n",
       "    <tr>\n",
       "      <th>2</th>\n",
       "      <td>Berne</td>\n",
       "      <td>NaN</td>\n",
       "      <td>2.4</td>\n",
       "      <td>13'658</td>\n",
       "      <td>18'385</td>\n",
       "      <td>4'727</td>\n",
       "      <td>2.4</td>\n",
       "      <td>13'658</td>\n",
       "      <td>18'385</td>\n",
       "      <td>4'727</td>\n",
       "    </tr>\n",
       "    <tr>\n",
       "      <th>3</th>\n",
       "      <td>Lucerne</td>\n",
       "      <td>NaN</td>\n",
       "      <td>1.7</td>\n",
       "      <td>3'885</td>\n",
       "      <td>6'756</td>\n",
       "      <td>2'871</td>\n",
       "      <td>1.7</td>\n",
       "      <td>3'885</td>\n",
       "      <td>6'756</td>\n",
       "      <td>2'871</td>\n",
       "    </tr>\n",
       "    <tr>\n",
       "      <th>4</th>\n",
       "      <td>Uri</td>\n",
       "      <td>NaN</td>\n",
       "      <td>0.6</td>\n",
       "      <td>112</td>\n",
       "      <td>257</td>\n",
       "      <td>145</td>\n",
       "      <td>0.6</td>\n",
       "      <td>112</td>\n",
       "      <td>257</td>\n",
       "      <td>145</td>\n",
       "    </tr>\n",
       "  </tbody>\n",
       "</table>\n",
       "</div>"
      ],
      "text/plain": [
       "    Canton     Mois   Septembre 2017   Septembre 2017.1     Septembre 2017.2  \\\n",
       "0           Mesures  Taux de chômage  Chômeurs inscrits  Demandeurs d'emploi   \n",
       "1   Zurich      NaN              3.3             27'225               34'156   \n",
       "2    Berne      NaN              2.4             13'658               18'385   \n",
       "3  Lucerne      NaN              1.7              3'885                6'756   \n",
       "4      Uri      NaN              0.6                112                  257   \n",
       "\n",
       "                   Septembre 2017.3            Total            Total.1  \\\n",
       "0  Demandeurs d'emploi non chômeurs  Taux de chômage  Chômeurs inscrits   \n",
       "1                             6'931              3.3             27'225   \n",
       "2                             4'727              2.4             13'658   \n",
       "3                             2'871              1.7              3'885   \n",
       "4                               145              0.6                112   \n",
       "\n",
       "               Total.2                           Total.3  \n",
       "0  Demandeurs d'emploi  Demandeurs d'emploi non chômeurs  \n",
       "1               34'156                             6'931  \n",
       "2               18'385                             4'727  \n",
       "3                6'756                             2'871  \n",
       "4                  257                               145  "
      ]
     },
     "execution_count": 309,
     "metadata": {},
     "output_type": "execute_result"
    }
   ],
   "source": [
    "unemployement_numbers_data.head()"
   ]
  },
  {
   "cell_type": "markdown",
   "metadata": {},
   "source": [
    "**2- Jobseekers and employed jobseekers data pre processing**\n",
    "- We drop the columns 'Mois' and the ones containing the word 'Total' which are not relevant for our analysis.\n",
    "- We also drop the first line of the dataframe which contains the index names of some of the columns (we will rename the columns accordingly afterwards).\n",
    "- After droping the first line, we need to reset the index.\n",
    "- We rename the remaining columns according to what the numbers represent. In that case: the unemployement rates per canton, the unemployed people, the jobseekers and the employed jobseekers.\n",
    "- We finally remove the ' character in the numbers of above last three mentioned columns and convert them to numeric for our analysis."
   ]
  },
  {
   "cell_type": "code",
   "execution_count": 310,
   "metadata": {
    "collapsed": true
   },
   "outputs": [],
   "source": [
    "unemployement_numbers_data.drop(['Mois'], axis=1, inplace = True)\n",
    "unemployement_numbers_data = unemployement_numbers_data[unemployement_numbers_data.columns.drop(list(unemployement_numbers_data.filter(regex='Total')))]"
   ]
  },
  {
   "cell_type": "code",
   "execution_count": 311,
   "metadata": {
    "collapsed": true
   },
   "outputs": [],
   "source": [
    "unemployement_numbers_data.drop([0,unemployement_numbers_data.index.size-1], axis=0, inplace = True)\n",
    "unemployement_numbers_data.reset_index(drop = True, inplace = True)"
   ]
  },
  {
   "cell_type": "code",
   "execution_count": 312,
   "metadata": {},
   "outputs": [
    {
     "data": {
      "text/plain": [
       "Canton              object\n",
       "Septembre 2017      object\n",
       "Septembre 2017.1    object\n",
       "Septembre 2017.2    object\n",
       "Septembre 2017.3    object\n",
       "dtype: object"
      ]
     },
     "execution_count": 312,
     "metadata": {},
     "output_type": "execute_result"
    }
   ],
   "source": [
    "unemployement_numbers_data.dtypes"
   ]
  },
  {
   "cell_type": "code",
   "execution_count": 313,
   "metadata": {
    "collapsed": true
   },
   "outputs": [],
   "source": [
    "unemployement_numbers_data = unemployement_numbers_data.rename(columns={'Septembre 2017' : 'Unemployement rate', \n",
    "                                                                    'Septembre 2017.1' : 'Unemployed',\n",
    "                                                                    'Septembre 2017.2' : 'Jobseekers',\n",
    "                                                                    'Septembre 2017.3' : 'Employed jobseekers'})"
   ]
  },
  {
   "cell_type": "code",
   "execution_count": 314,
   "metadata": {
    "collapsed": true
   },
   "outputs": [],
   "source": [
    "unemployement_numbers_data['Unemployed'] = unemployement_numbers_data['Unemployed'].str.replace(\"'\",'')"
   ]
  },
  {
   "cell_type": "code",
   "execution_count": 315,
   "metadata": {
    "collapsed": true
   },
   "outputs": [],
   "source": [
    "unemployement_numbers_data['Jobseekers'] = unemployement_numbers_data['Jobseekers'].str.replace(\"'\",'')"
   ]
  },
  {
   "cell_type": "code",
   "execution_count": 316,
   "metadata": {
    "collapsed": true
   },
   "outputs": [],
   "source": [
    "unemployement_numbers_data['Employed jobseekers'] = unemployement_numbers_data['Employed jobseekers'].str.replace(\"'\",'')"
   ]
  },
  {
   "cell_type": "code",
   "execution_count": 317,
   "metadata": {
    "collapsed": true
   },
   "outputs": [],
   "source": [
    "unemployement_numbers_data['Unemployement rate'] = pd.to_numeric(unemployement_numbers_data['Unemployement rate'])\n",
    "unemployement_numbers_data['Unemployed'] = pd.to_numeric(unemployement_numbers_data['Unemployed'])\n",
    "unemployement_numbers_data['Jobseekers'] = pd.to_numeric(unemployement_numbers_data['Jobseekers'])\n",
    "unemployement_numbers_data['Employed jobseekers'] = pd.to_numeric(unemployement_numbers_data['Employed jobseekers'])"
   ]
  },
  {
   "cell_type": "code",
   "execution_count": 318,
   "metadata": {},
   "outputs": [
    {
     "data": {
      "text/html": [
       "<div>\n",
       "<style>\n",
       "    .dataframe thead tr:only-child th {\n",
       "        text-align: right;\n",
       "    }\n",
       "\n",
       "    .dataframe thead th {\n",
       "        text-align: left;\n",
       "    }\n",
       "\n",
       "    .dataframe tbody tr th {\n",
       "        vertical-align: top;\n",
       "    }\n",
       "</style>\n",
       "<table border=\"1\" class=\"dataframe\">\n",
       "  <thead>\n",
       "    <tr style=\"text-align: right;\">\n",
       "      <th></th>\n",
       "      <th>Canton</th>\n",
       "      <th>Unemployement rate</th>\n",
       "      <th>Unemployed</th>\n",
       "      <th>Jobseekers</th>\n",
       "      <th>Employed jobseekers</th>\n",
       "    </tr>\n",
       "  </thead>\n",
       "  <tbody>\n",
       "    <tr>\n",
       "      <th>0</th>\n",
       "      <td>Zurich</td>\n",
       "      <td>3.3</td>\n",
       "      <td>27225</td>\n",
       "      <td>34156</td>\n",
       "      <td>6931</td>\n",
       "    </tr>\n",
       "    <tr>\n",
       "      <th>1</th>\n",
       "      <td>Berne</td>\n",
       "      <td>2.4</td>\n",
       "      <td>13658</td>\n",
       "      <td>18385</td>\n",
       "      <td>4727</td>\n",
       "    </tr>\n",
       "    <tr>\n",
       "      <th>2</th>\n",
       "      <td>Lucerne</td>\n",
       "      <td>1.7</td>\n",
       "      <td>3885</td>\n",
       "      <td>6756</td>\n",
       "      <td>2871</td>\n",
       "    </tr>\n",
       "    <tr>\n",
       "      <th>3</th>\n",
       "      <td>Uri</td>\n",
       "      <td>0.6</td>\n",
       "      <td>112</td>\n",
       "      <td>257</td>\n",
       "      <td>145</td>\n",
       "    </tr>\n",
       "    <tr>\n",
       "      <th>4</th>\n",
       "      <td>Schwyz</td>\n",
       "      <td>1.7</td>\n",
       "      <td>1455</td>\n",
       "      <td>2229</td>\n",
       "      <td>774</td>\n",
       "    </tr>\n",
       "  </tbody>\n",
       "</table>\n",
       "</div>"
      ],
      "text/plain": [
       "    Canton  Unemployement rate  Unemployed  Jobseekers  Employed jobseekers\n",
       "0   Zurich                 3.3       27225       34156                 6931\n",
       "1    Berne                 2.4       13658       18385                 4727\n",
       "2  Lucerne                 1.7        3885        6756                 2871\n",
       "3      Uri                 0.6         112         257                  145\n",
       "4   Schwyz                 1.7        1455        2229                  774"
      ]
     },
     "execution_count": 318,
     "metadata": {},
     "output_type": "execute_result"
    }
   ],
   "source": [
    "unemployement_numbers_data.head()"
   ]
  },
  {
   "cell_type": "markdown",
   "metadata": {},
   "source": [
    "**3- Calculating the active population for each canton and the jobseekers and employed jobseekers rates**<br>\n",
    "We are interested in calucating and analyzing the rates for different metrics but in this case we have numbers. \n",
    "We know that the way to calculate the unemployement rate is done in the following way:<br><br>\n",
    "*Unemployement rate = Number of unemployed people / Number of active population x 100* <br><br>\n",
    "Thus, to retrieve the rates for registered jobseekers and registered employed jobseekers we will have to do the follwing operations:<br><br>\n",
    "*Jobseekers rate = Number of jobseekers / Number of active population x 100* <br>\n",
    "*Employed jobseekers rate = Number of employed jobseekers / Number of active population x 100* <br><br>\n",
    "The only missing value is the active population which we can retrieve from the first operation: <br><br>\n",
    "*Number of active population = Number of unemployed people / Unemployement rate x 100*"
   ]
  },
  {
   "cell_type": "code",
   "execution_count": 319,
   "metadata": {
    "collapsed": true
   },
   "outputs": [],
   "source": [
    "unemployement_numbers_data['Active population'] = round(unemployement_numbers_data['Unemployed'] * 100 / unemployement_numbers_data['Unemployement rate'])"
   ]
  },
  {
   "cell_type": "code",
   "execution_count": 320,
   "metadata": {
    "collapsed": true
   },
   "outputs": [],
   "source": [
    "unemployement_numbers_data['Jobseekers rate'] = round(unemployement_numbers_data['Jobseekers'] * 100 / unemployement_numbers_data['Active population'],1)"
   ]
  },
  {
   "cell_type": "code",
   "execution_count": 321,
   "metadata": {
    "collapsed": true
   },
   "outputs": [],
   "source": [
    "unemployement_numbers_data['Employed jobseekers rate'] = round(unemployement_numbers_data['Employed jobseekers'] * 100 / unemployement_numbers_data['Active population'],1)"
   ]
  },
  {
   "cell_type": "code",
   "execution_count": 322,
   "metadata": {},
   "outputs": [
    {
     "data": {
      "text/html": [
       "<div>\n",
       "<style>\n",
       "    .dataframe thead tr:only-child th {\n",
       "        text-align: right;\n",
       "    }\n",
       "\n",
       "    .dataframe thead th {\n",
       "        text-align: left;\n",
       "    }\n",
       "\n",
       "    .dataframe tbody tr th {\n",
       "        vertical-align: top;\n",
       "    }\n",
       "</style>\n",
       "<table border=\"1\" class=\"dataframe\">\n",
       "  <thead>\n",
       "    <tr style=\"text-align: right;\">\n",
       "      <th></th>\n",
       "      <th>Canton</th>\n",
       "      <th>Unemployement rate</th>\n",
       "      <th>Unemployed</th>\n",
       "      <th>Jobseekers</th>\n",
       "      <th>Employed jobseekers</th>\n",
       "      <th>Active population</th>\n",
       "      <th>Jobseekers rate</th>\n",
       "      <th>Employed jobseekers rate</th>\n",
       "    </tr>\n",
       "  </thead>\n",
       "  <tbody>\n",
       "    <tr>\n",
       "      <th>0</th>\n",
       "      <td>Zurich</td>\n",
       "      <td>3.3</td>\n",
       "      <td>27225</td>\n",
       "      <td>34156</td>\n",
       "      <td>6931</td>\n",
       "      <td>825000.0</td>\n",
       "      <td>4.1</td>\n",
       "      <td>0.8</td>\n",
       "    </tr>\n",
       "    <tr>\n",
       "      <th>1</th>\n",
       "      <td>Berne</td>\n",
       "      <td>2.4</td>\n",
       "      <td>13658</td>\n",
       "      <td>18385</td>\n",
       "      <td>4727</td>\n",
       "      <td>569083.0</td>\n",
       "      <td>3.2</td>\n",
       "      <td>0.8</td>\n",
       "    </tr>\n",
       "    <tr>\n",
       "      <th>2</th>\n",
       "      <td>Lucerne</td>\n",
       "      <td>1.7</td>\n",
       "      <td>3885</td>\n",
       "      <td>6756</td>\n",
       "      <td>2871</td>\n",
       "      <td>228529.0</td>\n",
       "      <td>3.0</td>\n",
       "      <td>1.3</td>\n",
       "    </tr>\n",
       "    <tr>\n",
       "      <th>3</th>\n",
       "      <td>Uri</td>\n",
       "      <td>0.6</td>\n",
       "      <td>112</td>\n",
       "      <td>257</td>\n",
       "      <td>145</td>\n",
       "      <td>18667.0</td>\n",
       "      <td>1.4</td>\n",
       "      <td>0.8</td>\n",
       "    </tr>\n",
       "    <tr>\n",
       "      <th>4</th>\n",
       "      <td>Schwyz</td>\n",
       "      <td>1.7</td>\n",
       "      <td>1455</td>\n",
       "      <td>2229</td>\n",
       "      <td>774</td>\n",
       "      <td>85588.0</td>\n",
       "      <td>2.6</td>\n",
       "      <td>0.9</td>\n",
       "    </tr>\n",
       "  </tbody>\n",
       "</table>\n",
       "</div>"
      ],
      "text/plain": [
       "    Canton  Unemployement rate  Unemployed  Jobseekers  Employed jobseekers  \\\n",
       "0   Zurich                 3.3       27225       34156                 6931   \n",
       "1    Berne                 2.4       13658       18385                 4727   \n",
       "2  Lucerne                 1.7        3885        6756                 2871   \n",
       "3      Uri                 0.6         112         257                  145   \n",
       "4   Schwyz                 1.7        1455        2229                  774   \n",
       "\n",
       "   Active population  Jobseekers rate  Employed jobseekers rate  \n",
       "0           825000.0              4.1                       0.8  \n",
       "1           569083.0              3.2                       0.8  \n",
       "2           228529.0              3.0                       1.3  \n",
       "3            18667.0              1.4                       0.8  \n",
       "4            85588.0              2.6                       0.9  "
      ]
     },
     "execution_count": 322,
     "metadata": {},
     "output_type": "execute_result"
    }
   ],
   "source": [
    "unemployement_numbers_data.head()"
   ]
  },
  {
   "cell_type": "markdown",
   "metadata": {},
   "source": [
    "**4- We create two separate dataframes one with jobseekers rates and the other with employed jobseekers rates**<br>\n",
    "For both of them, we rename the canton's names with the ones from the topojson file."
   ]
  },
  {
   "cell_type": "code",
   "execution_count": 323,
   "metadata": {
    "collapsed": true
   },
   "outputs": [],
   "source": [
    "columns = ['Canton','Jobseekers rate']\n",
    "jobseekers_rates_data = unemployement_numbers_data[columns]"
   ]
  },
  {
   "cell_type": "code",
   "execution_count": 324,
   "metadata": {
    "collapsed": true
   },
   "outputs": [],
   "source": [
    "columns = ['Canton','Employed jobseekers rate']\n",
    "employed_jobseekers_rates_data = unemployement_numbers_data[columns]"
   ]
  },
  {
   "cell_type": "code",
   "execution_count": 325,
   "metadata": {},
   "outputs": [
    {
     "name": "stderr",
     "output_type": "stream",
     "text": [
      "/Users/Hippo/anaconda/lib/python3.6/site-packages/pandas/core/generic.py:2999: SettingWithCopyWarning: \n",
      "A value is trying to be set on a copy of a slice from a DataFrame.\n",
      "Try using .loc[row_indexer,col_indexer] = value instead\n",
      "\n",
      "See the caveats in the documentation: http://pandas.pydata.org/pandas-docs/stable/indexing.html#indexing-view-versus-copy\n",
      "  self[name] = value\n"
     ]
    }
   ],
   "source": [
    "jobseekers_rates_data.Canton = canton_geo_df.name"
   ]
  },
  {
   "cell_type": "code",
   "execution_count": 326,
   "metadata": {},
   "outputs": [
    {
     "name": "stderr",
     "output_type": "stream",
     "text": [
      "/Users/Hippo/anaconda/lib/python3.6/site-packages/pandas/core/generic.py:2999: SettingWithCopyWarning: \n",
      "A value is trying to be set on a copy of a slice from a DataFrame.\n",
      "Try using .loc[row_indexer,col_indexer] = value instead\n",
      "\n",
      "See the caveats in the documentation: http://pandas.pydata.org/pandas-docs/stable/indexing.html#indexing-view-versus-copy\n",
      "  self[name] = value\n"
     ]
    }
   ],
   "source": [
    "employed_jobseekers_rates_data.Canton = canton_geo_df.name"
   ]
  },
  {
   "cell_type": "markdown",
   "metadata": {},
   "source": [
    "**5- Jobseekers rates analysis**<br>\n",
    "In the same way we have done it with the unemployement rates we create a choropleth map to display Swiss cantons' jobseekers rates information\n",
    "- We have chosen the coordinates of the middle of Switzerland to center our map. \n",
    "- Then, we initialize our map with these coordinates and make it a choropleth map with the topojson information converted to json in the previous steps after pre processing of the Cantons' names and we use the data on jobseekers rates to be displayed accordingly. We use a Yellow (low jobseekers rate) to Green (high jobseekers rate) sequential color which is by default divided into 6 equal intervals in the range of our jobseekers rates values by folium. \n",
    "- Finally, we create again strings for each canton to display info on the rates in pop ups windows."
   ]
  },
  {
   "cell_type": "code",
   "execution_count": 327,
   "metadata": {
    "collapsed": true
   },
   "outputs": [],
   "source": [
    "swiss_map_jobseekers_rates = folium.Map(middle_of_switzerland_coord, tiles='cartodbpositron', zoom_start = 8)\n",
    "swiss_map_jobseekers_rates.choropleth(geo_data=canton_geo_to_json,\n",
    "              data=jobseekers_rates_data, columns=['Canton', 'Jobseekers rate'],\n",
    "                     key_on='feature.properties.name', fill_color='YlGn', fill_opacity=1, line_opacity=0.2,\n",
    "             legend_name='Jobseeekers Rate (%)')"
   ]
  },
  {
   "cell_type": "code",
   "execution_count": 328,
   "metadata": {
    "collapsed": true
   },
   "outputs": [],
   "source": [
    "text2 = []\n",
    "for i in range(jobseekers_rates_data.index.size):\n",
    "    text2.append(jobseekers_rates_data.Canton[i] +  '<br>' + \n",
    "                'Jobseekers rate: ' + str(jobseekers_rates_data['Jobseekers rate'].loc[i]) + '%')"
   ]
  },
  {
   "cell_type": "code",
   "execution_count": 329,
   "metadata": {
    "collapsed": true
   },
   "outputs": [],
   "source": [
    "list_geo=[]\n",
    "gj=[]\n",
    "for i in range(canton_geo_gdf.index.size):\n",
    "     list_geo.append(mapping(canton_geo_gdf['geometry'].loc[i]))\n",
    "     gj.append(folium.GeoJson(list_geo[i], style_function=lambda feature: {\n",
    "        'opacity' : 0.7 , 'fillColor': '#FFFFFFFF', 'color' : 'blue'\n",
    "        }))"
   ]
  },
  {
   "cell_type": "code",
   "execution_count": 330,
   "metadata": {
    "collapsed": true
   },
   "outputs": [],
   "source": [
    "for i in range(canton_geo_df.index.size):\n",
    "    gj[i].add_child(folium.Popup(text2[i]))\n",
    "    gj[i].add_to(swiss_map_jobseekers_rates)"
   ]
  },
  {
   "cell_type": "code",
   "execution_count": 331,
   "metadata": {},
   "outputs": [],
   "source": [
    "swiss_map_jobseekers_rates.save(\"swiss_map_jobseekers_rates.html\")"
   ]
  },
  {
   "cell_type": "markdown",
   "metadata": {},
   "source": [
    "**Vizualise the map** : [Click here](https://hilefebvre.github.io/swiss_map_jobseekers_rates.html)"
   ]
  },
  {
   "cell_type": "markdown",
   "metadata": {},
   "source": [
    "**6- Histogram of jobseekers rates by canton**<br>\n",
    "Again, before ending our analysis on jobseekers rates by canton we also display an histogram to have another view of these rates according to the different cantons. Values of jobseekers rates are again sorted in ascending order and displayed afterwards."
   ]
  },
  {
   "cell_type": "code",
   "execution_count": 332,
   "metadata": {},
   "outputs": [
    {
     "data": {
      "text/plain": [
       "<matplotlib.text.Text at 0x12902d198>"
      ]
     },
     "execution_count": 332,
     "metadata": {},
     "output_type": "execute_result"
    },
    {
     "data": {
      "image/png": "[encoded data removed]",
      "text/plain": [
       "<matplotlib.figure.Figure at 0x12ae23898>"
      ]
     },
     "metadata": {},
     "output_type": "display_data"
    }
   ],
   "source": [
    "jobseekers_rates_data_sorted = jobseekers_rates_data.sort_values('Jobseekers rate')\n",
    "ax = plt.figure(figsize = (14,5))\n",
    "g = sns.barplot(x = 'Canton', y = 'Jobseekers rate', data = jobseekers_rates_data_sorted[['Canton','Jobseekers rate']], color ='Red')\n",
    "g.set_xticklabels(labels = jobseekers_rates_data_sorted['Canton'], rotation=90)\n",
    "ax.suptitle(\"Jobseekers rates per canton in September 2017 (%)\", fontsize=20, fontweight=\"bold\")"
   ]
  },
  {
   "cell_type": "code",
   "execution_count": 333,
   "metadata": {
    "collapsed": true
   },
   "outputs": [],
   "source": [
    "swiss_map_jobseekers_rates.save('jobseekers_rates_by_canton.html')"
   ]
  },
  {
   "cell_type": "markdown",
   "metadata": {},
   "source": [
    "**7- Employed jobseekers rates analysis**<br>\n",
    "For the last time we create a choropleth map to display Swiss cantons' employed jobseekers rates information\n",
    "- We have chosen the coordinates of the middle of Switzerland to center our map. \n",
    "- Then, we initialize our map with these coordinates and make it a choropleth map with the topojson information converted to json in the previous steps after pre processing of the Cantons' names and we use the data on employed jobseekers rates to be displayed accordingly. We use a Yellow (low employed jobseekers rate) to Green (high employed jobseekers rate) sequential color which is by default divided into 6 equal intervals in the range of our employed jobseekers rates values by folium. \n",
    "- Finally, we create again strings for each canton to display info on the rates in pop ups windows."
   ]
  },
  {
   "cell_type": "code",
   "execution_count": 334,
   "metadata": {
    "collapsed": true
   },
   "outputs": [],
   "source": [
    "swiss_map_employed_jobseekers_rates = folium.Map(middle_of_switzerland_coord, tiles='cartodbpositron', zoom_start = 8)\n",
    "swiss_map_employed_jobseekers_rates.choropleth(geo_data=canton_geo_to_json,\n",
    "              data=employed_jobseekers_rates_data, columns=['Canton', 'Employed jobseekers rate'],\n",
    "                     key_on='feature.properties.name', fill_color='YlGn', fill_opacity=1, line_opacity=0.2,\n",
    "             legend_name='Employed jobseeekers Rate (%)')"
   ]
  },
  {
   "cell_type": "code",
   "execution_count": 335,
   "metadata": {
    "collapsed": true
   },
   "outputs": [],
   "source": [
    "text3 = []\n",
    "for i in range(employed_jobseekers_rates_data.index.size):\n",
    "    text3.append(employed_jobseekers_rates_data.Canton[i] +  '<br>' + \n",
    "                'Employed jobseekers rate: ' + str(employed_jobseekers_rates_data['Employed jobseekers rate'].loc[i]) + '%')"
   ]
  },
  {
   "cell_type": "code",
   "execution_count": 336,
   "metadata": {
    "collapsed": true
   },
   "outputs": [],
   "source": [
    "list_geo=[]\n",
    "gj=[]\n",
    "for i in range(canton_geo_gdf.index.size):\n",
    "     list_geo.append(mapping(canton_geo_gdf['geometry'].loc[i]))\n",
    "     gj.append(folium.GeoJson(list_geo[i], style_function=lambda feature: {\n",
    "        'opacity' : 0.7 , 'fillColor': '#FFFFFFFF', 'color' : 'blue'\n",
    "        }))"
   ]
  },
  {
   "cell_type": "code",
   "execution_count": 337,
   "metadata": {
    "collapsed": true
   },
   "outputs": [],
   "source": [
    "for i in range(canton_geo_df.index.size):\n",
    "    gj[i].add_child(folium.Popup(text3[i]))\n",
    "    gj[i].add_to(swiss_map_employed_jobseekers_rates)"
   ]
  },
  {
   "cell_type": "code",
   "execution_count": 338,
   "metadata": {
    "collapsed": true
   },
   "outputs": [],
   "source": [
    "swiss_map_employed_jobseekers_rates.save('employed_jobseekers_rates_by_canton.html')"
   ]
  },
  {
   "cell_type": "markdown",
   "metadata": {},
   "source": [
    "**See the results** : [Click here for resuts](https://hilefebvre.github.io/employed_jobseekers_rates_by_canton.html)"
   ]
  },
  {
   "cell_type": "markdown",
   "metadata": {},
   "source": [
    "**8- Histogram of employed jobseekers rates by canton**<br>\n",
    "Finally, before ending our analysis on employed jobseekers rates by canton we also display an histogram to have another view of these rates according to the different cantons. Values of employed jobseekers rates are again sorted in ascending order and displayed afterwards."
   ]
  },
  {
   "cell_type": "code",
   "execution_count": 339,
   "metadata": {},
   "outputs": [
    {
     "data": {
      "text/plain": [
       "<matplotlib.text.Text at 0x12e94da20>"
      ]
     },
     "execution_count": 339,
     "metadata": {},
     "output_type": "execute_result"
    },
    {
     "data": {
      "image/png": "[encoded data removed]",
      "text/plain": [
       "<matplotlib.figure.Figure at 0x12e94d128>"
      ]
     },
     "metadata": {},
     "output_type": "display_data"
    }
   ],
   "source": [
    "employed_jobseekers_rates_data_sorted = employed_jobseekers_rates_data.sort_values('Employed jobseekers rate')\n",
    "ax = plt.figure(figsize = (14,5))\n",
    "g = sns.barplot(x = 'Canton', y = 'Employed jobseekers rate', data = employed_jobseekers_rates_data_sorted[['Canton','Employed jobseekers rate']], color ='Red')\n",
    "g.set_xticklabels(labels = employed_jobseekers_rates_data_sorted['Canton'], rotation=90)\n",
    "ax.suptitle(\"Employed jobseekers rates per canton in September 2017 (%)\", fontsize=20, fontweight=\"bold\")"
   ]
  },
  {
   "cell_type": "markdown",
   "metadata": {},
   "source": [
    "**Results interpretation:**<br> \n",
    "From the three generated maps and the histograms displayed, we can observe several interesting trends.\n",
    "- First of all, the unemployement rates which represents only the unemployed people is close to the jobseekers rate. Indeed, the amount of employed jobseekers in this new rate does not affect the trends observed on the unemployement rate map. Genève, Neuchâtel, Jura and Vaud still are the cantons with the highest rates on both maps. While Appenzell Innerrhoden, Uri, Obwalden and Nidwalden remain the cantons with the lowest rates. The interesting fact to highlight here is that for the cantons with the highest rates, they all are bordering France. While three of the four cantons with the smallest rates are all in the middle of Switzerland. \n",
    "- On the other hand, we can observe that the map representing the employed jobseekers shows a little mix up on the trends. The cantons with highest and lowest rates mentionned above keep the same trend but for the other cantons we can see a little change in the values of their rate for this particular metric. But the most interesting trend to observe on this map is that the cantons with the lowest rates on the unemployement map tend to have a higher employed jobseekers rate than the actual unemployement rate. <br>\n",
    "\n",
    "To assert our interpretations, we can compute a correlation matrix using the spearman method."
   ]
  },
  {
   "cell_type": "code",
   "execution_count": 340,
   "metadata": {
    "collapsed": true
   },
   "outputs": [],
   "source": [
    "correlations = unemployement_numbers_data.corr(method = 'spearman')"
   ]
  },
  {
   "cell_type": "code",
   "execution_count": 341,
   "metadata": {},
   "outputs": [
    {
     "data": {
      "text/html": [
       "<div>\n",
       "<style>\n",
       "    .dataframe thead tr:only-child th {\n",
       "        text-align: right;\n",
       "    }\n",
       "\n",
       "    .dataframe thead th {\n",
       "        text-align: left;\n",
       "    }\n",
       "\n",
       "    .dataframe tbody tr th {\n",
       "        vertical-align: top;\n",
       "    }\n",
       "</style>\n",
       "<table border=\"1\" class=\"dataframe\">\n",
       "  <thead>\n",
       "    <tr style=\"text-align: right;\">\n",
       "      <th></th>\n",
       "      <th>Unemployement rate</th>\n",
       "      <th>Unemployed</th>\n",
       "      <th>Jobseekers</th>\n",
       "      <th>Employed jobseekers</th>\n",
       "      <th>Active population</th>\n",
       "      <th>Jobseekers rate</th>\n",
       "      <th>Employed jobseekers rate</th>\n",
       "    </tr>\n",
       "  </thead>\n",
       "  <tbody>\n",
       "    <tr>\n",
       "      <th>Unemployement rate</th>\n",
       "      <td>1.000000</td>\n",
       "      <td>0.724162</td>\n",
       "      <td>0.652636</td>\n",
       "      <td>0.597194</td>\n",
       "      <td>0.525668</td>\n",
       "      <td>0.962843</td>\n",
       "      <td>0.615047</td>\n",
       "    </tr>\n",
       "    <tr>\n",
       "      <th>Unemployed</th>\n",
       "      <td>0.724162</td>\n",
       "      <td>1.000000</td>\n",
       "      <td>0.982906</td>\n",
       "      <td>0.957607</td>\n",
       "      <td>0.943932</td>\n",
       "      <td>0.641464</td>\n",
       "      <td>0.299128</td>\n",
       "    </tr>\n",
       "    <tr>\n",
       "      <th>Jobseekers</th>\n",
       "      <td>0.652636</td>\n",
       "      <td>0.982906</td>\n",
       "      <td>1.000000</td>\n",
       "      <td>0.984957</td>\n",
       "      <td>0.975385</td>\n",
       "      <td>0.588779</td>\n",
       "      <td>0.311506</td>\n",
       "    </tr>\n",
       "    <tr>\n",
       "      <th>Employed jobseekers</th>\n",
       "      <td>0.597194</td>\n",
       "      <td>0.957607</td>\n",
       "      <td>0.984957</td>\n",
       "      <td>1.000000</td>\n",
       "      <td>0.978120</td>\n",
       "      <td>0.542251</td>\n",
       "      <td>0.329041</td>\n",
       "    </tr>\n",
       "    <tr>\n",
       "      <th>Active population</th>\n",
       "      <td>0.525668</td>\n",
       "      <td>0.943932</td>\n",
       "      <td>0.975385</td>\n",
       "      <td>0.978120</td>\n",
       "      <td>1.000000</td>\n",
       "      <td>0.448854</td>\n",
       "      <td>0.217298</td>\n",
       "    </tr>\n",
       "    <tr>\n",
       "      <th>Jobseekers rate</th>\n",
       "      <td>0.962843</td>\n",
       "      <td>0.641464</td>\n",
       "      <td>0.588779</td>\n",
       "      <td>0.542251</td>\n",
       "      <td>0.448854</td>\n",
       "      <td>1.000000</td>\n",
       "      <td>0.781190</td>\n",
       "    </tr>\n",
       "    <tr>\n",
       "      <th>Employed jobseekers rate</th>\n",
       "      <td>0.615047</td>\n",
       "      <td>0.299128</td>\n",
       "      <td>0.311506</td>\n",
       "      <td>0.329041</td>\n",
       "      <td>0.217298</td>\n",
       "      <td>0.781190</td>\n",
       "      <td>1.000000</td>\n",
       "    </tr>\n",
       "  </tbody>\n",
       "</table>\n",
       "</div>"
      ],
      "text/plain": [
       "                          Unemployement rate  Unemployed  Jobseekers  \\\n",
       "Unemployement rate                  1.000000    0.724162    0.652636   \n",
       "Unemployed                          0.724162    1.000000    0.982906   \n",
       "Jobseekers                          0.652636    0.982906    1.000000   \n",
       "Employed jobseekers                 0.597194    0.957607    0.984957   \n",
       "Active population                   0.525668    0.943932    0.975385   \n",
       "Jobseekers rate                     0.962843    0.641464    0.588779   \n",
       "Employed jobseekers rate            0.615047    0.299128    0.311506   \n",
       "\n",
       "                          Employed jobseekers  Active population  \\\n",
       "Unemployement rate                   0.597194           0.525668   \n",
       "Unemployed                           0.957607           0.943932   \n",
       "Jobseekers                           0.984957           0.975385   \n",
       "Employed jobseekers                  1.000000           0.978120   \n",
       "Active population                    0.978120           1.000000   \n",
       "Jobseekers rate                      0.542251           0.448854   \n",
       "Employed jobseekers rate             0.329041           0.217298   \n",
       "\n",
       "                          Jobseekers rate  Employed jobseekers rate  \n",
       "Unemployement rate               0.962843                  0.615047  \n",
       "Unemployed                       0.641464                  0.299128  \n",
       "Jobseekers                       0.588779                  0.311506  \n",
       "Employed jobseekers              0.542251                  0.329041  \n",
       "Active population                0.448854                  0.217298  \n",
       "Jobseekers rate                  1.000000                  0.781190  \n",
       "Employed jobseekers rate         0.781190                  1.000000  "
      ]
     },
     "execution_count": 341,
     "metadata": {},
     "output_type": "execute_result"
    }
   ],
   "source": [
    "correlations"
   ]
  },
  {
   "cell_type": "markdown",
   "metadata": {},
   "source": [
    "From these numbers, we see that indeed the jobseekers rate is more correlated with the unemployement rate than to the employed jobseekers rate. Which explains the very little difference between the two maps. \n",
    "However, we see that the correlation between the unemployement rate and the employed jobseekers rate is about 0.6 which does not testify of a strong correlation between these two rates. It can justify of the little changes observed on the third map."
   ]
  },
  {
   "cell_type": "markdown",
   "metadata": {},
   "source": [
    "------"
   ]
  },
  {
   "cell_type": "markdown",
   "metadata": {},
   "source": [
    "**Question 3:** \n",
    "Use the amstat website again to find a dataset that includes the unemployment rates in Switzerland at recent date, this time making a distinction between Swiss and foreign workers.\n",
    "\n",
    "The Economic Secretary (SECO) releases a monthly report on the state of the employment market. In the latest report (September 2017), it is noted that there is a discrepancy between the unemployment rates for foreign (5.1%) and Swiss (2.2%) workers.\n",
    "\n",
    "Show the difference in unemployment rates between the two categories in each canton on a Choropleth map (hint The easy way is to show two separate maps, but can you think of something better ?). Where are the differences most visible ? Why do you think that is ?\n",
    "\n",
    "Now let's refine the analysis by adding the differences between age groups. As you may have guessed it is nearly impossible to plot so many variables on a map. Make a bar plot, which is a better suited visualization tool for this type of multivariate data."
   ]
  },
  {
   "cell_type": "markdown",
   "metadata": {},
   "source": [
    "**1- Loading data on unemployement rates by canton in Switzerland**\n",
    "The following loaded csv file was created through the amstat website https://www.amstat.ch/v2/index.jsp, Details section where we selected the 'Chômeurs et demandeurs d'emploi' folder and then 'Taux de chômage' folder. We are then asked to chose parameters before being given a data file with relative information on the selected parameters. Therefore, to produce this first csv file we chose the following parameters:\n",
    "\n",
    "Here we choose to analyse unemployment rate for the wole 2016 year, and not only for one month. The idea here is to be able to analyse difference of rates between foreigners and swiss on a long term.\n",
    "\n",
    "With these parameters, we are given a data file with information on the unemployement rates by canton and by nationality (Swiss or foreigner)."
   ]
  },
  {
   "cell_type": "code",
   "execution_count": 342,
   "metadata": {
    "collapsed": true
   },
   "outputs": [],
   "source": [
    "#Path of the excel file downloaded\n",
    "unemployement_rates_file_nationalities = 'data/Chomage_Nationalities_per_Canton.xlsx'\n",
    "#Reading of the file\n",
    "unemployement_rates_data = pd.read_excel(unemployement_rates_file_nationalities,header=2)\n",
    "#Keep the relevant columns\n",
    "unemployement_rates_data=unemployement_rates_data.iloc[:,[1,2,4,5]]\n",
    "#Rename headers\n",
    "unemployement_rates_data=unemployement_rates_data.rename(columns={'Nationalité':'Nationality','durchschnittliche Anzahl Arbeitslose': 'Jobseekers', 'Taux de chômage (1 cav)': 'Unemployement rate'})"
   ]
  },
  {
   "cell_type": "markdown",
   "metadata": {},
   "source": [
    "Let's have a look to the dataframe. We see that cantons are repeated twice, for each type of nationality (\"Etrangers\" and \"Suisses\"). This is not a problem for answering the first part of question."
   ]
  },
  {
   "cell_type": "code",
   "execution_count": 343,
   "metadata": {},
   "outputs": [
    {
     "data": {
      "text/html": [
       "<div>\n",
       "<style>\n",
       "    .dataframe thead tr:only-child th {\n",
       "        text-align: right;\n",
       "    }\n",
       "\n",
       "    .dataframe thead th {\n",
       "        text-align: left;\n",
       "    }\n",
       "\n",
       "    .dataframe tbody tr th {\n",
       "        vertical-align: top;\n",
       "    }\n",
       "</style>\n",
       "<table border=\"1\" class=\"dataframe\">\n",
       "  <thead>\n",
       "    <tr style=\"text-align: right;\">\n",
       "      <th></th>\n",
       "      <th>Canton</th>\n",
       "      <th>Nationality</th>\n",
       "      <th>Jobseekers</th>\n",
       "      <th>Unemployement rate</th>\n",
       "    </tr>\n",
       "  </thead>\n",
       "  <tbody>\n",
       "    <tr>\n",
       "      <th>0</th>\n",
       "      <td>Zurich</td>\n",
       "      <td>Etrangers</td>\n",
       "      <td>13703.000000</td>\n",
       "      <td>6.0</td>\n",
       "    </tr>\n",
       "    <tr>\n",
       "      <th>1</th>\n",
       "      <td>Zurich</td>\n",
       "      <td>Suisses</td>\n",
       "      <td>16380.916667</td>\n",
       "      <td>2.8</td>\n",
       "    </tr>\n",
       "    <tr>\n",
       "      <th>2</th>\n",
       "      <td>Berne</td>\n",
       "      <td>Etrangers</td>\n",
       "      <td>5791.833333</td>\n",
       "      <td>6.5</td>\n",
       "    </tr>\n",
       "    <tr>\n",
       "      <th>3</th>\n",
       "      <td>Berne</td>\n",
       "      <td>Suisses</td>\n",
       "      <td>9491.333333</td>\n",
       "      <td>2.0</td>\n",
       "    </tr>\n",
       "    <tr>\n",
       "      <th>4</th>\n",
       "      <td>Lucerne</td>\n",
       "      <td>Etrangers</td>\n",
       "      <td>1910.583333</td>\n",
       "      <td>4.7</td>\n",
       "    </tr>\n",
       "  </tbody>\n",
       "</table>\n",
       "</div>"
      ],
      "text/plain": [
       "    Canton Nationality    Jobseekers  Unemployement rate\n",
       "0   Zurich   Etrangers  13703.000000                 6.0\n",
       "1   Zurich     Suisses  16380.916667                 2.8\n",
       "2    Berne   Etrangers   5791.833333                 6.5\n",
       "3    Berne     Suisses   9491.333333                 2.0\n",
       "4  Lucerne   Etrangers   1910.583333                 4.7"
      ]
     },
     "execution_count": 343,
     "metadata": {},
     "output_type": "execute_result"
    }
   ],
   "source": [
    "unemployement_rates_data.head()"
   ]
  },
  {
   "cell_type": "markdown",
   "metadata": {},
   "source": [
    "As seen in the previous question, we need to map names of the cantons with the ones in the topojson that are in german. We need to copy twice the german name since cantons are doubled as seen previously. This has been seen in the previous question and we reeuse \"canton_geo_df\" for this matching."
   ]
  },
  {
   "cell_type": "code",
   "execution_count": 344,
   "metadata": {},
   "outputs": [
    {
     "name": "stderr",
     "output_type": "stream",
     "text": [
      "/Users/Hippo/anaconda/lib/python3.6/site-packages/ipykernel_launcher.py:3: SettingWithCopyWarning: \n",
      "A value is trying to be set on a copy of a slice from a DataFrame\n",
      "\n",
      "See the caveats in the documentation: http://pandas.pydata.org/pandas-docs/stable/indexing.html#indexing-view-versus-copy\n",
      "  This is separate from the ipykernel package so we can avoid doing imports until\n",
      "/Users/Hippo/anaconda/lib/python3.6/site-packages/ipykernel_launcher.py:4: SettingWithCopyWarning: \n",
      "A value is trying to be set on a copy of a slice from a DataFrame\n",
      "\n",
      "See the caveats in the documentation: http://pandas.pydata.org/pandas-docs/stable/indexing.html#indexing-view-versus-copy\n",
      "  after removing the cwd from sys.path.\n"
     ]
    }
   ],
   "source": [
    "iter=0\n",
    "for german_name in canton_geo_df.name:\n",
    "    unemployement_rates_data.Canton[iter]=german_name\n",
    "    unemployement_rates_data.Canton[iter+1]=german_name\n",
    "    iter=iter+2    "
   ]
  },
  {
   "cell_type": "markdown",
   "metadata": {},
   "source": [
    "We can check that our mapping has successfully worked:"
   ]
  },
  {
   "cell_type": "code",
   "execution_count": 345,
   "metadata": {},
   "outputs": [
    {
     "data": {
      "text/html": [
       "<div>\n",
       "<style>\n",
       "    .dataframe thead tr:only-child th {\n",
       "        text-align: right;\n",
       "    }\n",
       "\n",
       "    .dataframe thead th {\n",
       "        text-align: left;\n",
       "    }\n",
       "\n",
       "    .dataframe tbody tr th {\n",
       "        vertical-align: top;\n",
       "    }\n",
       "</style>\n",
       "<table border=\"1\" class=\"dataframe\">\n",
       "  <thead>\n",
       "    <tr style=\"text-align: right;\">\n",
       "      <th></th>\n",
       "      <th>Canton</th>\n",
       "      <th>Nationality</th>\n",
       "      <th>Jobseekers</th>\n",
       "      <th>Unemployement rate</th>\n",
       "    </tr>\n",
       "  </thead>\n",
       "  <tbody>\n",
       "    <tr>\n",
       "      <th>0</th>\n",
       "      <td>Zürich</td>\n",
       "      <td>Etrangers</td>\n",
       "      <td>13703.000000</td>\n",
       "      <td>6.0</td>\n",
       "    </tr>\n",
       "    <tr>\n",
       "      <th>1</th>\n",
       "      <td>Zürich</td>\n",
       "      <td>Suisses</td>\n",
       "      <td>16380.916667</td>\n",
       "      <td>2.8</td>\n",
       "    </tr>\n",
       "    <tr>\n",
       "      <th>2</th>\n",
       "      <td>Bern/Berne</td>\n",
       "      <td>Etrangers</td>\n",
       "      <td>5791.833333</td>\n",
       "      <td>6.5</td>\n",
       "    </tr>\n",
       "    <tr>\n",
       "      <th>3</th>\n",
       "      <td>Bern/Berne</td>\n",
       "      <td>Suisses</td>\n",
       "      <td>9491.333333</td>\n",
       "      <td>2.0</td>\n",
       "    </tr>\n",
       "    <tr>\n",
       "      <th>4</th>\n",
       "      <td>Luzern</td>\n",
       "      <td>Etrangers</td>\n",
       "      <td>1910.583333</td>\n",
       "      <td>4.7</td>\n",
       "    </tr>\n",
       "  </tbody>\n",
       "</table>\n",
       "</div>"
      ],
      "text/plain": [
       "       Canton Nationality    Jobseekers  Unemployement rate\n",
       "0      Zürich   Etrangers  13703.000000                 6.0\n",
       "1      Zürich     Suisses  16380.916667                 2.8\n",
       "2  Bern/Berne   Etrangers   5791.833333                 6.5\n",
       "3  Bern/Berne     Suisses   9491.333333                 2.0\n",
       "4      Luzern   Etrangers   1910.583333                 4.7"
      ]
     },
     "execution_count": 345,
     "metadata": {},
     "output_type": "execute_result"
    }
   ],
   "source": [
    "unemployement_rates_data.head()"
   ]
  },
  {
   "cell_type": "markdown",
   "metadata": {},
   "source": [
    "Let's convert number in numerical values, they are str for the moment."
   ]
  },
  {
   "cell_type": "code",
   "execution_count": 346,
   "metadata": {
    "collapsed": true
   },
   "outputs": [],
   "source": [
    "unemployement_rates_data['Unemployement rate'] = pd.to_numeric(unemployement_rates_data['Unemployement rate'])\n",
    "unemployement_rates_data['Jobseekers'] = pd.to_numeric(unemployement_rates_data['Jobseekers'])"
   ]
  },
  {
   "cell_type": "markdown",
   "metadata": {},
   "source": [
    "**Creating pop up windows for interactive unemployement rates information on the map**\n",
    "Indeed, we want the map to be as interactive as possible and make the information retrieved from the amstat website easy to reach and visible. To do so, we will make use of pop up windows which will relate information on the canton's name and its related unemployement rate.<br>\n",
    "- First, we create a list of texts which contains the name and unemployement rate strings for each canton, for both nationalities.\n"
   ]
  },
  {
   "cell_type": "code",
   "execution_count": 347,
   "metadata": {
    "collapsed": true
   },
   "outputs": [],
   "source": [
    "text_Foreigners = []\n",
    "text_Swiss = []\n",
    "\n",
    "for i in range(0,unemployement_rates_data.index.size,2):\n",
    "    text_Foreigners.append(unemployement_rates_data.Canton[i] +  '<br>' + \n",
    "                'Unemployement rate foreigners: ' + str(unemployement_rates_data['Unemployement rate'].loc[i]) + '%')\n",
    "               \n",
    "    text_Swiss.append(unemployement_rates_data.Canton[i] +  '<br>' +                   \n",
    "                'Unemployement rate Swiss: ' + str(unemployement_rates_data['Unemployement rate'].loc[i+1]) + '%'\n",
    "               )\n",
    "    "
   ]
  },
  {
   "cell_type": "markdown",
   "metadata": {},
   "source": [
    "- Secondly, we create the pop up objects delimited by the respective geometry of each canton."
   ]
  },
  {
   "cell_type": "code",
   "execution_count": 348,
   "metadata": {
    "collapsed": true
   },
   "outputs": [],
   "source": [
    "list_geo_For=[]\n",
    "gjf=[]\n",
    "for i in range(canton_geo_gdf.index.size):#First popup for foreigners\n",
    "     list_geo_For.append(mapping(canton_geo_gdf['geometry'].loc[i]))\n",
    "     gjf.append(folium.GeoJson(list_geo[i], style_function=lambda feature: {\n",
    "        'opacity' : 0.7 , 'fillColor': '#FFFFFFFF', 'color' : 'blue'\n",
    "        }))\n",
    "    \n",
    "list_geo_Swi=[]\n",
    "gjs=[]\n",
    "for i in range(canton_geo_gdf.index.size):#Second popup for Swiss\n",
    "     list_geo_Swi.append(mapping(canton_geo_gdf['geometry'].loc[i]))\n",
    "     gjs.append(folium.GeoJson(list_geo[i], style_function=lambda feature: {\n",
    "        'opacity' : 0.7 , 'fillColor': '#FFFFFFFF', 'color' : 'blue'\n",
    "        }))"
   ]
  },
  {
   "cell_type": "markdown",
   "metadata": {},
   "source": [
    "**Creating choropleth map to display Swiss cantons' unemployement rates information**<br>\n",
    "- We have chosen the coordinates of the middle of Switzerland to center our map. \n",
    "- Then, we initialize our map with these coordinates and make it a choropleth map with the topojson information converted to json in the previous steps after pre processing of the Cantons' names and we use the data on unemployement rates to be displayed accordingly. We use a Yellow (low unemployement rate) to Green (high unemployement rate) sequential color which is by default divided into 6 equal intervals in the range of our unemployement rates values by folium. \n",
    "- Finally, we add the above created information strings into the pop up windows before displaying the choropleth map"
   ]
  },
  {
   "cell_type": "markdown",
   "metadata": {},
   "source": [
    "We create the two maps and assign them data and properties:"
   ]
  },
  {
   "cell_type": "code",
   "execution_count": 349,
   "metadata": {
    "collapsed": true
   },
   "outputs": [],
   "source": [
    "swiss_map_unemployement_rates_Foreigners = folium.Map(middle_of_switzerland_coord, tiles='cartodbpositron', zoom_start = 8)\n",
    "swiss_map_unemployement_rates_Swiss=folium.Map(middle_of_switzerland_coord, tiles='cartodbpositron', zoom_start = 8)\n",
    "\n",
    "swiss_map_unemployement_rates_Foreigners.choropleth(geo_data=canton_geo_to_json,\n",
    "              data=unemployement_rates_data.iloc[::2] , columns=['Canton', 'Unemployement rate'],\n",
    "                     key_on='feature.properties.name', fill_color='YlGn', fill_opacity=1, line_opacity=0.2,\n",
    "             legend_name='Unemployment Rate of Foreigners (%)')\n",
    "\n",
    "\n",
    "swiss_map_unemployement_rates_Swiss.choropleth(geo_data=canton_geo_to_json,\n",
    "              data=unemployement_rates_data.iloc[1::2] , columns=['Canton', 'Unemployement rate'],\n",
    "                     key_on='feature.properties.name', fill_color='YlGn', fill_opacity=1, line_opacity=0.2,\n",
    "             legend_name='Unemployment Rate of Swiss (%)')\n"
   ]
  },
  {
   "cell_type": "markdown",
   "metadata": {},
   "source": [
    "In this case natural breaks are not really relevant since unemployement rate is pretty uniform on the range of values."
   ]
  },
  {
   "cell_type": "markdown",
   "metadata": {},
   "source": [
    "And add the popups:"
   ]
  },
  {
   "cell_type": "code",
   "execution_count": 350,
   "metadata": {
    "collapsed": true
   },
   "outputs": [],
   "source": [
    "for i in range(canton_geo_df.index.size):\n",
    "    gjf[i].add_child(folium.Popup(text_Foreigners[i]))\n",
    "    gjf[i].add_to(swiss_map_unemployement_rates_Foreigners)\n",
    "    \n",
    "    gjs[i].add_child(folium.Popup(text_Swiss[i]))\n",
    "    gjs[i].add_to(swiss_map_unemployement_rates_Swiss)\n",
    "    "
   ]
  },
  {
   "cell_type": "markdown",
   "metadata": {},
   "source": [
    "Eventually, we save the two maps in html file. Maps are available by opening the html then."
   ]
  },
  {
   "cell_type": "code",
   "execution_count": 351,
   "metadata": {},
   "outputs": [],
   "source": [
    "swiss_map_unemployement_rates_Foreigners.save('swiss_map_unemployement_rates_Foreigners.html')\n",
    "swiss_map_unemployement_rates_Swiss.save('swiss_map_unemployement_rates_Swiss.html')"
   ]
  },
  {
   "cell_type": "markdown",
   "metadata": {},
   "source": [
    "Maps are avilable through the following hyperlink:\n",
    "    [Map Foreigners](https://hilefebvre.github.io/swiss_map_unemployement_rates_Foreigners.html)\n",
    "    [Map Swiss](https://hilefebvre.github.io/swiss_map_unemployement_rates_Swiss.html)"
   ]
  },
  {
   "cell_type": "markdown",
   "metadata": {},
   "source": [
    "From this two map we notice that :\n",
    "- Unemployment around french border is higher (in mean) than in the rest of the country. \n",
    "    This may be explained by fench people crossing boader every day to work in Switzerland.\n",
    "- Unemployement tends to be lower in central switzerland and on the eastern cantons for both Swiss and Foreigners. We can assume that these cantons do not welcome as much as foreigners as Geneva or Zurich for instance. So it should make sense that foreigners living in these cantons must have come with a job in their pocket."
   ]
  },
  {
   "cell_type": "markdown",
   "metadata": {},
   "source": [
    "**To really analyse of unemployement for both categories, it could be interesting to compare differences of unemployement rates.**"
   ]
  },
  {
   "cell_type": "markdown",
   "metadata": {},
   "source": [
    "Now we will create a map showing the difference between the two rates. We need to first get the data:"
   ]
  },
  {
   "cell_type": "code",
   "execution_count": 352,
   "metadata": {
    "collapsed": true
   },
   "outputs": [],
   "source": [
    "diff=[]#Difference between foreigners and Swiss\n",
    "\n",
    "for i in range(0,unemployement_rates_data.index.size,2):\n",
    "    diff.append(unemployement_rates_data.loc[i,\"Unemployement rate\"]-unemployement_rates_data.loc[i+1,\"Unemployement rate\"])"
   ]
  },
  {
   "cell_type": "markdown",
   "metadata": {},
   "source": [
    "We merge difference rates with Cantons:"
   ]
  },
  {
   "cell_type": "code",
   "execution_count": 353,
   "metadata": {
    "collapsed": true
   },
   "outputs": [],
   "source": [
    "diff=np.array(diff)\n",
    "df_diff = pd.DataFrame({'Canton':canton_geo_gdf.name, 'Unemployement difference':diff})"
   ]
  },
  {
   "cell_type": "markdown",
   "metadata": {},
   "source": [
    "We create a new Swiss map:"
   ]
  },
  {
   "cell_type": "code",
   "execution_count": 354,
   "metadata": {
    "collapsed": true
   },
   "outputs": [],
   "source": [
    "swiss_map_unemployement_rates_diff=folium.Map(middle_of_switzerland_coord, tiles='cartodbpositron', zoom_start = 8)"
   ]
  },
  {
   "cell_type": "markdown",
   "metadata": {},
   "source": [
    "And assign it the data:"
   ]
  },
  {
   "cell_type": "code",
   "execution_count": 355,
   "metadata": {
    "collapsed": true
   },
   "outputs": [],
   "source": [
    "swiss_map_unemployement_rates_diff.choropleth(geo_data=canton_geo_to_json,\n",
    "              data=df_diff , columns=['Canton', 'Unemployement difference'],\n",
    "                     key_on='feature.properties.name', fill_color='YlGn', fill_opacity=1, line_opacity=0.2,\n",
    "             legend_name='Unemployment Rate - Difference between Foreigners and Swiss (%)')"
   ]
  },
  {
   "cell_type": "markdown",
   "metadata": {},
   "source": [
    "We eventually save it in a html file:"
   ]
  },
  {
   "cell_type": "code",
   "execution_count": 356,
   "metadata": {},
   "outputs": [],
   "source": [
    "swiss_map_unemployement_rates_diff.save('swiss_map_unemployement_rates_diff.html')"
   ]
  },
  {
   "cell_type": "markdown",
   "metadata": {},
   "source": [
    "Results are uploaded here : [Map Difference](https://hilefebvre.github.io/swiss_map_unemployement_rates_diff.html)"
   ]
  },
  {
   "cell_type": "markdown",
   "metadata": {},
   "source": [
    "This map provide us with interesting information:\n",
    "- First, difference is always positive meaning that rate for foreigners is always higher than for Swiss. This means either there are too much foreigners for the number of jobs available or companies are not very willing to hire strangers.\n",
    "- Difference may vary a lot between cantons from nearly null to more than 7%.\n",
    "- Cosmopolite and international cantons such as Geneva or Zurich have low difference."
   ]
  },
  {
   "cell_type": "markdown",
   "metadata": {},
   "source": [
    "**Now let's refine the analysis by adding the differences between age groups. As you may have guessed it is nearly impossible to plot so many variables on a map. Make a bar plot, which is a better suited visualization tool for this type of multivariate data.**"
   ]
  },
  {
   "cell_type": "markdown",
   "metadata": {},
   "source": [
    "We downloaded from Amstat a new file gathering unemployement rates by cantons and age slice."
   ]
  },
  {
   "cell_type": "code",
   "execution_count": 357,
   "metadata": {
    "collapsed": true
   },
   "outputs": [],
   "source": [
    "path='data/Chomage_par_age.xlsx'"
   ]
  },
  {
   "cell_type": "code",
   "execution_count": 358,
   "metadata": {},
   "outputs": [
    {
     "data": {
      "text/html": [
       "<div>\n",
       "<style>\n",
       "    .dataframe thead tr:only-child th {\n",
       "        text-align: right;\n",
       "    }\n",
       "\n",
       "    .dataframe thead th {\n",
       "        text-align: left;\n",
       "    }\n",
       "\n",
       "    .dataframe tbody tr th {\n",
       "        vertical-align: top;\n",
       "    }\n",
       "</style>\n",
       "<table border=\"1\" class=\"dataframe\">\n",
       "  <thead>\n",
       "    <tr style=\"text-align: right;\">\n",
       "      <th></th>\n",
       "      <th>2.1 Taux de chômage</th>\n",
       "      <th>Unnamed: 1</th>\n",
       "      <th>Unnamed: 2</th>\n",
       "      <th>Unnamed: 3</th>\n",
       "      <th>Unnamed: 4</th>\n",
       "      <th>Unnamed: 5</th>\n",
       "      <th>Unnamed: 6</th>\n",
       "      <th>Unnamed: 7</th>\n",
       "    </tr>\n",
       "  </thead>\n",
       "  <tbody>\n",
       "    <tr>\n",
       "      <th>0</th>\n",
       "      <td>NaN</td>\n",
       "      <td>NaN</td>\n",
       "      <td>NaN</td>\n",
       "      <td>NaN</td>\n",
       "      <td>NaN</td>\n",
       "      <td>NaN</td>\n",
       "      <td>NaN</td>\n",
       "      <td>NaN</td>\n",
       "    </tr>\n",
       "    <tr>\n",
       "      <th>1</th>\n",
       "      <td>Canton</td>\n",
       "      <td>Classes d'âge 15-24, 25-49, 50 ans et plus</td>\n",
       "      <td>NaN</td>\n",
       "      <td>Mois</td>\n",
       "      <td>Septembre 2017</td>\n",
       "      <td>NaN</td>\n",
       "      <td>Total</td>\n",
       "      <td>NaN</td>\n",
       "    </tr>\n",
       "    <tr>\n",
       "      <th>2</th>\n",
       "      <td>NaN</td>\n",
       "      <td>NaN</td>\n",
       "      <td>NaN</td>\n",
       "      <td>Mesures</td>\n",
       "      <td>Taux de chômage</td>\n",
       "      <td>Chômeurs inscrits</td>\n",
       "      <td>Taux de chômage</td>\n",
       "      <td>Chômeurs inscrits</td>\n",
       "    </tr>\n",
       "    <tr>\n",
       "      <th>3</th>\n",
       "      <td>NaN</td>\n",
       "      <td>1</td>\n",
       "      <td>15-24 ans</td>\n",
       "      <td>NaN</td>\n",
       "      <td>3.7</td>\n",
       "      <td>3420</td>\n",
       "      <td>3.7</td>\n",
       "      <td>3420</td>\n",
       "    </tr>\n",
       "    <tr>\n",
       "      <th>4</th>\n",
       "      <td>Zurich</td>\n",
       "      <td>2</td>\n",
       "      <td>25-49 ans</td>\n",
       "      <td>NaN</td>\n",
       "      <td>3.4</td>\n",
       "      <td>17053</td>\n",
       "      <td>3.4</td>\n",
       "      <td>17053</td>\n",
       "    </tr>\n",
       "  </tbody>\n",
       "</table>\n",
       "</div>"
      ],
      "text/plain": [
       "  2.1 Taux de chômage                                  Unnamed: 1 Unnamed: 2  \\\n",
       "0                 NaN                                         NaN        NaN   \n",
       "1              Canton  Classes d'âge 15-24, 25-49, 50 ans et plus        NaN   \n",
       "2                 NaN                                         NaN        NaN   \n",
       "3                 NaN                                           1  15-24 ans   \n",
       "4              Zurich                                           2  25-49 ans   \n",
       "\n",
       "  Unnamed: 3       Unnamed: 4         Unnamed: 5       Unnamed: 6  \\\n",
       "0        NaN              NaN                NaN              NaN   \n",
       "1       Mois   Septembre 2017                NaN            Total   \n",
       "2    Mesures  Taux de chômage  Chômeurs inscrits  Taux de chômage   \n",
       "3        NaN              3.7               3420              3.7   \n",
       "4        NaN              3.4              17053              3.4   \n",
       "\n",
       "          Unnamed: 7  \n",
       "0                NaN  \n",
       "1                NaN  \n",
       "2  Chômeurs inscrits  \n",
       "3               3420  \n",
       "4              17053  "
      ]
     },
     "execution_count": 358,
     "metadata": {},
     "output_type": "execute_result"
    }
   ],
   "source": [
    "df = pd.read_excel(path)\n",
    "df.head()"
   ]
  },
  {
   "cell_type": "markdown",
   "metadata": {},
   "source": [
    "The dataframe is messy, we need to clean it first :"
   ]
  },
  {
   "cell_type": "code",
   "execution_count": 359,
   "metadata": {},
   "outputs": [
    {
     "data": {
      "text/html": [
       "<div>\n",
       "<style>\n",
       "    .dataframe thead tr:only-child th {\n",
       "        text-align: right;\n",
       "    }\n",
       "\n",
       "    .dataframe thead th {\n",
       "        text-align: left;\n",
       "    }\n",
       "\n",
       "    .dataframe tbody tr th {\n",
       "        vertical-align: top;\n",
       "    }\n",
       "</style>\n",
       "<table border=\"1\" class=\"dataframe\">\n",
       "  <thead>\n",
       "    <tr style=\"text-align: right;\">\n",
       "      <th></th>\n",
       "      <th>Canton</th>\n",
       "      <th>Age</th>\n",
       "      <th>Rate</th>\n",
       "    </tr>\n",
       "  </thead>\n",
       "  <tbody>\n",
       "    <tr>\n",
       "      <th>0</th>\n",
       "      <td>NaN</td>\n",
       "      <td>15-24 ans</td>\n",
       "      <td>3.7</td>\n",
       "    </tr>\n",
       "    <tr>\n",
       "      <th>1</th>\n",
       "      <td>Zurich</td>\n",
       "      <td>25-49 ans</td>\n",
       "      <td>3.4</td>\n",
       "    </tr>\n",
       "    <tr>\n",
       "      <th>2</th>\n",
       "      <td>NaN</td>\n",
       "      <td>50 ans et plus</td>\n",
       "      <td>2.9</td>\n",
       "    </tr>\n",
       "    <tr>\n",
       "      <th>3</th>\n",
       "      <td>NaN</td>\n",
       "      <td>15-24 ans</td>\n",
       "      <td>2.8</td>\n",
       "    </tr>\n",
       "    <tr>\n",
       "      <th>4</th>\n",
       "      <td>Berne</td>\n",
       "      <td>25-49 ans</td>\n",
       "      <td>2.5</td>\n",
       "    </tr>\n",
       "  </tbody>\n",
       "</table>\n",
       "</div>"
      ],
      "text/plain": [
       "   Canton             Age Rate\n",
       "0     NaN       15-24 ans  3.7\n",
       "1  Zurich       25-49 ans  3.4\n",
       "2     NaN  50 ans et plus  2.9\n",
       "3     NaN       15-24 ans  2.8\n",
       "4   Berne       25-49 ans  2.5"
      ]
     },
     "execution_count": 359,
     "metadata": {},
     "output_type": "execute_result"
    }
   ],
   "source": [
    "df = df[3:len(df)-1]\n",
    "#We rename colums\n",
    "df = df.rename(columns={'2.1 Taux de chômage': 'Canton', 'Unnamed: 2': 'Age','Unnamed: 4': 'Rate' })\n",
    "df = df[['Canton', 'Age', 'Rate']]\n",
    "df = df.reset_index(drop=True)\n",
    "df.head()"
   ]
  },
  {
   "cell_type": "markdown",
   "metadata": {},
   "source": [
    "Then, we just need to set proper canton names in the first column: We notice that canton's value are always on the same rown the middle age categrory"
   ]
  },
  {
   "cell_type": "code",
   "execution_count": 360,
   "metadata": {
    "collapsed": true
   },
   "outputs": [],
   "source": [
    "for i in range(len(df['Canton'])): \n",
    "    if(i%3 == 0):\n",
    "        df['Canton'][i] = df['Canton'][i+1]\n",
    "    elif(i%3 == 2):\n",
    "        df['Canton'][i] = df['Canton'][i-1]"
   ]
  },
  {
   "cell_type": "code",
   "execution_count": 361,
   "metadata": {},
   "outputs": [
    {
     "data": {
      "text/html": [
       "<div>\n",
       "<style>\n",
       "    .dataframe thead tr:only-child th {\n",
       "        text-align: right;\n",
       "    }\n",
       "\n",
       "    .dataframe thead th {\n",
       "        text-align: left;\n",
       "    }\n",
       "\n",
       "    .dataframe tbody tr th {\n",
       "        vertical-align: top;\n",
       "    }\n",
       "</style>\n",
       "<table border=\"1\" class=\"dataframe\">\n",
       "  <thead>\n",
       "    <tr style=\"text-align: right;\">\n",
       "      <th></th>\n",
       "      <th>Canton</th>\n",
       "      <th>Age</th>\n",
       "      <th>Rate</th>\n",
       "    </tr>\n",
       "  </thead>\n",
       "  <tbody>\n",
       "    <tr>\n",
       "      <th>0</th>\n",
       "      <td>Zurich</td>\n",
       "      <td>15-24 ans</td>\n",
       "      <td>3.7</td>\n",
       "    </tr>\n",
       "    <tr>\n",
       "      <th>1</th>\n",
       "      <td>Zurich</td>\n",
       "      <td>25-49 ans</td>\n",
       "      <td>3.4</td>\n",
       "    </tr>\n",
       "    <tr>\n",
       "      <th>2</th>\n",
       "      <td>Zurich</td>\n",
       "      <td>50 ans et plus</td>\n",
       "      <td>2.9</td>\n",
       "    </tr>\n",
       "    <tr>\n",
       "      <th>3</th>\n",
       "      <td>Berne</td>\n",
       "      <td>15-24 ans</td>\n",
       "      <td>2.8</td>\n",
       "    </tr>\n",
       "    <tr>\n",
       "      <th>4</th>\n",
       "      <td>Berne</td>\n",
       "      <td>25-49 ans</td>\n",
       "      <td>2.5</td>\n",
       "    </tr>\n",
       "  </tbody>\n",
       "</table>\n",
       "</div>"
      ],
      "text/plain": [
       "   Canton             Age Rate\n",
       "0  Zurich       15-24 ans  3.7\n",
       "1  Zurich       25-49 ans  3.4\n",
       "2  Zurich  50 ans et plus  2.9\n",
       "3   Berne       15-24 ans  2.8\n",
       "4   Berne       25-49 ans  2.5"
      ]
     },
     "execution_count": 361,
     "metadata": {},
     "output_type": "execute_result"
    }
   ],
   "source": [
    "df.head()"
   ]
  },
  {
   "cell_type": "markdown",
   "metadata": {},
   "source": [
    "We transform Canton and Age into categorical variable and Rate into a numeric value (str until now)"
   ]
  },
  {
   "cell_type": "code",
   "execution_count": 362,
   "metadata": {
    "collapsed": true
   },
   "outputs": [],
   "source": [
    "df['Canton'] = df.Canton.astype('category')\n",
    "df['Age'] = df.Age.astype('category')\n",
    "df['Rate'] = pd.to_numeric(df['Rate'])"
   ]
  },
  {
   "cell_type": "markdown",
   "metadata": {},
   "source": [
    "We eventually produce a barplot of age categories unemployment per canton:"
   ]
  },
  {
   "cell_type": "code",
   "execution_count": 363,
   "metadata": {},
   "outputs": [
    {
     "data": {
      "text/plain": [
       "<matplotlib.text.Text at 0x12e42c860>"
      ]
     },
     "execution_count": 363,
     "metadata": {},
     "output_type": "execute_result"
    },
    {
     "data": {
      "text/plain": [
       "<matplotlib.figure.Figure at 0x12a53b908>"
      ]
     },
     "metadata": {},
     "output_type": "display_data"
    },
    {
     "data": {
      "image/png": "[encoded data removed]",
      "text/plain": [
       "<matplotlib.figure.Figure at 0x12a53b940>"
      ]
     },
     "metadata": {},
     "output_type": "display_data"
    }
   ],
   "source": [
    "ax = plt.figure(figsize = (14,5))\n",
    "sns.factorplot(x = 'Rate', y ='Canton', hue = 'Age', data = df, kind='bar', size=15,orient=\"h\")\n",
    "g.set_xticklabels(labels = df['Canton'], rotation=90)\n",
    "ax.suptitle(\"Unemployment rate regarding age category in Switzerland\", fontsize=20, fontweight=\"bold\")"
   ]
  },
  {
   "cell_type": "markdown",
   "metadata": {
    "collapsed": true
   },
   "source": [
    "**From this barchart, we can see again than little central and estearn cantons have mostly the lowest eployment rates.\n",
    "Moreover,unemployment repartition among age category is quite unfirom unless cantons sucg as Tessin or Neuchatel which have a huge 15-24 rate or Geneva with high middle category**\n",
    "\n",
    "We can sump up this chart the following :\n",
    "- Age repartition is mostly uniform\n",
    "- When it's not, youngest category is most of the time the one which suffers the most from unemployment\n",
    "- Geneve is an exception with a middle category very represented\n",
    "- French speaking cantons such as Geneva, Vaud, Neuchatel and Jura as well Italian's one Tessin owns the highest peaks. This confirm that most of the economic production comes from the german's side dynamism. In addition, french cantons must suffer from french people coming to work in Switzerland probably dumping salaries."
   ]
  }
 ],
 "metadata": {
  "kernelspec": {
   "display_name": "Python 3",
   "language": "python",
   "name": "python3"
  },
  "language_info": {
   "codemirror_mode": {
    "name": "ipython",
    "version": 3
   },
   "file_extension": ".py",
   "mimetype": "text/x-python",
   "name": "python",
   "nbconvert_exporter": "python",
   "pygments_lexer": "ipython3",
   "version": "3.6.1"
  }
 },
 "nbformat": 4,
 "nbformat_minor": 2
}

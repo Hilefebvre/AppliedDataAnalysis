{
 "cells": [
  {
   "cell_type": "code",
   "execution_count": 238,
   "metadata": {},
   "outputs": [],
   "source": [
    "import pandas as pd\n",
    "import numpy as np\n",
    "import matplotlib.pyplot as plt\n",
    "import math\n",
    "import seaborn as sns\n",
    "%matplotlib inline\n",
    "\n",
    "from sklearn import linear_model\n",
    "import networkx as nx"
   ]
  },
  {
   "cell_type": "markdown",
   "metadata": {},
   "source": [
    "## Question 1: Propensity score matching\n",
    "\n",
    "In this exercise, you will apply [propensity score matching](http://www.stewartschultz.com/statistics/books/Design%20of%20observational%20studies.pdf), which we discussed in lecture 5 (\"Observational studies\"), in order to draw conclusions from an observational study.\n",
    "\n",
    "We will work with a by-now classic dataset from Robert LaLonde's study \"[Evaluating the Econometric Evaluations of Training Programs](http://people.hbs.edu/nashraf/LaLonde_1986.pdf)\" (1986).\n",
    "The study investigated the effect of a job training program (\"National Supported Work Demonstration\") on the real earnings of an individual, a couple of years after completion of the program.\n",
    "Your task is to determine the effectiveness of the \"treatment\" represented by the job training program.\n",
    "\n",
    "#### Dataset description\n",
    "\n",
    "- `treat`: 1 if the subject participated in the job training program, 0 otherwise\n",
    "- `age`: the subject's age\n",
    "- `educ`: years of education\n",
    "- `race`: categorical variable with three possible values: Black, Hispanic, or White\n",
    "- `married`: 1 if the subject was married at the time of the training program, 0 otherwise\n",
    "- `nodegree`: 1 if the subject has earned no school degree, 0 otherwise\n",
    "- `re74`: real earnings in 1974 (pre-treatment)\n",
    "- `re75`: real earnings in 1975 (pre-treatment)\n",
    "- `re78`: real earnings in 1978 (outcome)\n",
    "\n",
    "If you want to brush up your knowledge on propensity scores and observational studies, we highly recommend Rosenbaum's excellent book on the [\"Design of Observational Studies\"](http://www.stewartschultz.com/statistics/books/Design%20of%20observational%20studies.pdf). Even just reading the first chapter (18 pages) will help you a lot."
   ]
  },
  {
   "cell_type": "markdown",
   "metadata": {},
   "source": [
    "#### 1. A naive analysis\n",
    "\n",
    "Compare the distribution of the outcome variable (`re78`) between the two groups, using plots and numbers.\n",
    "To summarize and compare the distributions, you may use the techniques we discussed in lectures 4 (\"Read the stats carefully\") and 6 (\"Data visualization\").\n",
    "\n",
    "What might a naive \"researcher\" conclude from this superficial analysis?"
   ]
  },
  {
   "cell_type": "markdown",
   "metadata": {},
   "source": [
    "Let's first load the dataset "
   ]
  },
  {
   "cell_type": "code",
   "execution_count": 214,
   "metadata": {
    "scrolled": false
   },
   "outputs": [
    {
     "name": "stdout",
     "output_type": "stream",
     "text": [
      "Shape df_lalonde: (614, 11)\n"
     ]
    },
    {
     "data": {
      "text/html": [
       "<div>\n",
       "<style>\n",
       "    .dataframe thead tr:only-child th {\n",
       "        text-align: right;\n",
       "    }\n",
       "\n",
       "    .dataframe thead th {\n",
       "        text-align: left;\n",
       "    }\n",
       "\n",
       "    .dataframe tbody tr th {\n",
       "        vertical-align: top;\n",
       "    }\n",
       "</style>\n",
       "<table border=\"1\" class=\"dataframe\">\n",
       "  <thead>\n",
       "    <tr style=\"text-align: right;\">\n",
       "      <th></th>\n",
       "      <th>id</th>\n",
       "      <th>treat</th>\n",
       "      <th>age</th>\n",
       "      <th>educ</th>\n",
       "      <th>black</th>\n",
       "      <th>hispan</th>\n",
       "      <th>married</th>\n",
       "      <th>nodegree</th>\n",
       "      <th>re74</th>\n",
       "      <th>re75</th>\n",
       "      <th>re78</th>\n",
       "    </tr>\n",
       "  </thead>\n",
       "  <tbody>\n",
       "    <tr>\n",
       "      <th>0</th>\n",
       "      <td>NSW1</td>\n",
       "      <td>1</td>\n",
       "      <td>37</td>\n",
       "      <td>11</td>\n",
       "      <td>1</td>\n",
       "      <td>0</td>\n",
       "      <td>1</td>\n",
       "      <td>1</td>\n",
       "      <td>0.0</td>\n",
       "      <td>0.0</td>\n",
       "      <td>9930.0460</td>\n",
       "    </tr>\n",
       "    <tr>\n",
       "      <th>1</th>\n",
       "      <td>NSW2</td>\n",
       "      <td>1</td>\n",
       "      <td>22</td>\n",
       "      <td>9</td>\n",
       "      <td>0</td>\n",
       "      <td>1</td>\n",
       "      <td>0</td>\n",
       "      <td>1</td>\n",
       "      <td>0.0</td>\n",
       "      <td>0.0</td>\n",
       "      <td>3595.8940</td>\n",
       "    </tr>\n",
       "    <tr>\n",
       "      <th>2</th>\n",
       "      <td>NSW3</td>\n",
       "      <td>1</td>\n",
       "      <td>30</td>\n",
       "      <td>12</td>\n",
       "      <td>1</td>\n",
       "      <td>0</td>\n",
       "      <td>0</td>\n",
       "      <td>0</td>\n",
       "      <td>0.0</td>\n",
       "      <td>0.0</td>\n",
       "      <td>24909.4500</td>\n",
       "    </tr>\n",
       "    <tr>\n",
       "      <th>3</th>\n",
       "      <td>NSW4</td>\n",
       "      <td>1</td>\n",
       "      <td>27</td>\n",
       "      <td>11</td>\n",
       "      <td>1</td>\n",
       "      <td>0</td>\n",
       "      <td>0</td>\n",
       "      <td>1</td>\n",
       "      <td>0.0</td>\n",
       "      <td>0.0</td>\n",
       "      <td>7506.1460</td>\n",
       "    </tr>\n",
       "    <tr>\n",
       "      <th>4</th>\n",
       "      <td>NSW5</td>\n",
       "      <td>1</td>\n",
       "      <td>33</td>\n",
       "      <td>8</td>\n",
       "      <td>1</td>\n",
       "      <td>0</td>\n",
       "      <td>0</td>\n",
       "      <td>1</td>\n",
       "      <td>0.0</td>\n",
       "      <td>0.0</td>\n",
       "      <td>289.7899</td>\n",
       "    </tr>\n",
       "  </tbody>\n",
       "</table>\n",
       "</div>"
      ],
      "text/plain": [
       "     id  treat  age  educ  black  hispan  married  nodegree  re74  re75  \\\n",
       "0  NSW1      1   37    11      1       0        1         1   0.0   0.0   \n",
       "1  NSW2      1   22     9      0       1        0         1   0.0   0.0   \n",
       "2  NSW3      1   30    12      1       0        0         0   0.0   0.0   \n",
       "3  NSW4      1   27    11      1       0        0         1   0.0   0.0   \n",
       "4  NSW5      1   33     8      1       0        0         1   0.0   0.0   \n",
       "\n",
       "         re78  \n",
       "0   9930.0460  \n",
       "1   3595.8940  \n",
       "2  24909.4500  \n",
       "3   7506.1460  \n",
       "4    289.7899  "
      ]
     },
     "execution_count": 214,
     "metadata": {},
     "output_type": "execute_result"
    }
   ],
   "source": [
    "df_lalonde = pd.read_csv('lalonde.csv')\n",
    "print(\"Shape df_lalonde: {}\".format(df_lalonde.shape))\n",
    "df_lalonde.head()"
   ]
  },
  {
   "cell_type": "markdown",
   "metadata": {},
   "source": [
    "Let's get our dataset separated into 2 subsets: treated and untreated cases. We notice that we have a lot more untreated subjects than treated. "
   ]
  },
  {
   "cell_type": "code",
   "execution_count": 215,
   "metadata": {
    "scrolled": false
   },
   "outputs": [
    {
     "name": "stdout",
     "output_type": "stream",
     "text": [
      "Shape df_treated: (185, 12)\n",
      "Shape df_untreated: (429, 12)\n"
     ]
    }
   ],
   "source": [
    "# Divide dataset into treated and untreated\n",
    "df_treated = df_lalonde[df_lalonde['treat'] == 1].reset_index()\n",
    "print(\"Shape df_treated: {}\".format(df_treated.shape))\n",
    "\n",
    "df_untreated = df_lalonde[df_lalonde['treat'] == 0].reset_index()\n",
    "print(\"Shape df_untreated: {}\".format(df_untreated.shape))"
   ]
  },
  {
   "cell_type": "code",
   "execution_count": 216,
   "metadata": {
    "scrolled": true
   },
   "outputs": [
    {
     "name": "stdout",
     "output_type": "stream",
     "text": [
      "\n",
      "Description real earning in 1978 for treated subjects:\n",
      "count      185.000000\n",
      "mean      6349.143530\n",
      "std       7867.402218\n",
      "min          0.000000\n",
      "25%        485.229800\n",
      "50%       4232.309000\n",
      "75%       9642.999000\n",
      "max      60307.930000\n",
      "Name: re78, dtype: float64\n",
      "\n",
      "Description real earning in 1978 for untreated subjects:\n",
      "count      429.000000\n",
      "mean      6984.169742\n",
      "std       7294.161791\n",
      "min          0.000000\n",
      "25%        220.181300\n",
      "50%       4975.505000\n",
      "75%      11688.820000\n",
      "max      25564.670000\n",
      "Name: re78, dtype: float64\n"
     ]
    }
   ],
   "source": [
    "print(\"\\nDescription real earning in 1978 for treated subjects:\")\n",
    "print(df_treated['re78'].describe())\n",
    "\n",
    "print(\"\\nDescription real earning in 1978 for untreated subjects:\")\n",
    "print(df_untreated['re78'].describe())"
   ]
  },
  {
   "cell_type": "markdown",
   "metadata": {},
   "source": [
    "Before producing any plots, we take a look at the description of real earnings in 1978 for both subset:\n",
    "\n",
    "- **min** and **max**: We notice that the maximal earning for treated cases is way higher than for untreaded ones. This leads to think the job training is a real plus for people who attended. *However, let's take a look at other features.*\n",
    "\n",
    "\n",
    "- **mean** and **std**: Both the standard deviation and average of the values (6349 and 6984) are of the same order for both subset. Nevertheless, the average earning in 1978 for treated cases is lower than for untreated. This seems to be in contradiction with our first observation with the maximum values. The standard deviation is higher for our treated subset. Let's just think it is because the range of values is higher (naive approch).\n",
    "    \n",
    "    \n",
    "As we are not that naive, we start to see a contradiction between our two first observations, using basic statistics. However, when we take a look at others, such as the quartiles\n",
    "\n",
    "<span style=\"color:red\">**TODO**</span>\n",
    "\n",
    "___\n"
   ]
  },
  {
   "cell_type": "markdown",
   "metadata": {},
   "source": [
    "Now, let's take a look at our dataset graphically, to better understand what's going on in there.\n",
    "\n",
    "In order to visualize the distribution of real earnings in '78, we will use discrete intervals of earnings. We define intervals with a range of 2000. We create a new feature in our datasets to caracterize the earning range."
   ]
  },
  {
   "cell_type": "code",
   "execution_count": 217,
   "metadata": {},
   "outputs": [],
   "source": [
    "# Get minimum and maximum values of earning in '78 overall dataset\n",
    "re78_max_overall = np.max(df_lalonde['re78'])\n",
    "re78_min_overall = np.min(df_lalonde['re78'])\n",
    "\n",
    "# Define and create intervals and corresponding labels\n",
    "bins = np.arange(int(re78_min_overall), math.ceil(re78_max_overall) + 2000, 2000)\n",
    "labels = [str(bins[i]) + \"-\" + str(bins[i+1]) for i in range(0, len(bins) - 1)]   \n",
    "\n",
    "# As we would like to count the value \"0\" within the first range (closed intervals)\n",
    "bins[0] = bins[0] - 1\n",
    "\n",
    "# Divide by 're78' ranges in a new feature\n",
    "df_treated['re78_range'] = pd.cut(df_treated['re78'], bins = bins, labels = labels)\n",
    "df_untreated['re78_range'] = pd.cut(df_untreated['re78'], bins = bins, labels = labels)"
   ]
  },
  {
   "cell_type": "markdown",
   "metadata": {},
   "source": [
    "Now, let's take look at their distribution"
   ]
  },
  {
   "cell_type": "markdown",
   "metadata": {},
   "source": [
    "___ \n",
    "___ \n",
    "### Truc chelou"
   ]
  },
  {
   "cell_type": "code",
   "execution_count": 218,
   "metadata": {
    "scrolled": true
   },
   "outputs": [],
   "source": [
    "# # Plot distribution with distplot\n",
    "# fig, ax = plt.subplots(nrows = 2, ncols = 1, figsize = (20,8))\n",
    "# ax[0] = sns.distplot(df_treated['re78'], bins = bins, ax = ax[0])\n",
    "# ax[1] = sns.distplot(df_untreated['re78'], bins = bins, ax = ax[1])\n",
    "\n",
    "# ax[0].set(xlim=(0, re78_max_overall))\n",
    "# ax[0].set(ylim=(0, 0.0002))\n",
    "# ax[0].set_title(\"Distribution of re78 earning for treated cases\")\n",
    "\n",
    "# ax[1].set(xlim=(0, re78_max_overall))\n",
    "# ax[1].set(ylim=(0, 0.0002));\n",
    "# ax[1].set_title(\"Distribution of re78 earning for untreated cases\");\n"
   ]
  },
  {
   "cell_type": "markdown",
   "metadata": {},
   "source": [
    "**=> Chelou, par rapport à ma distribution d'en dessous... **\n",
    "\n",
    "Let me know ce que vous en pensez...\n",
    "### Fin du truc chelou\n",
    "___ \n",
    "_____"
   ]
  },
  {
   "cell_type": "markdown",
   "metadata": {},
   "source": []
  },
  {
   "cell_type": "code",
   "execution_count": 219,
   "metadata": {},
   "outputs": [],
   "source": [
    "def barplot_distrib(data, labels, title, ax):\n",
    "    \"\"\"Function to display the distribution of a pandas Series\n",
    "    return: values used for the y axis\"\"\"\n",
    "    \n",
    "    x = data.value_counts().keys()\n",
    "    y = 100 * data.value_counts() / data.shape[0]\n",
    "    \n",
    "    sns.barplot(x = x,  y = y, order = labels, ax = ax)\n",
    "    ax.set_xticklabels(ax.get_xticklabels(), rotation = 90)\n",
    "    ax.set_title(title, fontsize = 18)\n",
    "    return y"
   ]
  },
  {
   "cell_type": "code",
   "execution_count": 220,
   "metadata": {},
   "outputs": [
    {
     "data": {
      "image/png": "[encoded data removed]",
      "text/plain": [
       "<matplotlib.figure.Figure at 0x1daadce09b0>"
      ]
     },
     "metadata": {},
     "output_type": "display_data"
    }
   ],
   "source": [
    "# Plot repartition\n",
    "fig, ax = plt.subplots(nrows = 1, ncols = 2, figsize = (20,6))\n",
    "y_treated = barplot_distrib(df_treated['re78_range'], labels, 're78 by range for treated cases (%)', ax = ax[0])\n",
    "y_untreated = barplot_distrib(df_untreated['re78_range'], labels, 're78 by range for untreated cases (%)', ax = ax[1])\n",
    "\n",
    "# Set same y axis for both figure\n",
    "ax[0].set(ylim=(0, np.max([y_treated, y_untreated])+1));\n",
    "ax[1].set(ylim=(0, np.max([y_treated, y_untreated])+1));"
   ]
  },
  {
   "cell_type": "markdown",
   "metadata": {},
   "source": [
    "We have divided the earning in 1978 in ranges of 2000. We observe for both treated and untreated dataset, the repartition of the subjects within those categories. What we see is that earnings for the treated subset can be way higher than for the untreated cases. However, we cannot say that the overall earning is higher for treated subjects. \n",
    "Indeed, the percentage of low earning (0-2000) for treated cases is higher than for untreated. This goes against what a naive analysist could think by looking at maximum earnings.\n",
    "\n",
    "What we understand from this distribution is that very high earnings in the subset of people who attended the formation are indeed outliers. We can confirm that looking at the barplot below."
   ]
  },
  {
   "cell_type": "code",
   "execution_count": 221,
   "metadata": {},
   "outputs": [
    {
     "data": {
      "image/png": "[encoded data removed]",
      "text/plain": [
       "<matplotlib.figure.Figure at 0x1daad27edd8>"
      ]
     },
     "metadata": {},
     "output_type": "display_data"
    }
   ],
   "source": [
    "# Display barplot of real ear\n",
    "fig, ax = plt.subplots(figsize = (8,10))\n",
    "ax = sns.boxplot(x=\"treat\", y=\"re78\", data=df_lalonde)\n",
    "ax.set_xticklabels([\"untreated\", \"treated\"]);\n",
    "ax.set_title('Real earning in 1978 for people \\nwho attended the formation and people who didn\\'t', fontsize = 18);"
   ]
  },
  {
   "cell_type": "markdown",
   "metadata": {},
   "source": [
    "___\n",
    "<span style=\"color:red\">**TODO** short conclusion on this first naive analysis</span>\n",
    "___\n",
    "___"
   ]
  },
  {
   "cell_type": "markdown",
   "metadata": {},
   "source": [
    "\n",
    "#### 2. A closer look at the data\n",
    "\n",
    "You're not naive, of course (and even if you are, you've learned certain things in ADA), so you aren't content with a superficial analysis such as the above.\n",
    "You're aware of the dangers of observational studies, so you take a closer look at the data before jumping to conclusions.\n",
    "\n",
    "For each feature in the dataset, compare its distribution in the treated group with its distribution in the control group, using plots and numbers.\n",
    "As above, you may use the techniques we discussed in class for summarizing and comparing the distributions.\n",
    "\n",
    "What do you observe?\n",
    "Describe what your observations mean for the conclusions drawn by the naive \"researcher\" from his superficial analysis.\n"
   ]
  },
  {
   "cell_type": "markdown",
   "metadata": {},
   "source": [
    "- **Race** \n",
    "\n",
    "The race of a subject is available by combination of the features *black* and *hispan*. We consider that a subject is *white* if he is neither *black* nor *hispan*. We add a new columnto our dataset, that allows to know the race of a subject only by looking at this one. (Up to now, we had to check both *hispan* and *black* features. \n",
    "\n",
    "The `race` feature can be is define as follow:\n",
    "\n",
    "|**race**|**value**|\n",
    "|---|---|---|\n",
    "|Black|0|\n",
    "|Hispan|1|\n",
    "|White|2|\n",
    "\n"
   ]
  },
  {
   "cell_type": "code",
   "execution_count": 222,
   "metadata": {
    "scrolled": false
   },
   "outputs": [
    {
     "data": {
      "text/html": [
       "<div>\n",
       "<style>\n",
       "    .dataframe thead tr:only-child th {\n",
       "        text-align: right;\n",
       "    }\n",
       "\n",
       "    .dataframe thead th {\n",
       "        text-align: left;\n",
       "    }\n",
       "\n",
       "    .dataframe tbody tr th {\n",
       "        vertical-align: top;\n",
       "    }\n",
       "</style>\n",
       "<table border=\"1\" class=\"dataframe\">\n",
       "  <thead>\n",
       "    <tr style=\"text-align: right;\">\n",
       "      <th></th>\n",
       "      <th>id</th>\n",
       "      <th>treat</th>\n",
       "      <th>age</th>\n",
       "      <th>educ</th>\n",
       "      <th>black</th>\n",
       "      <th>hispan</th>\n",
       "      <th>married</th>\n",
       "      <th>nodegree</th>\n",
       "      <th>re74</th>\n",
       "      <th>re75</th>\n",
       "      <th>re78</th>\n",
       "      <th>race</th>\n",
       "    </tr>\n",
       "  </thead>\n",
       "  <tbody>\n",
       "    <tr>\n",
       "      <th>0</th>\n",
       "      <td>NSW1</td>\n",
       "      <td>1</td>\n",
       "      <td>37</td>\n",
       "      <td>11</td>\n",
       "      <td>1</td>\n",
       "      <td>0</td>\n",
       "      <td>1</td>\n",
       "      <td>1</td>\n",
       "      <td>0.0</td>\n",
       "      <td>0.0</td>\n",
       "      <td>9930.0460</td>\n",
       "      <td>0.0</td>\n",
       "    </tr>\n",
       "    <tr>\n",
       "      <th>1</th>\n",
       "      <td>NSW2</td>\n",
       "      <td>1</td>\n",
       "      <td>22</td>\n",
       "      <td>9</td>\n",
       "      <td>0</td>\n",
       "      <td>1</td>\n",
       "      <td>0</td>\n",
       "      <td>1</td>\n",
       "      <td>0.0</td>\n",
       "      <td>0.0</td>\n",
       "      <td>3595.8940</td>\n",
       "      <td>1.0</td>\n",
       "    </tr>\n",
       "    <tr>\n",
       "      <th>2</th>\n",
       "      <td>NSW3</td>\n",
       "      <td>1</td>\n",
       "      <td>30</td>\n",
       "      <td>12</td>\n",
       "      <td>1</td>\n",
       "      <td>0</td>\n",
       "      <td>0</td>\n",
       "      <td>0</td>\n",
       "      <td>0.0</td>\n",
       "      <td>0.0</td>\n",
       "      <td>24909.4500</td>\n",
       "      <td>0.0</td>\n",
       "    </tr>\n",
       "    <tr>\n",
       "      <th>3</th>\n",
       "      <td>NSW4</td>\n",
       "      <td>1</td>\n",
       "      <td>27</td>\n",
       "      <td>11</td>\n",
       "      <td>1</td>\n",
       "      <td>0</td>\n",
       "      <td>0</td>\n",
       "      <td>1</td>\n",
       "      <td>0.0</td>\n",
       "      <td>0.0</td>\n",
       "      <td>7506.1460</td>\n",
       "      <td>0.0</td>\n",
       "    </tr>\n",
       "    <tr>\n",
       "      <th>4</th>\n",
       "      <td>NSW5</td>\n",
       "      <td>1</td>\n",
       "      <td>33</td>\n",
       "      <td>8</td>\n",
       "      <td>1</td>\n",
       "      <td>0</td>\n",
       "      <td>0</td>\n",
       "      <td>1</td>\n",
       "      <td>0.0</td>\n",
       "      <td>0.0</td>\n",
       "      <td>289.7899</td>\n",
       "      <td>0.0</td>\n",
       "    </tr>\n",
       "  </tbody>\n",
       "</table>\n",
       "</div>"
      ],
      "text/plain": [
       "     id  treat  age  educ  black  hispan  married  nodegree  re74  re75  \\\n",
       "0  NSW1      1   37    11      1       0        1         1   0.0   0.0   \n",
       "1  NSW2      1   22     9      0       1        0         1   0.0   0.0   \n",
       "2  NSW3      1   30    12      1       0        0         0   0.0   0.0   \n",
       "3  NSW4      1   27    11      1       0        0         1   0.0   0.0   \n",
       "4  NSW5      1   33     8      1       0        0         1   0.0   0.0   \n",
       "\n",
       "         re78  race  \n",
       "0   9930.0460   0.0  \n",
       "1   3595.8940   1.0  \n",
       "2  24909.4500   0.0  \n",
       "3   7506.1460   0.0  \n",
       "4    289.7899   0.0  "
      ]
     },
     "execution_count": 222,
     "metadata": {},
     "output_type": "execute_result"
    }
   ],
   "source": [
    "for ind in range(df_lalonde.shape[0]):\n",
    "    if df_lalonde.loc[ind, 'black'] == 1 and df_lalonde.loc[ind, 'hispan'] == 0:\n",
    "        df_lalonde.loc[ind, 'race'] = int(0)\n",
    "    elif df_lalonde.loc[ind, 'black'] == 0 and df_lalonde.loc[ind, 'hispan'] == 1:\n",
    "        df_lalonde.loc[ind, 'race'] = int(1)\n",
    "    else:\n",
    "        df_lalonde.loc[ind, 'race'] = int(2)\n",
    "        \n",
    "df_lalonde.head()"
   ]
  },
  {
   "cell_type": "markdown",
   "metadata": {},
   "source": [
    "We also get those 3 subset into separate dataframe"
   ]
  },
  {
   "cell_type": "code",
   "execution_count": 223,
   "metadata": {},
   "outputs": [
    {
     "name": "stdout",
     "output_type": "stream",
     "text": [
      "Shape df_black: (243, 12)\n",
      "Shape df_hispan: (72, 12)\n",
      "Shape df_white: (299, 12)\n"
     ]
    }
   ],
   "source": [
    "# Divide dataset into black, hispan and white\n",
    "df_black = df_lalonde[df_lalonde['race'] == 0]\n",
    "print(\"Shape df_black: {}\".format(df_black.shape))\n",
    "\n",
    "df_hispan = df_lalonde[df_lalonde['race'] == 1]\n",
    "print(\"Shape df_hispan: {}\".format(df_hispan.shape))\n",
    "\n",
    "df_white = df_lalonde[df_lalonde['race'] == 2]\n",
    "print(\"Shape df_white: {}\".format(df_white.shape))"
   ]
  },
  {
   "cell_type": "code",
   "execution_count": 224,
   "metadata": {
    "scrolled": true
   },
   "outputs": [
    {
     "name": "stdout",
     "output_type": "stream",
     "text": [
      "\n",
      "Description real earning in 1978 for black subjects:\n",
      "count      243.000000\n",
      "mean      5677.014655\n",
      "std       7518.183805\n",
      "min          0.000000\n",
      "25%          0.000000\n",
      "50%       2820.980000\n",
      "75%       8983.838500\n",
      "max      60307.930000\n",
      "Name: re78, dtype: float64\n",
      "\n",
      "Description real earning in 1978 for hispanic subjects:\n",
      "count       72.000000\n",
      "mean      7106.696146\n",
      "std       7032.610243\n",
      "min          0.000000\n",
      "25%       1345.559750\n",
      "50%       5417.346000\n",
      "75%       9965.408000\n",
      "max      26817.600000\n",
      "Name: re78, dtype: float64\n",
      "\n",
      "Description real earning in 1978 for white subjects:\n",
      "count      299.000000\n",
      "mean      7624.092605\n",
      "std       7442.468534\n",
      "min          0.000000\n",
      "25%        857.820300\n",
      "50%       5748.356000\n",
      "75%      12653.770000\n",
      "max      25564.670000\n",
      "Name: re78, dtype: float64\n"
     ]
    }
   ],
   "source": [
    "print(\"\\nDescription real earning in 1978 for black subjects:\")\n",
    "print(df_black['re78'].describe())\n",
    "\n",
    "print(\"\\nDescription real earning in 1978 for hispanic subjects:\")\n",
    "print(df_hispan['re78'].describe())\n",
    "\n",
    "print(\"\\nDescription real earning in 1978 for white subjects:\")\n",
    "print(df_white['re78'].describe())"
   ]
  },
  {
   "cell_type": "markdown",
   "metadata": {},
   "source": [
    "As well as in the first question, a naive analysis leads us to contradictory conclusions. \n",
    "- We observe that black subjects can earn a lot more than others. However, their average real earning in 1978,is the lower overall 3 subsets. \n",
    "\n",
    "<span style=\"color:red\">**TODO**</span>"
   ]
  },
  {
   "cell_type": "code",
   "execution_count": 225,
   "metadata": {},
   "outputs": [
    {
     "name": "stderr",
     "output_type": "stream",
     "text": [
      "c:\\users\\prisgdd\\anaconda3\\lib\\site-packages\\ipykernel\\__main__.py:2: SettingWithCopyWarning: \n",
      "A value is trying to be set on a copy of a slice from a DataFrame.\n",
      "Try using .loc[row_indexer,col_indexer] = value instead\n",
      "\n",
      "See the caveats in the documentation: http://pandas.pydata.org/pandas-docs/stable/indexing.html#indexing-view-versus-copy\n",
      "  from ipykernel import kernelapp as app\n",
      "c:\\users\\prisgdd\\anaconda3\\lib\\site-packages\\ipykernel\\__main__.py:3: SettingWithCopyWarning: \n",
      "A value is trying to be set on a copy of a slice from a DataFrame.\n",
      "Try using .loc[row_indexer,col_indexer] = value instead\n",
      "\n",
      "See the caveats in the documentation: http://pandas.pydata.org/pandas-docs/stable/indexing.html#indexing-view-versus-copy\n",
      "  app.launch_new_instance()\n",
      "c:\\users\\prisgdd\\anaconda3\\lib\\site-packages\\ipykernel\\__main__.py:4: SettingWithCopyWarning: \n",
      "A value is trying to be set on a copy of a slice from a DataFrame.\n",
      "Try using .loc[row_indexer,col_indexer] = value instead\n",
      "\n",
      "See the caveats in the documentation: http://pandas.pydata.org/pandas-docs/stable/indexing.html#indexing-view-versus-copy\n"
     ]
    }
   ],
   "source": [
    "# Divide by re78 ranges in a new feature\n",
    "df_black['re78_range'] = pd.cut(df_black['re78'], bins = bins, labels = labels)\n",
    "df_hispan['re78_range'] = pd.cut(df_hispan['re78'], bins = bins, labels = labels)\n",
    "df_white['re78_range'] = pd.cut(df_white['re78'], bins = bins, labels = labels)"
   ]
  },
  {
   "cell_type": "code",
   "execution_count": 226,
   "metadata": {},
   "outputs": [
    {
     "data": {
      "image/png": "[encoded data removed]",
      "text/plain": [
       "<matplotlib.figure.Figure at 0x1daadf8a828>"
      ]
     },
     "metadata": {},
     "output_type": "display_data"
    }
   ],
   "source": [
    "# Plot repartition\n",
    "fig, ax = plt.subplots(nrows = 1, ncols = 3, figsize = (20,8))\n",
    "y_black = barplot_distrib(df_black['re78_range'], labels, 're78 by range for black cases (%)', ax = ax[0])\n",
    "y_hispan = barplot_distrib(df_hispan['re78_range'], labels, 're78 by range for hispan cases (%)', ax = ax[1])\n",
    "y_white = barplot_distrib(df_white['re78_range'], labels, 're78 by range for white cases (%)', ax = ax[2])\n",
    "\n",
    "ax[0].set(ylim=(0, np.max([y_black, y_hispan, y_white])+1));\n",
    "ax[1].set(ylim=(0, np.max([y_black, y_hispan, y_white])+1));\n",
    "ax[2].set(ylim=(0, np.max([y_black, y_hispan, y_white])+1));"
   ]
  },
  {
   "cell_type": "code",
   "execution_count": 227,
   "metadata": {
    "scrolled": true
   },
   "outputs": [
    {
     "data": {
      "image/png": "[encoded data removed]",
      "text/plain": [
       "<matplotlib.figure.Figure at 0x1daade204a8>"
      ]
     },
     "metadata": {},
     "output_type": "display_data"
    }
   ],
   "source": [
    "fig, ax = plt.subplots(figsize = (8,8))\n",
    "ax = sns.boxplot(x=\"race\", y=\"re78\", data=df_lalonde)\n",
    "ax.set_xticklabels([\"Black\", \"Hispan\", \"White\"]);"
   ]
  },
  {
   "cell_type": "markdown",
   "metadata": {},
   "source": [
    "According to this boxplot, we first see that white subjects earn more in average. However, some Black and Hispan subjects earn way more than White ones. \n",
    "\n",
    "Looking at the lower and upper quartile, we understand that black people tend to earn less, even if they have outliers that earn a lot.\n",
    "\n",
    "\n",
    "<span style=\"color:red\">**TODO**</span>\n",
    "\n",
    "Also,we should keep in mind the repartition in those 3 subsets. We have way less hispanic people who took part to this study."
   ]
  },
  {
   "cell_type": "markdown",
   "metadata": {},
   "source": [
    "- **education**"
   ]
  },
  {
   "cell_type": "code",
   "execution_count": 228,
   "metadata": {},
   "outputs": [
    {
     "data": {
      "image/png": "[encoded data removed]",
      "text/plain": [
       "<matplotlib.figure.Figure at 0x1daad6d66d8>"
      ]
     },
     "metadata": {},
     "output_type": "display_data"
    }
   ],
   "source": [
    "fig, ax = plt.subplots(figsize = (8,10))\n",
    "ax = sns.boxplot(x=\"educ\", y=\"re78\", data=df_lalonde)"
   ]
  },
  {
   "cell_type": "markdown",
   "metadata": {},
   "source": [
    "\n",
    "<span style=\"color:red\">**TODO**</span>"
   ]
  },
  {
   "cell_type": "markdown",
   "metadata": {},
   "source": [
    "___\n",
    "___"
   ]
  },
  {
   "cell_type": "markdown",
   "metadata": {},
   "source": [
    "\n",
    "#### 3. A propensity score model\n",
    "\n",
    "Use logistic regression to estimate propensity scores for all points in the dataset.\n",
    "You may use `sklearn` to fit the logistic regression model and apply it to each data point to obtain propensity scores:\n",
    "\n",
    "```python\n",
    "from sklearn import linear_model\n",
    "logistic = linear_model.LogisticRegression()\n",
    "```\n",
    "\n",
    "Recall that the propensity score of a data point represents its probability of receiving the treatment, based on its pre-treatment features (in this case, age, education, pre-treatment income, etc.).\n",
    "To brush up on propensity scores, you may read chapter 3.3 of the above-cited book by Rosenbaum or [this article](https://drive.google.com/file/d/0B4jctQY-uqhzTlpBaTBJRTJFVFE/view).\n",
    "\n",
    "Note: you do not need a train/test split here. Train and apply the model on the entire dataset. If you're wondering why this is the right thing to do in this situation, recall that the propensity score model is not used in order to make predictions about unseen data. Its sole purpose is to balance the dataset across treatment groups.\n",
    "(See p. 74 of Rosenbaum's book for an explanation why slight overfitting is even good for propensity scores.\n",
    "If you want even more information, read [this article](https://drive.google.com/file/d/0B4jctQY-uqhzTlpBaTBJRTJFVFE/view).)\n"
   ]
  },
  {
   "cell_type": "markdown",
   "metadata": {},
   "source": [
    "Let's build our logistic regression model, to determine the propensity score of a subject. As the **propensity score** is the probability of receiving the treatment, we will try to feat the `treat` feature\n",
    "- Input features are `age`, `educ`, `married`, `nodegree`, `re74`, `re75`, `race`, which represent pre-treatement features\n",
    "- Target feature is `treat`"
   ]
  },
  {
   "cell_type": "code",
   "execution_count": 229,
   "metadata": {
    "scrolled": true
   },
   "outputs": [],
   "source": [
    "logistic = linear_model.LogisticRegression()\n",
    "\n",
    "# Prepare data for logistic regression\n",
    "X = df_lalonde[['age', 'educ', 'married', 'nodegree', 're74', 're75', 'race']] \n",
    "y = np.ravel(df_lalonde[['treat']])\n",
    "\n",
    "# Train model\n",
    "logistic_fit = logistic.fit(X,y)"
   ]
  },
  {
   "cell_type": "markdown",
   "metadata": {},
   "source": [
    "We do not want to predict the probability of being treated for a subject. However, we simulate it for the 3 first subjects of our dataset, to see it works well. We could also create new input features."
   ]
  },
  {
   "cell_type": "code",
   "execution_count": 230,
   "metadata": {},
   "outputs": [
    {
     "name": "stdout",
     "output_type": "stream",
     "text": [
      "Propensity score for case 0: 0.6180468466678497\n",
      "Propensity score for case 1: 0.2957937492409513\n",
      "Propensity score for case 2: 0.696012053259992\n"
     ]
    }
   ],
   "source": [
    "# Probability of each prediction for the first 3 subjects \n",
    "proba_treated = logistic_fit.predict_proba(X.iloc[0:3])\n",
    "\n",
    "# Proprensity score is the probability to be treated, i.e. probability `treat` to be 1\n",
    "propensity_score = [elem[1] for elem in proba_treated]\n",
    "for ind, pp_score in enumerate(propensity_score):\n",
    "    print(\"Propensity score for case {}: {}\".format(ind, pp_score))"
   ]
  },
  {
   "cell_type": "markdown",
   "metadata": {},
   "source": [
    "#### 4. Balancing the dataset via matching\n",
    "\n",
    "Use the propensity scores to match each data point from the treated group with exactly one data point from the control group, while ensuring that each data point from the control group is matched with at most one data point from the treated group.\n",
    "(Hint: you may explore the `networkx` package in Python for predefined matching functions.)\n",
    "\n",
    "Your matching should maximize the similarity between matched subjects, as captured by their propensity scores.\n",
    "In other words, the sum (over all matched pairs) of absolute propensity-score differences between the two matched subjects should be minimized.\n",
    "\n",
    "After matching, you have as many treated as you have control subjects.\n",
    "Compare the outcomes (`re78`) between the two groups (treated and control).\n",
    "\n",
    "Also, compare again the feature-value distributions between the two groups, as you've done in part 2 above, but now only for the matched subjects.\n",
    "What do you observe?\n",
    "Are you closer to being able to draw valid conclusions now than you were before?\n"
   ]
  },
  {
   "cell_type": "markdown",
   "metadata": {},
   "source": [
    "We update our subset treated and untreated, for them to have the race feature."
   ]
  },
  {
   "cell_type": "code",
   "execution_count": 231,
   "metadata": {},
   "outputs": [],
   "source": [
    "for ind in range(df_treated.shape[0]):\n",
    "    if df_treated.loc[ind, 'black'] == 1 and df_treated.loc[ind, 'hispan'] == 0:\n",
    "        df_treated.loc[ind, 'race'] = int(0)\n",
    "    elif df_treated.loc[ind, 'black'] == 0 and df_treated.loc[ind, 'hispan'] == 1:\n",
    "        df_treated.loc[ind, 'race'] = int(1)\n",
    "    else:\n",
    "        df_treated.loc[ind, 'race'] = int(2)\n",
    "\n",
    "for ind in range(df_untreated.shape[0]):\n",
    "    if df_untreated.loc[ind, 'black'] == 1 and df_untreated.loc[ind, 'hispan'] == 0:\n",
    "        df_untreated.loc[ind, 'race'] = int(0)\n",
    "    elif df_untreated.loc[ind, 'black'] == 0 and df_untreated.loc[ind, 'hispan'] == 1:\n",
    "        df_untreated.loc[ind, 'race'] = int(1)\n",
    "    else:\n",
    "        df_untreated.loc[ind, 'race'] = int(2)"
   ]
  },
  {
   "cell_type": "code",
   "execution_count": 232,
   "metadata": {
    "scrolled": true
   },
   "outputs": [
    {
     "data": {
      "text/html": [
       "<div>\n",
       "<style>\n",
       "    .dataframe thead tr:only-child th {\n",
       "        text-align: right;\n",
       "    }\n",
       "\n",
       "    .dataframe thead th {\n",
       "        text-align: left;\n",
       "    }\n",
       "\n",
       "    .dataframe tbody tr th {\n",
       "        vertical-align: top;\n",
       "    }\n",
       "</style>\n",
       "<table border=\"1\" class=\"dataframe\">\n",
       "  <thead>\n",
       "    <tr style=\"text-align: right;\">\n",
       "      <th></th>\n",
       "      <th>age</th>\n",
       "      <th>educ</th>\n",
       "      <th>married</th>\n",
       "      <th>nodegree</th>\n",
       "      <th>re74</th>\n",
       "      <th>re75</th>\n",
       "      <th>race</th>\n",
       "    </tr>\n",
       "  </thead>\n",
       "  <tbody>\n",
       "    <tr>\n",
       "      <th>0</th>\n",
       "      <td>37</td>\n",
       "      <td>11</td>\n",
       "      <td>1</td>\n",
       "      <td>1</td>\n",
       "      <td>0.0</td>\n",
       "      <td>0.0</td>\n",
       "      <td>0.0</td>\n",
       "    </tr>\n",
       "    <tr>\n",
       "      <th>1</th>\n",
       "      <td>22</td>\n",
       "      <td>9</td>\n",
       "      <td>0</td>\n",
       "      <td>1</td>\n",
       "      <td>0.0</td>\n",
       "      <td>0.0</td>\n",
       "      <td>1.0</td>\n",
       "    </tr>\n",
       "    <tr>\n",
       "      <th>2</th>\n",
       "      <td>30</td>\n",
       "      <td>12</td>\n",
       "      <td>0</td>\n",
       "      <td>0</td>\n",
       "      <td>0.0</td>\n",
       "      <td>0.0</td>\n",
       "      <td>0.0</td>\n",
       "    </tr>\n",
       "    <tr>\n",
       "      <th>3</th>\n",
       "      <td>27</td>\n",
       "      <td>11</td>\n",
       "      <td>0</td>\n",
       "      <td>1</td>\n",
       "      <td>0.0</td>\n",
       "      <td>0.0</td>\n",
       "      <td>0.0</td>\n",
       "    </tr>\n",
       "    <tr>\n",
       "      <th>4</th>\n",
       "      <td>33</td>\n",
       "      <td>8</td>\n",
       "      <td>0</td>\n",
       "      <td>1</td>\n",
       "      <td>0.0</td>\n",
       "      <td>0.0</td>\n",
       "      <td>0.0</td>\n",
       "    </tr>\n",
       "  </tbody>\n",
       "</table>\n",
       "</div>"
      ],
      "text/plain": [
       "   age  educ  married  nodegree  re74  re75  race\n",
       "0   37    11        1         1   0.0   0.0   0.0\n",
       "1   22     9        0         1   0.0   0.0   1.0\n",
       "2   30    12        0         0   0.0   0.0   0.0\n",
       "3   27    11        0         1   0.0   0.0   0.0\n",
       "4   33     8        0         1   0.0   0.0   0.0"
      ]
     },
     "execution_count": 232,
     "metadata": {},
     "output_type": "execute_result"
    }
   ],
   "source": [
    "X_treated = df_treated[['age', 'educ', 'married', 'nodegree', 're74', 're75', 'race']] \n",
    "X_treated.head()"
   ]
  },
  {
   "cell_type": "code",
   "execution_count": 233,
   "metadata": {
    "scrolled": true
   },
   "outputs": [
    {
     "data": {
      "text/html": [
       "<div>\n",
       "<style>\n",
       "    .dataframe thead tr:only-child th {\n",
       "        text-align: right;\n",
       "    }\n",
       "\n",
       "    .dataframe thead th {\n",
       "        text-align: left;\n",
       "    }\n",
       "\n",
       "    .dataframe tbody tr th {\n",
       "        vertical-align: top;\n",
       "    }\n",
       "</style>\n",
       "<table border=\"1\" class=\"dataframe\">\n",
       "  <thead>\n",
       "    <tr style=\"text-align: right;\">\n",
       "      <th></th>\n",
       "      <th>age</th>\n",
       "      <th>educ</th>\n",
       "      <th>married</th>\n",
       "      <th>nodegree</th>\n",
       "      <th>re74</th>\n",
       "      <th>re75</th>\n",
       "      <th>race</th>\n",
       "    </tr>\n",
       "  </thead>\n",
       "  <tbody>\n",
       "    <tr>\n",
       "      <th>0</th>\n",
       "      <td>37</td>\n",
       "      <td>11</td>\n",
       "      <td>1</td>\n",
       "      <td>1</td>\n",
       "      <td>0.0</td>\n",
       "      <td>0.0</td>\n",
       "      <td>0.0</td>\n",
       "    </tr>\n",
       "    <tr>\n",
       "      <th>1</th>\n",
       "      <td>22</td>\n",
       "      <td>9</td>\n",
       "      <td>0</td>\n",
       "      <td>1</td>\n",
       "      <td>0.0</td>\n",
       "      <td>0.0</td>\n",
       "      <td>1.0</td>\n",
       "    </tr>\n",
       "    <tr>\n",
       "      <th>2</th>\n",
       "      <td>30</td>\n",
       "      <td>12</td>\n",
       "      <td>0</td>\n",
       "      <td>0</td>\n",
       "      <td>0.0</td>\n",
       "      <td>0.0</td>\n",
       "      <td>0.0</td>\n",
       "    </tr>\n",
       "    <tr>\n",
       "      <th>3</th>\n",
       "      <td>27</td>\n",
       "      <td>11</td>\n",
       "      <td>0</td>\n",
       "      <td>1</td>\n",
       "      <td>0.0</td>\n",
       "      <td>0.0</td>\n",
       "      <td>0.0</td>\n",
       "    </tr>\n",
       "    <tr>\n",
       "      <th>4</th>\n",
       "      <td>33</td>\n",
       "      <td>8</td>\n",
       "      <td>0</td>\n",
       "      <td>1</td>\n",
       "      <td>0.0</td>\n",
       "      <td>0.0</td>\n",
       "      <td>0.0</td>\n",
       "    </tr>\n",
       "  </tbody>\n",
       "</table>\n",
       "</div>"
      ],
      "text/plain": [
       "   age  educ  married  nodegree  re74  re75  race\n",
       "0   37    11        1         1   0.0   0.0   0.0\n",
       "1   22     9        0         1   0.0   0.0   1.0\n",
       "2   30    12        0         0   0.0   0.0   0.0\n",
       "3   27    11        0         1   0.0   0.0   0.0\n",
       "4   33     8        0         1   0.0   0.0   0.0"
      ]
     },
     "execution_count": 233,
     "metadata": {},
     "output_type": "execute_result"
    }
   ],
   "source": [
    "X_untreated = df_untreated[['age', 'educ', 'married', 'nodegree', 're74', 're75', 'race']] \n",
    "X_treated.head()"
   ]
  },
  {
   "cell_type": "markdown",
   "metadata": {},
   "source": [
    "We compute the propensity score for both subset. We add the result in a new column of each dataframe, in order to realise a matching later."
   ]
  },
  {
   "cell_type": "code",
   "execution_count": 237,
   "metadata": {},
   "outputs": [],
   "source": [
    "# Probability of each prediction for treated and untreated subsets \n",
    "proba_treated = logistic_fit.predict_proba(X_treated)\n",
    "proba_untreated = logistic_fit.predict_proba(X_untreated)\n",
    "\n",
    "# Proprensity score is the probability to be treated, i.e. probability `treat` to be 1\n",
    "pp_score_treated = [elem[1] for elem in proba_treated]\n",
    "pp_score_untreated = [elem[1] for elem in proba_untreated]\n",
    "\n",
    "for ind, pp_score in enumerate(pp_score_treated):\n",
    "    df_treated.loc[ind, 'propensity_score'] = pp_score\n",
    "\n",
    "for ind, pp_score in enumerate(pp_score_untreated):\n",
    "    df_untreated.loc[ind, 'propensity_score'] = pp_score"
   ]
  },
  {
   "cell_type": "markdown",
   "metadata": {},
   "source": [
    "In order to lead an acceptable study, we would like as much as possible to match a treated subject to an untreated one. Matched subjects are paired, if we can qualify of \"similar\", meaning they have similar observed covariates. \n",
    "\n",
    "Of course, two subject cannot be completely similar as there are a lot of unoberserved covariate that we don't have access to. However, the propensity score is based on these observed covariates.\n",
    "\n",
    "Hence, two subjects are paired, if they were similarly likely to be treated, i.e. they have similar propensity score."
   ]
  },
  {
   "cell_type": "markdown",
   "metadata": {},
   "source": [
    "To do so, we will use the `networkx` package, available with Python. "
   ]
  },
  {
   "cell_type": "code",
   "execution_count": 244,
   "metadata": {},
   "outputs": [],
   "source": [
    "# graph = nx.from_pandas_dataframe(df_treated, source = 'propensity_score', target = ['age', 'educ', 'married', 'nodegree', 're74', 're75', 'race'])\n",
    "# graph = nx.from_pandas_dataframe(df_treated, source = 'propensity_score', target = 'age')\n"
   ]
  },
  {
   "cell_type": "code",
   "execution_count": null,
   "metadata": {},
   "outputs": [],
   "source": []
  },
  {
   "cell_type": "code",
   "execution_count": null,
   "metadata": {},
   "outputs": [],
   "source": []
  },
  {
   "cell_type": "code",
   "execution_count": null,
   "metadata": {},
   "outputs": [],
   "source": []
  },
  {
   "cell_type": "code",
   "execution_count": null,
   "metadata": {},
   "outputs": [],
   "source": []
  },
  {
   "cell_type": "markdown",
   "metadata": {},
   "source": [
    "#### 5. Balancing the groups further\n",
    "\n",
    "Based on your comparison of feature-value distributions from part 4, are you fully satisfied with your matching?\n",
    "Would you say your dataset is sufficiently balanced?\n",
    "If not, in what ways could the \"balanced\" dataset you have obtained still not allow you to draw valid conclusions?\n",
    "\n",
    "Improve your matching by explicitly making sure that you match only subjects that have the same value for the problematic feature.\n",
    "Argue with numbers and plots that the two groups (treated and control) are now better balanced than after part 4.\n",
    "\n"
   ]
  },
  {
   "cell_type": "code",
   "execution_count": null,
   "metadata": {},
   "outputs": [],
   "source": []
  },
  {
   "cell_type": "markdown",
   "metadata": {},
   "source": [
    "#### 6. A less naive analysis\n",
    "\n",
    "Compare the outcomes (`re78`) between treated and control subjects, as you've done in part 1, but now only for the matched dataset you've obtained from part 5.\n",
    "What do you conclude about the effectiveness of the job training program?\n",
    "\n"
   ]
  },
  {
   "cell_type": "code",
   "execution_count": null,
   "metadata": {},
   "outputs": [],
   "source": []
  },
  {
   "cell_type": "code",
   "execution_count": null,
   "metadata": {},
   "outputs": [],
   "source": []
  },
  {
   "cell_type": "markdown",
   "metadata": {},
   "source": [
    "_____"
   ]
  },
  {
   "cell_type": "markdown",
   "metadata": {},
   "source": [
    "### Question 2\n",
    "_____\n",
    "\n",
    "We are going to build a classifier of news to directly assign them to 20 news categories. Note that the pipeline that you will build in this exercise could be of great help during your project if you plan to work with text!\n",
    "\n",
    "**1.** Load the 20newsgroup dataset. It is, again, a classic dataset that can directly be loaded using sklearn ([link](http://scikit-learn.org/stable/datasets/twenty_newsgroups.html)).  \n",
    "[TF-IDF](https://en.wikipedia.org/wiki/Tf%E2%80%93idf), short for term frequency–inverse document frequency, is of great help when if comes to compute textual features. Indeed, it gives more importance to terms that are more specific to the considered articles (TF) but reduces the importance of terms that are very frequent in the entire corpus (IDF). Compute TF-IDF features for every article using [TfidfVectorizer](http://scikit-learn.org/stable/modules/generated/sklearn.feature_extraction.text.TfidfVectorizer.html). Then, split your dataset into a training, a testing and a validation set (10% for validation and 10% for testing). Each observation should be paired with its corresponding label (the article category).\n"
   ]
  },
  {
   "cell_type": "code",
   "execution_count": null,
   "metadata": {},
   "outputs": [],
   "source": []
  },
  {
   "cell_type": "code",
   "execution_count": null,
   "metadata": {},
   "outputs": [],
   "source": []
  },
  {
   "cell_type": "code",
   "execution_count": null,
   "metadata": {},
   "outputs": [],
   "source": []
  },
  {
   "cell_type": "markdown",
   "metadata": {},
   "source": [
    "**2.** Train a random forest on your training set. Try to fine-tune the parameters of your predictor on your validation set using a simple grid search on the number of estimator \"n_estimators\" and the max depth of the trees \"max_depth\". Then, display a confusion matrix of your classification pipeline. Lastly, once you assessed your model, inspect the `feature_importances_` attribute of your random forest and discuss the obtained results."
   ]
  }
 ],
 "metadata": {
  "kernelspec": {
   "display_name": "Python [default]",
   "language": "python",
   "name": "python3"
  },
  "language_info": {
   "codemirror_mode": {
    "name": "ipython",
    "version": 3
   },
   "file_extension": ".py",
   "mimetype": "text/x-python",
   "name": "python",
   "nbconvert_exporter": "python",
   "pygments_lexer": "ipython3",
   "version": "3.6.1"
  }
 },
 "nbformat": 4,
 "nbformat_minor": 2
}

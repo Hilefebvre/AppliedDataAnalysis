{
 "cells": [
  {
   "cell_type": "code",
   "execution_count": 389,
   "metadata": {
    "collapsed": true
   },
   "outputs": [],
   "source": [
    "%matplotlib inline\n",
    "import pandas as pd\n",
    "import warnings\n",
    "warnings.filterwarnings('ignore')\n",
    "import numpy as np\n",
    "import matplotlib.pyplot as plt\n",
    "import math\n",
    "import seaborn as sns\n",
    "from pylab import meshgrid,cm,imshow,contour,clabel,colorbar,axis,title,show\n",
    "from sklearn import linear_model\n",
    "from sklearn.ensemble import RandomForestClassifier\n",
    "from sklearn.model_selection import train_test_split\n",
    "from sklearn.metrics import accuracy_score\n",
    "import networkx as nx"
   ]
  },
  {
   "cell_type": "markdown",
   "metadata": {},
   "source": [
    "## Question 1: Propensity score matching\n",
    "\n",
    "In this exercise, you will apply [propensity score matching](http://www.stewartschultz.com/statistics/books/Design%20of%20observational%20studies.pdf), which we discussed in lecture 5 (\"Observational studies\"), in order to draw conclusions from an observational study.\n",
    "\n",
    "We will work with a by-now classic dataset from Robert LaLonde's study \"[Evaluating the Econometric Evaluations of Training Programs](http://people.hbs.edu/nashraf/LaLonde_1986.pdf)\" (1986).\n",
    "The study investigated the effect of a job training program (\"National Supported Work Demonstration\") on the real earnings of an individual, a couple of years after completion of the program.\n",
    "Your task is to determine the effectiveness of the \"treatment\" represented by the job training program.\n",
    "\n",
    "#### Dataset description\n",
    "\n",
    "- `treat`: 1 if the subject participated in the job training program, 0 otherwise\n",
    "- `age`: the subject's age\n",
    "- `educ`: years of education\n",
    "- `race`: categorical variable with three possible values: Black, Hispanic, or White\n",
    "- `married`: 1 if the subject was married at the time of the training program, 0 otherwise\n",
    "- `nodegree`: 1 if the subject has earned no school degree, 0 otherwise\n",
    "- `re74`: real earnings in 1974 (pre-treatment)\n",
    "- `re75`: real earnings in 1975 (pre-treatment)\n",
    "- `re78`: real earnings in 1978 (outcome)\n",
    "\n",
    "If you want to brush up your knowledge on propensity scores and observational studies, we highly recommend Rosenbaum's excellent book on the [\"Design of Observational Studies\"](http://www.stewartschultz.com/statistics/books/Design%20of%20observational%20studies.pdf). Even just reading the first chapter (18 pages) will help you a lot."
   ]
  },
  {
   "cell_type": "markdown",
   "metadata": {},
   "source": [
    "#### 1. A naive analysis\n",
    "\n",
    "Compare the distribution of the outcome variable (`re78`) between the two groups, using plots and numbers.\n",
    "To summarize and compare the distributions, you may use the techniques we discussed in lectures 4 (\"Read the stats carefully\") and 6 (\"Data visualization\").\n",
    "\n",
    "What might a naive \"researcher\" conclude from this superficial analysis?\n",
    "\n",
    "___"
   ]
  },
  {
   "cell_type": "markdown",
   "metadata": {},
   "source": [
    "Let's first load the dataset "
   ]
  },
  {
   "cell_type": "code",
   "execution_count": 390,
   "metadata": {
    "scrolled": false
   },
   "outputs": [
    {
     "name": "stdout",
     "output_type": "stream",
     "text": [
      "Shape df_lalonde: (614, 11)\n"
     ]
    },
    {
     "data": {
      "text/html": [
       "<div>\n",
       "<style>\n",
       "    .dataframe thead tr:only-child th {\n",
       "        text-align: right;\n",
       "    }\n",
       "\n",
       "    .dataframe thead th {\n",
       "        text-align: left;\n",
       "    }\n",
       "\n",
       "    .dataframe tbody tr th {\n",
       "        vertical-align: top;\n",
       "    }\n",
       "</style>\n",
       "<table border=\"1\" class=\"dataframe\">\n",
       "  <thead>\n",
       "    <tr style=\"text-align: right;\">\n",
       "      <th></th>\n",
       "      <th>id</th>\n",
       "      <th>treat</th>\n",
       "      <th>age</th>\n",
       "      <th>educ</th>\n",
       "      <th>black</th>\n",
       "      <th>hispan</th>\n",
       "      <th>married</th>\n",
       "      <th>nodegree</th>\n",
       "      <th>re74</th>\n",
       "      <th>re75</th>\n",
       "      <th>re78</th>\n",
       "    </tr>\n",
       "  </thead>\n",
       "  <tbody>\n",
       "    <tr>\n",
       "      <th>0</th>\n",
       "      <td>NSW1</td>\n",
       "      <td>1</td>\n",
       "      <td>37</td>\n",
       "      <td>11</td>\n",
       "      <td>1</td>\n",
       "      <td>0</td>\n",
       "      <td>1</td>\n",
       "      <td>1</td>\n",
       "      <td>0.0</td>\n",
       "      <td>0.0</td>\n",
       "      <td>9930.0460</td>\n",
       "    </tr>\n",
       "    <tr>\n",
       "      <th>1</th>\n",
       "      <td>NSW2</td>\n",
       "      <td>1</td>\n",
       "      <td>22</td>\n",
       "      <td>9</td>\n",
       "      <td>0</td>\n",
       "      <td>1</td>\n",
       "      <td>0</td>\n",
       "      <td>1</td>\n",
       "      <td>0.0</td>\n",
       "      <td>0.0</td>\n",
       "      <td>3595.8940</td>\n",
       "    </tr>\n",
       "    <tr>\n",
       "      <th>2</th>\n",
       "      <td>NSW3</td>\n",
       "      <td>1</td>\n",
       "      <td>30</td>\n",
       "      <td>12</td>\n",
       "      <td>1</td>\n",
       "      <td>0</td>\n",
       "      <td>0</td>\n",
       "      <td>0</td>\n",
       "      <td>0.0</td>\n",
       "      <td>0.0</td>\n",
       "      <td>24909.4500</td>\n",
       "    </tr>\n",
       "    <tr>\n",
       "      <th>3</th>\n",
       "      <td>NSW4</td>\n",
       "      <td>1</td>\n",
       "      <td>27</td>\n",
       "      <td>11</td>\n",
       "      <td>1</td>\n",
       "      <td>0</td>\n",
       "      <td>0</td>\n",
       "      <td>1</td>\n",
       "      <td>0.0</td>\n",
       "      <td>0.0</td>\n",
       "      <td>7506.1460</td>\n",
       "    </tr>\n",
       "    <tr>\n",
       "      <th>4</th>\n",
       "      <td>NSW5</td>\n",
       "      <td>1</td>\n",
       "      <td>33</td>\n",
       "      <td>8</td>\n",
       "      <td>1</td>\n",
       "      <td>0</td>\n",
       "      <td>0</td>\n",
       "      <td>1</td>\n",
       "      <td>0.0</td>\n",
       "      <td>0.0</td>\n",
       "      <td>289.7899</td>\n",
       "    </tr>\n",
       "  </tbody>\n",
       "</table>\n",
       "</div>"
      ],
      "text/plain": [
       "     id  treat  age  educ  black  hispan  married  nodegree  re74  re75  \\\n",
       "0  NSW1      1   37    11      1       0        1         1   0.0   0.0   \n",
       "1  NSW2      1   22     9      0       1        0         1   0.0   0.0   \n",
       "2  NSW3      1   30    12      1       0        0         0   0.0   0.0   \n",
       "3  NSW4      1   27    11      1       0        0         1   0.0   0.0   \n",
       "4  NSW5      1   33     8      1       0        0         1   0.0   0.0   \n",
       "\n",
       "         re78  \n",
       "0   9930.0460  \n",
       "1   3595.8940  \n",
       "2  24909.4500  \n",
       "3   7506.1460  \n",
       "4    289.7899  "
      ]
     },
     "execution_count": 390,
     "metadata": {},
     "output_type": "execute_result"
    }
   ],
   "source": [
    "df_lalonde = pd.read_csv('lalonde.csv')\n",
    "print(\"Shape df_lalonde: {}\".format(df_lalonde.shape))\n",
    "df_lalonde.head()"
   ]
  },
  {
   "cell_type": "markdown",
   "metadata": {},
   "source": [
    "Let's get our dataset separated into 2 subsets: treated and untreated cases. We notice that we have a lot more untreated subjects than treated. "
   ]
  },
  {
   "cell_type": "code",
   "execution_count": 391,
   "metadata": {
    "scrolled": false
   },
   "outputs": [
    {
     "name": "stdout",
     "output_type": "stream",
     "text": [
      "Number of treated subjects: 185\n",
      "Number of untreated subjects: 429\n"
     ]
    }
   ],
   "source": [
    "# Divide dataset into treated and untreated\n",
    "df_treated = df_lalonde[df_lalonde['treat'] == 1].reset_index()\n",
    "print(\"Number of treated subjects: {}\".format(df_treated.shape[0]))\n",
    "\n",
    "df_untreated = df_lalonde[df_lalonde['treat'] == 0].reset_index()\n",
    "print(\"Number of untreated subjects: {}\".format(df_untreated.shape[0]))"
   ]
  },
  {
   "cell_type": "code",
   "execution_count": 392,
   "metadata": {
    "scrolled": true
   },
   "outputs": [
    {
     "name": "stdout",
     "output_type": "stream",
     "text": [
      "\n",
      "Description real earning in 1978 for treated subjects:\n",
      "count      185.000000\n",
      "mean      6349.143530\n",
      "std       7867.402218\n",
      "min          0.000000\n",
      "25%        485.229800\n",
      "50%       4232.309000\n",
      "75%       9642.999000\n",
      "max      60307.930000\n",
      "Name: re78, dtype: float64\n",
      "\n",
      "Description real earning in 1978 for untreated subjects:\n",
      "count      429.000000\n",
      "mean      6984.169742\n",
      "std       7294.161791\n",
      "min          0.000000\n",
      "25%        220.181300\n",
      "50%       4975.505000\n",
      "75%      11688.820000\n",
      "max      25564.670000\n",
      "Name: re78, dtype: float64\n"
     ]
    }
   ],
   "source": [
    "print(\"\\nDescription real earning in 1978 for treated subjects:\")\n",
    "print(df_treated['re78'].describe())\n",
    "\n",
    "print(\"\\nDescription real earning in 1978 for untreated subjects:\")\n",
    "print(df_untreated['re78'].describe())"
   ]
  },
  {
   "cell_type": "markdown",
   "metadata": {},
   "source": [
    "Before producing any plots, we take a look at the description of real earnings in 1978 for both subset:\n",
    "\n",
    "1. If we observe only the **min** and **max** values, we notice that the maximal earning for treated cases is way higher than for untreaded ones. This leads to think the job training is a real plus for people who attended it. \n",
    "\n",
    "2. If we observe **mean** and **std** values: Both the standard deviation and average of the values (6349 and 6984) are of the same order for both subset. Nevertheless, the average earning in 1978 for treated cases is lower than for untreated. The standard deviation is higher for our treated subset. Let's just think it is because the range of values is higher (naive approch).\n",
    "    \n",
    "    \n",
    "As we are not that naive, we start to see a contradiction between our two first observations, using basic statistics. However, when we take a look at other features such as the quartiles, we see that:\n",
    "\n",
    "- the upper quartile is indeed higher for untreated subjects, which meets our observation **1.** above\n",
    "- the lower quartile is lower for untreated subjects, which tends to join our **2.** observation\n",
    "\n",
    "\n",
    "Now, let's take a look at our dataset graphically, to better understand what's going on in there.\n",
    "\n",
    "\n",
    "In order to visualize the distribution of real earnings in '78, we will use discrete intervals of earnings. We define intervals with a range of 2000. We create a new feature in our datasets to caracterize the earning range."
   ]
  },
  {
   "cell_type": "code",
   "execution_count": 393,
   "metadata": {
    "collapsed": true
   },
   "outputs": [],
   "source": [
    "# Get minimum and maximum values of earning in '78 overall dataset\n",
    "re78_max_overall = np.max(df_lalonde['re78'])\n",
    "re78_min_overall = np.min(df_lalonde['re78'])\n",
    "\n",
    "# Define and create intervals and corresponding labels\n",
    "bins = np.arange(int(re78_min_overall), math.ceil(re78_max_overall) + 2000, 2000)\n",
    "labels = [str(bins[i]) + \"-\" + str(bins[i+1]) for i in range(0, len(bins) - 1)]   \n",
    "\n",
    "# We would like to count the value \"0\" within the first range (closed intervals)\n",
    "bins[0] = bins[0] - 1\n",
    "\n",
    "# Divide by 're78' ranges in a new feature\n",
    "df_treated['re78_range'] = pd.cut(df_treated['re78'], bins = bins, labels = labels)\n",
    "df_untreated['re78_range'] = pd.cut(df_untreated['re78'], bins = bins, labels = labels)"
   ]
  },
  {
   "cell_type": "markdown",
   "metadata": {},
   "source": [
    "Now, let's take look at their distribution"
   ]
  },
  {
   "cell_type": "code",
   "execution_count": 394,
   "metadata": {
    "collapsed": true
   },
   "outputs": [],
   "source": [
    "\n",
    "def barplot_distrib(data, labels, title, ax):\n",
    "    \"\"\"Function to display the distribution of a pandas Series\n",
    "    return: values used for the y axis\"\"\"\n",
    "    \n",
    "    x = data.value_counts().keys()\n",
    "    y = 100 * data.value_counts() / data.shape[0]\n",
    "    \n",
    "    sns.barplot(x = x,  y = y, order = labels, ax = ax)\n",
    "    ax.set_xticklabels(ax.get_xticklabels(), rotation = 90)\n",
    "    ax.set_title(title, fontsize = 18)\n",
    "    return y"
   ]
  },
  {
   "cell_type": "code",
   "execution_count": 395,
   "metadata": {},
   "outputs": [
    {
     "data": {
      "image/png": "[encoded data removed]",
      "text/plain": [
       "<matplotlib.figure.Figure at 0x11a242a90>"
      ]
     },
     "metadata": {},
     "output_type": "display_data"
    }
   ],
   "source": [
    "# Plot repartition\n",
    "fig, ax = plt.subplots(nrows = 1, ncols = 2, figsize = (20,6))\n",
    "y_treated = barplot_distrib(df_treated['re78_range'], labels, 're78 by range for treated cases (%)', ax = ax[0])\n",
    "y_untreated = barplot_distrib(df_untreated['re78_range'], labels, 're78 by range for untreated cases (%)', ax = ax[1])\n",
    "\n",
    "# Set same y axis for both figure\n",
    "ax[0].set(ylim=(0, np.max([y_treated, y_untreated])+1));\n",
    "ax[1].set(ylim=(0, np.max([y_treated, y_untreated])+1));"
   ]
  },
  {
   "cell_type": "markdown",
   "metadata": {},
   "source": [
    "We have divided the earning in 1978 in ranges of 2000. We observe for both treated and untreated datasets, the repartition of the subjects within those categories. What we see is that earnings for the treated subset can be way higher than for the untreated cases. However, we cannot say that the overall earning is higher for treated subjects. \n",
    "Indeed, the percentage of low earning (0-2000) for treated cases is higher than for untreated. This goes against what a naive analyst could think by looking at maximum earnings.\n",
    "\n",
    "What we understand from this distribution is that very high earnings in the subset of people who attended the formation are indeed outliers. We can confirm that looking at the barplot below."
   ]
  },
  {
   "cell_type": "code",
   "execution_count": 396,
   "metadata": {},
   "outputs": [
    {
     "data": {
      "image/png": "[encoded data removed]",
      "text/plain": [
       "<matplotlib.figure.Figure at 0x11a24c438>"
      ]
     },
     "metadata": {},
     "output_type": "display_data"
    }
   ],
   "source": [
    "# Display barplot of real earning in '78\n",
    "fig, ax = plt.subplots(figsize = (8,10))\n",
    "ax = sns.boxplot(x=\"treat\", y=\"re78\", data=df_lalonde)\n",
    "ax.set_xticklabels([\"untreated\", \"treated\"]);\n",
    "ax.set_title('Real earning in 1978 for people \\nwho attended the formation and people who didn\\'t', fontsize = 18);"
   ]
  },
  {
   "cell_type": "markdown",
   "metadata": {},
   "source": [
    "**Indeed, we understand from this boxplots that very high earnings in the treated subset are indeed outliers.**"
   ]
  },
  {
   "cell_type": "markdown",
   "metadata": {},
   "source": [
    "\n",
    "___"
   ]
  },
  {
   "cell_type": "markdown",
   "metadata": {},
   "source": [
    "\n",
    "#### 2. A closer look at the data\n",
    "\n",
    "You're not naive, of course (and even if you are, you've learned certain things in ADA), so you aren't content with a superficial analysis such as the above.\n",
    "You're aware of the dangers of observational studies, so you take a closer look at the data before jumping to conclusions.\n",
    "\n",
    "For each feature in the dataset, compare its distribution in the treated group with its distribution in the control group, using plots and numbers.\n",
    "As above, you may use the techniques we discussed in class for summarizing and comparing the distributions.\n",
    "\n",
    "What do you observe?\n",
    "Describe what your observations mean for the conclusions drawn by the naive \"researcher\" from his superficial analysis.\n",
    "\n",
    "___"
   ]
  },
  {
   "cell_type": "markdown",
   "metadata": {},
   "source": [
    "According to what we see above, looking at our data graphically gives a much better first impression than looking at partially at some features. Let's take a look at the other fetures this way.\n",
    "\n",
    "For each of them, we are going to:\n",
    "1. Observe minima, maxima, average et standard deviation. Even if those are not robust statistics.\n",
    "2. Observe "
   ]
  },
  {
   "cell_type": "markdown",
   "metadata": {},
   "source": [
    "- **Race** \n",
    "\n",
    "The race of a subject is available by combination of the features *black* and *hispan*. We consider that a subject is *white* if he is neither *black* nor *hispan*. We add a new column to our dataset, that allows to know the race of a subject only by looking at this specific column. (Up to now, we had to check both *hispan* and *black* features. \n",
    "\n",
    "We define the `race` as follow:\n",
    "\n",
    "|**race**|**value**|\n",
    "|---|---|---|\n",
    "|Black|0|\n",
    "|Hispan|1|\n",
    "|White|2|\n",
    "\n"
   ]
  },
  {
   "cell_type": "code",
   "execution_count": 397,
   "metadata": {
    "scrolled": false
   },
   "outputs": [
    {
     "data": {
      "text/html": [
       "<div>\n",
       "<style>\n",
       "    .dataframe thead tr:only-child th {\n",
       "        text-align: right;\n",
       "    }\n",
       "\n",
       "    .dataframe thead th {\n",
       "        text-align: left;\n",
       "    }\n",
       "\n",
       "    .dataframe tbody tr th {\n",
       "        vertical-align: top;\n",
       "    }\n",
       "</style>\n",
       "<table border=\"1\" class=\"dataframe\">\n",
       "  <thead>\n",
       "    <tr style=\"text-align: right;\">\n",
       "      <th></th>\n",
       "      <th>id</th>\n",
       "      <th>treat</th>\n",
       "      <th>age</th>\n",
       "      <th>educ</th>\n",
       "      <th>black</th>\n",
       "      <th>hispan</th>\n",
       "      <th>married</th>\n",
       "      <th>nodegree</th>\n",
       "      <th>re74</th>\n",
       "      <th>re75</th>\n",
       "      <th>re78</th>\n",
       "      <th>race</th>\n",
       "    </tr>\n",
       "  </thead>\n",
       "  <tbody>\n",
       "    <tr>\n",
       "      <th>0</th>\n",
       "      <td>NSW1</td>\n",
       "      <td>1</td>\n",
       "      <td>37</td>\n",
       "      <td>11</td>\n",
       "      <td>1</td>\n",
       "      <td>0</td>\n",
       "      <td>1</td>\n",
       "      <td>1</td>\n",
       "      <td>0.0</td>\n",
       "      <td>0.0</td>\n",
       "      <td>9930.0460</td>\n",
       "      <td>0.0</td>\n",
       "    </tr>\n",
       "    <tr>\n",
       "      <th>1</th>\n",
       "      <td>NSW2</td>\n",
       "      <td>1</td>\n",
       "      <td>22</td>\n",
       "      <td>9</td>\n",
       "      <td>0</td>\n",
       "      <td>1</td>\n",
       "      <td>0</td>\n",
       "      <td>1</td>\n",
       "      <td>0.0</td>\n",
       "      <td>0.0</td>\n",
       "      <td>3595.8940</td>\n",
       "      <td>1.0</td>\n",
       "    </tr>\n",
       "    <tr>\n",
       "      <th>2</th>\n",
       "      <td>NSW3</td>\n",
       "      <td>1</td>\n",
       "      <td>30</td>\n",
       "      <td>12</td>\n",
       "      <td>1</td>\n",
       "      <td>0</td>\n",
       "      <td>0</td>\n",
       "      <td>0</td>\n",
       "      <td>0.0</td>\n",
       "      <td>0.0</td>\n",
       "      <td>24909.4500</td>\n",
       "      <td>0.0</td>\n",
       "    </tr>\n",
       "    <tr>\n",
       "      <th>3</th>\n",
       "      <td>NSW4</td>\n",
       "      <td>1</td>\n",
       "      <td>27</td>\n",
       "      <td>11</td>\n",
       "      <td>1</td>\n",
       "      <td>0</td>\n",
       "      <td>0</td>\n",
       "      <td>1</td>\n",
       "      <td>0.0</td>\n",
       "      <td>0.0</td>\n",
       "      <td>7506.1460</td>\n",
       "      <td>0.0</td>\n",
       "    </tr>\n",
       "    <tr>\n",
       "      <th>4</th>\n",
       "      <td>NSW5</td>\n",
       "      <td>1</td>\n",
       "      <td>33</td>\n",
       "      <td>8</td>\n",
       "      <td>1</td>\n",
       "      <td>0</td>\n",
       "      <td>0</td>\n",
       "      <td>1</td>\n",
       "      <td>0.0</td>\n",
       "      <td>0.0</td>\n",
       "      <td>289.7899</td>\n",
       "      <td>0.0</td>\n",
       "    </tr>\n",
       "  </tbody>\n",
       "</table>\n",
       "</div>"
      ],
      "text/plain": [
       "     id  treat  age  educ  black  hispan  married  nodegree  re74  re75  \\\n",
       "0  NSW1      1   37    11      1       0        1         1   0.0   0.0   \n",
       "1  NSW2      1   22     9      0       1        0         1   0.0   0.0   \n",
       "2  NSW3      1   30    12      1       0        0         0   0.0   0.0   \n",
       "3  NSW4      1   27    11      1       0        0         1   0.0   0.0   \n",
       "4  NSW5      1   33     8      1       0        0         1   0.0   0.0   \n",
       "\n",
       "         re78  race  \n",
       "0   9930.0460   0.0  \n",
       "1   3595.8940   1.0  \n",
       "2  24909.4500   0.0  \n",
       "3   7506.1460   0.0  \n",
       "4    289.7899   0.0  "
      ]
     },
     "execution_count": 397,
     "metadata": {},
     "output_type": "execute_result"
    }
   ],
   "source": [
    "# Fill race feature for each subject of our initial dataset\n",
    "for ind in range(df_lalonde.shape[0]):\n",
    "    if df_lalonde.loc[ind, 'black'] == 1 and df_lalonde.loc[ind, 'hispan'] == 0:\n",
    "        df_lalonde.loc[ind, 'race'] = int(0)\n",
    "    elif df_lalonde.loc[ind, 'black'] == 0 and df_lalonde.loc[ind, 'hispan'] == 1:\n",
    "        df_lalonde.loc[ind, 'race'] = int(1)\n",
    "    else:\n",
    "        df_lalonde.loc[ind, 'race'] = int(2)\n",
    "        \n",
    "df_lalonde.head()"
   ]
  },
  {
   "cell_type": "markdown",
   "metadata": {},
   "source": [
    "We also get those 3 subset into separate dataframe"
   ]
  },
  {
   "cell_type": "code",
   "execution_count": 398,
   "metadata": {},
   "outputs": [
    {
     "name": "stdout",
     "output_type": "stream",
     "text": [
      "Number of black subjects: 243\n",
      "Number of hispanic subjects: 72\n",
      "Number of white subjects: 299\n"
     ]
    }
   ],
   "source": [
    "# Divide dataset into black, hispan and white\n",
    "df_black = df_lalonde[df_lalonde['race'] == 0]\n",
    "print(\"Number of black subjects: {}\".format(df_black.shape[0]))\n",
    "\n",
    "df_hispan = df_lalonde[df_lalonde['race'] == 1]\n",
    "print(\"Number of hispanic subjects: {}\".format(df_hispan.shape[0]))\n",
    "\n",
    "df_white = df_lalonde[df_lalonde['race'] == 2]\n",
    "print(\"Number of white subjects: {}\".format(df_white.shape[0]))"
   ]
  },
  {
   "cell_type": "code",
   "execution_count": 399,
   "metadata": {
    "scrolled": true
   },
   "outputs": [
    {
     "name": "stdout",
     "output_type": "stream",
     "text": [
      "\n",
      "Description real earning in 1978 for black subjects:\n",
      "count      243.000000\n",
      "mean      5677.014655\n",
      "std       7518.183805\n",
      "min          0.000000\n",
      "25%          0.000000\n",
      "50%       2820.980000\n",
      "75%       8983.838500\n",
      "max      60307.930000\n",
      "Name: re78, dtype: float64\n",
      "\n",
      "Description real earning in 1978 for hispanic subjects:\n",
      "count       72.000000\n",
      "mean      7106.696146\n",
      "std       7032.610243\n",
      "min          0.000000\n",
      "25%       1345.559750\n",
      "50%       5417.346000\n",
      "75%       9965.408000\n",
      "max      26817.600000\n",
      "Name: re78, dtype: float64\n",
      "\n",
      "Description real earning in 1978 for white subjects:\n",
      "count      299.000000\n",
      "mean      7624.092605\n",
      "std       7442.468534\n",
      "min          0.000000\n",
      "25%        857.820300\n",
      "50%       5748.356000\n",
      "75%      12653.770000\n",
      "max      25564.670000\n",
      "Name: re78, dtype: float64\n"
     ]
    }
   ],
   "source": [
    "print(\"\\nDescription real earning in 1978 for black subjects:\")\n",
    "print(df_black['re78'].describe())\n",
    "\n",
    "print(\"\\nDescription real earning in 1978 for hispanic subjects:\")\n",
    "print(df_hispan['re78'].describe())\n",
    "\n",
    "print(\"\\nDescription real earning in 1978 for white subjects:\")\n",
    "print(df_white['re78'].describe())"
   ]
  },
  {
   "cell_type": "markdown",
   "metadata": {},
   "source": [
    "As well as in the first question, a naive analysis leads us to contradictory conclusions. \n",
    "We observe that black subjects can earn a lot more than others. However, their average of real earnings in 1978,is the lower overall the 3 subsets. \n"
   ]
  },
  {
   "cell_type": "code",
   "execution_count": 400,
   "metadata": {
    "collapsed": true,
    "scrolled": true
   },
   "outputs": [],
   "source": [
    "# Divide by re78 ranges in a new feature\n",
    "df_black['re78_range'] = pd.cut(df_black['re78'], bins = bins, labels = labels)\n",
    "df_hispan['re78_range'] = pd.cut(df_hispan['re78'], bins = bins, labels = labels)\n",
    "df_white['re78_range'] = pd.cut(df_white['re78'], bins = bins, labels = labels)"
   ]
  },
  {
   "cell_type": "markdown",
   "metadata": {},
   "source": [
    "Let's visualize the distribution of real earnings in 1978 for each race and a boxplot visualization."
   ]
  },
  {
   "cell_type": "code",
   "execution_count": 401,
   "metadata": {},
   "outputs": [
    {
     "data": {
      "image/png": "[encoded data removed]",
      "text/plain": [
       "<matplotlib.figure.Figure at 0x11787a160>"
      ]
     },
     "metadata": {},
     "output_type": "display_data"
    }
   ],
   "source": [
    "# Plot repartition\n",
    "fig, ax = plt.subplots(nrows = 1, ncols = 3, figsize = (20,8))\n",
    "y_black = barplot_distrib(df_black['re78_range'], labels, 're78 by range for black cases (%)', ax = ax[0])\n",
    "y_hispan = barplot_distrib(df_hispan['re78_range'], labels, 're78 by range for hispan cases (%)', ax = ax[1])\n",
    "y_white = barplot_distrib(df_white['re78_range'], labels, 're78 by range for white cases (%)', ax = ax[2])\n",
    "\n",
    "\n",
    "ax[0].set(ylim=(0, np.max([y_black, y_hispan, y_white])+1));\n",
    "ax[1].set(ylim=(0, np.max([y_black, y_hispan, y_white])+1));\n",
    "ax[2].set(ylim=(0, np.max([y_black, y_hispan, y_white])+1));"
   ]
  },
  {
   "cell_type": "code",
   "execution_count": 402,
   "metadata": {
    "scrolled": false
   },
   "outputs": [
    {
     "data": {
      "image/png": "[encoded data removed]",
      "text/plain": [
       "<matplotlib.figure.Figure at 0x118fc48d0>"
      ]
     },
     "metadata": {},
     "output_type": "display_data"
    }
   ],
   "source": [
    "fig, ax = plt.subplots(figsize = (8,8))\n",
    "ax = sns.boxplot(x=\"race\", y=\"re78\", data=df_lalonde)\n",
    "ax.set_xticklabels([\"Black\", \"Hispan\", \"White\"])\n",
    "ax.set_title('Real earning in 1978 according to the subject\\'s race', fontsize = 18);"
   ]
  },
  {
   "cell_type": "markdown",
   "metadata": {},
   "source": [
    "**According to this boxplot, we first see that white subjects earn more in average. However, some Black and Hispan subjects earn way more than White ones. Looking at the lower and upper quartile, we understand that black people tend to earn less, even if they have outliers that earn a lot.**\n",
    "\n",
    "\n",
    "**Also,we should keep in mind the repartition in those 3 subsets. We have way less hispanic people who took part in this study.**"
   ]
  },
  {
   "cell_type": "code",
   "execution_count": 403,
   "metadata": {},
   "outputs": [
    {
     "data": {
      "image/png": "[encoded data removed]",
      "text/plain": [
       "<matplotlib.figure.Figure at 0x1173fe860>"
      ]
     },
     "metadata": {},
     "output_type": "display_data"
    }
   ],
   "source": [
    "f, (ax1, ax2) = plt.subplots(1, 2,figsize = (16, 8))\n",
    "\n",
    "ax1.set_title('Black people : distribution')\n",
    "ax2.set_title('Hispanic people : distribution')\n",
    "g1 = sns.countplot(x = 'treat', hue = 'black', data = df_lalonde, ax = ax1)\n",
    "g2 = sns.countplot(x = 'treat', hue = 'hispan', data = df_lalonde, ax = ax2)\n",
    "\n"
   ]
  },
  {
   "cell_type": "markdown",
   "metadata": {},
   "source": [
    "**We see that distribution of \"races\" into the two groups are really not the same. Proportion of black people into treated in group is huge. Thus, this results need to be taken lightly as white race is not displayed here (obtained when hispanic=black=0)**"
   ]
  },
  {
   "cell_type": "markdown",
   "metadata": {},
   "source": [
    "- **married**"
   ]
  },
  {
   "cell_type": "code",
   "execution_count": 404,
   "metadata": {},
   "outputs": [
    {
     "name": "stdout",
     "output_type": "stream",
     "text": [
      "Number of not married subjects: 359\n",
      "Number of married subjects: 255\n"
     ]
    }
   ],
   "source": [
    "# Divide dataset into married and not married\n",
    "df_unmarried = df_lalonde[df_lalonde['married'] == 0]\n",
    "print(\"Number of not married subjects: {}\".format(df_unmarried.shape[0]))\n",
    "\n",
    "df_married = df_lalonde[df_lalonde['married'] == 1]\n",
    "print(\"Number of married subjects: {}\".format(df_married.shape[0]))"
   ]
  },
  {
   "cell_type": "code",
   "execution_count": 405,
   "metadata": {},
   "outputs": [
    {
     "name": "stdout",
     "output_type": "stream",
     "text": [
      "\n",
      "Description real earning in 1978 for not married subjects:\n",
      "count      359.000000\n",
      "mean      5771.413680\n",
      "std       6782.340029\n",
      "min          0.000000\n",
      "25%         74.625190\n",
      "50%       3983.951000\n",
      "75%       8682.952000\n",
      "max      60307.930000\n",
      "Name: re78, dtype: float64\n",
      "\n",
      "Description real earning in 1978 for married subjects:\n",
      "count      255.000000\n",
      "mean      8230.834751\n",
      "std       8143.097826\n",
      "min          0.000000\n",
      "25%        525.916250\n",
      "50%       6280.338000\n",
      "75%      14045.790000\n",
      "max      36646.950000\n",
      "Name: re78, dtype: float64\n"
     ]
    }
   ],
   "source": [
    "print(\"\\nDescription real earning in 1978 for not married subjects:\")\n",
    "print(df_unmarried['re78'].describe())\n",
    "\n",
    "print(\"\\nDescription real earning in 1978 for married subjects:\")\n",
    "print(df_married['re78'].describe())"
   ]
  },
  {
   "cell_type": "code",
   "execution_count": 406,
   "metadata": {
    "collapsed": true
   },
   "outputs": [],
   "source": [
    "# Divide by re78 ranges in a new feature\n",
    "df_married['re78_range'] = pd.cut(df_married['re78'], bins = bins, labels = labels)\n",
    "df_unmarried['re78_range'] = pd.cut(df_unmarried['re78'], bins = bins, labels = labels)"
   ]
  },
  {
   "cell_type": "code",
   "execution_count": 407,
   "metadata": {
    "scrolled": true
   },
   "outputs": [
    {
     "data": {
      "image/png": "[encoded data removed]",
      "text/plain": [
       "<matplotlib.figure.Figure at 0x11da2d320>"
      ]
     },
     "metadata": {},
     "output_type": "display_data"
    }
   ],
   "source": [
    "# Plot repartition\n",
    "fig, ax = plt.subplots(nrows = 1, ncols = 2, figsize = (20,8))\n",
    "y_unmarried = barplot_distrib(df_unmarried['re78_range'], labels, 're78 by range for unmarried cases (%)', ax = ax[0])\n",
    "y_married = barplot_distrib(df_married['re78_range'], labels, 're78 by range for married cases (%)', ax = ax[1])\n",
    "\n",
    "ax[0].set(ylim=(0, np.max([y_unmarried, y_married])+1));\n",
    "ax[1].set(ylim=(0, np.max([y_unmarried, y_married])+1));"
   ]
  },
  {
   "cell_type": "code",
   "execution_count": 408,
   "metadata": {
    "scrolled": true
   },
   "outputs": [
    {
     "data": {
      "image/png": "[encoded data removed]",
      "text/plain": [
       "<matplotlib.figure.Figure at 0x1163b8eb8>"
      ]
     },
     "metadata": {},
     "output_type": "display_data"
    }
   ],
   "source": [
    "fig, ax = plt.subplots(figsize = (8,8))\n",
    "ax = sns.boxplot(x=\"married\", y=\"re78\", data=df_lalonde)\n",
    "ax.set_xticklabels([\"not married\", \"married\"]);\n",
    "ax.set_title('Marriage distribution into real earning in 1978 ', fontsize = 18);"
   ]
  },
  {
   "cell_type": "markdown",
   "metadata": {},
   "source": [
    "**From the above plots, we notice that married individuals have high average earnings. However, not married indivuals boxplot analysis shows many more outliers but only two of them are really far above married upper fence. So an overall simple conclusion would be that married indiv. earns more. Maybe this is consequence of familiy duty or wife pressure...**"
   ]
  },
  {
   "cell_type": "markdown",
   "metadata": {},
   "source": [
    "Now let's check if married people are more involved into taining:"
   ]
  },
  {
   "cell_type": "code",
   "execution_count": 409,
   "metadata": {
    "scrolled": true
   },
   "outputs": [
    {
     "data": {
      "image/png": "[encoded data removed]",
      "text/plain": [
       "<matplotlib.figure.Figure at 0x119cb3080>"
      ]
     },
     "metadata": {},
     "output_type": "display_data"
    }
   ],
   "source": [
    "f, ax = plt.subplots(1, 1,figsize = (16, 8))\n",
    "ax.set_title('Married people distribution')\n",
    "g = sns.countplot(x = 'treat', hue = 'married', data = df_lalonde, ax = ax)"
   ]
  },
  {
   "cell_type": "markdown",
   "metadata": {},
   "source": [
    "**We notice that for control group, there are almost the same number of married and unmarried people. However, in treated group there are way more unmarried people. To sum up individuals married have better earnings but are less involved in trainings. As usual in this analysis, we need to pay attention to number of sample. Indeed, in this study there are less married people than unmarried.**"
   ]
  },
  {
   "cell_type": "markdown",
   "metadata": {},
   "source": [
    "- **nodegree**"
   ]
  },
  {
   "cell_type": "code",
   "execution_count": 410,
   "metadata": {},
   "outputs": [
    {
     "name": "stdout",
     "output_type": "stream",
     "text": [
      "Number of subjects with degree: 387\n",
      "Number of subjects with not degree: 359\n",
      "\n",
      "Description real earning in 1978 for subjects with no degree:\n",
      "count      387.000000\n",
      "mean      5978.633766\n",
      "std       6930.918985\n",
      "min          0.000000\n",
      "25%         74.625190\n",
      "50%       4112.513000\n",
      "75%       9223.969500\n",
      "max      60307.930000\n",
      "Name: re78, dtype: float64\n",
      "\n",
      "Description real earning in 1978 for subjects with degree:\n",
      "count      387.000000\n",
      "mean      5978.633766\n",
      "std       6930.918985\n",
      "min          0.000000\n",
      "25%         74.625190\n",
      "50%       4112.513000\n",
      "75%       9223.969500\n",
      "max      60307.930000\n",
      "Name: re78, dtype: float64\n"
     ]
    }
   ],
   "source": [
    "# Divide dataset into degree and not degree\n",
    "df_degree = df_lalonde[df_lalonde['nodegree'] == 1]\n",
    "print(\"Number of subjects with degree: {}\".format(df_degree.shape[0]))\n",
    "\n",
    "df_nodegree = df_lalonde[df_lalonde['nodegree'] == 1]\n",
    "print(\"Number of subjects with not degree: {}\".format(df_unmarried.shape[0]))\n",
    "\n",
    "\n",
    "print(\"\\nDescription real earning in 1978 for subjects with no degree:\")\n",
    "print(df_nodegree['re78'].describe())\n",
    "\n",
    "print(\"\\nDescription real earning in 1978 for subjects with degree:\")\n",
    "print(df_degree['re78'].describe())"
   ]
  },
  {
   "cell_type": "code",
   "execution_count": 411,
   "metadata": {},
   "outputs": [
    {
     "data": {
      "image/png": "[encoded data removed]",
      "text/plain": [
       "<matplotlib.figure.Figure at 0x11b981a20>"
      ]
     },
     "metadata": {},
     "output_type": "display_data"
    }
   ],
   "source": [
    "# Divide by re78 ranges in a new feature\n",
    "df_degree['re78_range'] = pd.cut(df_degree['re78'], bins = bins, labels = labels)\n",
    "df_nodegree['re78_range'] = pd.cut(df_unmarried['re78'], bins = bins, labels = labels)\n",
    "\n",
    "# Plot repartition\n",
    "fig, ax = plt.subplots(nrows = 1, ncols = 2, figsize = (20,8))\n",
    "y_degree = barplot_distrib(df_degree['re78_range'], labels, 're78 by range for cases with degree (%)', ax = ax[0])\n",
    "y_nodegree = barplot_distrib(df_nodegree['re78_range'], labels, 're78 by range for cases with no degree(%)', ax = ax[1])\n",
    "\n",
    "ax[0].set(ylim=(0, np.max([y_unmarried, y_married])+1));\n",
    "ax[1].set(ylim=(0, np.max([y_unmarried, y_married])+1));"
   ]
  },
  {
   "cell_type": "code",
   "execution_count": 412,
   "metadata": {},
   "outputs": [
    {
     "data": {
      "image/png": "[encoded data removed]",
      "text/plain": [
       "<matplotlib.figure.Figure at 0x11d0072b0>"
      ]
     },
     "metadata": {},
     "output_type": "display_data"
    }
   ],
   "source": [
    "fig, ax = plt.subplots(figsize = (8,8))\n",
    "ax = sns.boxplot(x=\"nodegree\", y=\"re78\", data=df_lalonde)\n",
    "ax.set_xticklabels([\"degree\", \"no degree\"]);\n",
    "ax.set_title('Degree distribution into real earning in 1978 ', fontsize = 18);"
   ]
  },
  {
   "cell_type": "markdown",
   "metadata": {},
   "source": [
    "** We notice from the above plots that, as one would expect, having a degree gets you better earnings. Nevertheless, we also observe an exceptionnal outlier among no degrees. Maybe a self made man who made (tiny) fortune :)**"
   ]
  },
  {
   "cell_type": "markdown",
   "metadata": {},
   "source": [
    "Now let's have a look to nodegree distribution into the two groups:"
   ]
  },
  {
   "cell_type": "code",
   "execution_count": 413,
   "metadata": {
    "scrolled": true
   },
   "outputs": [
    {
     "data": {
      "image/png": "[encoded data removed]",
      "text/plain": [
       "<matplotlib.figure.Figure at 0x118e8d6d8>"
      ]
     },
     "metadata": {},
     "output_type": "display_data"
    }
   ],
   "source": [
    "f, ax = plt.subplots(1, 1,figsize = (16, 8))\n",
    "ax.set_title('People with no degree : distribution')\n",
    "g = sns.countplot(x = 'treat', hue = 'nodegree', data = df_lalonde, ax = ax)"
   ]
  },
  {
   "cell_type": "markdown",
   "metadata": {},
   "source": [
    "**We notice again that distribution is not the same between people with degrees and people without degree.**"
   ]
  },
  {
   "cell_type": "markdown",
   "metadata": {},
   "source": [
    "- **education**"
   ]
  },
  {
   "cell_type": "code",
   "execution_count": 414,
   "metadata": {},
   "outputs": [
    {
     "data": {
      "text/plain": [
       "count    614.000000\n",
       "mean      10.268730\n",
       "std        2.628325\n",
       "min        0.000000\n",
       "25%        9.000000\n",
       "50%       11.000000\n",
       "75%       12.000000\n",
       "max       18.000000\n",
       "Name: educ, dtype: float64"
      ]
     },
     "execution_count": 414,
     "metadata": {},
     "output_type": "execute_result"
    }
   ],
   "source": [
    "df_lalonde['educ'].describe()"
   ]
  },
  {
   "cell_type": "markdown",
   "metadata": {},
   "source": [
    "For this feature, we won't observe the distribution for each possible number of years of education, as there are 18 possibilities (from 0 to 18 years). However, we take a look at the repartition of the subjects according to their number of years of education.\n",
    "\n",
    "We see in the description above, that most of the cases received between 9 (lower quartile) and 12 (upper quartile) years of education. We confirm this by looking at the repartition of subjects according to their number of years of education."
   ]
  },
  {
   "cell_type": "code",
   "execution_count": 415,
   "metadata": {},
   "outputs": [
    {
     "name": "stdout",
     "output_type": "stream",
     "text": [
      "Number of subject who had 0 years of education: 3\n",
      "Number of subject who had 1 years of education: 2\n",
      "Number of subject who had 2 years of education: 2\n",
      "Number of subject who had 3 years of education: 5\n",
      "Number of subject who had 4 years of education: 9\n",
      "Number of subject who had 5 years of education: 12\n",
      "Number of subject who had 6 years of education: 12\n",
      "Number of subject who had 7 years of education: 27\n",
      "Number of subject who had 8 years of education: 62\n",
      "Number of subject who had 9 years of education: 71\n",
      "Number of subject who had 10 years of education: 87\n",
      "Number of subject who had 11 years of education: 95\n",
      "Number of subject who had 12 years of education: 157\n",
      "Number of subject who had 13 years of education: 27\n",
      "Number of subject who had 14 years of education: 21\n",
      "Number of subject who had 15 years of education: 10\n",
      "Number of subject who had 16 years of education: 8\n",
      "Number of subject who had 17 years of education: 2\n",
      "Number of subject who had 18 years of education: 2\n"
     ]
    }
   ],
   "source": [
    "# Repartition according to the number of years of studies\n",
    "for num_years in df_lalonde['educ'].sort_values().unique():\n",
    "    num_subjects = df_lalonde[df_lalonde['educ'] == num_years].shape[0]\n",
    "    print('Number of subject who had {} years of education: {}'.format(num_years, num_subjects))"
   ]
  },
  {
   "cell_type": "code",
   "execution_count": 416,
   "metadata": {},
   "outputs": [
    {
     "data": {
      "image/png": "[encoded data removed]",
      "text/plain": [
       "<matplotlib.figure.Figure at 0x1183c2a90>"
      ]
     },
     "metadata": {},
     "output_type": "display_data"
    }
   ],
   "source": [
    "fig, ax = plt.subplots(figsize = (8,10))\n",
    "ax = sns.boxplot(x=\"educ\", y=\"re78\", data=df_lalonde)\n",
    "ax.set_title('Real earning in 1978 according to the subject\\'s number of years of education', fontsize = 18);"
   ]
  },
  {
   "cell_type": "markdown",
   "metadata": {},
   "source": [
    "**It is though to interpret those boxplot for a number of years less than 5 and more than 16. Indeed, there is not enough cases in those classes to have a good insight.**\n",
    "\n",
    "**Education does not really seem to be a really relevant factor for better earnings.**"
   ]
  },
  {
   "cell_type": "markdown",
   "metadata": {},
   "source": [
    "Now let's check education distribution into the two groups:"
   ]
  },
  {
   "cell_type": "code",
   "execution_count": 417,
   "metadata": {},
   "outputs": [
    {
     "data": {
      "image/png": "[encoded data removed]",
      "text/plain": [
       "<matplotlib.figure.Figure at 0x11c55e1d0>"
      ]
     },
     "metadata": {},
     "output_type": "display_data"
    }
   ],
   "source": [
    "f, (ax1, ax2) = plt.subplots(1, 2,figsize = (16, 8))\n",
    "\n",
    "ax1.set_title('Years of education : distribution ')\n",
    "ax2.set_title('Average education level ')\n",
    "\n",
    "g1 = sns.countplot(hue = 'treat', x = 'educ', data = df_lalonde, ax = ax1)\n",
    "g2 = sns.barplot(x = 'treat', y = 'educ', data = df_lalonde, ax = ax2)\n"
   ]
  },
  {
   "cell_type": "markdown",
   "metadata": {},
   "source": [
    "**We notice that average level of education is close into the two groups. Nevertheless, we see that distribution of control group is always higher than treated distribution.**"
   ]
  },
  {
   "cell_type": "markdown",
   "metadata": {},
   "source": [
    "### From this first analysis, it appears that a comparison between the two groups is difficult because of features distribution are clearly not the same. We need to adapt the dataset in term of distribution to perform a meaningful analysis. Using propensity score as following is a way to obtain a new dataset more suitable to a proper analysis###\n",
    "\n",
    "\n"
   ]
  },
  {
   "cell_type": "markdown",
   "metadata": {},
   "source": [
    "\n",
    "#### 3. A propensity score model\n",
    "\n",
    "Use logistic regression to estimate propensity scores for all points in the dataset.\n",
    "You may use `sklearn` to fit the logistic regression model and apply it to each data point to obtain propensity scores:\n",
    "\n",
    "```python\n",
    "from sklearn import linear_model\n",
    "logistic = linear_model.LogisticRegression()\n",
    "```\n",
    "\n",
    "Recall that the propensity score of a data point represents its probability of receiving the treatment, based on its pre-treatment features (in this case, age, education, pre-treatment income, etc.).\n",
    "To brush up on propensity scores, you may read chapter 3.3 of the above-cited book by Rosenbaum or [this article](https://drive.google.com/file/d/0B4jctQY-uqhzTlpBaTBJRTJFVFE/view).\n",
    "\n",
    "Note: you do not need a train/test split here. Train and apply the model on the entire dataset. If you're wondering why this is the right thing to do in this situation, recall that the propensity score model is not used in order to make predictions about unseen data. Its sole purpose is to balance the dataset across treatment groups.\n",
    "(See p. 74 of Rosenbaum's book for an explanation why slight overfitting is even good for propensity scores.\n",
    "If you want even more information, read [this article](https://drive.google.com/file/d/0B4jctQY-uqhzTlpBaTBJRTJFVFE/view).)\n",
    "\n",
    "___"
   ]
  },
  {
   "cell_type": "markdown",
   "metadata": {},
   "source": [
    "Let's build our logistic regression model, to determine the propensity score of a subject. As the **propensity score** is the probability of receiving the treatment, we will try to fit the `treat` feature\n",
    "- Input features are `age`, `educ`, `married`, `nodegree`, `re74`, `re75`, `race`, which represent pre-treatement features\n",
    "- Target feature is `treat`"
   ]
  },
  {
   "cell_type": "code",
   "execution_count": 418,
   "metadata": {
    "collapsed": true,
    "scrolled": true
   },
   "outputs": [],
   "source": [
    "logistic = linear_model.LogisticRegression()\n",
    "\n",
    "# Prepare data for logistic regression\n",
    "X = df_lalonde[['age', 'educ', 'married', 'nodegree', 're74', 're75', 'race']] \n",
    "y = np.ravel(df_lalonde[['treat']])\n",
    "\n",
    "# Train model\n",
    "logistic_fit = logistic.fit(X,y)"
   ]
  },
  {
   "cell_type": "markdown",
   "metadata": {},
   "source": [
    "We do not want to predict the probability of being treated for a subject. However, we simulate it for the 3 first subjects of our dataset, to see it works well. We could also create new input features."
   ]
  },
  {
   "cell_type": "code",
   "execution_count": 419,
   "metadata": {
    "collapsed": true
   },
   "outputs": [],
   "source": [
    "# Probability of each prediction for the first 3 subjects \n",
    "proba_treated = logistic_fit.predict_proba(X)\n",
    "df=df_lalonde\n",
    "# Proprensity score is the probability to be treated, i.e. probability `treat` to be 1\n",
    "propensity_score = [elem[1] for elem in proba_treated]\n",
    "for ind, pp_score in enumerate(propensity_score):\n",
    "    df.loc[ind, 'propensity_score'] = pp_score\n",
    "#for ind, pp_score in enumerate(propensity_score):\n",
    "    #print(\"Propensity score for case {}: {}\".format(ind, pp_score))"
   ]
  },
  {
   "cell_type": "code",
   "execution_count": 420,
   "metadata": {},
   "outputs": [
    {
     "data": {
      "text/html": [
       "<div>\n",
       "<style>\n",
       "    .dataframe thead tr:only-child th {\n",
       "        text-align: right;\n",
       "    }\n",
       "\n",
       "    .dataframe thead th {\n",
       "        text-align: left;\n",
       "    }\n",
       "\n",
       "    .dataframe tbody tr th {\n",
       "        vertical-align: top;\n",
       "    }\n",
       "</style>\n",
       "<table border=\"1\" class=\"dataframe\">\n",
       "  <thead>\n",
       "    <tr style=\"text-align: right;\">\n",
       "      <th></th>\n",
       "      <th>id</th>\n",
       "      <th>treat</th>\n",
       "      <th>age</th>\n",
       "      <th>educ</th>\n",
       "      <th>black</th>\n",
       "      <th>hispan</th>\n",
       "      <th>married</th>\n",
       "      <th>nodegree</th>\n",
       "      <th>re74</th>\n",
       "      <th>re75</th>\n",
       "      <th>re78</th>\n",
       "      <th>race</th>\n",
       "      <th>propensity_score</th>\n",
       "    </tr>\n",
       "  </thead>\n",
       "  <tbody>\n",
       "    <tr>\n",
       "      <th>0</th>\n",
       "      <td>NSW1</td>\n",
       "      <td>1</td>\n",
       "      <td>37</td>\n",
       "      <td>11</td>\n",
       "      <td>1</td>\n",
       "      <td>0</td>\n",
       "      <td>1</td>\n",
       "      <td>1</td>\n",
       "      <td>0.0</td>\n",
       "      <td>0.0</td>\n",
       "      <td>9930.0460</td>\n",
       "      <td>0.0</td>\n",
       "      <td>0.618047</td>\n",
       "    </tr>\n",
       "    <tr>\n",
       "      <th>1</th>\n",
       "      <td>NSW2</td>\n",
       "      <td>1</td>\n",
       "      <td>22</td>\n",
       "      <td>9</td>\n",
       "      <td>0</td>\n",
       "      <td>1</td>\n",
       "      <td>0</td>\n",
       "      <td>1</td>\n",
       "      <td>0.0</td>\n",
       "      <td>0.0</td>\n",
       "      <td>3595.8940</td>\n",
       "      <td>1.0</td>\n",
       "      <td>0.295794</td>\n",
       "    </tr>\n",
       "    <tr>\n",
       "      <th>2</th>\n",
       "      <td>NSW3</td>\n",
       "      <td>1</td>\n",
       "      <td>30</td>\n",
       "      <td>12</td>\n",
       "      <td>1</td>\n",
       "      <td>0</td>\n",
       "      <td>0</td>\n",
       "      <td>0</td>\n",
       "      <td>0.0</td>\n",
       "      <td>0.0</td>\n",
       "      <td>24909.4500</td>\n",
       "      <td>0.0</td>\n",
       "      <td>0.696012</td>\n",
       "    </tr>\n",
       "    <tr>\n",
       "      <th>3</th>\n",
       "      <td>NSW4</td>\n",
       "      <td>1</td>\n",
       "      <td>27</td>\n",
       "      <td>11</td>\n",
       "      <td>1</td>\n",
       "      <td>0</td>\n",
       "      <td>0</td>\n",
       "      <td>1</td>\n",
       "      <td>0.0</td>\n",
       "      <td>0.0</td>\n",
       "      <td>7506.1460</td>\n",
       "      <td>0.0</td>\n",
       "      <td>0.706712</td>\n",
       "    </tr>\n",
       "    <tr>\n",
       "      <th>4</th>\n",
       "      <td>NSW5</td>\n",
       "      <td>1</td>\n",
       "      <td>33</td>\n",
       "      <td>8</td>\n",
       "      <td>1</td>\n",
       "      <td>0</td>\n",
       "      <td>0</td>\n",
       "      <td>1</td>\n",
       "      <td>0.0</td>\n",
       "      <td>0.0</td>\n",
       "      <td>289.7899</td>\n",
       "      <td>0.0</td>\n",
       "      <td>0.662210</td>\n",
       "    </tr>\n",
       "  </tbody>\n",
       "</table>\n",
       "</div>"
      ],
      "text/plain": [
       "     id  treat  age  educ  black  hispan  married  nodegree  re74  re75  \\\n",
       "0  NSW1      1   37    11      1       0        1         1   0.0   0.0   \n",
       "1  NSW2      1   22     9      0       1        0         1   0.0   0.0   \n",
       "2  NSW3      1   30    12      1       0        0         0   0.0   0.0   \n",
       "3  NSW4      1   27    11      1       0        0         1   0.0   0.0   \n",
       "4  NSW5      1   33     8      1       0        0         1   0.0   0.0   \n",
       "\n",
       "         re78  race  propensity_score  \n",
       "0   9930.0460   0.0          0.618047  \n",
       "1   3595.8940   1.0          0.295794  \n",
       "2  24909.4500   0.0          0.696012  \n",
       "3   7506.1460   0.0          0.706712  \n",
       "4    289.7899   0.0          0.662210  "
      ]
     },
     "execution_count": 420,
     "metadata": {},
     "output_type": "execute_result"
    }
   ],
   "source": [
    "df.head()"
   ]
  },
  {
   "cell_type": "markdown",
   "metadata": {},
   "source": [
    "#### 4. Balancing the dataset via matching\n",
    "\n",
    "Use the propensity scores to match each data point from the treated group with exactly one data point from the control group, while ensuring that each data point from the control group is matched with at most one data point from the treated group.\n",
    "(Hint: you may explore the `networkx` package in Python for predefined matching functions.)\n",
    "\n",
    "Your matching should maximize the similarity between matched subjects, as captured by their propensity scores.\n",
    "In other words, the sum (over all matched pairs) of absolute propensity-score differences between the two matched subjects should be minimized.\n",
    "\n",
    "After matching, you have as many treated as you have control subjects.\n",
    "Compare the outcomes (`re78`) between the two groups (treated and control).\n",
    "\n",
    "Also, compare again the feature-value distributions between the two groups, as you've done in part 2 above, but now only for the matched subjects.\n",
    "What do you observe?\n",
    "Are you closer to being able to draw valid conclusions now than you were before?\n",
    "\n",
    "___"
   ]
  },
  {
   "cell_type": "markdown",
   "metadata": {},
   "source": [
    "**We want to match each data point from the treated group with exactly one data point from the control group, while ensuring that each data point from the control group is matched with at most one data point from the treated group. We need to use One-to-One pair matching without\n",
    "replacement to respect these conditons.**"
   ]
  },
  {
   "cell_type": "markdown",
   "metadata": {},
   "source": [
    "We update our subset treated and untreated, for them to have the race feature. For the record `0: Black`, `1: Hispan`, `2: White`."
   ]
  },
  {
   "cell_type": "code",
   "execution_count": 421,
   "metadata": {
    "collapsed": true
   },
   "outputs": [],
   "source": [
    "df_treated = df[df['treat'] == 1]\n",
    "df_untreated = df[df['treat'] == 0]"
   ]
  },
  {
   "cell_type": "code",
   "execution_count": 422,
   "metadata": {},
   "outputs": [
    {
     "data": {
      "text/html": [
       "<div>\n",
       "<style>\n",
       "    .dataframe thead tr:only-child th {\n",
       "        text-align: right;\n",
       "    }\n",
       "\n",
       "    .dataframe thead th {\n",
       "        text-align: left;\n",
       "    }\n",
       "\n",
       "    .dataframe tbody tr th {\n",
       "        vertical-align: top;\n",
       "    }\n",
       "</style>\n",
       "<table border=\"1\" class=\"dataframe\">\n",
       "  <thead>\n",
       "    <tr style=\"text-align: right;\">\n",
       "      <th></th>\n",
       "      <th>id</th>\n",
       "      <th>treat</th>\n",
       "      <th>age</th>\n",
       "      <th>educ</th>\n",
       "      <th>black</th>\n",
       "      <th>hispan</th>\n",
       "      <th>married</th>\n",
       "      <th>nodegree</th>\n",
       "      <th>re74</th>\n",
       "      <th>re75</th>\n",
       "      <th>re78</th>\n",
       "      <th>race</th>\n",
       "      <th>propensity_score</th>\n",
       "    </tr>\n",
       "  </thead>\n",
       "  <tbody>\n",
       "    <tr>\n",
       "      <th>185</th>\n",
       "      <td>PSID1</td>\n",
       "      <td>0</td>\n",
       "      <td>30</td>\n",
       "      <td>12</td>\n",
       "      <td>0</td>\n",
       "      <td>0</td>\n",
       "      <td>1</td>\n",
       "      <td>0</td>\n",
       "      <td>20166.73</td>\n",
       "      <td>18347.23</td>\n",
       "      <td>25564.67</td>\n",
       "      <td>2.0</td>\n",
       "      <td>0.025195</td>\n",
       "    </tr>\n",
       "    <tr>\n",
       "      <th>186</th>\n",
       "      <td>PSID2</td>\n",
       "      <td>0</td>\n",
       "      <td>26</td>\n",
       "      <td>12</td>\n",
       "      <td>0</td>\n",
       "      <td>0</td>\n",
       "      <td>1</td>\n",
       "      <td>0</td>\n",
       "      <td>25862.32</td>\n",
       "      <td>17806.55</td>\n",
       "      <td>25564.67</td>\n",
       "      <td>2.0</td>\n",
       "      <td>0.016263</td>\n",
       "    </tr>\n",
       "    <tr>\n",
       "      <th>187</th>\n",
       "      <td>PSID3</td>\n",
       "      <td>0</td>\n",
       "      <td>25</td>\n",
       "      <td>16</td>\n",
       "      <td>0</td>\n",
       "      <td>0</td>\n",
       "      <td>1</td>\n",
       "      <td>0</td>\n",
       "      <td>25862.32</td>\n",
       "      <td>15316.21</td>\n",
       "      <td>25564.67</td>\n",
       "      <td>2.0</td>\n",
       "      <td>0.019732</td>\n",
       "    </tr>\n",
       "    <tr>\n",
       "      <th>188</th>\n",
       "      <td>PSID4</td>\n",
       "      <td>0</td>\n",
       "      <td>42</td>\n",
       "      <td>11</td>\n",
       "      <td>0</td>\n",
       "      <td>0</td>\n",
       "      <td>1</td>\n",
       "      <td>1</td>\n",
       "      <td>21787.05</td>\n",
       "      <td>14265.29</td>\n",
       "      <td>15491.01</td>\n",
       "      <td>2.0</td>\n",
       "      <td>0.020840</td>\n",
       "    </tr>\n",
       "    <tr>\n",
       "      <th>189</th>\n",
       "      <td>PSID5</td>\n",
       "      <td>0</td>\n",
       "      <td>25</td>\n",
       "      <td>9</td>\n",
       "      <td>1</td>\n",
       "      <td>0</td>\n",
       "      <td>1</td>\n",
       "      <td>1</td>\n",
       "      <td>14829.69</td>\n",
       "      <td>13776.53</td>\n",
       "      <td>0.00</td>\n",
       "      <td>0.0</td>\n",
       "      <td>0.424077</td>\n",
       "    </tr>\n",
       "  </tbody>\n",
       "</table>\n",
       "</div>"
      ],
      "text/plain": [
       "        id  treat  age  educ  black  hispan  married  nodegree      re74  \\\n",
       "185  PSID1      0   30    12      0       0        1         0  20166.73   \n",
       "186  PSID2      0   26    12      0       0        1         0  25862.32   \n",
       "187  PSID3      0   25    16      0       0        1         0  25862.32   \n",
       "188  PSID4      0   42    11      0       0        1         1  21787.05   \n",
       "189  PSID5      0   25     9      1       0        1         1  14829.69   \n",
       "\n",
       "         re75      re78  race  propensity_score  \n",
       "185  18347.23  25564.67   2.0          0.025195  \n",
       "186  17806.55  25564.67   2.0          0.016263  \n",
       "187  15316.21  25564.67   2.0          0.019732  \n",
       "188  14265.29  15491.01   2.0          0.020840  \n",
       "189  13776.53      0.00   0.0          0.424077  "
      ]
     },
     "execution_count": 422,
     "metadata": {},
     "output_type": "execute_result"
    }
   ],
   "source": [
    "df_untreated.head()"
   ]
  },
  {
   "cell_type": "code",
   "execution_count": 423,
   "metadata": {},
   "outputs": [
    {
     "data": {
      "text/html": [
       "<div>\n",
       "<style>\n",
       "    .dataframe thead tr:only-child th {\n",
       "        text-align: right;\n",
       "    }\n",
       "\n",
       "    .dataframe thead th {\n",
       "        text-align: left;\n",
       "    }\n",
       "\n",
       "    .dataframe tbody tr th {\n",
       "        vertical-align: top;\n",
       "    }\n",
       "</style>\n",
       "<table border=\"1\" class=\"dataframe\">\n",
       "  <thead>\n",
       "    <tr style=\"text-align: right;\">\n",
       "      <th></th>\n",
       "      <th>id</th>\n",
       "      <th>treat</th>\n",
       "      <th>age</th>\n",
       "      <th>educ</th>\n",
       "      <th>black</th>\n",
       "      <th>hispan</th>\n",
       "      <th>married</th>\n",
       "      <th>nodegree</th>\n",
       "      <th>re74</th>\n",
       "      <th>re75</th>\n",
       "      <th>re78</th>\n",
       "      <th>race</th>\n",
       "      <th>propensity_score</th>\n",
       "    </tr>\n",
       "  </thead>\n",
       "  <tbody>\n",
       "    <tr>\n",
       "      <th>0</th>\n",
       "      <td>NSW1</td>\n",
       "      <td>1</td>\n",
       "      <td>37</td>\n",
       "      <td>11</td>\n",
       "      <td>1</td>\n",
       "      <td>0</td>\n",
       "      <td>1</td>\n",
       "      <td>1</td>\n",
       "      <td>0.0</td>\n",
       "      <td>0.0</td>\n",
       "      <td>9930.0460</td>\n",
       "      <td>0.0</td>\n",
       "      <td>0.618047</td>\n",
       "    </tr>\n",
       "    <tr>\n",
       "      <th>1</th>\n",
       "      <td>NSW2</td>\n",
       "      <td>1</td>\n",
       "      <td>22</td>\n",
       "      <td>9</td>\n",
       "      <td>0</td>\n",
       "      <td>1</td>\n",
       "      <td>0</td>\n",
       "      <td>1</td>\n",
       "      <td>0.0</td>\n",
       "      <td>0.0</td>\n",
       "      <td>3595.8940</td>\n",
       "      <td>1.0</td>\n",
       "      <td>0.295794</td>\n",
       "    </tr>\n",
       "    <tr>\n",
       "      <th>2</th>\n",
       "      <td>NSW3</td>\n",
       "      <td>1</td>\n",
       "      <td>30</td>\n",
       "      <td>12</td>\n",
       "      <td>1</td>\n",
       "      <td>0</td>\n",
       "      <td>0</td>\n",
       "      <td>0</td>\n",
       "      <td>0.0</td>\n",
       "      <td>0.0</td>\n",
       "      <td>24909.4500</td>\n",
       "      <td>0.0</td>\n",
       "      <td>0.696012</td>\n",
       "    </tr>\n",
       "    <tr>\n",
       "      <th>3</th>\n",
       "      <td>NSW4</td>\n",
       "      <td>1</td>\n",
       "      <td>27</td>\n",
       "      <td>11</td>\n",
       "      <td>1</td>\n",
       "      <td>0</td>\n",
       "      <td>0</td>\n",
       "      <td>1</td>\n",
       "      <td>0.0</td>\n",
       "      <td>0.0</td>\n",
       "      <td>7506.1460</td>\n",
       "      <td>0.0</td>\n",
       "      <td>0.706712</td>\n",
       "    </tr>\n",
       "    <tr>\n",
       "      <th>4</th>\n",
       "      <td>NSW5</td>\n",
       "      <td>1</td>\n",
       "      <td>33</td>\n",
       "      <td>8</td>\n",
       "      <td>1</td>\n",
       "      <td>0</td>\n",
       "      <td>0</td>\n",
       "      <td>1</td>\n",
       "      <td>0.0</td>\n",
       "      <td>0.0</td>\n",
       "      <td>289.7899</td>\n",
       "      <td>0.0</td>\n",
       "      <td>0.662210</td>\n",
       "    </tr>\n",
       "  </tbody>\n",
       "</table>\n",
       "</div>"
      ],
      "text/plain": [
       "     id  treat  age  educ  black  hispan  married  nodegree  re74  re75  \\\n",
       "0  NSW1      1   37    11      1       0        1         1   0.0   0.0   \n",
       "1  NSW2      1   22     9      0       1        0         1   0.0   0.0   \n",
       "2  NSW3      1   30    12      1       0        0         0   0.0   0.0   \n",
       "3  NSW4      1   27    11      1       0        0         1   0.0   0.0   \n",
       "4  NSW5      1   33     8      1       0        0         1   0.0   0.0   \n",
       "\n",
       "         re78  race  propensity_score  \n",
       "0   9930.0460   0.0          0.618047  \n",
       "1   3595.8940   1.0          0.295794  \n",
       "2  24909.4500   0.0          0.696012  \n",
       "3   7506.1460   0.0          0.706712  \n",
       "4    289.7899   0.0          0.662210  "
      ]
     },
     "execution_count": 423,
     "metadata": {},
     "output_type": "execute_result"
    }
   ],
   "source": [
    "df_treated.head()"
   ]
  },
  {
   "cell_type": "markdown",
   "metadata": {},
   "source": [
    "In order to lead an acceptable study, we would like as much as possible to match a treated subject to an untreated one. Matched subjects are paired, if we can qualify them as \"similar\", meaning they have similar observed covariates. \n",
    "\n",
    "Of course, two subjects cannot be completely similar as there are a lot of unoberserved covariates that we don't have access to. However, the propensity score is based on these observed covariates (`age`, `educ`, `married`, `nodegree`, `re74`, `re75`, `race`).\n",
    "\n",
    "Hence, two subjects are paired, if they were similarly likely to be treated, i.e. they have similar propensity score."
   ]
  },
  {
   "cell_type": "markdown",
   "metadata": {},
   "source": [
    "We see that some propoensity score are really close. We need to elect weither we use :\n",
    "    - Nearest neighbor matching: \n",
    "selects for matching to a given treated subject that untreated subject whose propensity score is closest to that of the treated subject. If multiple untreated subjects have propensity scores that are equally close to that of the treated subject, one of these untreated subjects is selected at random.\n",
    "or\n",
    "    - Nearest neighbor matching with caliper:\n",
    "similar to nearest neighbor matching with the further restriction that the absolute difference in the propensity scores of matched subjects must be below some prespecified threshold (the caliper distance). Thus, for a given treated subject, one would identify all the untreated subjects whose propensity score lay within a specified\n",
    "distance of that of the treated subject. From this restricted set of untreated subjects, the untreated subject whose propensity score was closest to that of the treated subject would be selected for matching to this treated subject. If no untreated subjects had propensity scores that lay within the specified caliper distance of the propensity score of the treated subject, that treated subject would not be matched with any untreated subject. The unmatched treated subject would then be excluded from the resultant matched sample.\n",
    "\n",
    "**Here we will used through networkx package Nearest neighbor matching with caliper in order to minimize the mean squared error of the estimated treatment effect in several scenarios.**"
   ]
  },
  {
   "cell_type": "markdown",
   "metadata": {},
   "source": [
    "Source : https://drive.google.com/file/d/0B4jctQY-uqhzTlpBaTBJRTJFVFE/view"
   ]
  },
  {
   "cell_type": "markdown",
   "metadata": {},
   "source": [
    "To do so, we will use the `networkx` package, available with Python. "
   ]
  },
  {
   "cell_type": "markdown",
   "metadata": {},
   "source": [
    "We first build a bipartite graph to create all (id_treated,id_control) possible pairs."
   ]
  },
  {
   "cell_type": "code",
   "execution_count": 424,
   "metadata": {
    "collapsed": true
   },
   "outputs": [],
   "source": [
    "from networkx.algorithms import bipartite\n",
    "\n",
    "MySweetBabyMatch = nx.complete_bipartite_graph(df_treated.shape[0], df_untreated.shape[0])\n",
    "#Create the biaprtite graph from the two sub_dataset"
   ]
  },
  {
   "cell_type": "markdown",
   "metadata": {},
   "source": [
    "And compute for each pair the absolute difference of propensity score."
   ]
  },
  {
   "cell_type": "code",
   "execution_count": 425,
   "metadata": {
    "collapsed": true
   },
   "outputs": [],
   "source": [
    "values = {}\n",
    "for edge in MySweetBabyMatch.edges():\n",
    "        diff = df_treated.loc[edge[0]]['propensity_score'] - df_untreated_redindex.loc[edge[1]]['propensity_score']\n",
    "        values[edge] = -abs(diff)\n",
    "\n",
    "#values ##display key: values"
   ]
  },
  {
   "cell_type": "markdown",
   "metadata": {},
   "source": [
    "From this dictionnary of values, we want to assign edge attributes to store the value of that property for each edge:"
   ]
  },
  {
   "cell_type": "code",
   "execution_count": 426,
   "metadata": {
    "collapsed": true
   },
   "outputs": [],
   "source": [
    "nx.set_edge_attributes(MySweetBabyMatch,'weight',values=values)"
   ]
  },
  {
   "cell_type": "markdown",
   "metadata": {},
   "source": [
    "Eventually, the algorithm minimize this values and return a list of matched pairs."
   ]
  },
  {
   "cell_type": "code",
   "execution_count": 427,
   "metadata": {
    "collapsed": true
   },
   "outputs": [],
   "source": [
    "match = nx.max_weight_matching(MySweetBabyMatch, maxcardinality=True)"
   ]
  },
  {
   "cell_type": "markdown",
   "metadata": {},
   "source": [
    "We can now extract the new dataset from the old ones using the obtained keys:"
   ]
  },
  {
   "cell_type": "code",
   "execution_count": 428,
   "metadata": {
    "collapsed": true
   },
   "outputs": [],
   "source": [
    "matched_keys = list(match.keys())\n",
    "matched_keys.sort()\n",
    "df_matched=df.iloc[matched_keys]"
   ]
  },
  {
   "cell_type": "markdown",
   "metadata": {},
   "source": [
    "And divide this new dataset into the two groups:"
   ]
  },
  {
   "cell_type": "code",
   "execution_count": 429,
   "metadata": {
    "collapsed": true
   },
   "outputs": [],
   "source": [
    "untreat_match = df_matched[df_matched['treat'] == 0]\n",
    "treat_match = df_matched[df_matched['treat'] == 1]"
   ]
  },
  {
   "cell_type": "markdown",
   "metadata": {},
   "source": [
    "Let's have a look to re78 distribution into this new dataset:"
   ]
  },
  {
   "cell_type": "code",
   "execution_count": 430,
   "metadata": {},
   "outputs": [
    {
     "data": {
      "image/png": "[encoded data removed]",
      "text/plain": [
       "<matplotlib.figure.Figure at 0x11d845d68>"
      ]
     },
     "metadata": {},
     "output_type": "display_data"
    }
   ],
   "source": [
    "# Display barplot of real earning in '78 for matched dataset\n",
    "fig, ax = plt.subplots(figsize = (8,10))\n",
    "ax = sns.boxplot(x=\"treat\", y=\"re78\", data=df_matched)\n",
    "ax.set_xticklabels([\"untreated\", \"treated\"]);\n",
    "ax.set_title('Real earning in 1978 for people \\nwho attended the formation and people who didn\\'t', fontsize = 18);"
   ]
  },
  {
   "cell_type": "markdown",
   "metadata": {
    "collapsed": true
   },
   "source": [
    "**In this new plot, we see that the two boxplots results are inverted compared to our previous analysis. Indeed, here we see that treated people have higher median earnings, unlike our preivous results showing the inverse.**"
   ]
  },
  {
   "cell_type": "markdown",
   "metadata": {
    "collapsed": true
   },
   "source": [
    "Now let's display features distribution into the two groups but this time from the new dataset and compare them with the preivous results."
   ]
  },
  {
   "cell_type": "markdown",
   "metadata": {},
   "source": [
    " **- Education**"
   ]
  },
  {
   "cell_type": "code",
   "execution_count": 431,
   "metadata": {},
   "outputs": [
    {
     "data": {
      "image/png": "[encoded data removed]",
      "text/plain": [
       "<matplotlib.figure.Figure at 0x119c0c1d0>"
      ]
     },
     "metadata": {},
     "output_type": "display_data"
    }
   ],
   "source": [
    "f, (ax1, ax2) = plt.subplots(1, 2,figsize = (16, 8))\n",
    "\n",
    "ax1.set_title('Years of education : distribution ')\n",
    "ax2.set_title('Average education level ')\n",
    "\n",
    "g1 = sns.countplot(hue = 'treat', x = 'educ', data = df_matched, ax = ax1)\n",
    "g2 = sns.barplot(x = 'treat', y = 'educ', data = df_matched, ax = ax2)"
   ]
  },
  {
   "cell_type": "markdown",
   "metadata": {},
   "source": [
    " **- Degree**"
   ]
  },
  {
   "cell_type": "code",
   "execution_count": 432,
   "metadata": {},
   "outputs": [
    {
     "data": {
      "image/png": "[encoded data removed]",
      "text/plain": [
       "<matplotlib.figure.Figure at 0x11796da90>"
      ]
     },
     "metadata": {},
     "output_type": "display_data"
    }
   ],
   "source": [
    "f, ax = plt.subplots(1, 1,figsize = (16, 8))\n",
    "ax.set_title('People with no degree : distribution')\n",
    "g = sns.countplot(x = 'treat', hue = 'nodegree', data = df_matched, ax = ax)"
   ]
  },
  {
   "cell_type": "markdown",
   "metadata": {},
   "source": [
    " **- Married**"
   ]
  },
  {
   "cell_type": "code",
   "execution_count": 433,
   "metadata": {
    "scrolled": true
   },
   "outputs": [
    {
     "data": {
      "image/png": "[encoded data removed]",
      "text/plain": [
       "<matplotlib.figure.Figure at 0x11c6cd0b8>"
      ]
     },
     "metadata": {},
     "output_type": "display_data"
    }
   ],
   "source": [
    "f, ax = plt.subplots(1, 1,figsize = (16, 8))\n",
    "ax.set_title('Married people : distribution')\n",
    "g = sns.countplot(x = 'treat', hue = 'married', data = df_matched, ax = ax)"
   ]
  },
  {
   "cell_type": "markdown",
   "metadata": {},
   "source": [
    " **- Origin**"
   ]
  },
  {
   "cell_type": "code",
   "execution_count": 434,
   "metadata": {},
   "outputs": [
    {
     "data": {
      "image/png": "[encoded data removed]",
      "text/plain": [
       "<matplotlib.figure.Figure at 0x11cfb3198>"
      ]
     },
     "metadata": {},
     "output_type": "display_data"
    }
   ],
   "source": [
    "f, (ax1, ax2) = plt.subplots(1, 2,figsize = (16, 8))\n",
    "\n",
    "ax1.set_title('Black people : distribution')\n",
    "ax2.set_title('Hispanic people : distribution')\n",
    "g1 = sns.countplot(x = 'treat', hue = 'black', data = df_matched, ax = ax1)\n",
    "g2 = sns.countplot(x = 'treat', hue = 'hispan', data = df_matched, ax = ax2)"
   ]
  },
  {
   "cell_type": "markdown",
   "metadata": {},
   "source": [
    "**Distribution issues before matching have beeen partially adressed. We managed to get decent results for degrees, mariage and education but when we look at origins we see that there is still some work to do although matching has improved distribution into the control group. Matching need to be focused now on origins.**"
   ]
  },
  {
   "cell_type": "markdown",
   "metadata": {},
   "source": [
    "#### 5. Balancing the groups further\n",
    "\n",
    "Based on your comparison of feature-value distributions from part 4, are you fully satisfied with your matching?\n",
    "Would you say your dataset is sufficiently balanced?\n",
    "If not, in what ways could the \"balanced\" dataset you have obtained still not allow you to draw valid conclusions?\n",
    "\n",
    "Improve your matching by explicitly making sure that you match only subjects that have the same value for the problematic feature.\n",
    "Argue with numbers and plots that the two groups (treated and control) are now better balanced than after part 4.\n",
    "\n"
   ]
  },
  {
   "cell_type": "code",
   "execution_count": null,
   "metadata": {
    "collapsed": true
   },
   "outputs": [],
   "source": []
  },
  {
   "cell_type": "markdown",
   "metadata": {},
   "source": [
    "#### 6. A less naive analysis\n",
    "\n",
    "Compare the outcomes (`re78`) between treated and control subjects, as you've done in part 1, but now only for the matched dataset you've obtained from part 5.\n",
    "What do you conclude about the effectiveness of the job training program?\n",
    "\n"
   ]
  },
  {
   "cell_type": "code",
   "execution_count": null,
   "metadata": {
    "collapsed": true
   },
   "outputs": [],
   "source": []
  },
  {
   "cell_type": "code",
   "execution_count": null,
   "metadata": {
    "collapsed": true
   },
   "outputs": [],
   "source": []
  },
  {
   "cell_type": "markdown",
   "metadata": {},
   "source": [
    "_____"
   ]
  },
  {
   "cell_type": "markdown",
   "metadata": {},
   "source": [
    "### Question 2\n",
    "_____\n",
    "\n",
    "We are going to build a classifier of news to directly assign them to 20 news categories. Note that the pipeline that you will build in this exercise could be of great help during your project if you plan to work with text!\n",
    "\n",
    "## Part 1\n",
    "Load the 20newsgroup dataset. It is, again, a classic dataset that can directly be loaded using sklearn ([link](http://scikit-learn.org/stable/datasets/twenty_newsgroups.html)).  \n",
    "[TF-IDF](https://en.wikipedia.org/wiki/Tf%E2%80%93idf), short for term frequency–inverse document frequency, is of great help when if comes to compute textual features. Indeed, it gives more importance to terms that are more specific to the considered articles (TF) but reduces the importance of terms that are very frequent in the entire corpus (IDF). Compute TF-IDF features for every article using [TfidfVectorizer](http://scikit-learn.org/stable/modules/generated/sklearn.feature_extraction.text.TfidfVectorizer.html). Then, split your dataset into a training, a testing and a validation set (10% for validation and 10% for testing). Each observation should be paired with its corresponding label (the article category).\n"
   ]
  },
  {
   "cell_type": "markdown",
   "metadata": {},
   "source": [
    "**1- Import the dataset**<br>\n",
    "The 20 newsgroups dataset comprises around 18000 newsgroups posts on 20 topics. We have decided to fetch the raw data without any prior processing to get a true overview of what our random forest classifier can achieve and eventually see how it can be affected by the lack of data pre-processing."
   ]
  },
  {
   "cell_type": "code",
   "execution_count": null,
   "metadata": {
    "collapsed": true
   },
   "outputs": [],
   "source": [
    "from sklearn.datasets import fetch_20newsgroups\n",
    "newsgroups = fetch_20newsgroups(subset='all')"
   ]
  },
  {
   "cell_type": "markdown",
   "metadata": {},
   "source": [
    "**2- Separate the input data from the target data**"
   ]
  },
  {
   "cell_type": "code",
   "execution_count": null,
   "metadata": {
    "collapsed": true
   },
   "outputs": [],
   "source": [
    "newsgroups_data = newsgroups.data\n",
    "newsgroups_target = newsgroups.target"
   ]
  },
  {
   "cell_type": "markdown",
   "metadata": {},
   "source": [
    "**3- Vectorize the input data**<br>\n",
    "In order to feed predictive or clustering models with the text data, one first need to turn the text into vectors of numerical values suitable for statistical analysis. This can be achieved with the utilities of the sklearn.feature_extraction.text as demonstrated in the following example that extract TF-IDF vectors of unigram tokens from a subset of 20news. For the record, TF-IDF (short for term frequency-inverse document frequency) is of great help when it comes to compute textual features. Indeed, it gives more importance to terms that are more specific to the considered articles (TF) but reduces the importance of terms that are very frequent in the entire corpus (IDF)"
   ]
  },
  {
   "cell_type": "code",
   "execution_count": null,
   "metadata": {
    "collapsed": true
   },
   "outputs": [],
   "source": [
    "from sklearn.feature_extraction.text import TfidfVectorizer\n",
    "vectorizer_data = TfidfVectorizer()\n",
    "newsgroups_data_vectors = vectorizer_data.fit_transform(newsgroups_data)"
   ]
  },
  {
   "cell_type": "markdown",
   "metadata": {},
   "source": [
    "**4- Split the data into a training and a validation (testing) set**<br>\n",
    "90% of the dataset is used for training our random forest classifier, 10% is used to validate the different parameters tried on the model. These 10% are also used as testing data to test our final model."
   ]
  },
  {
   "cell_type": "code",
   "execution_count": null,
   "metadata": {
    "collapsed": true
   },
   "outputs": [],
   "source": [
    "newsgroups_data_tr,newsgroups_data_te,newsgroups_target_tr,newsgroups_target_te = train_test_split(newsgroups_data_vectors,newsgroups_target, test_size=0.1, random_state=42)"
   ]
  },
  {
   "cell_type": "markdown",
   "metadata": {},
   "source": [
    "## Part 2"
   ]
  },
  {
   "cell_type": "markdown",
   "metadata": {},
   "source": [
    "Train a random forest on your training set. Try to fine-tune the parameters of your predictor on your validation set using a simple grid search on the number of estimator \"n_estimators\" and the max depth of the trees \"max_depth\". Then, display a confusion matrix of your classification pipeline. Lastly, once you assessed your model, inspect the `feature_importances_` attribute of your random forest and discuss the obtained results."
   ]
  },
  {
   "cell_type": "markdown",
   "metadata": {},
   "source": [
    "**1- Train a random forest on the training set**<br>\n",
    "In this first step, we use the default parameters of the RandomForestClassifier except for the *n_jobs* parameter which we set to the number of cores to speed the computation during the fitting process."
   ]
  },
  {
   "cell_type": "code",
   "execution_count": null,
   "metadata": {
    "collapsed": true
   },
   "outputs": [],
   "source": [
    "clf = RandomForestClassifier(n_estimators = 10, max_depth = None, random_state = 84, n_jobs=-1)"
   ]
  },
  {
   "cell_type": "markdown",
   "metadata": {},
   "source": [
    "Here, we fit the model using the training data. "
   ]
  },
  {
   "cell_type": "code",
   "execution_count": null,
   "metadata": {
    "collapsed": true
   },
   "outputs": [],
   "source": [
    "clf.fit(newsgroups_data_tr,newsgroups_target_tr)"
   ]
  },
  {
   "cell_type": "markdown",
   "metadata": {},
   "source": [
    "Now, we predict the classes of our test data using the previously fitted classifier. "
   ]
  },
  {
   "cell_type": "code",
   "execution_count": null,
   "metadata": {
    "collapsed": true
   },
   "outputs": [],
   "source": [
    "newsgroups_target_te_pred = clf.predict(newsgroups_data_te)"
   ]
  },
  {
   "cell_type": "markdown",
   "metadata": {},
   "source": [
    "And we calculate the accuracy score which consists in calculating the amount of classes correctly assigned to the test data by the classifier."
   ]
  },
  {
   "cell_type": "code",
   "execution_count": null,
   "metadata": {
    "collapsed": true
   },
   "outputs": [],
   "source": [
    "acc_score = accuracy_score(newsgroups_target_te, newsgroups_target_te_pred)\n",
    "acc_score"
   ]
  },
  {
   "cell_type": "markdown",
   "metadata": {},
   "source": [
    "The use of this default random forest classifier shows that the assigned parameters does not provide a good classification of our data. We will now work on the fine-tuning of essential parameters which are : the number of estimators i.e. the number of trees in the forest and the maximum depth of the trees i.e. how far can a leave extend itself."
   ]
  },
  {
   "cell_type": "markdown",
   "metadata": {},
   "source": [
    "**2- Fine-tune the parameters of the random forest predictor on the validation set using a simple grid search on the number of estimators *n_estimators* and the max depth of the trees *max_depth***"
   ]
  },
  {
   "cell_type": "markdown",
   "metadata": {},
   "source": [
    "**Random forest algorithm recap:**<br>\n",
    "This algorithm consists in splitting the dataset into multiple subsets which will each train a separate model and in turn be split into again multiple subsets which will also train their own model. And so on, until the last leaves! After this forest is built, given \"fresh\" data i.e. testing data, each trained model gives its class assignment which is taken as a vote for this particular class and the finally assigned class is the one with the highest number of votes within all the models of the forest. <br>\n",
    "This gives us an overview of the parameters that are essential to this algorithm which answer the following questions:\n",
    "- Into how many subsets can I split my training dataset?\n",
    "- How deep can I go into splitting the subsets recursively?\n",
    "\n",
    "First question is monitored by the number of estimators which are the number of trees. Second question is supervised by the maximum depth of the trees.\n",
    "\n",
    "To fine-tune these parameters we will follow the following procedure :\n",
    "- Set a parameter grid by choosing a range of values for *n_estimators* and *max_depth*.\n",
    "- Perform grid search algorithm with the previous chosen values to evaluate the performance of our random forest classifier.\n",
    "- Once we have fitted our classifier on the training data with a pair of parameters from the grid, we predict the classes of our test data and calculate the related accuracy score to evaluate the performance ouf our random forest classifier with this set of parameters.\n",
    "\n",
    "The below function performs these two last steps after having received the ranges of values for *n_estimators* and *max_depth* as well as the training and testing datasets. It returns an array composed of the accuracy scores.\n"
   ]
  },
  {
   "cell_type": "code",
   "execution_count": null,
   "metadata": {
    "collapsed": true
   },
   "outputs": [],
   "source": [
    "def grid_search(x_tr, y_tr, x_te, y_te, n_estimators_values, max_depth_values):\n",
    "    scores = np.zeros((len(n_estimators_values), len(max_depth_values)))\n",
    "    for i, n_estimators_value in enumerate(n_estimators_values):\n",
    "        for j, max_depth_value in enumerate(max_depth_values):\n",
    "            clf = RandomForestClassifier(n_estimators = n_estimators_value, max_depth = max_depth_value, random_state = 84, n_jobs=-1)\n",
    "            clf.fit(x_tr,y_tr)\n",
    "            \n",
    "            y_te_pred = clf.predict(x_te)\n",
    "            scores[i,j] = accuracy_score(y_te, y_te_pred)\n",
    "    return scores"
   ]
  },
  {
   "cell_type": "markdown",
   "metadata": {},
   "source": [
    "Here, we choose high values of *n_estimators* because the bigger the forest is the better the classifier will perform with very few risks of overfitting. However, we can not chose too high of a value because of time computation. But our results show that the more trees we have the more the scores increase. As for the *max_depth* parameter, we have previously noticed that a good range of values is around 100. The scores decrease with higher values of maximum depth for the trees. Limiting the maximum depth of a tree is also good to prevent our classifier from overfitting."
   ]
  },
  {
   "cell_type": "code",
   "execution_count": null,
   "metadata": {
    "collapsed": true
   },
   "outputs": [],
   "source": [
    "n_estimators_values = np.arange(500,1600,500)\n",
    "max_depth_values = np.arange(10,200,50)\n",
    "scores = grid_search(newsgroups_data_tr, newsgroups_target_tr, newsgroups_data_te, newsgroups_target_te, n_estimators_values, max_depth_values)"
   ]
  },
  {
   "cell_type": "markdown",
   "metadata": {},
   "source": [
    "Afterwards, we retrieve the index of the maximum accuracy score from the returned array to infer the optimal parameters."
   ]
  },
  {
   "cell_type": "code",
   "execution_count": null,
   "metadata": {
    "collapsed": true
   },
   "outputs": [],
   "source": [
    "indOfMax = np.where(scores == np.max(scores))\n",
    "if indOfMax[0].size > 1 :\n",
    "    indOfMax = indOfMax[0][-1], indOfMax[1][-1]"
   ]
  },
  {
   "cell_type": "code",
   "execution_count": null,
   "metadata": {
    "collapsed": true
   },
   "outputs": [],
   "source": [
    "best_n_estimators = n_estimators_values[np.asscalar(indOfMax[0])]\n",
    "best_max_depth = max_depth_values[np.asscalar(indOfMax[1])]\n",
    "print('Best values for parameters among grid search are:\\n','accuracy_score_max =',np.max(scores),'\\n','n_estimators =',best_n_estimators,'\\n','max_depth =',best_max_depth)"
   ]
  },
  {
   "cell_type": "markdown",
   "metadata": {},
   "source": [
    "On the below figure, you can assess the areas of maximum accuracy score in regard of the parameters *n_estimators* and *max_depth*. Indeed, we see that the higher the values of number of trees and maximum depth of trees are the better the accuracy score is. Which is perfectly logical in the sense that the more classifiers you train the better the predictions will be. We see on the below representation that the rise in accuracy goes in the way of high values of both number of estimators and maximum depth. Nevertheless, we see that there is few variation along the maximum depth parameter in this range of values. Thus, we can offer to choose the lower value in this range to reduce time of computation and prevent from overfitting."
   ]
  },
  {
   "cell_type": "code",
   "execution_count": null,
   "metadata": {
    "collapsed": true
   },
   "outputs": [],
   "source": [
    "X,Y = meshgrid(n_estimators_values, max_depth_values)\n",
    "Z = scores\n",
    "im = imshow(Z,cmap=cm.RdBu,extent=[np.min(n_estimators_values), np.max(n_estimators_values), np.min(max_depth_values), np.max(max_depth_values)],aspect='auto',interpolation='bilinear')\n",
    "\n",
    "plt.colorbar(im)\n",
    "plt.title('Accuracy score function of n_estimators and max_depth\\n')\n",
    "plt.xlabel('n_estimators')\n",
    "plt.ylabel('max_depth')\n",
    "plt.show()"
   ]
  },
  {
   "cell_type": "code",
   "execution_count": null,
   "metadata": {
    "collapsed": true
   },
   "outputs": [],
   "source": [
    "Learning from our grid search analysis, we now know that a very high value of number of trees is needed to have a good classifier. Thus, we will choose n_estimators = 1000. As for the maximum depth of the trees, we will select max_depth = 160 which gave out the highest score in our above analysis. "
   ]
  },
  {
   "cell_type": "code",
   "execution_count": null,
   "metadata": {
    "collapsed": true
   },
   "outputs": [],
   "source": [
    "final_clf = RandomForestClassifier(n_estimators = best_n_estimators, max_depth = best_max_depth, random_state = 84, n_jobs=-1)"
   ]
  },
  {
   "cell_type": "markdown",
   "metadata": {},
   "source": [
    "Then, we fit our model using the training dataset."
   ]
  },
  {
   "cell_type": "code",
   "execution_count": null,
   "metadata": {
    "collapsed": true
   },
   "outputs": [],
   "source": [
    "newsgroups_target_te_pred = final_clf.fit(newsgroups_data_tr,newsgroups_target_tr).predict(newsgroups_data_te)"
   ]
  },
  {
   "cell_type": "markdown",
   "metadata": {},
   "source": [
    "And further compute the accuracy score by submitting the testing data to the classifier."
   ]
  },
  {
   "cell_type": "code",
   "execution_count": null,
   "metadata": {
    "collapsed": true
   },
   "outputs": [],
   "source": [
    "final_acc_score = accuracy_score(newsgroups_target_te, newsgroups_target_te_pred)\n",
    "final_acc_score"
   ]
  },
  {
   "cell_type": "markdown",
   "metadata": {},
   "source": [
    "**3- Display a confusion matrix of the classification pipeline**<br>\n",
    "Computing a confusion matrix enables to evaluate the accuracy of a classification.\n",
    "The diagonal elements represent the number of points for which the predicted label is equal to the true label, while off-diagonal elements are those that are mislabeled by the classifier. The higher the diagonal values of the confusion matrix the better, indicating many correct predictions. You can normalize this matrix by dividing theses numbers by the number of elements in each class.<br><br>\n",
    "In the below code, we display our optimal random forest classifier confusion matrix both non normalized and normalized. "
   ]
  },
  {
   "cell_type": "code",
   "execution_count": null,
   "metadata": {
    "collapsed": true
   },
   "outputs": [],
   "source": [
    "from sklearn.metrics import confusion_matrix\n",
    "import itertools"
   ]
  },
  {
   "cell_type": "code",
   "execution_count": null,
   "metadata": {
    "collapsed": true
   },
   "outputs": [],
   "source": [
    "def plot_confusion_matrix(cm, classes,\n",
    "                          normalize=False,\n",
    "                          title='Confusion matrix',\n",
    "                          cmap=plt.cm.Blues):\n",
    "    \"\"\"\n",
    "    This function prints and plots the confusion matrix.\n",
    "    Normalization can be applied by setting `normalize=True`.\n",
    "    \"\"\"\n",
    "    if normalize:\n",
    "        cm = cm.astype('float') / cm.sum(axis=1)[:, np.newaxis]\n",
    "        title = 'Normalized confusion matrix'\n",
    "    else:\n",
    "        title = 'Confusion matrix, without normalization'\n",
    "    \n",
    "    width = 12\n",
    "    height = 12\n",
    "    plt.figure(figsize=(width, height))\n",
    "\n",
    "    plt.imshow(cm, interpolation='nearest', cmap=cmap)\n",
    "    plt.title(title)\n",
    "    plt.colorbar()\n",
    "    tick_marks = np.arange(len(classes))\n",
    "    plt.xticks(tick_marks, classes, rotation=45)\n",
    "    plt.yticks(tick_marks, classes)\n",
    "\n",
    "    fmt = '.2f' if normalize else 'd'\n",
    "    thresh = cm.max() / 2.\n",
    "    for i, j in itertools.product(range(cm.shape[0]), range(cm.shape[1])):\n",
    "        plt.text(j, i, format(cm[i, j], fmt),\n",
    "                 horizontalalignment=\"center\",\n",
    "                 color=\"white\" if cm[i, j] > thresh else \"black\")\n",
    "\n",
    "    plt.tight_layout()\n",
    "    plt.ylabel('True label')\n",
    "    plt.xlabel('Predicted label')\n",
    "    \n",
    "# Retrieve class names from newsgroups data\n",
    "class_names = newsgroups.target_names\n",
    "\n",
    "# Compute confusion matrix\n",
    "cnf_matrix = confusion_matrix(newsgroups_target_te, newsgroups_target_te_pred)\n",
    "np.set_printoptions(precision=2)\n",
    "\n",
    "# Plot non-normalized confusion matrix\n",
    "plt.figure()\n",
    "plot_confusion_matrix(cnf_matrix, classes=class_names,\n",
    "                      title='Confusion matrix, without normalization')\n",
    "\n",
    "# Plot normalized confusion matrix\n",
    "plt.figure()\n",
    "plot_confusion_matrix(cnf_matrix, classes=class_names, normalize=True,\n",
    "                      title='Normalized confusion matrix')\n",
    "\n",
    "plt.show()"
   ]
  },
  {
   "cell_type": "markdown",
   "metadata": {},
   "source": [
    "These two matrix provides us with several information:\n",
    "- First, we can aknowledge that the optimal chosen classifier does a reasonnably good job by correctly retreiving the classes of each newsgroups piece of data. Indeed, the values on the diagonal in both matrix are among the highest ones.\n",
    "- We encounter few classes that have lower scores such as 'sci.electronics' or 'talk.religion.misc'. Interesting fact with the latter is that it has a significant score of misclassified values as belonging to the 'sci.religion.christian' class which makes sense since these two labels are closely related. \n",
    "- We can observe several other acceptable misclassifications as for the following class: 'comp.os.ms-windows.misc' misclassified for 'comp.sys.obm.hardware' which can both relate closely in some conversation."
   ]
  },
  {
   "cell_type": "markdown",
   "metadata": {},
   "source": [
    "**4- Feature importances**"
   ]
  },
  {
   "cell_type": "markdown",
   "metadata": {},
   "source": [
    "Before ending our analysis on this random forest classifier performance, we will look into the feature importances. A single line of code gives out an array of values representing the importance of a feature by a number: the bigger it is, the more important the feature is. "
   ]
  },
  {
   "cell_type": "code",
   "execution_count": null,
   "metadata": {
    "collapsed": true
   },
   "outputs": [],
   "source": [
    "feature_importances_rf = final_clf.feature_importances_\n",
    "feature_importances_rf.max()"
   ]
  },
  {
   "cell_type": "markdown",
   "metadata": {},
   "source": [
    "The value of the maximum in this feature importances related array shows that there is no specifically predominant feature associated to the dataset. We will now sort this array to have an overview of how many features really matter. We will thus further display a curve representing the feature importances. "
   ]
  },
  {
   "cell_type": "code",
   "execution_count": null,
   "metadata": {
    "collapsed": true
   },
   "outputs": [],
   "source": [
    "feature_importances_rf_sorted = np.sort(feature_importances_rf)[::-1]"
   ]
  },
  {
   "cell_type": "code",
   "execution_count": null,
   "metadata": {
    "collapsed": true
   },
   "outputs": [],
   "source": [
    "plt.plot(range(len(feature_importances_rf_sorted)), feature_importances_rf_sorted, 'ro')\n",
    "plt.xlabel('indices')\n",
    "plt.ylabel('feature_importances')\n",
    "plt.title('Sorted Feature Importances')\n",
    "plt.show()"
   ]
  },
  {
   "cell_type": "markdown",
   "metadata": {},
   "source": [
    "The above curve speaks for itself as well as the number of 0-importance features, only a small amount of features within this huge array are really essential to the training of the classifier. Indeed, we can assume that all the data contained in the headers, footers or even in quotes are not relevant for our analysis and thus could be withdrawn from our training data features. This will lower the computational cost as well as increase the accuracy of the classifier as it will focus on training meaningful features."
   ]
  },
  {
   "cell_type": "code",
   "execution_count": null,
   "metadata": {
    "collapsed": true
   },
   "outputs": [],
   "source": []
  }
 ],
 "metadata": {
  "kernelspec": {
   "display_name": "Python 3",
   "language": "python",
   "name": "python3"
  },
  "language_info": {
   "codemirror_mode": {
    "name": "ipython",
    "version": 3
   },
   "file_extension": ".py",
   "mimetype": "text/x-python",
   "name": "python",
   "nbconvert_exporter": "python",
   "pygments_lexer": "ipython3",
   "version": "3.6.1"
  }
 },
 "nbformat": 4,
 "nbformat_minor": 2
}

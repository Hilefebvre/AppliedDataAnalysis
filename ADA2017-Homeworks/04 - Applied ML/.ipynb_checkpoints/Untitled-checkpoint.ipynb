{
 "cells": [
  {
   "cell_type": "code",
   "execution_count": null,
   "metadata": {
    "collapsed": true
   },
   "outputs": [],
   "source": [
    "def pie_treated_vs_non_treated(treated_series, non_treated_series, **kwargs):\n",
    "    comp_df = pd.DataFrame({'Treated': treated_series, 'Non treated': non_treated_series})\n",
    "    comp_df.plot.pie(**kwargs)"
   ]
  },
  {
   "cell_type": "code",
   "execution_count": null,
   "metadata": {
    "collapsed": true
   },
   "outputs": [],
   "source": [
    "def hist_treated_vs_non_treated(treated_series, non_treated_series, title):\n",
    "    fig, ax = plt.subplots()\n",
    "    \n",
    "    ax.hist([treated_series.values, non_treated_series.values],\n",
    "            weights = [[1/len(treated_series)]*len(treated_series),\n",
    "                       [1/len(non_treated_series)]*len(non_treated_series)],\n",
    "            label=['Treated', 'Non treated'])\n",
    "    \n",
    "    ax.legend(prop={'size': 10})\n",
    "    ax.set_title(title)\n",
    "    ax.set_ylabel('Density')"
   ]
  },
  {
   "cell_type": "code",
   "execution_count": null,
   "metadata": {
    "collapsed": true
   },
   "outputs": [],
   "source": [
    "\n",
    "treated_race = (treated.black + 2 * treated.hispan).replace({0: 'White', 1: 'Black', 2: 'Hispanic'})\n",
    "non_treated_race = (non_treated.black + 2 * non_treated.hispan).replace({0: 'White', 1: 'Black', 2: 'Hispanic'})\n",
    "pie_treated_vs_non_treated(treated_race.value_counts(), non_treated_race.value_counts(),\n",
    "                            subplots=True, title='Race', legend=False)"
   ]
  },
  {
   "cell_type": "code",
   "execution_count": null,
   "metadata": {
    "collapsed": true
   },
   "outputs": [],
   "source": [
    "treated_married = treated.married.replace({0: 'Not married', 1: 'Married'})\n",
    "non_treated_married = non_treated.married.replace({0: 'Not married', 1: 'Married'})\n",
    "pie_treated_vs_non_treated(treated_married.value_counts(), non_treated_married.value_counts(),\n",
    "                             subplots=True, legend=False, title='Marital status')"
   ]
  },
  {
   "cell_type": "code",
   "execution_count": null,
   "metadata": {
    "collapsed": true
   },
   "outputs": [],
   "source": [
    "\n",
    "treated_nodegree = treated.nodegree.replace({0: 'Degree', 1: 'No degree'})\n",
    "non_treated_nodegree = non_treated.married.replace({0: 'Degree', 1: 'No degree'})\n",
    "pie_treated_vs_non_treated(treated_nodegree.value_counts(), non_treated_nodegree.value_counts(),\n",
    "                            subplots=True, legend=False, title='Higher education')"
   ]
  },
  {
   "cell_type": "code",
   "execution_count": null,
   "metadata": {
    "collapsed": true
   },
   "outputs": [],
   "source": [
    "hist_treated_vs_non_treated(treated.age, non_treated.age, 'Age')"
   ]
  },
  {
   "cell_type": "code",
   "execution_count": null,
   "metadata": {
    "collapsed": true
   },
   "outputs": [],
   "source": [
    "hist_treated_vs_non_treated(treated.educ, non_treated.educ, 'Length of education in years')"
   ]
  },
  {
   "cell_type": "code",
   "execution_count": null,
   "metadata": {
    "collapsed": true
   },
   "outputs": [],
   "source": [
    "hist_treated_vs_non_treated(treated.re74, non_treated.re74, 'Real income in 1974')"
   ]
  },
  {
   "cell_type": "code",
   "execution_count": null,
   "metadata": {
    "collapsed": true
   },
   "outputs": [],
   "source": [
    "hist_treated_vs_non_treated(treated.re75, non_treated.re75, 'Real income in 1975')"
   ]
  },
  {
   "cell_type": "code",
   "execution_count": null,
   "metadata": {
    "collapsed": true
   },
   "outputs": [],
   "source": []
  },
  {
   "cell_type": "code",
   "execution_count": null,
   "metadata": {
    "collapsed": true
   },
   "outputs": [],
   "source": [
    "\n",
    "import networkx as nx\n",
    "from networkx.algorithms import bipartite\n",
    "\n",
    "# 0 to 428, 429 to 613\n",
    "G = nx.complete_bipartite_graph(df1.shape[0], df0.shape[0])\n",
    "\n",
    "\n",
    "\n",
    "\n",
    "# B = nx.Graph()\n",
    "# B.add_nodes_from(df[df['treat'] == 0].PropensityScore, bipartite = 0)\n",
    "# B.add_nodes_from(df[df['treat'] == 1].PropensityScore, bipartite = 1)\n",
    "\n",
    "# for u in df[df]"
   ]
  },
  {
   "cell_type": "code",
   "execution_count": null,
   "metadata": {
    "collapsed": true
   },
   "outputs": [],
   "source": [
    "\n",
    "for edge in G.edges():\n",
    "    print(edge)"
   ]
  },
  {
   "cell_type": "code",
   "execution_count": null,
   "metadata": {
    "collapsed": true
   },
   "outputs": [],
   "source": [
    "\n",
    "values = {}\n",
    "\n",
    "for edge in G.edges():\n",
    "        edge_wt = df.loc[edge[0]]['PropensityScore'] - df.loc[edge[1]]['PropensityScore']\n",
    "        values[edge] = -abs(edge_wt)\n",
    "\n",
    "values"
   ]
  },
  {
   "cell_type": "code",
   "execution_count": null,
   "metadata": {
    "collapsed": true
   },
   "outputs": [],
   "source": [
    "nx.set_edge_attributes(G, values, 'weight')"
   ]
  },
  {
   "cell_type": "code",
   "execution_count": null,
   "metadata": {
    "collapsed": true
   },
   "outputs": [],
   "source": [
    "match = nx.max_weight_matching(G, maxcardinality=True)"
   ]
  },
  {
   "cell_type": "code",
   "execution_count": null,
   "metadata": {
    "collapsed": true
   },
   "outputs": [],
   "source": [
    "samples = [k for k,v in match.items()]\n",
    "samples.sort()\n",
    "only_matched = df.iloc[samples]\n",
    "# len(samples)"
   ]
  },
  {
   "cell_type": "code",
   "execution_count": null,
   "metadata": {
    "collapsed": true
   },
   "outputs": [],
   "source": [
    "only_matched0 = only_matched[only_matched['treat'] == 0]\n",
    "only_matched1 = only_matched[only_matched['treat'] == 1]\n",
    "only_matched0.hist(figsize = (14,7))\n",
    "plt.tight_layout()\n",
    "only_matched1.hist(figsize = (14,7))\n",
    "plt.tight_layout()"
   ]
  },
  {
   "cell_type": "code",
   "execution_count": null,
   "metadata": {
    "collapsed": true
   },
   "outputs": [],
   "source": []
  },
  {
   "cell_type": "code",
   "execution_count": null,
   "metadata": {
    "collapsed": true
   },
   "outputs": [],
   "source": []
  }
 ],
 "metadata": {
  "kernelspec": {
   "display_name": "Python 3",
   "language": "python",
   "name": "python3"
  },
  "language_info": {
   "codemirror_mode": {
    "name": "ipython",
    "version": 3
   },
   "file_extension": ".py",
   "mimetype": "text/x-python",
   "name": "python",
   "nbconvert_exporter": "python",
   "pygments_lexer": "ipython3",
   "version": "3.6.1"
  }
 },
 "nbformat": 4,
 "nbformat_minor": 2
}
